{
 "cells": [
  {
   "cell_type": "code",
   "execution_count": 1,
   "id": "0b9a6a16",
   "metadata": {},
   "outputs": [
    {
     "name": "stderr",
     "output_type": "stream",
     "text": [
      "C:\\Users\\oceanlightai\\anaconda3\\envs\\gpu\\lib\\site-packages\\numpy\\_distributor_init.py:32: UserWarning: loaded more than 1 DLL from .libs:\n",
      "C:\\Users\\oceanlightai\\anaconda3\\envs\\gpu\\lib\\site-packages\\numpy\\.libs\\libopenblas.WCDJNK7YVMPZQ2ME2ZZHJJRJ3JIKNDB7.gfortran-win_amd64.dll\n",
      "C:\\Users\\oceanlightai\\anaconda3\\envs\\gpu\\lib\\site-packages\\numpy\\.libs\\libopenblas.XWYDX2IKJW2NMTWSFYNGFUWKQU3LYTCZ.gfortran-win_amd64.dll\n",
      "  stacklevel=1)\n"
     ]
    }
   ],
   "source": [
    "import os \n",
    "from tensorflow.keras.preprocessing.image import load_img, img_to_array\n",
    "import numpy as np \n",
    "from tensorflow import keras\n",
    "from IPython.display import Image, display\n",
    "from tensorflow.keras.preprocessing.image import load_img\n",
    "import PIL\n",
    "from PIL import ImageFile\n",
    "from PIL import ImageOps\n",
    "ImageFile.LOAD_TRUNCATED_IMAGES = True\n",
    "import tensorflow as tf\n",
    "\n",
    "input_dir = 'C:/Users/oceanlightai/Desktop/datasets/pet_skin/train/train_image2'\n",
    "target_dir = 'C:/Users/oceanlightai/Desktop/datasets/pet_skin/train/train_mask3'\n",
    "img_size = (320,320)\n",
    "num_classes = 7\n",
    "batch_size = 32\n",
    "\n",
    "input_img_paths = sorted([os.path.join(input_dir,fname)\n",
    "                         for fname in os.listdir(input_dir)\n",
    "                         if fname.endswith('.jpg')])\n",
    "\n",
    "target_img_paths = sorted([os.path.join(target_dir,fname)\n",
    "                         for fname in os.listdir(target_dir)\n",
    "                         if fname.endswith('.png') and not fname.startswith('.')])"
   ]
  },
  {
   "cell_type": "code",
   "execution_count": 2,
   "id": "32798fb9",
   "metadata": {},
   "outputs": [],
   "source": [
    "class SkinDiseaseDataset(keras.utils.Sequence):\n",
    "    def __init__(self, batch_size, img_size, input_img_paths, target_img_paths):\n",
    "        self.batch_size = batch_size\n",
    "        self.img_size = img_size\n",
    "        self.input_img_paths = input_img_paths\n",
    "        self.target_img_paths = target_img_paths\n",
    "\n",
    "    def __len__(self):\n",
    "        return len(self.target_img_paths) // self.batch_size\n",
    "    \n",
    "    def __getitem__(self, idx):\n",
    "        i = idx * self.batch_size\n",
    "        batch_input_img_paths = self.input_img_paths[i:i+self.batch_size]\n",
    "        batch_target_img_paths = self.target_img_paths[i:i+self.batch_size]\n",
    "        x = np.zeros((self.batch_size,) + self.img_size + (3,), dtype='float32')\n",
    "        for j, path in enumerate(batch_input_img_paths):\n",
    "            img = load_img(path, target_size=self.img_size)\n",
    "            x[j] = img_to_array(img) / 255.  # input normalization\n",
    "        y = np.zeros((self.batch_size,) + self.img_size + (1,), dtype='uint8')\n",
    "        for j, path in enumerate(batch_target_img_paths):\n",
    "            img = load_img(path, target_size=self.img_size, color_mode='grayscale')\n",
    "            img = img_to_array(img)  # Removed normalization here\n",
    "            y[j] = img\n",
    "\n",
    "        return x, y"
   ]
  },
  {
   "cell_type": "code",
   "execution_count": 3,
   "id": "182ccaf7",
   "metadata": {},
   "outputs": [],
   "source": [
    "import random \n",
    "val_samples = 800\n",
    "random.Random(1337).shuffle(input_img_paths)\n",
    "random.Random(1337).shuffle(target_img_paths)\n",
    "\n",
    "train_input_img_paths = input_img_paths[:-val_samples]\n",
    "train_target_img_paths = target_img_paths[:-val_samples]\n",
    "val_input_img_paths = input_img_paths[-val_samples:]\n",
    "val_target_img_paths = target_img_paths[-val_samples:]\n",
    "\n",
    "train_gen = SkinDiseaseDataset(batch_size, img_size, train_input_img_paths, train_target_img_paths)\n",
    "val_gen = SkinDiseaseDataset(batch_size, img_size, val_input_img_paths, val_target_img_paths)"
   ]
  },
  {
   "cell_type": "code",
   "execution_count": 4,
   "id": "b69f7cab",
   "metadata": {},
   "outputs": [
    {
     "name": "stdout",
     "output_type": "stream",
     "text": [
      "(32, 320, 320, 3) (32, 320, 320, 1)\n",
      "0.0 1.0 0 6\n"
     ]
    }
   ],
   "source": [
    "x, y = train_gen[0]  # 첫 번째 배치 가져오기\n",
    "print(x.shape, y.shape)\n",
    "print(np.min(x), np.max(x), np.min(y), np.max(y))  # 데이터 범위 확인"
   ]
  },
  {
   "cell_type": "code",
   "execution_count": 5,
   "id": "d00ccfa1",
   "metadata": {},
   "outputs": [
    {
     "name": "stdout",
     "output_type": "stream",
     "text": [
      "{0: 3180334, 1: 1712, 2: 3354, 3: 21666, 4: 14028, 5: 48661, 6: 7045}\n"
     ]
    }
   ],
   "source": [
    "unique, counts = np.unique(y, return_counts=True)\n",
    "print(dict(zip(unique, counts)))"
   ]
  },
  {
   "cell_type": "code",
   "execution_count": 6,
   "id": "c14a3fdc",
   "metadata": {},
   "outputs": [],
   "source": [
    "from tensorflow.keras import layers \n",
    "\n",
    "def get_model(img_size, num_classes):\n",
    "    inputs = keras.Input(shape=img_size + (3,))\n",
    "    \n",
    "    x = layers.Conv2D(32, 3, strides=2, padding='same')(inputs)\n",
    "    x = layers.BatchNormalization()(x)\n",
    "    x = layers.Activation('relu')(x)\n",
    "    \n",
    "    previous_block_activation = x \n",
    "    \n",
    "    for filters in [64, 128, 256]:\n",
    "        x = layers.Activation('relu')(x)\n",
    "        x = layers.SeparableConv2D(filters, 3, padding='same')(x)\n",
    "        x = layers.BatchNormalization()(x)\n",
    "        \n",
    "        x = layers.Activation('relu')(x)\n",
    "        x = layers.SeparableConv2D(filters, 3, padding='same')(x)\n",
    "        x = layers.BatchNormalization()(x)\n",
    "        \n",
    "        x = layers.MaxPooling2D(3, strides=2, padding='same')(x)\n",
    "        \n",
    "        residual = layers.Conv2D(filters, 1, strides=2, padding='same')(previous_block_activation)\n",
    "        x = layers.add([x, residual])\n",
    "        previous_block_activation = x\n",
    "        \n",
    "    for filters in [256, 128, 64, 32]:\n",
    "        x = layers.Activation('relu')(x)\n",
    "        x = layers.Conv2DTranspose(filters, 3, padding='same')(x)\n",
    "        x = layers.BatchNormalization()(x)\n",
    "        \n",
    "        x = layers.Activation('relu')(x)\n",
    "        x = layers.Conv2DTranspose(filters, 3, padding='same')(x)\n",
    "        x = layers.BatchNormalization()(x)\n",
    "        \n",
    "        x = layers.UpSampling2D(2)(x)\n",
    "        \n",
    "        residual = layers.UpSampling2D(2)(previous_block_activation)\n",
    "        residual = layers.Conv2D(filters, 1, padding='same')(residual)\n",
    "        x = layers.add([x, residual])\n",
    "        previous_block_activation = x \n",
    "        \n",
    "    outputs = layers.Conv2D(num_classes, 3, activation='softmax', padding='same')(x)\n",
    "    \n",
    "    model = keras.Model(inputs, outputs)\n",
    "    return model"
   ]
  },
  {
   "cell_type": "code",
   "execution_count": 7,
   "id": "05cc413d",
   "metadata": {
    "scrolled": true
   },
   "outputs": [],
   "source": [
    "model = get_model(img_size, num_classes)\n",
    "# model.summary()"
   ]
  },
  {
   "cell_type": "code",
   "execution_count": 9,
   "id": "a134c1ad",
   "metadata": {},
   "outputs": [],
   "source": [
    "from tensorflow.keras.optimizers import Adam\n",
    "from tensorflow.keras.optimizers import RMSprop\n",
    "\n",
    "# model.compile(optimizer=Adam(learning_rate=0.0001), loss='sparse_categorical_crossentropy',metrics=['accuracy'])\n",
    "# model.compile(optimizer=Adam(learning_rate=1e-6), loss='sparse_categorical_crossentropy',metrics=['accuracy'])\n",
    "# model.compile(optimizer=RMSprop(learning_rate=0.0001), loss='sparse_categorical_crossentropy', metrics=['accuracy'])\n",
    "model.compile(optimizer=RMSprop(learning_rate=1e-6), loss='sparse_categorical_crossentropy',metrics=['accuracy'])\n",
    "callbacks = [keras.callbacks.ModelCheckpoint('Unet_segmentation_1.h5', save_best_only=True)]\n",
    "\n",
    "epochs = 100"
   ]
  },
  {
   "cell_type": "code",
   "execution_count": null,
   "id": "47c6000d",
   "metadata": {
    "scrolled": false
   },
   "outputs": [
    {
     "name": "stdout",
     "output_type": "stream",
     "text": [
      "Epoch 1/100\n",
      "162/162 [==============================] - 163s 950ms/step - loss: 3.2018 - accuracy: 0.2181 - val_loss: 2.1268 - val_accuracy: 0.0088\n",
      "Epoch 2/100\n"
     ]
    },
    {
     "name": "stderr",
     "output_type": "stream",
     "text": [
      "C:\\Users\\oceanlightai\\anaconda3\\envs\\gpu\\lib\\site-packages\\tensorflow\\python\\keras\\utils\\generic_utils.py:497: CustomMaskWarning: Custom mask layers require a config and must override get_config. When loading, the custom mask layer must be passed to the custom_objects argument.\n",
      "  category=CustomMaskWarning)\n"
     ]
    },
    {
     "name": "stdout",
     "output_type": "stream",
     "text": [
      "162/162 [==============================] - 154s 950ms/step - loss: 1.4484 - accuracy: 0.5471 - val_loss: 1.3226 - val_accuracy: 0.3997\n",
      "Epoch 3/100\n",
      "162/162 [==============================] - 154s 946ms/step - loss: 0.5675 - accuracy: 0.8543 - val_loss: 0.4390 - val_accuracy: 0.9612\n",
      "Epoch 4/100\n",
      "162/162 [==============================] - 154s 949ms/step - loss: 0.2409 - accuracy: 0.9700 - val_loss: 0.1846 - val_accuracy: 0.9929\n",
      "Epoch 5/100\n",
      "162/162 [==============================] - 153s 942ms/step - loss: 0.1614 - accuracy: 0.9927 - val_loss: 0.1529 - val_accuracy: 0.9956\n",
      "Epoch 6/100\n",
      "162/162 [==============================] - 156s 960ms/step - loss: 0.1455 - accuracy: 0.9962 - val_loss: 0.1499 - val_accuracy: 0.9958\n",
      "Epoch 7/100\n",
      "162/162 [==============================] - 155s 958ms/step - loss: 0.1397 - accuracy: 0.9967 - val_loss: 0.1465 - val_accuracy: 0.9964\n",
      "Epoch 8/100\n",
      "162/162 [==============================] - 154s 952ms/step - loss: 0.1360 - accuracy: 0.9969 - val_loss: 0.1432 - val_accuracy: 0.9966\n",
      "Epoch 9/100\n",
      "132/162 [=======================>......] - ETA: 24s - loss: 0.1331 - accuracy: 0.9971"
     ]
    }
   ],
   "source": [
    "history = model.fit(train_gen, epochs=epochs, validation_data=val_gen, callbacks=callbacks)"
   ]
  },
  {
   "cell_type": "code",
   "execution_count": 10,
   "id": "6f3a6fc1",
   "metadata": {},
   "outputs": [
    {
     "data": {
      "image/png": "[encoded data removed]",
      "text/plain": [
       "<Figure size 1200x500 with 2 Axes>"
      ]
     },
     "metadata": {},
     "output_type": "display_data"
    }
   ],
   "source": [
    "import matplotlib.pyplot as plt\n",
    "\n",
    "loss = history.history['loss']\n",
    "val_loss = history.history['val_loss']\n",
    "\n",
    "fig = plt.figure(figsize=(12,5))\n",
    "\n",
    "ax1 = fig.add_subplot(1,2,1)\n",
    "ax1.plot(loss, color='blue', label='train_loss')\n",
    "ax1.plot(val_loss, color='red', label='val_loss')\n",
    "ax1.set_title('Train and Validation Loss')\n",
    "ax1.set_xlabel('Epochs')\n",
    "ax1.set_ylabel('Loss')\n",
    "ax1.grid()\n",
    "ax1.legend()\n",
    "\n",
    "accuracy = history.history['accuracy']\n",
    "val_accuracy = history.history['val_accuracy']\n",
    "\n",
    "ax2 = fig.add_subplot(1,2,2)\n",
    "ax2.plot(accuracy, color='blue', label='train_accuracy')\n",
    "ax2.plot(val_accuracy, color='red', label='val_accuracy')\n",
    "ax2.set_title('Train and Validation Accuracy')\n",
    "ax2.set_xlabel('Epochs')\n",
    "ax2.set_ylabel('Accuracy')\n",
    "ax2.grid()\n",
    "ax2.legend()\n",
    "\n",
    "plt.show()"
   ]
  },
  {
   "cell_type": "code",
   "execution_count": null,
   "id": "ed709e77",
   "metadata": {},
   "outputs": [],
   "source": [
    "import matplotlib.pyplot as plt\n",
    "from matplotlib.colors import ListedColormap\n",
    "\n",
    "some_input, _ = val_gen[0]\n",
    "# 예측 수행\n",
    "predictions = model.predict(some_input)\n",
    "\n",
    "# 가장 높은 확률을 가진 클래스 선택\n",
    "predicted_classes = np.argmax(predictions, axis=-1)\n",
    "\n",
    "# 원래의 클래스 레이블로 매핑\n",
    "original_classes = predicted_classes \n",
    "\n",
    "# 사용자 정의 컬러맵 생성\n",
    "cmap = ListedColormap( ['black','red', 'green', 'blue', 'yellow', 'purple', 'cyan'])\n",
    "\n",
    "# 이미지 표시\n",
    "plt.imshow(original_classes[6], cmap=cmap)\n",
    "plt.show()"
   ]
  },
  {
   "cell_type": "markdown",
   "id": "8f15f0bf",
   "metadata": {},
   "source": [
    "# 이미지 추론 방법 1"
   ]
  },
  {
   "cell_type": "code",
   "execution_count": null,
   "id": "fdba1274",
   "metadata": {
    "scrolled": false
   },
   "outputs": [],
   "source": [
    "from tensorflow.keras.preprocessing.image import load_img\n",
    "import matplotlib.pyplot as plt\n",
    "import numpy as np\n",
    "\n",
    "# 사용자 정의 컬러 맵핑\n",
    "COLOR_DICT = {\n",
    "    0: [0, 0, 0],      # 검정색으로 배경을 표시\n",
    "    1: [255, 0, 0],    # 클래스 1을 빨간색으로 표시\n",
    "    2: [0, 255, 0],    # 클래스 2를 초록색으로 표시\n",
    "    3: [0, 0, 255],    # 클래스 3을 파란색으로 표시\n",
    "    4: [255, 255, 0],  # 클래스 4를 노란색으로 표시\n",
    "    5: [0, 255, 255],  # 클래스 5를 시안색으로 표시\n",
    "    6: [255, 0, 255],  # 클래스 6을 마젠타색으로 표시\n",
    "}\n",
    "\n",
    "# 모델로 예측 수행\n",
    "val_preds = model.predict(val_gen)\n",
    "\n",
    "def display_mask(i):\n",
    "    mask = np.argmax(val_preds[i], axis=-1)\n",
    "    mask_rgb = np.zeros((*mask.shape, 3))  # Create an empty RGB image\n",
    "    for class_idx, color in COLOR_DICT.items():\n",
    "        mask_rgb[mask == class_idx] = color  # Set the RGB values for each class\n",
    "    return mask_rgb\n",
    "    \n",
    "i = 1\n",
    "\n",
    "fig, ax = plt.subplots(1, 3, figsize=(10, 10))\n",
    "\n",
    "# Original Image\n",
    "ax[0].imshow(load_img(val_input_img_paths[i], target_size=(320, 320)))  # Resize to 256x256\n",
    "ax[0].set_title('Original Image')\n",
    "\n",
    "# Mask Image\n",
    "mask = np.array(load_img(val_target_img_paths[i], target_size=(320, 320), color_mode='grayscale'))  # grayscale로 로드\n",
    "mask_rgb = np.zeros((*mask.shape, 3))  # Create an empty RGB image\n",
    "for class_idx, color in COLOR_DICT.items():\n",
    "    mask_rgb[mask == class_idx] = color  # Set the RGB values for each class\n",
    "ax[1].imshow(mask_rgb.astype(int))  # Ensure that the values are integers\n",
    "ax[1].set_title('Mask Image')\n",
    "\n",
    "# Predicted Mask\n",
    "ax[2].imshow(display_mask(i))\n",
    "ax[2].set_title('Predicted Mask')\n",
    "\n",
    "plt.show()"
   ]
  },
  {
   "cell_type": "code",
   "execution_count": null,
   "id": "aefb30d5",
   "metadata": {},
   "outputs": [],
   "source": [
    "def pixel_accuracy(y_true, y_pred):\n",
    "    correct_pixels = tf.equal(y_true, y_pred)\n",
    "    pixel_accuracy = tf.reduce_mean(tf.cast(correct_pixels, tf.float32))\n",
    "    return pixel_accuracy"
   ]
  },
  {
   "cell_type": "code",
   "execution_count": null,
   "id": "a7f464ee",
   "metadata": {},
   "outputs": [],
   "source": [
    "def mean_accuracy(y_true, y_pred, num_classes):\n",
    "    class_accuracies = []\n",
    "    for i in range(num_classes):\n",
    "        correct_pixels = tf.equal(y_true, i) & tf.equal(y_pred, i)\n",
    "        class_accuracy = tf.reduce_mean(tf.cast(correct_pixels, tf.float32))\n",
    "        class_accuracies.append(class_accuracy)\n",
    "    mean_accuracy = tf.reduce_mean(class_accuracies)\n",
    "    return mean_accuracy\n"
   ]
  },
  {
   "cell_type": "code",
   "execution_count": null,
   "id": "202124ef",
   "metadata": {},
   "outputs": [],
   "source": [
    "def f1_score(y_true, y_pred, num_classes):\n",
    "    f1_scores = []\n",
    "    for i in range(num_classes):\n",
    "        true_positives = tf.reduce_sum(tf.cast(tf.equal(y_true, i) & tf.equal(y_pred, i), tf.float32))\n",
    "        false_positives = tf.reduce_sum(tf.cast(tf.equal(y_true, i) & tf.not_equal(y_pred, i), tf.float32))\n",
    "        false_negatives = tf.reduce_sum(tf.cast(tf.not_equal(y_true, i) & tf.equal(y_pred, i), tf.float32))\n",
    "\n",
    "        precision = true_positives / (true_positives + false_positives)\n",
    "        recall = true_positives / (true_positives + false_negatives)\n",
    "\n",
    "        f1 = 2 * ((precision * recall) / (precision + recall))\n",
    "        f1_scores.append(f1)\n",
    "\n",
    "    return tf.reduce_mean(f1_scores)\n"
   ]
  },
  {
   "cell_type": "code",
   "execution_count": null,
   "id": "91308556",
   "metadata": {},
   "outputs": [],
   "source": [
    "# 평가 데이터 로드\n",
    "x_val, y_val = val_gen.__getitem__(0)\n",
    "\n",
    "# 모델로 예측 수행\n",
    "y_pred_prob = model.predict(x_val)\n",
    "y_pred = np.argmax(y_pred_prob, axis=-1)\n",
    "\n",
    "# 실제 결과를 클래스로 변환\n",
    "y_true = np.argmax(y_val, axis=-1)\n",
    "\n",
    "# 평가 지표 계산\n",
    "pixel_acc = pixel_accuracy(y_true, y_pred)\n",
    "mean_acc = mean_accuracy(y_true, y_pred, num_classes)\n",
    "f1 = f1_score(y_true, y_pred, num_classes)\n",
    "\n",
    "print('Pixel Accuracy:', pixel_acc)\n",
    "print('Mean Accuracy:', mean_acc)\n",
    "print('F1 Score:', f1)"
   ]
  }
 ],
 "metadata": {
  "kernelspec": {
   "display_name": "tensorflow-gpu",
   "language": "python",
   "name": "gpu"
  },
  "language_info": {
   "codemirror_mode": {
    "name": "ipython",
    "version": 3
   },
   "file_extension": ".py",
   "mimetype": "text/x-python",
   "name": "python",
   "nbconvert_exporter": "python",
   "pygments_lexer": "ipython3",
   "version": "3.7.1"
  }
 },
 "nbformat": 4,
 "nbformat_minor": 5
}
