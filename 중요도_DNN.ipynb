{
 "cells": [
  {
   "cell_type": "code",
   "execution_count": null,
   "id": "e428d383",
   "metadata": {},
   "outputs": [],
   "source": [
    "import pandas as pd\n",
    "from sklearn.model_selection import train_test_split\n",
    "from sklearn.preprocessing import OneHotEncoder, LabelEncoder\n",
    "from tensorflow.keras.models import Sequential\n",
    "from tensorflow.keras.layers import Dense, Dropout\n",
    "from tensorflow.keras.utils import to_categorical\n",
    "from sklearn.inspection import permutation_importance\n",
    "from sklearn.metrics import accuracy_score\n",
    "import numpy as np\n",
    "\n",
    "# Load the data\n",
    "data = pd.read_csv('C:/Users/oceanlightai/Desktop/datasets/pet_skin/train/train_skin.csv')\n",
    "\n",
    "# One-hot encode categorical variables\n",
    "encoder = OneHotEncoder(sparse=False)\n",
    "encoded_features = encoder.fit_transform(data[['breed', 'gender', 'region']])\n",
    "\n",
    "# Create a new DataFrame with encoded features\n",
    "data_encoded = pd.DataFrame(encoded_features, columns=encoder.get_feature_names(['breed', 'gender', 'region']))\n",
    "data_encoded['age'] = data['age']\n",
    "data_encoded['lesions'] = data['lesions']\n",
    "\n",
    "# Encode the target variable\n",
    "encoder = LabelEncoder()\n",
    "y_encoded = encoder.fit_transform(data_encoded['lesions'])\n",
    "y_encoded = to_categorical(y_encoded)"
   ]
  },
  {
   "cell_type": "code",
   "execution_count": null,
   "id": "d006e5d7",
   "metadata": {},
   "outputs": [],
   "source": [
    "# Split the data into train and test sets\n",
    "X = data_encoded.drop('lesions', axis=1)\n",
    "X_train, X_test, y_train, y_test = train_test_split(X, y_encoded, test_size=0.2, random_state=42)"
   ]
  },
  {
   "cell_type": "code",
   "execution_count": null,
   "id": "6780124f",
   "metadata": {},
   "outputs": [],
   "source": [
    "# Define the DNN model\n",
    "model = Sequential()\n",
    "model.add(Dense(64, input_dim=X_train.shape[1], activation='relu'))\n",
    "model.add(Dropout(0.5))\n",
    "model.add(Dense(64, activation='relu'))\n",
    "model.add(Dropout(0.5))\n",
    "model.add(Dense(y_encoded.shape[1], activation='softmax')) \n",
    "\n",
    "# Compile the model\n",
    "model.compile(loss='categorical_crossentropy', \n",
    "              optimizer='adam', \n",
    "              metrics=['accuracy'])\n",
    "\n",
    "# Train the model\n",
    "model.fit(X_train, y_train, epochs=10, batch_size=32, validation_data=(X_test, y_test))"
   ]
  },
  {
   "cell_type": "code",
   "execution_count": null,
   "id": "40b9cc77",
   "metadata": {},
   "outputs": [],
   "source": [
    "model.save(\"dnn_model.h5\")"
   ]
  },
  {
   "cell_type": "code",
   "execution_count": null,
   "id": "48f8e823",
   "metadata": {},
   "outputs": [],
   "source": [
    "# Function to get model score\n",
    "def score(X, y):\n",
    "    y_pred = model.predict(X)\n",
    "    return accuracy_score(np.argmax(y, axis=1), np.argmax(y_pred, axis=1))\n",
    "\n",
    "# Calculate permutation importance\n",
    "result = permutation_importance(score, X_test.values, y_test, n_repeats=10, random_state=42, n_jobs=-1)\n",
    "\n",
    "# Get importance\n",
    "importance = result.importances_mean\n",
    "\n",
    "# Summarize feature importance\n",
    "for i, j in enumerate(importance):\n",
    "    print('Feature:', X.columns[i], ', Score: ', j)"
   ]
  }
 ],
 "metadata": {
  "kernelspec": {
   "display_name": "tensorflow-gpu",
   "language": "python",
   "name": "gpu"
  },
  "language_info": {
   "codemirror_mode": {
    "name": "ipython",
    "version": 3
   },
   "file_extension": ".py",
   "mimetype": "text/x-python",
   "name": "python",
   "nbconvert_exporter": "python",
   "pygments_lexer": "ipython3",
   "version": "3.7.1"
  }
 },
 "nbformat": 4,
 "nbformat_minor": 5
}
