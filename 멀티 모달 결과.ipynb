{
 "cells": [
  {
   "cell_type": "code",
   "execution_count": null,
   "id": "1457c78b",
   "metadata": {},
   "outputs": [],
   "source": [
    "# Load the DNN model\n",
    "dnn_model = load_model(\"dnn_model.h5\")\n",
    "\n",
    "# Load the YOLO model\n",
    "yolo_model.load_weights(\"yolo_model_weights.h5\")\n",
    "\n",
    "# New data for prediction\n",
    "image_path = \"C:/Users/oceanlightai/Desktop/datasets/pet_skin/valid/valid_image/IMG_D_A1_011086.jpg\"  # 이미지 파일 경로\n",
    "csv_file = \"C:/Users/oceanlightai/Desktop/datasets/pet_skin/valid//valid_skin.csv\"  # 검증 CSV 파일 경로\n",
    "df = pd.read_csv(csv_file)\n",
    "csv_row = df[df['Raw data ID'] == os.path.basename(image_path)]  # CSV 파일에서 해당 이미지 정보를 담은 행\n",
    "\n",
    "# Predict with the YOLO model\n",
    "yolo_prediction = predict_with_yolo_model(image_path, yolo_model)\n",
    "\n",
    "# Predict with the DNN model\n",
    "dnn_prediction = predict_with_dnn_model(csv_row, dnn_model)\n",
    "\n",
    "# Combine the predictions\n",
    "combined_prediction = combine_predictions(yolo_prediction, dnn_prediction)\n",
    "\n",
    "print(combined_prediction)"
   ]
  }
 ],
 "metadata": {
  "kernelspec": {
   "display_name": "tensorflow-gpu",
   "language": "python",
   "name": "gpu"
  },
  "language_info": {
   "codemirror_mode": {
    "name": "ipython",
    "version": 3
   },
   "file_extension": ".py",
   "mimetype": "text/x-python",
   "name": "python",
   "nbconvert_exporter": "python",
   "pygments_lexer": "ipython3",
   "version": "3.7.1"
  }
 },
 "nbformat": 4,
 "nbformat_minor": 5
}
