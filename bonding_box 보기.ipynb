{
 "cells": [
  {
   "cell_type": "code",
   "execution_count": 1,
   "id": "584d26eb",
   "metadata": {},
   "outputs": [
    {
     "name": "stderr",
     "output_type": "stream",
     "text": [
      "C:\\Users\\oceanlightai\\anaconda3\\envs\\gpu\\lib\\site-packages\\numpy\\_distributor_init.py:32: UserWarning: loaded more than 1 DLL from .libs:\n",
      "C:\\Users\\oceanlightai\\anaconda3\\envs\\gpu\\lib\\site-packages\\numpy\\.libs\\libopenblas.WCDJNK7YVMPZQ2ME2ZZHJJRJ3JIKNDB7.gfortran-win_amd64.dll\n",
      "C:\\Users\\oceanlightai\\anaconda3\\envs\\gpu\\lib\\site-packages\\numpy\\.libs\\libopenblas.XWYDX2IKJW2NMTWSFYNGFUWKQU3LYTCZ.gfortran-win_amd64.dll\n",
      "  stacklevel=1)\n"
     ]
    }
   ],
   "source": [
    "import pandas as pd\n",
    "import cv2\n",
    "import os\n",
    "\n",
    "# csv 파일 읽어오기\n",
    "df = pd.read_csv('C:/Users/oceanlightai/Desktop/datasets/pet_skin/train/train_skin.csv')\n",
    "\n",
    "# 이미지 경로 설정\n",
    "img_folder_path = \"C:/Users/oceanlightai/Desktop/datasets/pet_skin/train/train_image\"\n",
    "\n",
    "# 이미지에 바운딩 박스 그리기\n",
    "for index, row in df.iterrows():\n",
    "    if index >= 5:  # 첫 5개 이미지만 처리\n",
    "        break\n",
    "\n",
    "    img_path = os.path.join(img_folder_path, row['Raw data ID'])\n",
    "    img = cv2.imread(img_path)\n",
    "    \n",
    "    # 바운딩 박스 좌표 가져오기\n",
    "    start_point = (row['x'], row['y'])\n",
    "    end_point = (row['x'] + row['width'], row['y'] + row['height'])\n",
    "    \n",
    "    # 바운딩 박스 그리기 (색상: 빨강, 선 두께: 2)\n",
    "    img = cv2.rectangle(img, start_point, end_point, color=(0, 0, 255), thickness=2)\n",
    "    \n",
    "    # 이미지 보여주기\n",
    "    cv2.imshow('Image', img)\n",
    "    cv2.waitKey(0)\n",
    "    \n",
    "# 모든 창 닫기\n",
    "cv2.destroyAllWindows()"
   ]
  }
 ],
 "metadata": {
  "kernelspec": {
   "display_name": "tensorflow-gpu",
   "language": "python",
   "name": "gpu"
  },
  "language_info": {
   "codemirror_mode": {
    "name": "ipython",
    "version": 3
   },
   "file_extension": ".py",
   "mimetype": "text/x-python",
   "name": "python",
   "nbconvert_exporter": "python",
   "pygments_lexer": "ipython3",
   "version": "3.7.1"
  }
 },
 "nbformat": 4,
 "nbformat_minor": 5
}
