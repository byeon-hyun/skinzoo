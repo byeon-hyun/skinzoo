{
 "cells": [
  {
   "cell_type": "code",
   "execution_count": 1,
   "id": "73a92b35",
   "metadata": {},
   "outputs": [
    {
     "name": "stdout",
     "output_type": "stream",
     "text": [
      ">>> image count = 6000\n"
     ]
    },
    {
     "name": "stderr",
     "output_type": "stream",
     "text": [
      "C:\\Users\\oceanlightai\\anaconda3\\envs\\gpu\\lib\\site-packages\\numpy\\_distributor_init.py:32: UserWarning: loaded more than 1 DLL from .libs:\n",
      "C:\\Users\\oceanlightai\\anaconda3\\envs\\gpu\\lib\\site-packages\\numpy\\.libs\\libopenblas.WCDJNK7YVMPZQ2ME2ZZHJJRJ3JIKNDB7.gfortran-win_amd64.dll\n",
      "C:\\Users\\oceanlightai\\anaconda3\\envs\\gpu\\lib\\site-packages\\numpy\\.libs\\libopenblas.XWYDX2IKJW2NMTWSFYNGFUWKQU3LYTCZ.gfortran-win_amd64.dll\n",
      "  stacklevel=1)\n"
     ]
    }
   ],
   "source": [
    "from imutils import paths \n",
    "\n",
    "search_dir = \"C:/Users/oceanlightai/Desktop/data/1000\"\n",
    "\n",
    "image_paths = sorted(\n",
    "        list(paths.list_images(search_dir))\n",
    ")\n",
    "\n",
    "print(\">>> image count =\", len(image_paths))"
   ]
  },
  {
   "cell_type": "code",
   "execution_count": 2,
   "id": "1ec4d703",
   "metadata": {},
   "outputs": [
    {
     "name": "stderr",
     "output_type": "stream",
     "text": [
      "Processing Images:   0%|                                                                   | 0/6000 [00:00<?, ?image/s]\n",
      "Processing Images:   0%|                                                           | 5/6000 [00:00<02:09, 46.23image/s]\u001b[A\n",
      "  0%|                                                                                 | 5/6000 [00:00<02:08, 46.66it/s]\u001b[A"
     ]
    },
    {
     "name": "stdout",
     "output_type": "stream",
     "text": [
      ">>> images count = 1\n",
      ">>> images count = 2\n",
      ">>> images count = 3\n",
      ">>> images count = 4\n",
      ">>> images count = 5\n",
      ">>> images count = 6\n",
      ">>> images count = 7\n",
      ">>> images count = 8\n",
      ">>> images count = 9\n"
     ]
    },
    {
     "name": "stderr",
     "output_type": "stream",
     "text": [
      "Processing Images:   0%|                                                          | 10/6000 [00:00<02:14, 44.65image/s]\n",
      "Processing Images:   0%|▏                                                         | 15/6000 [00:00<02:23, 41.58image/s]\u001b[A\n",
      "  0%|▏                                                                               | 15/6000 [00:00<02:23, 41.71it/s]\u001b[A"
     ]
    },
    {
     "name": "stdout",
     "output_type": "stream",
     "text": [
      ">>> images count = 10\n",
      ">>> images count = 11\n",
      ">>> images count = 12\n",
      ">>> images count = 13\n",
      ">>> images count = 14\n",
      ">>> images count = 15\n",
      ">>> images count = 16\n",
      ">>> images count = 17\n"
     ]
    },
    {
     "name": "stderr",
     "output_type": "stream",
     "text": [
      "Processing Images:   0%|▏                                                         | 20/6000 [00:00<02:34, 38.64image/s]\n",
      "Processing Images:   0%|▏                                                         | 25/6000 [00:00<02:27, 40.54image/s]\u001b[A\n",
      "  0%|▎                                                                               | 25/6000 [00:00<02:27, 40.58it/s]\u001b[A"
     ]
    },
    {
     "name": "stdout",
     "output_type": "stream",
     "text": [
      ">>> images count = 18\n",
      ">>> images count = 19\n",
      ">>> images count = 20\n",
      ">>> images count = 21\n",
      ">>> images count = 22\n",
      ">>> images count = 23\n",
      ">>> images count = 24\n",
      ">>> images count = 25\n",
      ">>> images count = 26\n"
     ]
    },
    {
     "name": "stderr",
     "output_type": "stream",
     "text": [
      "Processing Images:   0%|▎                                                         | 30/6000 [00:00<02:27, 40.44image/s]\n",
      "  0%|▍                                                                               | 30/6000 [00:00<02:27, 40.47it/s]\u001b[A"
     ]
    },
    {
     "name": "stdout",
     "output_type": "stream",
     "text": [
      ">>> images count = 27\n",
      ">>> images count = 28\n",
      ">>> images count = 29\n",
      ">>> images count = 30\n",
      ">>> images count = 31\n",
      ">>> images count = 32\n",
      ">>> images count = 33\n",
      ">>> images count = 34\n"
     ]
    },
    {
     "name": "stderr",
     "output_type": "stream",
     "text": [
      "Processing Images:   1%|▎                                                         | 35/6000 [00:00<02:30, 39.58image/s]\n",
      "Processing Images:   1%|▍                                                         | 40/6000 [00:00<02:28, 40.20image/s]\u001b[A\n",
      "  1%|▌                                                                               | 40/6000 [00:00<02:28, 40.24it/s]\u001b[A"
     ]
    },
    {
     "name": "stdout",
     "output_type": "stream",
     "text": [
      ">>> images count = 35\n",
      ">>> images count = 36\n",
      ">>> images count = 37\n",
      ">>> images count = 38\n",
      ">>> images count = 39\n",
      ">>> images count = 40\n",
      ">>> images count = 41\n",
      ">>> images count = 42\n",
      ">>> images count = 43\n"
     ]
    },
    {
     "name": "stderr",
     "output_type": "stream",
     "text": [
      "Processing Images:   1%|▍                                                         | 45/6000 [00:01<02:28, 40.23image/s]\n",
      "Processing Images:   1%|▍                                                         | 50/6000 [00:01<02:25, 40.82image/s]\u001b[A\n",
      "  1%|▋                                                                               | 50/6000 [00:01<02:25, 40.84it/s]\u001b[A"
     ]
    },
    {
     "name": "stdout",
     "output_type": "stream",
     "text": [
      ">>> images count = 44\n",
      ">>> images count = 45\n",
      ">>> images count = 46\n",
      ">>> images count = 47\n",
      ">>> images count = 48\n",
      ">>> images count = 49\n",
      ">>> images count = 50\n",
      ">>> images count = 51\n",
      ">>> images count = 52\n",
      ">>> images count = 53\n"
     ]
    },
    {
     "name": "stderr",
     "output_type": "stream",
     "text": [
      "Processing Images:   1%|▌                                                         | 55/6000 [00:01<02:24, 41.27image/s]\n",
      "Processing Images:   1%|▌                                                         | 60/6000 [00:01<02:19, 42.62image/s]\u001b[A\n",
      "  1%|▊                                                                               | 60/6000 [00:01<02:19, 42.64it/s]\u001b[A"
     ]
    },
    {
     "name": "stdout",
     "output_type": "stream",
     "text": [
      ">>> images count = 54\n",
      ">>> images count = 55\n",
      ">>> images count = 56\n",
      ">>> images count = 57\n",
      ">>> images count = 58\n",
      ">>> images count = 59\n",
      ">>> images count = 60\n",
      ">>> images count = 61\n",
      ">>> images count = 62\n"
     ]
    },
    {
     "name": "stderr",
     "output_type": "stream",
     "text": [
      "Processing Images:   1%|▋                                                         | 65/6000 [00:01<02:18, 42.75image/s]\n",
      "Processing Images:   1%|▋                                                         | 70/6000 [00:01<02:15, 43.63image/s]\u001b[A\n",
      "  1%|▉                                                                               | 70/6000 [00:01<02:15, 43.64it/s]\u001b[A"
     ]
    },
    {
     "name": "stdout",
     "output_type": "stream",
     "text": [
      ">>> images count = 63\n",
      ">>> images count = 64\n",
      ">>> images count = 65\n",
      ">>> images count = 66\n",
      ">>> images count = 67\n",
      ">>> images count = 68\n",
      ">>> images count = 69\n",
      ">>> images count = 70\n",
      ">>> images count = 71\n",
      ">>> images count = 72\n"
     ]
    },
    {
     "name": "stderr",
     "output_type": "stream",
     "text": [
      "Processing Images:   1%|▋                                                         | 75/6000 [00:01<02:12, 44.86image/s]\n",
      "Processing Images:   1%|▊                                                         | 80/6000 [00:01<02:11, 45.14image/s]\u001b[A\n",
      "  1%|█                                                                               | 80/6000 [00:01<02:11, 45.15it/s]\u001b[A"
     ]
    },
    {
     "name": "stdout",
     "output_type": "stream",
     "text": [
      ">>> images count = 73\n",
      ">>> images count = 74\n",
      ">>> images count = 75\n",
      ">>> images count = 76\n",
      ">>> images count = 77\n",
      ">>> images count = 78\n",
      ">>> images count = 79\n",
      ">>> images count = 80\n",
      ">>> images count = 81\n",
      ">>> images count = 82\n",
      ">>> images count = 83\n"
     ]
    },
    {
     "name": "stderr",
     "output_type": "stream",
     "text": [
      "Processing Images:   1%|▊                                                         | 86/6000 [00:02<02:05, 47.30image/s]\n",
      "Processing Images:   2%|▉                                                         | 92/6000 [00:02<02:02, 48.07image/s]\u001b[A\n",
      "  2%|█▏                                                                              | 92/6000 [00:02<02:02, 48.07it/s]\u001b[A"
     ]
    },
    {
     "name": "stdout",
     "output_type": "stream",
     "text": [
      ">>> images count = 84\n",
      ">>> images count = 85\n",
      ">>> images count = 86\n",
      ">>> images count = 87\n",
      ">>> images count = 88\n",
      ">>> images count = 89\n",
      ">>> images count = 90\n",
      ">>> images count = 91\n",
      ">>> images count = 92\n",
      ">>> images count = 93\n"
     ]
    },
    {
     "name": "stderr",
     "output_type": "stream",
     "text": [
      "Processing Images:   2%|▉                                                         | 97/6000 [00:02<02:10, 45.14image/s]\n",
      "  2%|█▎                                                                              | 97/6000 [00:02<02:10, 45.14it/s]\u001b[A"
     ]
    },
    {
     "name": "stdout",
     "output_type": "stream",
     "text": [
      ">>> images count = 94\n",
      ">>> images count = 95\n",
      ">>> images count = 96\n",
      ">>> images count = 97\n",
      ">>> images count = 98\n",
      ">>> images count = 99\n",
      ">>> images count = 100\n",
      ">>> images count = 101\n"
     ]
    },
    {
     "name": "stderr",
     "output_type": "stream",
     "text": [
      "Processing Images:   2%|▉                                                        | 102/6000 [00:02<02:08, 46.04image/s]\n",
      "Processing Images:   2%|█                                                        | 107/6000 [00:02<02:08, 45.97image/s]\u001b[A\n",
      "  2%|█▍                                                                             | 107/6000 [00:02<02:07, 46.09it/s]\u001b[A"
     ]
    },
    {
     "name": "stdout",
     "output_type": "stream",
     "text": [
      ">>> images count = 102\n",
      ">>> images count = 103\n",
      ">>> images count = 104\n",
      ">>> images count = 105\n",
      ">>> images count = 106\n",
      ">>> images count = 107\n",
      ">>> images count = 108\n",
      ">>> images count = 109\n",
      ">>> images count = 110\n",
      ">>> images count = 111\n"
     ]
    },
    {
     "name": "stderr",
     "output_type": "stream",
     "text": [
      "Processing Images:   2%|█                                                        | 113/6000 [00:02<02:04, 47.10image/s]\n",
      "Processing Images:   2%|█                                                        | 118/6000 [00:02<02:04, 47.10image/s]\u001b[A\n",
      "  2%|█▌                                                                             | 118/6000 [00:02<02:04, 47.16it/s]\u001b[A"
     ]
    },
    {
     "name": "stdout",
     "output_type": "stream",
     "text": [
      ">>> images count = 112\n",
      ">>> images count = 113\n",
      ">>> images count = 114\n",
      ">>> images count = 115\n",
      ">>> images count = 116\n",
      ">>> images count = 117\n",
      ">>> images count = 118\n",
      ">>> images count = 119\n",
      ">>> images count = 120\n",
      ">>> images count = 121\n",
      ">>> images count = 122\n",
      ">>> images count = 123\n"
     ]
    },
    {
     "name": "stderr",
     "output_type": "stream",
     "text": [
      "Processing Images:   2%|█▏                                                       | 124/6000 [00:02<01:58, 49.60image/s]\n",
      "Processing Images:   2%|█▏                                                       | 130/6000 [00:02<01:56, 50.17image/s]\u001b[A\n",
      "  2%|█▋                                                                             | 130/6000 [00:02<01:57, 50.14it/s]\u001b[A"
     ]
    },
    {
     "name": "stdout",
     "output_type": "stream",
     "text": [
      ">>> images count = 124\n",
      ">>> images count = 125\n",
      ">>> images count = 126\n",
      ">>> images count = 127\n",
      ">>> images count = 128\n",
      ">>> images count = 129\n",
      ">>> images count = 130\n",
      ">>> images count = 131\n",
      ">>> images count = 132\n",
      ">>> images count = 133\n"
     ]
    },
    {
     "name": "stderr",
     "output_type": "stream",
     "text": [
      "Processing Images:   2%|█▎                                                       | 136/6000 [00:03<01:59, 49.27image/s]\n",
      "Processing Images:   2%|█▎                                                       | 141/6000 [00:03<02:01, 48.03image/s]\u001b[A\n",
      "  2%|█▊                                                                             | 141/6000 [00:03<02:01, 48.14it/s]\u001b[A"
     ]
    },
    {
     "name": "stdout",
     "output_type": "stream",
     "text": [
      ">>> images count = 134\n",
      ">>> images count = 135\n",
      ">>> images count = 136\n",
      ">>> images count = 137\n",
      ">>> images count = 138\n",
      ">>> images count = 139\n",
      ">>> images count = 140\n",
      ">>> images count = 141\n",
      ">>> images count = 142\n",
      ">>> images count = 143\n"
     ]
    },
    {
     "name": "stderr",
     "output_type": "stream",
     "text": [
      "Processing Images:   2%|█▍                                                       | 146/6000 [00:03<02:05, 46.77image/s]\n",
      "Processing Images:   3%|█▍                                                       | 152/6000 [00:03<02:01, 48.25image/s]\u001b[A\n",
      "  3%|██                                                                             | 152/6000 [00:03<02:01, 48.22it/s]\u001b[A"
     ]
    },
    {
     "name": "stdout",
     "output_type": "stream",
     "text": [
      ">>> images count = 144\n",
      ">>> images count = 145\n",
      ">>> images count = 146\n",
      ">>> images count = 147\n",
      ">>> images count = 148\n",
      ">>> images count = 149\n",
      ">>> images count = 150\n",
      ">>> images count = 151\n",
      ">>> images count = 152\n",
      ">>> images count = 153\n"
     ]
    },
    {
     "name": "stderr",
     "output_type": "stream",
     "text": [
      "Processing Images:   3%|█▍                                                       | 157/6000 [00:03<02:01, 48.05image/s]\n",
      "Processing Images:   3%|█▌                                                       | 162/6000 [00:03<02:03, 47.27image/s]\u001b[A\n",
      "  3%|██▏                                                                            | 162/6000 [00:03<02:03, 47.26it/s]\u001b[A"
     ]
    },
    {
     "name": "stdout",
     "output_type": "stream",
     "text": [
      ">>> images count = 154\n",
      ">>> images count = 155\n",
      ">>> images count = 156\n",
      ">>> images count = 157\n",
      ">>> images count = 158\n",
      ">>> images count = 159\n",
      ">>> images count = 160\n",
      ">>> images count = 161\n",
      ">>> images count = 162\n",
      ">>> images count = 163\n",
      ">>> images count = 164\n"
     ]
    },
    {
     "name": "stderr",
     "output_type": "stream",
     "text": [
      "Processing Images:   3%|█▌                                                       | 167/6000 [00:03<02:01, 48.01image/s]\n",
      "Processing Images:   3%|█▋                                                       | 173/6000 [00:03<01:57, 49.43image/s]\u001b[A\n",
      "  3%|██▎                                                                            | 173/6000 [00:03<01:57, 49.42it/s]\u001b[A"
     ]
    },
    {
     "name": "stdout",
     "output_type": "stream",
     "text": [
      ">>> images count = 165\n",
      ">>> images count = 166\n",
      ">>> images count = 167\n",
      ">>> images count = 168\n",
      ">>> images count = 169\n",
      ">>> images count = 170\n",
      ">>> images count = 171\n",
      ">>> images count = 172\n",
      ">>> images count = 173\n",
      ">>> images count = 174\n"
     ]
    },
    {
     "name": "stderr",
     "output_type": "stream",
     "text": [
      "Processing Images:   3%|█▋                                                       | 178/6000 [00:03<02:01, 47.89image/s]\n",
      "  3%|██▎                                                                            | 178/6000 [00:03<02:01, 47.88it/s]\u001b[A"
     ]
    },
    {
     "name": "stdout",
     "output_type": "stream",
     "text": [
      ">>> images count = 175\n",
      ">>> images count = 176\n",
      ">>> images count = 177\n",
      ">>> images count = 178\n",
      ">>> images count = 179\n",
      ">>> images count = 180\n",
      ">>> images count = 181\n",
      ">>> images count = 182\n",
      ">>> images count = 183\n"
     ]
    },
    {
     "name": "stderr",
     "output_type": "stream",
     "text": [
      "Processing Images:   3%|█▋                                                       | 184/6000 [00:04<01:59, 48.67image/s]\n",
      "Processing Images:   3%|█▊                                                       | 189/6000 [00:04<01:58, 48.88image/s]\u001b[A\n",
      "Processing Images:   3%|█▊                                                       | 194/6000 [00:04<02:01, 47.96image/s]\u001b[A"
     ]
    },
    {
     "name": "stdout",
     "output_type": "stream",
     "text": [
      ">>> images count = 184\n",
      ">>> images count = 185\n",
      ">>> images count = 186\n",
      ">>> images count = 187\n",
      ">>> images count = 188\n",
      ">>> images count = 189\n",
      ">>> images count = 190\n",
      ">>> images count = 191\n",
      ">>> images count = 192\n",
      ">>> images count = 193\n"
     ]
    },
    {
     "name": "stderr",
     "output_type": "stream",
     "text": [
      "\n",
      "Processing Images:   3%|█▉                                                       | 199/6000 [00:04<02:01, 47.70image/s]\u001b[A\n",
      "  3%|██▌                                                                            | 199/6000 [00:04<02:01, 47.76it/s]\u001b[A"
     ]
    },
    {
     "name": "stdout",
     "output_type": "stream",
     "text": [
      ">>> images count = 194\n",
      ">>> images count = 195\n",
      ">>> images count = 196\n",
      ">>> images count = 197\n",
      ">>> images count = 198\n",
      ">>> images count = 199\n",
      ">>> images count = 200\n",
      ">>> images count = 201\n",
      ">>> images count = 202\n",
      ">>> images count = 203\n",
      ">>> images count = 204\n"
     ]
    },
    {
     "name": "stderr",
     "output_type": "stream",
     "text": [
      "Processing Images:   3%|█▉                                                       | 205/6000 [00:04<01:58, 48.81image/s]\n",
      "Processing Images:   4%|█▉                                                       | 210/6000 [00:04<01:59, 48.58image/s]\u001b[A\n",
      "  4%|██▊                                                                            | 210/6000 [00:04<01:59, 48.61it/s]\u001b[A"
     ]
    },
    {
     "name": "stdout",
     "output_type": "stream",
     "text": [
      ">>> images count = 205\n",
      ">>> images count = 206\n",
      ">>> images count = 207\n",
      ">>> images count = 208\n",
      ">>> images count = 209\n",
      ">>> images count = 210\n",
      ">>> images count = 211\n",
      ">>> images count = 212\n",
      ">>> images count = 213\n",
      ">>> images count = 214\n"
     ]
    },
    {
     "name": "stderr",
     "output_type": "stream",
     "text": [
      "Processing Images:   4%|██                                                       | 215/6000 [00:04<02:02, 47.36image/s]\n",
      "Processing Images:   4%|██                                                       | 220/6000 [00:04<02:01, 47.43image/s]\u001b[A\n",
      "Processing Images:   4%|██▏                                                      | 225/6000 [00:04<01:59, 48.13image/s]\u001b[A"
     ]
    },
    {
     "name": "stdout",
     "output_type": "stream",
     "text": [
      ">>> images count = 215\n",
      ">>> images count = 216\n",
      ">>> images count = 217\n",
      ">>> images count = 218\n",
      ">>> images count = 219\n",
      ">>> images count = 220\n",
      ">>> images count = 221\n",
      ">>> images count = 222\n",
      ">>> images count = 223\n",
      ">>> images count = 224\n"
     ]
    },
    {
     "name": "stderr",
     "output_type": "stream",
     "text": [
      "\n",
      "Processing Images:   4%|██▏                                                      | 231/6000 [00:05<01:53, 50.65image/s]\u001b[A\n",
      "  4%|███                                                                            | 231/6000 [00:05<01:53, 50.66it/s]\u001b[A"
     ]
    },
    {
     "name": "stdout",
     "output_type": "stream",
     "text": [
      ">>> images count = 225\n",
      ">>> images count = 226\n",
      ">>> images count = 227\n",
      ">>> images count = 228\n",
      ">>> images count = 229\n",
      ">>> images count = 230\n",
      ">>> images count = 231\n",
      ">>> images count = 232\n",
      ">>> images count = 233\n",
      ">>> images count = 234\n",
      ">>> images count = 235\n",
      ">>> images count = 236\n"
     ]
    },
    {
     "name": "stderr",
     "output_type": "stream",
     "text": [
      "Processing Images:   4%|██▎                                                      | 237/6000 [00:05<01:56, 49.42image/s]\n",
      "Processing Images:   4%|██▎                                                      | 242/6000 [00:05<02:01, 47.46image/s]\u001b[A\n",
      "  4%|███▏                                                                           | 242/6000 [00:05<02:01, 47.47it/s]\u001b[A"
     ]
    },
    {
     "name": "stdout",
     "output_type": "stream",
     "text": [
      ">>> images count = 237\n",
      ">>> images count = 238\n",
      ">>> images count = 239\n",
      ">>> images count = 240\n",
      ">>> images count = 241\n",
      ">>> images count = 242\n",
      ">>> images count = 243\n",
      ">>> images count = 244\n",
      ">>> images count = 245\n",
      ">>> images count = 246\n"
     ]
    },
    {
     "name": "stderr",
     "output_type": "stream",
     "text": [
      "Processing Images:   4%|██▎                                                      | 248/6000 [00:05<01:57, 49.00image/s]\n",
      "Processing Images:   4%|██▍                                                      | 253/6000 [00:05<02:03, 46.46image/s]\u001b[A\n",
      "  4%|███▎                                                                           | 253/6000 [00:05<02:03, 46.46it/s]\u001b[A"
     ]
    },
    {
     "name": "stdout",
     "output_type": "stream",
     "text": [
      ">>> images count = 247\n",
      ">>> images count = 248\n",
      ">>> images count = 249\n",
      ">>> images count = 250\n",
      ">>> images count = 251\n",
      ">>> images count = 252\n",
      ">>> images count = 253\n",
      ">>> images count = 254\n",
      ">>> images count = 255\n",
      ">>> images count = 256\n"
     ]
    },
    {
     "name": "stderr",
     "output_type": "stream",
     "text": [
      "Processing Images:   4%|██▍                                                      | 259/6000 [00:05<02:00, 47.78image/s]\n",
      "Processing Images:   4%|██▌                                                      | 264/6000 [00:05<01:58, 48.22image/s]\u001b[A\n",
      "  4%|███▍                                                                           | 264/6000 [00:05<01:58, 48.22it/s]\u001b[A"
     ]
    },
    {
     "name": "stdout",
     "output_type": "stream",
     "text": [
      ">>> images count = 257\n",
      ">>> images count = 258\n",
      ">>> images count = 259\n",
      ">>> images count = 260\n",
      ">>> images count = 261\n",
      ">>> images count = 262\n",
      ">>> images count = 263\n",
      ">>> images count = 264\n",
      ">>> images count = 265\n",
      ">>> images count = 266\n"
     ]
    },
    {
     "name": "stderr",
     "output_type": "stream",
     "text": [
      "Processing Images:   4%|██▌                                                      | 269/6000 [00:05<02:01, 47.13image/s]\n",
      "Processing Images:   5%|██▌                                                      | 275/6000 [00:05<01:59, 47.83image/s]\u001b[A\n",
      "  5%|███▌                                                                           | 275/6000 [00:05<01:59, 47.83it/s]\u001b[A"
     ]
    },
    {
     "name": "stdout",
     "output_type": "stream",
     "text": [
      ">>> images count = 267\n",
      ">>> images count = 268\n",
      ">>> images count = 269\n",
      ">>> images count = 270\n",
      ">>> images count = 271\n",
      ">>> images count = 272\n",
      ">>> images count = 273\n",
      ">>> images count = 274\n",
      ">>> images count = 275\n",
      ">>> images count = 276\n",
      ">>> images count = 277\n"
     ]
    },
    {
     "name": "stderr",
     "output_type": "stream",
     "text": [
      "Processing Images:   5%|██▋                                                      | 280/6000 [00:06<02:01, 47.24image/s]\n",
      "Processing Images:   5%|██▋                                                      | 285/6000 [00:06<02:03, 46.21image/s]\u001b[A\n",
      "  5%|███▊                                                                           | 285/6000 [00:06<02:03, 46.21it/s]\u001b[A"
     ]
    },
    {
     "name": "stdout",
     "output_type": "stream",
     "text": [
      ">>> images count = 278\n",
      ">>> images count = 279\n",
      ">>> images count = 280\n",
      ">>> images count = 281\n",
      ">>> images count = 282\n",
      ">>> images count = 283\n",
      ">>> images count = 284\n",
      ">>> images count = 285\n",
      ">>> images count = 286\n",
      ">>> images count = 287\n"
     ]
    },
    {
     "name": "stderr",
     "output_type": "stream",
     "text": [
      "Processing Images:   5%|██▊                                                      | 290/6000 [00:06<02:07, 44.85image/s]\n",
      "Processing Images:   5%|██▊                                                      | 295/6000 [00:06<02:08, 44.42image/s]\u001b[A\n",
      "  5%|███▉                                                                           | 295/6000 [00:06<02:08, 44.42it/s]\u001b[A"
     ]
    },
    {
     "name": "stdout",
     "output_type": "stream",
     "text": [
      ">>> images count = 288\n",
      ">>> images count = 289\n",
      ">>> images count = 290\n",
      ">>> images count = 291\n",
      ">>> images count = 292\n",
      ">>> images count = 293\n",
      ">>> images count = 294\n",
      ">>> images count = 295\n",
      ">>> images count = 296\n",
      ">>> images count = 297\n"
     ]
    },
    {
     "name": "stderr",
     "output_type": "stream",
     "text": [
      "Processing Images:   5%|██▊                                                      | 300/6000 [00:06<02:10, 43.67image/s]\n",
      "Processing Images:   5%|██▉                                                      | 305/6000 [00:06<02:09, 44.09image/s]\u001b[A\n",
      "  5%|████                                                                           | 305/6000 [00:06<02:09, 44.09it/s]\u001b[A"
     ]
    },
    {
     "name": "stdout",
     "output_type": "stream",
     "text": [
      ">>> images count = 298\n",
      ">>> images count = 299\n",
      ">>> images count = 300\n",
      ">>> images count = 301\n",
      ">>> images count = 302\n",
      ">>> images count = 303\n",
      ">>> images count = 304\n",
      ">>> images count = 305\n",
      ">>> images count = 306\n",
      ">>> images count = 307\n"
     ]
    },
    {
     "name": "stderr",
     "output_type": "stream",
     "text": [
      "Processing Images:   5%|██▉                                                      | 310/6000 [00:06<02:07, 44.73image/s]\n",
      "Processing Images:   5%|██▉                                                      | 315/6000 [00:06<02:06, 45.10image/s]\u001b[A\n",
      "  5%|████▏                                                                          | 315/6000 [00:06<02:06, 45.10it/s]\u001b[A"
     ]
    },
    {
     "name": "stdout",
     "output_type": "stream",
     "text": [
      ">>> images count = 308\n",
      ">>> images count = 309\n",
      ">>> images count = 310\n",
      ">>> images count = 311\n",
      ">>> images count = 312\n",
      ">>> images count = 313\n",
      ">>> images count = 314\n",
      ">>> images count = 315\n",
      ">>> images count = 316\n",
      ">>> images count = 317\n"
     ]
    },
    {
     "name": "stderr",
     "output_type": "stream",
     "text": [
      "Processing Images:   5%|███                                                      | 320/6000 [00:06<02:06, 44.94image/s]\n",
      "Processing Images:   5%|███                                                      | 325/6000 [00:07<02:04, 45.69image/s]\u001b[A\n",
      "  5%|████▎                                                                          | 325/6000 [00:07<02:04, 45.69it/s]\u001b[A"
     ]
    },
    {
     "name": "stdout",
     "output_type": "stream",
     "text": [
      ">>> images count = 318\n",
      ">>> images count = 319\n",
      ">>> images count = 320\n",
      ">>> images count = 321\n",
      ">>> images count = 322\n",
      ">>> images count = 323\n",
      ">>> images count = 324\n",
      ">>> images count = 325\n",
      ">>> images count = 326\n",
      ">>> images count = 327\n"
     ]
    },
    {
     "name": "stderr",
     "output_type": "stream",
     "text": [
      "Processing Images:   6%|███▏                                                     | 330/6000 [00:07<02:05, 45.32image/s]\n",
      "Processing Images:   6%|███▏                                                     | 335/6000 [00:07<02:03, 45.81image/s]\u001b[A\n",
      "  6%|████▍                                                                          | 335/6000 [00:07<02:03, 45.81it/s]\u001b[A"
     ]
    },
    {
     "name": "stdout",
     "output_type": "stream",
     "text": [
      ">>> images count = 328\n",
      ">>> images count = 329\n",
      ">>> images count = 330\n",
      ">>> images count = 331\n",
      ">>> images count = 332\n",
      ">>> images count = 333\n",
      ">>> images count = 334\n",
      ">>> images count = 335\n",
      ">>> images count = 336\n",
      ">>> images count = 337\n"
     ]
    },
    {
     "name": "stderr",
     "output_type": "stream",
     "text": [
      "Processing Images:   6%|███▏                                                     | 340/6000 [00:07<02:10, 43.50image/s]\n",
      "Processing Images:   6%|███▎                                                     | 345/6000 [00:07<02:08, 44.17image/s]\u001b[A\n",
      "  6%|████▌                                                                          | 345/6000 [00:07<02:08, 44.17it/s]\u001b[A"
     ]
    },
    {
     "name": "stdout",
     "output_type": "stream",
     "text": [
      ">>> images count = 338\n",
      ">>> images count = 339\n",
      ">>> images count = 340\n",
      ">>> images count = 341\n",
      ">>> images count = 342\n",
      ">>> images count = 343\n",
      ">>> images count = 344\n",
      ">>> images count = 345\n",
      ">>> images count = 346\n",
      ">>> images count = 347\n"
     ]
    },
    {
     "name": "stderr",
     "output_type": "stream",
     "text": [
      "Processing Images:   6%|███▎                                                     | 350/6000 [00:07<02:09, 43.76image/s]\n",
      "Processing Images:   6%|███▎                                                     | 355/6000 [00:07<02:14, 41.89image/s]\u001b[A\n",
      "  6%|████▋                                                                          | 355/6000 [00:07<02:14, 41.89it/s]\u001b[A"
     ]
    },
    {
     "name": "stdout",
     "output_type": "stream",
     "text": [
      ">>> images count = 348\n",
      ">>> images count = 349\n",
      ">>> images count = 350\n",
      ">>> images count = 351\n",
      ">>> images count = 352\n",
      ">>> images count = 353\n",
      ">>> images count = 354\n",
      ">>> images count = 355\n",
      ">>> images count = 356\n"
     ]
    },
    {
     "name": "stderr",
     "output_type": "stream",
     "text": [
      "Processing Images:   6%|███▍                                                     | 360/6000 [00:07<02:20, 40.25image/s]\n",
      "  6%|████▋                                                                          | 360/6000 [00:07<02:20, 40.25it/s]\u001b[A"
     ]
    },
    {
     "name": "stdout",
     "output_type": "stream",
     "text": [
      ">>> images count = 357\n",
      ">>> images count = 358\n",
      ">>> images count = 359\n",
      ">>> images count = 360\n",
      ">>> images count = 361\n",
      ">>> images count = 362\n",
      ">>> images count = 363\n",
      ">>> images count = 364\n"
     ]
    },
    {
     "name": "stderr",
     "output_type": "stream",
     "text": [
      "Processing Images:   6%|███▍                                                     | 365/6000 [00:08<02:17, 40.85image/s]\n",
      "Processing Images:   6%|███▌                                                     | 370/6000 [00:08<02:15, 41.54image/s]\u001b[A\n",
      "  6%|████▊                                                                          | 370/6000 [00:08<02:15, 41.54it/s]\u001b[A"
     ]
    },
    {
     "name": "stdout",
     "output_type": "stream",
     "text": [
      ">>> images count = 365\n",
      ">>> images count = 366\n",
      ">>> images count = 367\n",
      ">>> images count = 368\n",
      ">>> images count = 369\n",
      ">>> images count = 370\n",
      ">>> images count = 371\n",
      ">>> images count = 372\n",
      ">>> images count = 373\n"
     ]
    },
    {
     "name": "stderr",
     "output_type": "stream",
     "text": [
      "Processing Images:   6%|███▌                                                     | 375/6000 [00:08<02:13, 41.98image/s]\n",
      "Processing Images:   6%|███▌                                                     | 380/6000 [00:08<02:15, 41.51image/s]\u001b[A\n",
      "  6%|█████                                                                          | 380/6000 [00:08<02:15, 41.62it/s]\u001b[A"
     ]
    },
    {
     "name": "stdout",
     "output_type": "stream",
     "text": [
      ">>> images count = 374\n",
      ">>> images count = 375\n",
      ">>> images count = 376\n",
      ">>> images count = 377\n",
      ">>> images count = 378\n",
      ">>> images count = 379\n",
      ">>> images count = 380\n",
      ">>> images count = 381\n",
      ">>> images count = 382\n"
     ]
    },
    {
     "name": "stderr",
     "output_type": "stream",
     "text": [
      "Processing Images:   6%|███▋                                                     | 385/6000 [00:08<02:14, 41.84image/s]\n",
      "Processing Images:   6%|███▋                                                     | 390/6000 [00:08<02:13, 41.88image/s]\u001b[A\n",
      "  6%|█████▏                                                                         | 390/6000 [00:08<02:14, 41.86it/s]\u001b[A"
     ]
    },
    {
     "name": "stdout",
     "output_type": "stream",
     "text": [
      ">>> images count = 383\n",
      ">>> images count = 384\n",
      ">>> images count = 385\n",
      ">>> images count = 386\n",
      ">>> images count = 387\n",
      ">>> images count = 388\n",
      ">>> images count = 389\n",
      ">>> images count = 390\n",
      ">>> images count = 391\n"
     ]
    },
    {
     "name": "stderr",
     "output_type": "stream",
     "text": [
      "Processing Images:   7%|███▊                                                     | 395/6000 [00:08<02:14, 41.54image/s]\n",
      "  7%|█████▏                                                                         | 395/6000 [00:08<02:14, 41.53it/s]\u001b[A"
     ]
    },
    {
     "name": "stdout",
     "output_type": "stream",
     "text": [
      ">>> images count = 392\n",
      ">>> images count = 393\n",
      ">>> images count = 394\n",
      ">>> images count = 395\n",
      ">>> images count = 396\n",
      ">>> images count = 397\n",
      ">>> images count = 398\n",
      ">>> images count = 399\n"
     ]
    },
    {
     "name": "stderr",
     "output_type": "stream",
     "text": [
      "Processing Images:   7%|███▊                                                     | 400/6000 [00:08<02:19, 40.27image/s]\n",
      "Processing Images:   7%|███▊                                                     | 405/6000 [00:08<02:17, 40.56image/s]\u001b[A\n",
      "  7%|█████▎                                                                         | 405/6000 [00:08<02:17, 40.56it/s]\u001b[A"
     ]
    },
    {
     "name": "stdout",
     "output_type": "stream",
     "text": [
      ">>> images count = 400\n",
      ">>> images count = 401\n",
      ">>> images count = 402\n",
      ">>> images count = 403\n",
      ">>> images count = 404\n",
      ">>> images count = 405\n",
      ">>> images count = 406\n",
      ">>> images count = 407\n",
      ">>> images count = 408\n"
     ]
    },
    {
     "name": "stderr",
     "output_type": "stream",
     "text": [
      "Processing Images:   7%|███▉                                                     | 410/6000 [00:09<02:19, 40.19image/s]\n",
      "Processing Images:   7%|███▉                                                     | 415/6000 [00:09<02:17, 40.76image/s]\u001b[A\n",
      "  7%|█████▍                                                                         | 415/6000 [00:09<02:17, 40.75it/s]\u001b[A"
     ]
    },
    {
     "name": "stdout",
     "output_type": "stream",
     "text": [
      ">>> images count = 409\n",
      ">>> images count = 410\n",
      ">>> images count = 411\n",
      ">>> images count = 412\n",
      ">>> images count = 413\n",
      ">>> images count = 414\n",
      ">>> images count = 415\n",
      ">>> images count = 416\n",
      ">>> images count = 417\n"
     ]
    },
    {
     "name": "stderr",
     "output_type": "stream",
     "text": [
      "Processing Images:   7%|███▉                                                     | 420/6000 [00:09<02:15, 41.32image/s]\n",
      "Processing Images:   7%|████                                                     | 425/6000 [00:09<02:14, 41.41image/s]\u001b[A\n",
      "  7%|█████▌                                                                         | 425/6000 [00:09<02:14, 41.41it/s]\u001b[A"
     ]
    },
    {
     "name": "stdout",
     "output_type": "stream",
     "text": [
      ">>> images count = 418\n",
      ">>> images count = 419\n",
      ">>> images count = 420\n",
      ">>> images count = 421\n",
      ">>> images count = 422\n",
      ">>> images count = 423\n",
      ">>> images count = 424\n",
      ">>> images count = 425\n",
      ">>> images count = 426\n",
      ">>> images count = 427\n"
     ]
    },
    {
     "name": "stderr",
     "output_type": "stream",
     "text": [
      "Processing Images:   7%|████                                                     | 430/6000 [00:09<02:12, 41.89image/s]\n",
      "Processing Images:   7%|████▏                                                    | 435/6000 [00:09<02:07, 43.55image/s]\u001b[A\n",
      "  7%|█████▋                                                                         | 435/6000 [00:09<02:07, 43.55it/s]\u001b[A"
     ]
    },
    {
     "name": "stdout",
     "output_type": "stream",
     "text": [
      ">>> images count = 428\n",
      ">>> images count = 429\n",
      ">>> images count = 430\n",
      ">>> images count = 431\n",
      ">>> images count = 432\n",
      ">>> images count = 433\n",
      ">>> images count = 434\n",
      ">>> images count = 435\n",
      ">>> images count = 436\n",
      ">>> images count = 437\n"
     ]
    },
    {
     "name": "stderr",
     "output_type": "stream",
     "text": [
      "Processing Images:   7%|████▏                                                    | 440/6000 [00:09<02:08, 43.29image/s]\n",
      "Processing Images:   7%|████▏                                                    | 445/6000 [00:09<02:05, 44.43image/s]\u001b[A\n",
      "  7%|█████▊                                                                         | 445/6000 [00:09<02:05, 44.43it/s]\u001b[A"
     ]
    },
    {
     "name": "stdout",
     "output_type": "stream",
     "text": [
      ">>> images count = 438\n",
      ">>> images count = 439\n",
      ">>> images count = 440\n",
      ">>> images count = 441\n",
      ">>> images count = 442\n",
      ">>> images count = 443\n",
      ">>> images count = 444\n",
      ">>> images count = 445\n",
      ">>> images count = 446\n",
      ">>> images count = 447\n"
     ]
    },
    {
     "name": "stderr",
     "output_type": "stream",
     "text": [
      "Processing Images:   8%|████▎                                                    | 450/6000 [00:10<02:03, 44.83image/s]\n",
      "Processing Images:   8%|████▎                                                    | 455/6000 [00:10<02:00, 46.05image/s]\u001b[A\n",
      "  8%|█████▉                                                                         | 455/6000 [00:10<02:00, 46.18it/s]\u001b[A"
     ]
    },
    {
     "name": "stdout",
     "output_type": "stream",
     "text": [
      ">>> images count = 448\n",
      ">>> images count = 449\n",
      ">>> images count = 450\n",
      ">>> images count = 451\n",
      ">>> images count = 452\n",
      ">>> images count = 453\n",
      ">>> images count = 454\n",
      ">>> images count = 455\n",
      ">>> images count = 456\n",
      ">>> images count = 457\n",
      ">>> images count = 458\n"
     ]
    },
    {
     "name": "stderr",
     "output_type": "stream",
     "text": [
      "Processing Images:   8%|████▍                                                    | 461/6000 [00:10<01:56, 47.49image/s]\n",
      "Processing Images:   8%|████▍                                                    | 466/6000 [00:10<01:55, 47.90image/s]\u001b[A\n",
      "  8%|██████▏                                                                        | 466/6000 [00:10<01:55, 47.87it/s]\u001b[A"
     ]
    },
    {
     "name": "stdout",
     "output_type": "stream",
     "text": [
      ">>> images count = 459\n",
      ">>> images count = 460\n",
      ">>> images count = 461\n",
      ">>> images count = 462\n",
      ">>> images count = 463\n",
      ">>> images count = 464\n",
      ">>> images count = 465\n",
      ">>> images count = 466\n",
      ">>> images count = 467\n",
      ">>> images count = 468\n",
      ">>> images count = 469\n"
     ]
    },
    {
     "name": "stderr",
     "output_type": "stream",
     "text": [
      "Processing Images:   8%|████▍                                                    | 471/6000 [00:10<01:59, 46.23image/s]\n",
      "Processing Images:   8%|████▌                                                    | 476/6000 [00:10<01:57, 46.99image/s]\u001b[A\n",
      "  8%|██████▎                                                                        | 476/6000 [00:10<01:57, 46.85it/s]\u001b[A"
     ]
    },
    {
     "name": "stdout",
     "output_type": "stream",
     "text": [
      ">>> images count = 470\n",
      ">>> images count = 471\n",
      ">>> images count = 472\n",
      ">>> images count = 473\n",
      ">>> images count = 474\n",
      ">>> images count = 475\n",
      ">>> images count = 476\n",
      ">>> images count = 477\n",
      ">>> images count = 478\n",
      ">>> images count = 479\n",
      ">>> images count = 480\n"
     ]
    },
    {
     "name": "stderr",
     "output_type": "stream",
     "text": [
      "Processing Images:   8%|████▌                                                    | 481/6000 [00:10<01:57, 47.02image/s]\n",
      "Processing Images:   8%|████▌                                                    | 486/6000 [00:10<01:56, 47.31image/s]\u001b[A\n",
      "  8%|██████▍                                                                        | 486/6000 [00:10<01:56, 47.37it/s]\u001b[A"
     ]
    },
    {
     "name": "stdout",
     "output_type": "stream",
     "text": [
      ">>> images count = 481\n",
      ">>> images count = 482\n",
      ">>> images count = 483\n",
      ">>> images count = 484\n",
      ">>> images count = 485\n",
      ">>> images count = 486\n",
      ">>> images count = 487\n",
      ">>> images count = 488\n",
      ">>> images count = 489\n",
      ">>> images count = 490\n"
     ]
    },
    {
     "name": "stderr",
     "output_type": "stream",
     "text": [
      "Processing Images:   8%|████▋                                                    | 491/6000 [00:10<01:58, 46.46image/s]\n",
      "Processing Images:   8%|████▋                                                    | 496/6000 [00:10<01:57, 46.86image/s]\u001b[A\n",
      "  8%|██████▌                                                                        | 496/6000 [00:10<01:57, 46.89it/s]\u001b[A"
     ]
    },
    {
     "name": "stdout",
     "output_type": "stream",
     "text": [
      ">>> images count = 491\n",
      ">>> images count = 492\n",
      ">>> images count = 493\n",
      ">>> images count = 494\n",
      ">>> images count = 495\n",
      ">>> images count = 496\n",
      ">>> images count = 497\n",
      ">>> images count = 498\n",
      ">>> images count = 499\n",
      ">>> images count = 500\n"
     ]
    },
    {
     "name": "stderr",
     "output_type": "stream",
     "text": [
      "Processing Images:   8%|████▊                                                    | 501/6000 [00:11<01:57, 46.67image/s]\n",
      "Processing Images:   8%|████▊                                                    | 506/6000 [00:11<01:59, 46.03image/s]\u001b[A\n",
      "  8%|██████▋                                                                        | 506/6000 [00:11<01:59, 46.04it/s]\u001b[A"
     ]
    },
    {
     "name": "stdout",
     "output_type": "stream",
     "text": [
      ">>> images count = 501\n",
      ">>> images count = 502\n",
      ">>> images count = 503\n",
      ">>> images count = 504\n",
      ">>> images count = 505\n",
      ">>> images count = 506\n",
      ">>> images count = 507\n",
      ">>> images count = 508\n",
      ">>> images count = 509\n",
      ">>> images count = 510\n"
     ]
    },
    {
     "name": "stderr",
     "output_type": "stream",
     "text": [
      "Processing Images:   9%|████▊                                                    | 512/6000 [00:11<01:52, 48.58image/s]\n",
      "Processing Images:   9%|████▉                                                    | 518/6000 [00:11<01:52, 48.56image/s]\u001b[A\n",
      "  9%|██████▊                                                                        | 518/6000 [00:11<01:52, 48.57it/s]\u001b[A"
     ]
    },
    {
     "name": "stdout",
     "output_type": "stream",
     "text": [
      ">>> images count = 511\n",
      ">>> images count = 512\n",
      ">>> images count = 513\n",
      ">>> images count = 514\n",
      ">>> images count = 515\n",
      ">>> images count = 516\n",
      ">>> images count = 517\n",
      ">>> images count = 518\n",
      ">>> images count = 519\n",
      ">>> images count = 520\n"
     ]
    },
    {
     "name": "stderr",
     "output_type": "stream",
     "text": [
      "Processing Images:   9%|████▉                                                    | 523/6000 [00:11<01:56, 47.13image/s]\n",
      "Processing Images:   9%|█████                                                    | 528/6000 [00:11<01:55, 47.25image/s]\u001b[A\n",
      "  9%|██████▉                                                                        | 528/6000 [00:11<01:55, 47.25it/s]\u001b[A"
     ]
    },
    {
     "name": "stdout",
     "output_type": "stream",
     "text": [
      ">>> images count = 521\n",
      ">>> images count = 522\n",
      ">>> images count = 523\n",
      ">>> images count = 524\n",
      ">>> images count = 525\n",
      ">>> images count = 526\n",
      ">>> images count = 527\n",
      ">>> images count = 528\n",
      ">>> images count = 529\n",
      ">>> images count = 530\n"
     ]
    },
    {
     "name": "stderr",
     "output_type": "stream",
     "text": [
      "Processing Images:   9%|█████                                                    | 533/6000 [00:11<01:56, 46.82image/s]\n",
      "Processing Images:   9%|█████                                                    | 538/6000 [00:11<01:58, 46.27image/s]\u001b[A\n",
      "  9%|███████                                                                        | 538/6000 [00:11<01:58, 46.23it/s]\u001b[A"
     ]
    },
    {
     "name": "stdout",
     "output_type": "stream",
     "text": [
      ">>> images count = 531\n",
      ">>> images count = 532\n",
      ">>> images count = 533\n",
      ">>> images count = 534\n",
      ">>> images count = 535\n",
      ">>> images count = 536\n",
      ">>> images count = 537\n",
      ">>> images count = 538\n",
      ">>> images count = 539\n"
     ]
    },
    {
     "name": "stderr",
     "output_type": "stream",
     "text": [
      "Processing Images:   9%|█████▏                                                   | 543/6000 [00:12<02:00, 45.27image/s]\n",
      "  9%|███████▏                                                                       | 543/6000 [00:12<02:00, 45.25it/s]\u001b[A"
     ]
    },
    {
     "name": "stdout",
     "output_type": "stream",
     "text": [
      ">>> images count = 540\n",
      ">>> images count = 541\n",
      ">>> images count = 542\n",
      ">>> images count = 543\n",
      ">>> images count = 544\n",
      ">>> images count = 545\n",
      ">>> images count = 546\n",
      ">>> images count = 547\n"
     ]
    },
    {
     "name": "stderr",
     "output_type": "stream",
     "text": [
      "Processing Images:   9%|█████▏                                                   | 548/6000 [00:12<01:59, 45.55image/s]\n",
      "Processing Images:   9%|█████▎                                                   | 553/6000 [00:12<01:59, 45.75image/s]\u001b[A\n",
      "  9%|███████▎                                                                       | 553/6000 [00:12<01:58, 45.86it/s]\u001b[A"
     ]
    },
    {
     "name": "stdout",
     "output_type": "stream",
     "text": [
      ">>> images count = 548\n",
      ">>> images count = 549\n",
      ">>> images count = 550\n",
      ">>> images count = 551\n",
      ">>> images count = 552\n",
      ">>> images count = 553\n",
      ">>> images count = 554\n",
      ">>> images count = 555\n",
      ">>> images count = 556\n",
      ">>> images count = 557\n"
     ]
    },
    {
     "name": "stderr",
     "output_type": "stream",
     "text": [
      "Processing Images:   9%|█████▎                                                   | 558/6000 [00:12<01:57, 46.18image/s]\n",
      "Processing Images:   9%|█████▎                                                   | 564/6000 [00:12<01:53, 47.83image/s]\u001b[A\n",
      "  9%|███████▍                                                                       | 564/6000 [00:12<01:53, 47.80it/s]\u001b[A"
     ]
    },
    {
     "name": "stdout",
     "output_type": "stream",
     "text": [
      ">>> images count = 558\n",
      ">>> images count = 559\n",
      ">>> images count = 560\n",
      ">>> images count = 561\n",
      ">>> images count = 562\n",
      ">>> images count = 563\n",
      ">>> images count = 564\n",
      ">>> images count = 565\n",
      ">>> images count = 566\n",
      ">>> images count = 567\n",
      ">>> images count = 568\n",
      ">>> images count = 569\n"
     ]
    },
    {
     "name": "stderr",
     "output_type": "stream",
     "text": [
      "Processing Images:  10%|█████▍                                                   | 570/6000 [00:12<01:50, 49.01image/s]\n",
      "Processing Images:  10%|█████▍                                                   | 575/6000 [00:12<01:50, 49.13image/s]\u001b[A\n",
      "Processing Images:  10%|█████▌                                                   | 580/6000 [00:12<01:52, 48.26image/s]\u001b[A"
     ]
    },
    {
     "name": "stdout",
     "output_type": "stream",
     "text": [
      ">>> images count = 570\n",
      ">>> images count = 571\n",
      ">>> images count = 572\n",
      ">>> images count = 573\n",
      ">>> images count = 574\n",
      ">>> images count = 575\n",
      ">>> images count = 576\n",
      ">>> images count = 577\n",
      ">>> images count = 578\n",
      ">>> images count = 579\n"
     ]
    },
    {
     "name": "stderr",
     "output_type": "stream",
     "text": [
      "\n",
      "Processing Images:  10%|█████▌                                                   | 585/6000 [00:12<01:57, 46.01image/s]\u001b[A\n",
      " 10%|███████▋                                                                       | 585/6000 [00:12<01:57, 46.04it/s]\u001b[A"
     ]
    },
    {
     "name": "stdout",
     "output_type": "stream",
     "text": [
      ">>> images count = 580\n",
      ">>> images count = 581\n",
      ">>> images count = 582\n",
      ">>> images count = 583\n",
      ">>> images count = 584\n",
      ">>> images count = 585\n",
      ">>> images count = 586\n",
      ">>> images count = 587\n",
      ">>> images count = 588\n",
      ">>> images count = 589\n",
      ">>> images count = 590\n"
     ]
    },
    {
     "name": "stderr",
     "output_type": "stream",
     "text": [
      "Processing Images:  10%|█████▌                                                   | 591/6000 [00:12<01:50, 49.03image/s]\n",
      "Processing Images:  10%|█████▋                                                   | 596/6000 [00:13<01:55, 46.93image/s]\u001b[A\n",
      " 10%|███████▊                                                                       | 596/6000 [00:13<01:55, 46.91it/s]\u001b[A"
     ]
    },
    {
     "name": "stdout",
     "output_type": "stream",
     "text": [
      ">>> images count = 591\n",
      ">>> images count = 592\n",
      ">>> images count = 593\n",
      ">>> images count = 594\n",
      ">>> images count = 595\n",
      ">>> images count = 596\n",
      ">>> images count = 597\n",
      ">>> images count = 598\n",
      ">>> images count = 599\n"
     ]
    },
    {
     "name": "stderr",
     "output_type": "stream",
     "text": [
      "Processing Images:  10%|█████▋                                                   | 601/6000 [00:13<01:58, 45.38image/s]\n",
      "Processing Images:  10%|█████▊                                                   | 606/6000 [00:13<02:01, 44.44image/s]\u001b[A\n",
      " 10%|███████▉                                                                       | 606/6000 [00:13<02:01, 44.55it/s]\u001b[A"
     ]
    },
    {
     "name": "stdout",
     "output_type": "stream",
     "text": [
      ">>> images count = 600\n",
      ">>> images count = 601\n",
      ">>> images count = 602\n",
      ">>> images count = 603\n",
      ">>> images count = 604\n",
      ">>> images count = 605\n",
      ">>> images count = 606\n",
      ">>> images count = 607\n",
      ">>> images count = 608\n",
      ">>> images count = 609\n"
     ]
    },
    {
     "name": "stderr",
     "output_type": "stream",
     "text": [
      "Processing Images:  10%|█████▊                                                   | 611/6000 [00:13<02:00, 44.60image/s]\n",
      "Processing Images:  10%|█████▊                                                   | 616/6000 [00:13<01:58, 45.55image/s]\u001b[A\n",
      " 10%|████████                                                                       | 616/6000 [00:13<01:58, 45.52it/s]\u001b[A"
     ]
    },
    {
     "name": "stdout",
     "output_type": "stream",
     "text": [
      ">>> images count = 610\n",
      ">>> images count = 611\n",
      ">>> images count = 612\n",
      ">>> images count = 613\n",
      ">>> images count = 614\n",
      ">>> images count = 615\n",
      ">>> images count = 616\n",
      ">>> images count = 617\n",
      ">>> images count = 618\n",
      ">>> images count = 619\n"
     ]
    },
    {
     "name": "stderr",
     "output_type": "stream",
     "text": [
      "Processing Images:  10%|█████▉                                                   | 621/6000 [00:13<01:58, 45.50image/s]\n",
      "Processing Images:  10%|█████▉                                                   | 626/6000 [00:13<01:58, 45.35image/s]\u001b[A\n",
      " 10%|████████▏                                                                      | 626/6000 [00:13<01:58, 45.30it/s]\u001b[A"
     ]
    },
    {
     "name": "stdout",
     "output_type": "stream",
     "text": [
      ">>> images count = 620\n",
      ">>> images count = 621\n",
      ">>> images count = 622\n",
      ">>> images count = 623\n",
      ">>> images count = 624\n",
      ">>> images count = 625\n",
      ">>> images count = 626\n",
      ">>> images count = 627\n",
      ">>> images count = 628\n",
      ">>> images count = 629\n"
     ]
    },
    {
     "name": "stderr",
     "output_type": "stream",
     "text": [
      "Processing Images:  11%|█████▉                                                   | 631/6000 [00:13<02:02, 43.71image/s]\n",
      "Processing Images:  11%|██████                                                   | 636/6000 [00:14<02:01, 44.32image/s]\u001b[A\n",
      " 11%|████████▎                                                                      | 636/6000 [00:14<02:01, 44.29it/s]\u001b[A"
     ]
    },
    {
     "name": "stdout",
     "output_type": "stream",
     "text": [
      ">>> images count = 630\n",
      ">>> images count = 631\n",
      ">>> images count = 632\n",
      ">>> images count = 633\n",
      ">>> images count = 634\n",
      ">>> images count = 635\n",
      ">>> images count = 636\n",
      ">>> images count = 637\n",
      ">>> images count = 638\n",
      ">>> images count = 639\n"
     ]
    },
    {
     "name": "stderr",
     "output_type": "stream",
     "text": [
      "Processing Images:  11%|██████                                                   | 641/6000 [00:14<02:00, 44.63image/s]\n",
      "Processing Images:  11%|██████▏                                                  | 646/6000 [00:14<01:58, 45.16image/s]\u001b[A\n",
      " 11%|████████▌                                                                      | 646/6000 [00:14<01:58, 45.15it/s]\u001b[A"
     ]
    },
    {
     "name": "stdout",
     "output_type": "stream",
     "text": [
      ">>> images count = 640\n",
      ">>> images count = 641\n",
      ">>> images count = 642\n",
      ">>> images count = 643\n",
      ">>> images count = 644\n",
      ">>> images count = 645\n",
      ">>> images count = 646\n",
      ">>> images count = 647\n",
      ">>> images count = 648\n",
      ">>> images count = 649\n"
     ]
    },
    {
     "name": "stderr",
     "output_type": "stream",
     "text": [
      "Processing Images:  11%|██████▏                                                  | 651/6000 [00:14<02:00, 44.39image/s]\n",
      "Processing Images:  11%|██████▏                                                  | 656/6000 [00:14<02:02, 43.75image/s]\u001b[A\n",
      " 11%|████████▋                                                                      | 656/6000 [00:14<02:02, 43.74it/s]\u001b[A"
     ]
    },
    {
     "name": "stdout",
     "output_type": "stream",
     "text": [
      ">>> images count = 650\n",
      ">>> images count = 651\n",
      ">>> images count = 652\n",
      ">>> images count = 653\n",
      ">>> images count = 654\n",
      ">>> images count = 655\n",
      ">>> images count = 656\n",
      ">>> images count = 657\n",
      ">>> images count = 658\n",
      ">>> images count = 659\n"
     ]
    },
    {
     "name": "stderr",
     "output_type": "stream",
     "text": [
      "Processing Images:  11%|██████▎                                                  | 661/6000 [00:14<02:01, 43.88image/s]\n",
      "Processing Images:  11%|██████▎                                                  | 666/6000 [00:14<02:03, 43.29image/s]\u001b[A\n",
      " 11%|████████▊                                                                      | 666/6000 [00:14<02:03, 43.29it/s]\u001b[A"
     ]
    },
    {
     "name": "stdout",
     "output_type": "stream",
     "text": [
      ">>> images count = 660\n",
      ">>> images count = 661\n",
      ">>> images count = 662\n",
      ">>> images count = 663\n",
      ">>> images count = 664\n",
      ">>> images count = 665\n",
      ">>> images count = 666\n",
      ">>> images count = 667\n",
      ">>> images count = 668\n"
     ]
    },
    {
     "name": "stderr",
     "output_type": "stream",
     "text": [
      "Processing Images:  11%|██████▎                                                  | 671/6000 [00:14<02:07, 41.71image/s]\n",
      "Processing Images:  11%|██████▍                                                  | 676/6000 [00:14<02:07, 41.82image/s]\u001b[A\n",
      " 11%|████████▉                                                                      | 676/6000 [00:14<02:07, 41.83it/s]\u001b[A"
     ]
    },
    {
     "name": "stdout",
     "output_type": "stream",
     "text": [
      ">>> images count = 669\n",
      ">>> images count = 670\n",
      ">>> images count = 671\n",
      ">>> images count = 672\n",
      ">>> images count = 673\n",
      ">>> images count = 674\n",
      ">>> images count = 675\n",
      ">>> images count = 676\n",
      ">>> images count = 677\n"
     ]
    },
    {
     "name": "stderr",
     "output_type": "stream",
     "text": [
      "Processing Images:  11%|██████▍                                                  | 681/6000 [00:15<02:07, 41.67image/s]\n",
      " 11%|████████▉                                                                      | 681/6000 [00:15<02:07, 41.68it/s]\u001b[A"
     ]
    },
    {
     "name": "stdout",
     "output_type": "stream",
     "text": [
      ">>> images count = 678\n",
      ">>> images count = 679\n",
      ">>> images count = 680\n",
      ">>> images count = 681\n",
      ">>> images count = 682\n",
      ">>> images count = 683\n",
      ">>> images count = 684\n",
      ">>> images count = 685\n"
     ]
    },
    {
     "name": "stderr",
     "output_type": "stream",
     "text": [
      "Processing Images:  11%|██████▌                                                  | 686/6000 [00:15<02:09, 41.04image/s]\n",
      "Processing Images:  12%|██████▌                                                  | 691/6000 [00:15<02:10, 40.82image/s]\u001b[A\n",
      " 12%|█████████                                                                      | 691/6000 [00:15<02:10, 40.82it/s]\u001b[A"
     ]
    },
    {
     "name": "stdout",
     "output_type": "stream",
     "text": [
      ">>> images count = 686\n",
      ">>> images count = 687\n",
      ">>> images count = 688\n",
      ">>> images count = 689\n",
      ">>> images count = 690\n",
      ">>> images count = 691\n",
      ">>> images count = 692\n",
      ">>> images count = 693\n",
      ">>> images count = 694\n"
     ]
    },
    {
     "name": "stderr",
     "output_type": "stream",
     "text": [
      "Processing Images:  12%|██████▌                                                  | 696/6000 [00:15<02:13, 39.83image/s]\n",
      "Processing Images:  12%|██████▋                                                  | 701/6000 [00:15<02:08, 41.15image/s]\u001b[A\n",
      " 12%|█████████▏                                                                     | 701/6000 [00:15<02:08, 41.15it/s]\u001b[A"
     ]
    },
    {
     "name": "stdout",
     "output_type": "stream",
     "text": [
      ">>> images count = 695\n",
      ">>> images count = 696\n",
      ">>> images count = 697\n",
      ">>> images count = 698\n",
      ">>> images count = 699\n",
      ">>> images count = 700\n",
      ">>> images count = 701\n",
      ">>> images count = 702\n",
      ">>> images count = 703\n"
     ]
    },
    {
     "name": "stderr",
     "output_type": "stream",
     "text": [
      "Processing Images:  12%|██████▋                                                  | 706/6000 [00:15<02:06, 41.81image/s]\n",
      "Processing Images:  12%|██████▊                                                  | 711/6000 [00:15<02:03, 42.71image/s]\u001b[A\n",
      " 12%|█████████▎                                                                     | 711/6000 [00:15<02:03, 42.67it/s]\u001b[A"
     ]
    },
    {
     "name": "stdout",
     "output_type": "stream",
     "text": [
      ">>> images count = 704\n",
      ">>> images count = 705\n",
      ">>> images count = 706\n",
      ">>> images count = 707\n",
      ">>> images count = 708\n",
      ">>> images count = 709\n",
      ">>> images count = 710\n",
      ">>> images count = 711\n",
      ">>> images count = 712\n",
      ">>> images count = 713\n"
     ]
    },
    {
     "name": "stderr",
     "output_type": "stream",
     "text": [
      "Processing Images:  12%|██████▊                                                  | 716/6000 [00:15<02:03, 42.83image/s]\n",
      "Processing Images:  12%|██████▊                                                  | 722/6000 [00:16<01:55, 45.59image/s]\u001b[A\n",
      " 12%|█████████▌                                                                     | 722/6000 [00:16<01:55, 45.60it/s]\u001b[A"
     ]
    },
    {
     "name": "stdout",
     "output_type": "stream",
     "text": [
      ">>> images count = 714\n",
      ">>> images count = 715\n",
      ">>> images count = 716\n",
      ">>> images count = 717\n",
      ">>> images count = 718\n",
      ">>> images count = 719\n",
      ">>> images count = 720\n",
      ">>> images count = 721\n",
      ">>> images count = 722\n",
      ">>> images count = 723\n"
     ]
    },
    {
     "name": "stderr",
     "output_type": "stream",
     "text": [
      "Processing Images:  12%|██████▉                                                  | 727/6000 [00:16<01:56, 45.36image/s]\n",
      "Processing Images:  12%|██████▉                                                  | 732/6000 [00:16<01:56, 45.07image/s]\u001b[A\n",
      " 12%|█████████▋                                                                     | 732/6000 [00:16<01:56, 45.08it/s]\u001b[A"
     ]
    },
    {
     "name": "stdout",
     "output_type": "stream",
     "text": [
      ">>> images count = 724\n",
      ">>> images count = 725\n",
      ">>> images count = 726\n",
      ">>> images count = 727\n",
      ">>> images count = 728\n",
      ">>> images count = 729\n",
      ">>> images count = 730\n",
      ">>> images count = 731\n",
      ">>> images count = 732\n",
      ">>> images count = 733\n",
      ">>> images count = 734\n"
     ]
    },
    {
     "name": "stderr",
     "output_type": "stream",
     "text": [
      "Processing Images:  12%|███████                                                  | 738/6000 [00:16<01:51, 47.32image/s]\n",
      "Processing Images:  12%|███████                                                  | 743/6000 [00:16<01:51, 47.13image/s]\u001b[A\n",
      " 12%|█████████▊                                                                     | 743/6000 [00:16<01:51, 47.13it/s]\u001b[A"
     ]
    },
    {
     "name": "stdout",
     "output_type": "stream",
     "text": [
      ">>> images count = 735\n",
      ">>> images count = 736\n",
      ">>> images count = 737\n",
      ">>> images count = 738\n",
      ">>> images count = 739\n",
      ">>> images count = 740\n",
      ">>> images count = 741\n",
      ">>> images count = 742\n",
      ">>> images count = 743\n",
      ">>> images count = 744\n",
      ">>> images count = 745\n"
     ]
    },
    {
     "name": "stderr",
     "output_type": "stream",
     "text": [
      "Processing Images:  12%|███████                                                  | 748/6000 [00:16<01:49, 47.90image/s]\n",
      "Processing Images:  13%|███████▏                                                 | 753/6000 [00:16<01:48, 48.33image/s]\u001b[A\n",
      " 13%|█████████▉                                                                     | 753/6000 [00:16<01:48, 48.33it/s]\u001b[A"
     ]
    },
    {
     "name": "stdout",
     "output_type": "stream",
     "text": [
      ">>> images count = 746\n",
      ">>> images count = 747\n",
      ">>> images count = 748\n",
      ">>> images count = 749\n",
      ">>> images count = 750\n",
      ">>> images count = 751\n",
      ">>> images count = 752\n",
      ">>> images count = 753\n",
      ">>> images count = 754\n",
      ">>> images count = 755\n",
      ">>> images count = 756\n"
     ]
    },
    {
     "name": "stderr",
     "output_type": "stream",
     "text": [
      "Processing Images:  13%|███████▏                                                 | 758/6000 [00:16<01:48, 48.10image/s]\n",
      "Processing Images:  13%|███████▏                                                 | 763/6000 [00:16<01:49, 47.80image/s]\u001b[A\n",
      " 13%|██████████                                                                     | 763/6000 [00:16<01:49, 47.80it/s]\u001b[A"
     ]
    },
    {
     "name": "stdout",
     "output_type": "stream",
     "text": [
      ">>> images count = 757\n",
      ">>> images count = 758\n",
      ">>> images count = 759\n",
      ">>> images count = 760\n",
      ">>> images count = 761\n",
      ">>> images count = 762\n",
      ">>> images count = 763\n",
      ">>> images count = 764\n",
      ">>> images count = 765\n",
      ">>> images count = 766\n"
     ]
    },
    {
     "name": "stderr",
     "output_type": "stream",
     "text": [
      "Processing Images:  13%|███████▎                                                 | 768/6000 [00:17<01:54, 45.78image/s]\n",
      "Processing Images:  13%|███████▎                                                 | 774/6000 [00:17<01:50, 47.36image/s]\u001b[A\n",
      " 13%|██████████▏                                                                    | 774/6000 [00:17<01:50, 47.36it/s]\u001b[A"
     ]
    },
    {
     "name": "stdout",
     "output_type": "stream",
     "text": [
      ">>> images count = 767\n",
      ">>> images count = 768\n",
      ">>> images count = 769\n",
      ">>> images count = 770\n",
      ">>> images count = 771\n",
      ">>> images count = 772\n",
      ">>> images count = 773\n",
      ">>> images count = 774\n",
      ">>> images count = 775\n",
      ">>> images count = 776\n",
      ">>> images count = 777\n"
     ]
    },
    {
     "name": "stderr",
     "output_type": "stream",
     "text": [
      "Processing Images:  13%|███████▍                                                 | 779/6000 [00:17<01:51, 46.65image/s]\n",
      "Processing Images:  13%|███████▍                                                 | 784/6000 [00:17<01:50, 47.04image/s]\u001b[A\n",
      " 13%|██████████▎                                                                    | 784/6000 [00:17<01:51, 46.93it/s]\u001b[A"
     ]
    },
    {
     "name": "stdout",
     "output_type": "stream",
     "text": [
      ">>> images count = 778\n",
      ">>> images count = 779\n",
      ">>> images count = 780\n",
      ">>> images count = 781\n",
      ">>> images count = 782\n",
      ">>> images count = 783\n",
      ">>> images count = 784\n",
      ">>> images count = 785\n",
      ">>> images count = 786\n",
      ">>> images count = 787\n"
     ]
    },
    {
     "name": "stderr",
     "output_type": "stream",
     "text": [
      "Processing Images:  13%|███████▍                                                 | 789/6000 [00:17<01:49, 47.51image/s]\n",
      "Processing Images:  13%|███████▌                                                 | 794/6000 [00:17<01:55, 45.12image/s]\u001b[A\n",
      " 13%|██████████▍                                                                    | 794/6000 [00:17<01:55, 45.11it/s]\u001b[A"
     ]
    },
    {
     "name": "stdout",
     "output_type": "stream",
     "text": [
      ">>> images count = 788\n",
      ">>> images count = 789\n",
      ">>> images count = 790\n",
      ">>> images count = 791\n",
      ">>> images count = 792\n",
      ">>> images count = 793\n",
      ">>> images count = 794\n",
      ">>> images count = 795\n",
      ">>> images count = 796\n",
      ">>> images count = 797\n"
     ]
    },
    {
     "name": "stderr",
     "output_type": "stream",
     "text": [
      "Processing Images:  13%|███████▌                                                 | 799/6000 [00:17<01:56, 44.72image/s]\n",
      "Processing Images:  13%|███████▋                                                 | 805/6000 [00:17<01:50, 46.90image/s]\u001b[A\n",
      " 13%|██████████▌                                                                    | 805/6000 [00:17<01:50, 46.90it/s]\u001b[A"
     ]
    },
    {
     "name": "stdout",
     "output_type": "stream",
     "text": [
      ">>> images count = 798\n",
      ">>> images count = 799\n",
      ">>> images count = 800\n",
      ">>> images count = 801\n",
      ">>> images count = 802\n",
      ">>> images count = 803\n",
      ">>> images count = 804\n",
      ">>> images count = 805\n",
      ">>> images count = 806\n",
      ">>> images count = 807\n"
     ]
    },
    {
     "name": "stderr",
     "output_type": "stream",
     "text": [
      "Processing Images:  14%|███████▋                                                 | 810/6000 [00:17<01:52, 46.22image/s]\n",
      "Processing Images:  14%|███████▋                                                 | 815/6000 [00:18<01:51, 46.47image/s]\u001b[A\n",
      " 14%|██████████▋                                                                    | 815/6000 [00:18<01:51, 46.47it/s]\u001b[A"
     ]
    },
    {
     "name": "stdout",
     "output_type": "stream",
     "text": [
      ">>> images count = 808\n",
      ">>> images count = 809\n",
      ">>> images count = 810\n",
      ">>> images count = 811\n",
      ">>> images count = 812\n",
      ">>> images count = 813\n",
      ">>> images count = 814\n",
      ">>> images count = 815\n",
      ">>> images count = 816\n",
      ">>> images count = 817\n"
     ]
    },
    {
     "name": "stderr",
     "output_type": "stream",
     "text": [
      "Processing Images:  14%|███████▊                                                 | 820/6000 [00:18<01:55, 44.94image/s]\n",
      "Processing Images:  14%|███████▊                                                 | 825/6000 [00:18<01:54, 45.01image/s]\u001b[A\n",
      " 14%|██████████▊                                                                    | 825/6000 [00:18<01:54, 45.01it/s]\u001b[A"
     ]
    },
    {
     "name": "stdout",
     "output_type": "stream",
     "text": [
      ">>> images count = 818\n",
      ">>> images count = 819\n",
      ">>> images count = 820\n",
      ">>> images count = 821\n",
      ">>> images count = 822\n",
      ">>> images count = 823\n",
      ">>> images count = 824\n",
      ">>> images count = 825\n",
      ">>> images count = 826\n",
      ">>> images count = 827\n"
     ]
    },
    {
     "name": "stderr",
     "output_type": "stream",
     "text": [
      "Processing Images:  14%|███████▉                                                 | 830/6000 [00:18<01:55, 44.88image/s]\n",
      "Processing Images:  14%|███████▉                                                 | 836/6000 [00:18<01:51, 46.41image/s]\u001b[A\n",
      " 14%|███████████                                                                    | 836/6000 [00:18<01:51, 46.41it/s]\u001b[A"
     ]
    },
    {
     "name": "stdout",
     "output_type": "stream",
     "text": [
      ">>> images count = 828\n",
      ">>> images count = 829\n",
      ">>> images count = 830\n",
      ">>> images count = 831\n",
      ">>> images count = 832\n",
      ">>> images count = 833\n",
      ">>> images count = 834\n",
      ">>> images count = 835\n",
      ">>> images count = 836\n",
      ">>> images count = 837\n"
     ]
    },
    {
     "name": "stderr",
     "output_type": "stream",
     "text": [
      "Processing Images:  14%|███████▉                                                 | 841/6000 [00:18<01:50, 46.48image/s]\n",
      " 14%|███████████                                                                    | 841/6000 [00:18<01:50, 46.48it/s]\u001b[A"
     ]
    },
    {
     "name": "stdout",
     "output_type": "stream",
     "text": [
      ">>> images count = 838\n",
      ">>> images count = 839\n",
      ">>> images count = 840\n",
      ">>> images count = 841\n",
      ">>> images count = 842\n",
      ">>> images count = 843\n",
      ">>> images count = 844\n",
      ">>> images count = 845\n",
      ">>> images count = 846\n"
     ]
    },
    {
     "name": "stderr",
     "output_type": "stream",
     "text": [
      "Processing Images:  14%|████████                                                 | 847/6000 [00:18<01:47, 47.94image/s]\n",
      "Processing Images:  14%|████████                                                 | 852/6000 [00:18<01:47, 47.96image/s]\u001b[A\n",
      "Processing Images:  14%|████████▏                                                | 857/6000 [00:18<01:46, 48.11image/s]\u001b[A"
     ]
    },
    {
     "name": "stdout",
     "output_type": "stream",
     "text": [
      ">>> images count = 847\n",
      ">>> images count = 848\n",
      ">>> images count = 849\n",
      ">>> images count = 850\n",
      ">>> images count = 851\n",
      ">>> images count = 852\n",
      ">>> images count = 853\n",
      ">>> images count = 854\n",
      ">>> images count = 855\n",
      ">>> images count = 856\n"
     ]
    },
    {
     "name": "stderr",
     "output_type": "stream",
     "text": [
      "\n",
      "Processing Images:  14%|████████▏                                                | 862/6000 [00:19<01:46, 48.07image/s]\u001b[A\n",
      "Processing Images:  14%|████████▏                                                | 867/6000 [00:19<01:46, 48.37image/s]\u001b[A"
     ]
    },
    {
     "name": "stdout",
     "output_type": "stream",
     "text": [
      ">>> images count = 857\n",
      ">>> images count = 858\n",
      ">>> images count = 859\n",
      ">>> images count = 860\n",
      ">>> images count = 861\n",
      ">>> images count = 862\n",
      ">>> images count = 863\n",
      ">>> images count = 864\n",
      ">>> images count = 865\n",
      ">>> images count = 866\n"
     ]
    },
    {
     "name": "stderr",
     "output_type": "stream",
     "text": [
      "\n",
      "Processing Images:  15%|████████▎                                                | 872/6000 [00:19<01:46, 48.26image/s]\u001b[A\n",
      " 15%|███████████▍                                                                   | 872/6000 [00:19<01:46, 48.26it/s]\u001b[A"
     ]
    },
    {
     "name": "stdout",
     "output_type": "stream",
     "text": [
      ">>> images count = 867\n",
      ">>> images count = 868\n",
      ">>> images count = 869\n",
      ">>> images count = 870\n",
      ">>> images count = 871\n",
      ">>> images count = 872\n",
      ">>> images count = 873\n",
      ">>> images count = 874\n",
      ">>> images count = 875\n",
      ">>> images count = 876\n"
     ]
    },
    {
     "name": "stderr",
     "output_type": "stream",
     "text": [
      "Processing Images:  15%|████████▎                                                | 877/6000 [00:19<01:47, 47.51image/s]\n",
      "Processing Images:  15%|████████▍                                                | 882/6000 [00:19<01:47, 47.78image/s]\u001b[A\n",
      " 15%|███████████▌                                                                   | 882/6000 [00:19<01:47, 47.78it/s]\u001b[A"
     ]
    },
    {
     "name": "stdout",
     "output_type": "stream",
     "text": [
      ">>> images count = 877\n",
      ">>> images count = 878\n",
      ">>> images count = 879\n",
      ">>> images count = 880\n",
      ">>> images count = 881\n",
      ">>> images count = 882\n",
      ">>> images count = 883\n",
      ">>> images count = 884\n",
      ">>> images count = 885\n",
      ">>> images count = 886\n"
     ]
    },
    {
     "name": "stderr",
     "output_type": "stream",
     "text": [
      "Processing Images:  15%|████████▍                                                | 887/6000 [00:19<01:46, 48.12image/s]\n",
      "Processing Images:  15%|████████▍                                                | 893/6000 [00:19<01:42, 49.61image/s]\u001b[A\n",
      " 15%|███████████▊                                                                   | 893/6000 [00:19<01:42, 49.61it/s]\u001b[A"
     ]
    },
    {
     "name": "stdout",
     "output_type": "stream",
     "text": [
      ">>> images count = 887\n",
      ">>> images count = 888\n",
      ">>> images count = 889\n",
      ">>> images count = 890\n",
      ">>> images count = 891\n",
      ">>> images count = 892\n",
      ">>> images count = 893\n",
      ">>> images count = 894\n",
      ">>> images count = 895\n",
      ">>> images count = 896\n",
      ">>> images count = 897\n"
     ]
    },
    {
     "name": "stderr",
     "output_type": "stream",
     "text": [
      "Processing Images:  15%|████████▌                                                | 898/6000 [00:19<01:45, 48.59image/s]\n",
      "Processing Images:  15%|████████▌                                                | 903/6000 [00:19<01:48, 46.84image/s]\u001b[A\n",
      " 15%|███████████▉                                                                   | 903/6000 [00:19<01:48, 46.88it/s]\u001b[A"
     ]
    },
    {
     "name": "stdout",
     "output_type": "stream",
     "text": [
      ">>> images count = 898\n",
      ">>> images count = 899\n",
      ">>> images count = 900\n",
      ">>> images count = 901\n",
      ">>> images count = 902\n",
      ">>> images count = 903\n",
      ">>> images count = 904\n",
      ">>> images count = 905\n",
      ">>> images count = 906\n"
     ]
    },
    {
     "name": "stderr",
     "output_type": "stream",
     "text": [
      "Processing Images:  15%|████████▋                                                | 908/6000 [00:19<01:50, 46.15image/s]\n",
      "Processing Images:  15%|████████▋                                                | 913/6000 [00:20<01:51, 45.43image/s]\u001b[A\n",
      " 15%|████████████                                                                   | 913/6000 [00:20<01:51, 45.45it/s]\u001b[A"
     ]
    },
    {
     "name": "stdout",
     "output_type": "stream",
     "text": [
      ">>> images count = 907\n",
      ">>> images count = 908\n",
      ">>> images count = 909\n",
      ">>> images count = 910\n",
      ">>> images count = 911\n",
      ">>> images count = 912\n",
      ">>> images count = 913\n",
      ">>> images count = 914\n",
      ">>> images count = 915\n",
      ">>> images count = 916\n"
     ]
    },
    {
     "name": "stderr",
     "output_type": "stream",
     "text": [
      "Processing Images:  15%|████████▋                                                | 918/6000 [00:20<01:51, 45.42image/s]\n",
      "Processing Images:  15%|████████▊                                                | 924/6000 [00:20<01:46, 47.48image/s]\u001b[A\n",
      " 15%|████████████▏                                                                  | 924/6000 [00:20<01:46, 47.48it/s]\u001b[A"
     ]
    },
    {
     "name": "stdout",
     "output_type": "stream",
     "text": [
      ">>> images count = 917\n",
      ">>> images count = 918\n",
      ">>> images count = 919\n",
      ">>> images count = 920\n",
      ">>> images count = 921\n",
      ">>> images count = 922\n",
      ">>> images count = 923\n",
      ">>> images count = 924\n",
      ">>> images count = 925\n",
      ">>> images count = 926\n",
      ">>> images count = 927\n"
     ]
    },
    {
     "name": "stderr",
     "output_type": "stream",
     "text": [
      "Processing Images:  15%|████████▊                                                | 929/6000 [00:20<01:48, 46.61image/s]\n",
      "Processing Images:  16%|████████▊                                                | 934/6000 [00:20<01:47, 47.34image/s]\u001b[A\n",
      " 16%|████████████▎                                                                  | 934/6000 [00:20<01:47, 47.34it/s]\u001b[A"
     ]
    },
    {
     "name": "stdout",
     "output_type": "stream",
     "text": [
      ">>> images count = 928\n",
      ">>> images count = 929\n",
      ">>> images count = 930\n",
      ">>> images count = 931\n",
      ">>> images count = 932\n",
      ">>> images count = 933\n",
      ">>> images count = 934\n",
      ">>> images count = 935\n",
      ">>> images count = 936\n",
      ">>> images count = 937\n"
     ]
    },
    {
     "name": "stderr",
     "output_type": "stream",
     "text": [
      "Processing Images:  16%|████████▉                                                | 939/6000 [00:20<01:49, 46.18image/s]\n",
      "Processing Images:  16%|████████▉                                                | 944/6000 [00:20<01:52, 44.97image/s]\u001b[A\n",
      " 16%|████████████▍                                                                  | 944/6000 [00:20<01:52, 44.97it/s]\u001b[A"
     ]
    },
    {
     "name": "stdout",
     "output_type": "stream",
     "text": [
      ">>> images count = 938\n",
      ">>> images count = 939\n",
      ">>> images count = 940\n",
      ">>> images count = 941\n",
      ">>> images count = 942\n",
      ">>> images count = 943\n",
      ">>> images count = 944\n",
      ">>> images count = 945\n",
      ">>> images count = 946\n",
      ">>> images count = 947\n"
     ]
    },
    {
     "name": "stderr",
     "output_type": "stream",
     "text": [
      "Processing Images:  16%|█████████                                                | 949/6000 [00:20<01:55, 43.70image/s]\n",
      "Processing Images:  16%|█████████                                                | 954/6000 [00:21<01:53, 44.30image/s]\u001b[A\n",
      " 16%|████████████▌                                                                  | 954/6000 [00:21<01:53, 44.30it/s]\u001b[A"
     ]
    },
    {
     "name": "stdout",
     "output_type": "stream",
     "text": [
      ">>> images count = 948\n",
      ">>> images count = 949\n",
      ">>> images count = 950\n",
      ">>> images count = 951\n",
      ">>> images count = 952\n",
      ">>> images count = 953\n",
      ">>> images count = 954\n",
      ">>> images count = 955\n",
      ">>> images count = 956\n"
     ]
    },
    {
     "name": "stderr",
     "output_type": "stream",
     "text": [
      "Processing Images:  16%|█████████                                                | 959/6000 [00:21<01:56, 43.25image/s]\n",
      "Processing Images:  16%|█████████▏                                               | 964/6000 [00:21<01:54, 43.81image/s]\u001b[A\n",
      " 16%|████████████▋                                                                  | 964/6000 [00:21<01:54, 43.81it/s]\u001b[A"
     ]
    },
    {
     "name": "stdout",
     "output_type": "stream",
     "text": [
      ">>> images count = 957\n",
      ">>> images count = 958\n",
      ">>> images count = 959\n",
      ">>> images count = 960\n",
      ">>> images count = 961\n",
      ">>> images count = 962\n",
      ">>> images count = 963\n",
      ">>> images count = 964\n",
      ">>> images count = 965\n",
      ">>> images count = 966\n"
     ]
    },
    {
     "name": "stderr",
     "output_type": "stream",
     "text": [
      "Processing Images:  16%|█████████▏                                               | 969/6000 [00:21<01:55, 43.53image/s]\n",
      "Processing Images:  16%|█████████▎                                               | 974/6000 [00:21<01:55, 43.38image/s]\u001b[A\n",
      " 16%|████████████▊                                                                  | 974/6000 [00:21<01:55, 43.38it/s]\u001b[A"
     ]
    },
    {
     "name": "stdout",
     "output_type": "stream",
     "text": [
      ">>> images count = 967\n",
      ">>> images count = 968\n",
      ">>> images count = 969\n",
      ">>> images count = 970\n",
      ">>> images count = 971\n",
      ">>> images count = 972\n",
      ">>> images count = 973\n",
      ">>> images count = 974\n",
      ">>> images count = 975\n"
     ]
    },
    {
     "name": "stderr",
     "output_type": "stream",
     "text": [
      "Processing Images:  16%|█████████▎                                               | 979/6000 [00:21<01:55, 43.29image/s]\n",
      " 16%|████████████▉                                                                  | 979/6000 [00:21<01:55, 43.29it/s]\u001b[A"
     ]
    },
    {
     "name": "stdout",
     "output_type": "stream",
     "text": [
      ">>> images count = 976\n",
      ">>> images count = 977\n",
      ">>> images count = 978\n",
      ">>> images count = 979\n",
      ">>> images count = 980\n",
      ">>> images count = 981\n",
      ">>> images count = 982\n",
      ">>> images count = 983\n"
     ]
    },
    {
     "name": "stderr",
     "output_type": "stream",
     "text": [
      "Processing Images:  16%|█████████▎                                               | 984/6000 [00:21<01:57, 42.71image/s]\n",
      "Processing Images:  16%|█████████▍                                               | 989/6000 [00:21<01:57, 42.56image/s]\u001b[A\n",
      " 16%|█████████████                                                                  | 989/6000 [00:21<01:57, 42.56it/s]\u001b[A"
     ]
    },
    {
     "name": "stdout",
     "output_type": "stream",
     "text": [
      ">>> images count = 984\n",
      ">>> images count = 985\n",
      ">>> images count = 986\n",
      ">>> images count = 987\n",
      ">>> images count = 988\n",
      ">>> images count = 989\n",
      ">>> images count = 990\n",
      ">>> images count = 991\n",
      ">>> images count = 992\n"
     ]
    },
    {
     "name": "stderr",
     "output_type": "stream",
     "text": [
      "Processing Images:  17%|█████████▍                                               | 994/6000 [00:21<01:57, 42.52image/s]\n",
      "Processing Images:  17%|█████████▍                                               | 999/6000 [00:22<02:02, 40.76image/s]\u001b[A\n",
      " 17%|█████████████▏                                                                 | 999/6000 [00:22<02:02, 40.76it/s]\u001b[A"
     ]
    },
    {
     "name": "stdout",
     "output_type": "stream",
     "text": [
      ">>> images count = 993\n",
      ">>> images count = 994\n",
      ">>> images count = 995\n",
      ">>> images count = 996\n",
      ">>> images count = 997\n",
      ">>> images count = 998\n",
      ">>> images count = 999\n",
      ">>> images count = 1000\n",
      ">>> images count = 1001\n"
     ]
    },
    {
     "name": "stderr",
     "output_type": "stream",
     "text": [
      "Processing Images:  17%|█████████▎                                              | 1004/6000 [00:22<01:57, 42.36image/s]\n",
      "Processing Images:  17%|█████████▍                                              | 1009/6000 [00:22<01:53, 43.80image/s]\u001b[A\n",
      " 17%|█████████████                                                                 | 1009/6000 [00:22<01:53, 43.80it/s]\u001b[A"
     ]
    },
    {
     "name": "stdout",
     "output_type": "stream",
     "text": [
      ">>> images count = 1002\n",
      ">>> images count = 1003\n",
      ">>> images count = 1004\n",
      ">>> images count = 1005\n",
      ">>> images count = 1006\n",
      ">>> images count = 1007\n",
      ">>> images count = 1008\n",
      ">>> images count = 1009\n",
      ">>> images count = 1010\n",
      ">>> images count = 1011\n",
      ">>> images count = 1012\n"
     ]
    },
    {
     "name": "stderr",
     "output_type": "stream",
     "text": [
      "Processing Images:  17%|█████████▍                                              | 1014/6000 [00:22<01:55, 43.12image/s]\n",
      "Processing Images:  17%|█████████▌                                              | 1019/6000 [00:22<01:52, 44.36image/s]\u001b[A\n",
      " 17%|█████████████▏                                                                | 1019/6000 [00:22<01:52, 44.36it/s]\u001b[A"
     ]
    },
    {
     "name": "stdout",
     "output_type": "stream",
     "text": [
      ">>> images count = 1013\n",
      ">>> images count = 1014\n",
      ">>> images count = 1015\n",
      ">>> images count = 1016\n",
      ">>> images count = 1017\n",
      ">>> images count = 1018\n",
      ">>> images count = 1019\n",
      ">>> images count = 1020\n",
      ">>> images count = 1021\n"
     ]
    },
    {
     "name": "stderr",
     "output_type": "stream",
     "text": [
      "Processing Images:  17%|█████████▌                                              | 1024/6000 [00:22<01:53, 43.85image/s]\n",
      "Processing Images:  17%|█████████▌                                              | 1029/6000 [00:22<01:52, 44.14image/s]\u001b[A\n",
      " 17%|█████████████▍                                                                | 1029/6000 [00:22<01:52, 44.14it/s]\u001b[A"
     ]
    },
    {
     "name": "stdout",
     "output_type": "stream",
     "text": [
      ">>> images count = 1022\n",
      ">>> images count = 1023\n",
      ">>> images count = 1024\n",
      ">>> images count = 1025\n",
      ">>> images count = 1026\n",
      ">>> images count = 1027\n",
      ">>> images count = 1028\n",
      ">>> images count = 1029\n",
      ">>> images count = 1030\n",
      ">>> images count = 1031\n"
     ]
    },
    {
     "name": "stderr",
     "output_type": "stream",
     "text": [
      "Processing Images:  17%|█████████▋                                              | 1034/6000 [00:22<01:56, 42.72image/s]\n",
      "Processing Images:  17%|█████████▋                                              | 1039/6000 [00:22<01:57, 42.28image/s]\u001b[A\n",
      " 17%|█████████████▌                                                                | 1039/6000 [00:22<01:57, 42.31it/s]\u001b[A"
     ]
    },
    {
     "name": "stdout",
     "output_type": "stream",
     "text": [
      ">>> images count = 1032\n",
      ">>> images count = 1033\n",
      ">>> images count = 1034\n",
      ">>> images count = 1035\n",
      ">>> images count = 1036\n",
      ">>> images count = 1037\n",
      ">>> images count = 1038\n",
      ">>> images count = 1039\n",
      ">>> images count = 1040\n"
     ]
    },
    {
     "name": "stderr",
     "output_type": "stream",
     "text": [
      "Processing Images:  17%|█████████▋                                              | 1044/6000 [00:23<01:58, 41.87image/s]\n",
      " 17%|█████████████▌                                                                | 1044/6000 [00:23<01:58, 41.89it/s]\u001b[A"
     ]
    },
    {
     "name": "stdout",
     "output_type": "stream",
     "text": [
      ">>> images count = 1041\n",
      ">>> images count = 1042\n",
      ">>> images count = 1043\n",
      ">>> images count = 1044\n",
      ">>> images count = 1045\n",
      ">>> images count = 1046\n",
      ">>> images count = 1047\n",
      ">>> images count = 1048\n"
     ]
    },
    {
     "name": "stderr",
     "output_type": "stream",
     "text": [
      "Processing Images:  17%|█████████▊                                              | 1049/6000 [00:23<01:56, 42.46image/s]\n",
      "Processing Images:  18%|█████████▊                                              | 1054/6000 [00:23<01:52, 43.95image/s]\u001b[A\n",
      " 18%|█████████████▋                                                                | 1054/6000 [00:23<01:52, 44.00it/s]\u001b[A"
     ]
    },
    {
     "name": "stdout",
     "output_type": "stream",
     "text": [
      ">>> images count = 1049\n",
      ">>> images count = 1050\n",
      ">>> images count = 1051\n",
      ">>> images count = 1052\n",
      ">>> images count = 1053\n",
      ">>> images count = 1054\n",
      ">>> images count = 1055\n",
      ">>> images count = 1056\n",
      ">>> images count = 1057\n",
      ">>> images count = 1058\n"
     ]
    },
    {
     "name": "stderr",
     "output_type": "stream",
     "text": [
      "Processing Images:  18%|█████████▉                                              | 1059/6000 [00:23<01:51, 44.38image/s]\n",
      "Processing Images:  18%|█████████▉                                              | 1064/6000 [00:23<01:54, 43.13image/s]\u001b[A\n",
      " 18%|█████████████▊                                                                | 1064/6000 [00:23<01:54, 43.15it/s]\u001b[A"
     ]
    },
    {
     "name": "stdout",
     "output_type": "stream",
     "text": [
      ">>> images count = 1059\n",
      ">>> images count = 1060\n",
      ">>> images count = 1061\n",
      ">>> images count = 1062\n",
      ">>> images count = 1063\n",
      ">>> images count = 1064\n",
      ">>> images count = 1065\n",
      ">>> images count = 1066\n",
      ">>> images count = 1067\n"
     ]
    },
    {
     "name": "stderr",
     "output_type": "stream",
     "text": [
      "Processing Images:  18%|█████████▉                                              | 1069/6000 [00:23<01:56, 42.41image/s]\n",
      "Processing Images:  18%|██████████                                              | 1074/6000 [00:23<01:56, 42.25image/s]\u001b[A\n",
      " 18%|█████████████▉                                                                | 1074/6000 [00:23<01:56, 42.26it/s]\u001b[A"
     ]
    },
    {
     "name": "stdout",
     "output_type": "stream",
     "text": [
      ">>> images count = 1068\n",
      ">>> images count = 1069\n",
      ">>> images count = 1070\n",
      ">>> images count = 1071\n",
      ">>> images count = 1072\n",
      ">>> images count = 1073\n",
      ">>> images count = 1074\n",
      ">>> images count = 1075\n",
      ">>> images count = 1076\n"
     ]
    },
    {
     "name": "stderr",
     "output_type": "stream",
     "text": [
      "Processing Images:  18%|██████████                                              | 1079/6000 [00:23<01:57, 42.00image/s]\n",
      "Processing Images:  18%|██████████                                              | 1084/6000 [00:24<01:59, 41.11image/s]\u001b[A\n",
      " 18%|██████████████                                                                | 1084/6000 [00:24<01:59, 41.12it/s]\u001b[A"
     ]
    },
    {
     "name": "stdout",
     "output_type": "stream",
     "text": [
      ">>> images count = 1077\n",
      ">>> images count = 1078\n",
      ">>> images count = 1079\n",
      ">>> images count = 1080\n",
      ">>> images count = 1081\n",
      ">>> images count = 1082\n",
      ">>> images count = 1083\n",
      ">>> images count = 1084\n",
      ">>> images count = 1085\n"
     ]
    },
    {
     "name": "stderr",
     "output_type": "stream",
     "text": [
      "Processing Images:  18%|██████████▏                                             | 1089/6000 [00:24<02:00, 40.76image/s]\n",
      " 18%|██████████████▏                                                               | 1089/6000 [00:24<02:00, 40.76it/s]\u001b[A"
     ]
    },
    {
     "name": "stdout",
     "output_type": "stream",
     "text": [
      ">>> images count = 1086\n",
      ">>> images count = 1087\n",
      ">>> images count = 1088\n",
      ">>> images count = 1089\n",
      ">>> images count = 1090\n",
      ">>> images count = 1091\n",
      ">>> images count = 1092\n",
      ">>> images count = 1093\n"
     ]
    },
    {
     "name": "stderr",
     "output_type": "stream",
     "text": [
      "Processing Images:  18%|██████████▏                                             | 1094/6000 [00:24<01:58, 41.32image/s]\n",
      "Processing Images:  18%|██████████▎                                             | 1099/6000 [00:24<01:59, 41.12image/s]\u001b[A\n",
      " 18%|██████████████▎                                                               | 1099/6000 [00:24<01:59, 41.12it/s]\u001b[A"
     ]
    },
    {
     "name": "stdout",
     "output_type": "stream",
     "text": [
      ">>> images count = 1094\n",
      ">>> images count = 1095\n",
      ">>> images count = 1096\n",
      ">>> images count = 1097\n",
      ">>> images count = 1098\n",
      ">>> images count = 1099\n",
      ">>> images count = 1100\n",
      ">>> images count = 1101\n",
      ">>> images count = 1102\n"
     ]
    },
    {
     "name": "stderr",
     "output_type": "stream",
     "text": [
      "Processing Images:  18%|██████████▎                                             | 1104/6000 [00:24<01:59, 40.87image/s]\n",
      "Processing Images:  18%|██████████▎                                             | 1110/6000 [00:24<01:48, 44.94image/s]\u001b[A\n",
      " 18%|██████████████▍                                                               | 1110/6000 [00:24<01:48, 44.95it/s]\u001b[A"
     ]
    },
    {
     "name": "stdout",
     "output_type": "stream",
     "text": [
      ">>> images count = 1103\n",
      ">>> images count = 1104\n",
      ">>> images count = 1105\n",
      ">>> images count = 1106\n",
      ">>> images count = 1107\n",
      ">>> images count = 1108\n",
      ">>> images count = 1109\n",
      ">>> images count = 1110\n",
      ">>> images count = 1111\n",
      ">>> images count = 1112\n",
      ">>> images count = 1113\n"
     ]
    },
    {
     "name": "stderr",
     "output_type": "stream",
     "text": [
      "Processing Images:  19%|██████████▍                                             | 1115/6000 [00:24<01:53, 42.95image/s]\n",
      "Processing Images:  19%|██████████▍                                             | 1120/6000 [00:24<01:56, 41.79image/s]\u001b[A\n",
      " 19%|██████████████▌                                                               | 1120/6000 [00:24<01:56, 41.79it/s]\u001b[A"
     ]
    },
    {
     "name": "stdout",
     "output_type": "stream",
     "text": [
      ">>> images count = 1114\n",
      ">>> images count = 1115\n",
      ">>> images count = 1116\n",
      ">>> images count = 1117\n",
      ">>> images count = 1118\n",
      ">>> images count = 1119\n",
      ">>> images count = 1120\n",
      ">>> images count = 1121\n",
      ">>> images count = 1122\n"
     ]
    },
    {
     "name": "stderr",
     "output_type": "stream",
     "text": [
      "Processing Images:  19%|██████████▌                                             | 1125/6000 [00:25<01:58, 41.04image/s]\n",
      "Processing Images:  19%|██████████▌                                             | 1130/6000 [00:25<01:58, 41.16image/s]\u001b[A\n",
      " 19%|██████████████▋                                                               | 1130/6000 [00:25<01:58, 41.15it/s]\u001b[A"
     ]
    },
    {
     "name": "stdout",
     "output_type": "stream",
     "text": [
      ">>> images count = 1123\n",
      ">>> images count = 1124\n",
      ">>> images count = 1125\n",
      ">>> images count = 1126\n",
      ">>> images count = 1127\n",
      ">>> images count = 1128\n",
      ">>> images count = 1129\n",
      ">>> images count = 1130\n",
      ">>> images count = 1131\n"
     ]
    },
    {
     "name": "stderr",
     "output_type": "stream",
     "text": [
      "Processing Images:  19%|██████████▌                                             | 1135/6000 [00:25<01:58, 41.09image/s]\n",
      "Processing Images:  19%|██████████▋                                             | 1140/6000 [00:25<01:54, 42.33image/s]\u001b[A"
     ]
    },
    {
     "name": "stdout",
     "output_type": "stream",
     "text": [
      ">>> images count = 1132\n",
      ">>> images count = 1133\n",
      ">>> images count = 1134\n",
      ">>> images count = 1135\n",
      ">>> images count = 1136\n",
      ">>> images count = 1137\n",
      ">>> images count = 1138\n",
      ">>> images count = 1139\n"
     ]
    },
    {
     "name": "stderr",
     "output_type": "stream",
     "text": [
      "\n",
      "Processing Images:  19%|██████████▋                                             | 1145/6000 [00:25<01:56, 41.80image/s]\u001b[A\n",
      " 19%|██████████████▉                                                               | 1145/6000 [00:25<01:56, 41.80it/s]\u001b[A"
     ]
    },
    {
     "name": "stdout",
     "output_type": "stream",
     "text": [
      ">>> images count = 1140\n",
      ">>> images count = 1141\n",
      ">>> images count = 1142\n",
      ">>> images count = 1143\n",
      ">>> images count = 1144\n",
      ">>> images count = 1145\n",
      ">>> images count = 1146\n",
      ">>> images count = 1147\n",
      ">>> images count = 1148\n"
     ]
    },
    {
     "name": "stderr",
     "output_type": "stream",
     "text": [
      "Processing Images:  19%|██████████▋                                             | 1150/6000 [00:25<01:53, 42.70image/s]\n",
      "Processing Images:  19%|██████████▊                                             | 1155/6000 [00:25<01:53, 42.59image/s]\u001b[A\n",
      " 19%|███████████████                                                               | 1155/6000 [00:25<01:53, 42.59it/s]\u001b[A"
     ]
    },
    {
     "name": "stdout",
     "output_type": "stream",
     "text": [
      ">>> images count = 1149\n",
      ">>> images count = 1150\n",
      ">>> images count = 1151\n",
      ">>> images count = 1152\n",
      ">>> images count = 1153\n",
      ">>> images count = 1154\n",
      ">>> images count = 1155\n",
      ">>> images count = 1156\n",
      ">>> images count = 1157\n",
      ">>> images count = 1158\n"
     ]
    },
    {
     "name": "stderr",
     "output_type": "stream",
     "text": [
      "Processing Images:  19%|██████████▊                                             | 1160/6000 [00:25<01:52, 42.84image/s]\n",
      "Processing Images:  19%|██████████▊                                             | 1165/6000 [00:25<01:50, 43.66image/s]\u001b[A\n",
      " 19%|███████████████▏                                                              | 1165/6000 [00:25<01:50, 43.68it/s]\u001b[A"
     ]
    },
    {
     "name": "stdout",
     "output_type": "stream",
     "text": [
      ">>> images count = 1159\n",
      ">>> images count = 1160\n",
      ">>> images count = 1161\n",
      ">>> images count = 1162\n",
      ">>> images count = 1163\n",
      ">>> images count = 1164\n",
      ">>> images count = 1165\n",
      ">>> images count = 1166\n",
      ">>> images count = 1167\n",
      ">>> images count = 1168\n"
     ]
    },
    {
     "name": "stderr",
     "output_type": "stream",
     "text": [
      "Processing Images:  20%|██████████▉                                             | 1170/6000 [00:26<01:50, 43.89image/s]\n",
      "Processing Images:  20%|██████████▉                                             | 1175/6000 [00:26<01:47, 44.93image/s]\u001b[A\n",
      " 20%|███████████████▎                                                              | 1175/6000 [00:26<01:47, 44.94it/s]\u001b[A"
     ]
    },
    {
     "name": "stdout",
     "output_type": "stream",
     "text": [
      ">>> images count = 1169\n",
      ">>> images count = 1170\n",
      ">>> images count = 1171\n",
      ">>> images count = 1172\n",
      ">>> images count = 1173\n",
      ">>> images count = 1174\n",
      ">>> images count = 1175\n",
      ">>> images count = 1176\n",
      ">>> images count = 1177\n",
      ">>> images count = 1178\n"
     ]
    },
    {
     "name": "stderr",
     "output_type": "stream",
     "text": [
      "Processing Images:  20%|███████████                                             | 1180/6000 [00:26<01:45, 45.53image/s]\n",
      "Processing Images:  20%|███████████                                             | 1185/6000 [00:26<01:43, 46.37image/s]\u001b[A\n",
      " 20%|███████████████▍                                                              | 1185/6000 [00:26<01:43, 46.38it/s]\u001b[A"
     ]
    },
    {
     "name": "stdout",
     "output_type": "stream",
     "text": [
      ">>> images count = 1179\n",
      ">>> images count = 1180\n",
      ">>> images count = 1181\n",
      ">>> images count = 1182\n",
      ">>> images count = 1183\n",
      ">>> images count = 1184\n",
      ">>> images count = 1185\n",
      ">>> images count = 1186\n",
      ">>> images count = 1187\n",
      ">>> images count = 1188\n",
      ">>> images count = 1189\n"
     ]
    },
    {
     "name": "stderr",
     "output_type": "stream",
     "text": [
      "Processing Images:  20%|███████████                                             | 1190/6000 [00:26<01:44, 46.07image/s]\n",
      "Processing Images:  20%|███████████▏                                            | 1195/6000 [00:26<01:49, 44.05image/s]\u001b[A\n",
      " 20%|███████████████▌                                                              | 1195/6000 [00:26<01:49, 44.05it/s]\u001b[A"
     ]
    },
    {
     "name": "stdout",
     "output_type": "stream",
     "text": [
      ">>> images count = 1190\n",
      ">>> images count = 1191\n",
      ">>> images count = 1192\n",
      ">>> images count = 1193\n",
      ">>> images count = 1194\n",
      ">>> images count = 1195\n",
      ">>> images count = 1196\n",
      ">>> images count = 1197\n",
      ">>> images count = 1198\n"
     ]
    },
    {
     "name": "stderr",
     "output_type": "stream",
     "text": [
      "Processing Images:  20%|███████████▏                                            | 1200/6000 [00:26<01:52, 42.85image/s]\n",
      "Processing Images:  20%|███████████▏                                            | 1205/6000 [00:26<01:54, 42.00image/s]\u001b[A\n",
      " 20%|███████████████▋                                                              | 1205/6000 [00:26<01:54, 42.00it/s]\u001b[A"
     ]
    },
    {
     "name": "stdout",
     "output_type": "stream",
     "text": [
      ">>> images count = 1199\n",
      ">>> images count = 1200\n",
      ">>> images count = 1201\n",
      ">>> images count = 1202\n",
      ">>> images count = 1203\n",
      ">>> images count = 1204\n",
      ">>> images count = 1205\n",
      ">>> images count = 1206\n"
     ]
    },
    {
     "name": "stderr",
     "output_type": "stream",
     "text": [
      "Processing Images:  20%|███████████▎                                            | 1210/6000 [00:26<01:52, 42.52image/s]\n",
      "Processing Images:  20%|███████████▎                                            | 1215/6000 [00:27<01:51, 42.90image/s]\u001b[A\n",
      " 20%|███████████████▊                                                              | 1215/6000 [00:27<01:51, 42.90it/s]\u001b[A"
     ]
    },
    {
     "name": "stdout",
     "output_type": "stream",
     "text": [
      ">>> images count = 1207\n",
      ">>> images count = 1208\n",
      ">>> images count = 1209\n",
      ">>> images count = 1210\n",
      ">>> images count = 1211\n",
      ">>> images count = 1212\n",
      ">>> images count = 1213\n",
      ">>> images count = 1214\n",
      ">>> images count = 1215\n",
      ">>> images count = 1216\n"
     ]
    },
    {
     "name": "stderr",
     "output_type": "stream",
     "text": [
      "Processing Images:  20%|███████████▍                                            | 1220/6000 [00:27<01:53, 42.29image/s]\n",
      " 20%|███████████████▊                                                              | 1220/6000 [00:27<01:53, 42.30it/s]\u001b[A"
     ]
    },
    {
     "name": "stdout",
     "output_type": "stream",
     "text": [
      ">>> images count = 1217\n",
      ">>> images count = 1218\n",
      ">>> images count = 1219\n",
      ">>> images count = 1220\n",
      ">>> images count = 1221\n",
      ">>> images count = 1222\n",
      ">>> images count = 1223\n",
      ">>> images count = 1224\n"
     ]
    },
    {
     "name": "stderr",
     "output_type": "stream",
     "text": [
      "Processing Images:  20%|███████████▍                                            | 1225/6000 [00:27<01:57, 40.80image/s]\n",
      "Processing Images:  20%|███████████▍                                            | 1230/6000 [00:27<01:53, 41.97image/s]\u001b[A\n",
      " 20%|███████████████▉                                                              | 1230/6000 [00:27<01:53, 41.97it/s]\u001b[A"
     ]
    },
    {
     "name": "stdout",
     "output_type": "stream",
     "text": [
      ">>> images count = 1225\n",
      ">>> images count = 1226\n",
      ">>> images count = 1227\n",
      ">>> images count = 1228\n",
      ">>> images count = 1229\n",
      ">>> images count = 1230\n",
      ">>> images count = 1231\n",
      ">>> images count = 1232\n",
      ">>> images count = 1233\n",
      ">>> images count = 1234\n"
     ]
    },
    {
     "name": "stderr",
     "output_type": "stream",
     "text": [
      "Processing Images:  21%|███████████▌                                            | 1235/6000 [00:27<01:49, 43.50image/s]\n",
      "Processing Images:  21%|███████████▌                                            | 1241/6000 [00:27<01:42, 46.58image/s]\u001b[A\n",
      " 21%|████████████████▏                                                             | 1241/6000 [00:27<01:42, 46.58it/s]\u001b[A"
     ]
    },
    {
     "name": "stdout",
     "output_type": "stream",
     "text": [
      ">>> images count = 1235\n",
      ">>> images count = 1236\n",
      ">>> images count = 1237\n",
      ">>> images count = 1238\n",
      ">>> images count = 1239\n",
      ">>> images count = 1240\n",
      ">>> images count = 1241\n",
      ">>> images count = 1242\n",
      ">>> images count = 1243\n",
      ">>> images count = 1244\n",
      ">>> images count = 1245\n"
     ]
    },
    {
     "name": "stderr",
     "output_type": "stream",
     "text": [
      "Processing Images:  21%|███████████▋                                            | 1247/6000 [00:27<01:39, 48.00image/s]\n",
      "Processing Images:  21%|███████████▋                                            | 1252/6000 [00:27<01:38, 48.32image/s]\u001b[A\n",
      " 21%|████████████████▎                                                             | 1252/6000 [00:27<01:38, 48.32it/s]\u001b[A"
     ]
    },
    {
     "name": "stdout",
     "output_type": "stream",
     "text": [
      ">>> images count = 1246\n",
      ">>> images count = 1247\n",
      ">>> images count = 1248\n",
      ">>> images count = 1249\n",
      ">>> images count = 1250\n",
      ">>> images count = 1251\n",
      ">>> images count = 1252\n",
      ">>> images count = 1253\n",
      ">>> images count = 1254\n",
      ">>> images count = 1255\n",
      ">>> images count = 1256\n"
     ]
    },
    {
     "name": "stderr",
     "output_type": "stream",
     "text": [
      "Processing Images:  21%|███████████▋                                            | 1257/6000 [00:28<01:37, 48.49image/s]\n",
      "Processing Images:  21%|███████████▊                                            | 1262/6000 [00:28<01:38, 48.35image/s]\u001b[A\n",
      " 21%|████████████████▍                                                             | 1262/6000 [00:28<01:38, 48.35it/s]\u001b[A"
     ]
    },
    {
     "name": "stdout",
     "output_type": "stream",
     "text": [
      ">>> images count = 1257\n",
      ">>> images count = 1258\n",
      ">>> images count = 1259\n",
      ">>> images count = 1260\n",
      ">>> images count = 1261\n",
      ">>> images count = 1262\n",
      ">>> images count = 1263\n",
      ">>> images count = 1264\n",
      ">>> images count = 1265\n",
      ">>> images count = 1266\n"
     ]
    },
    {
     "name": "stderr",
     "output_type": "stream",
     "text": [
      "Processing Images:  21%|███████████▊                                            | 1267/6000 [00:28<01:38, 48.11image/s]\n",
      "Processing Images:  21%|███████████▉                                            | 1273/6000 [00:28<01:37, 48.57image/s]\u001b[A\n",
      " 21%|████████████████▌                                                             | 1273/6000 [00:28<01:37, 48.57it/s]\u001b[A"
     ]
    },
    {
     "name": "stdout",
     "output_type": "stream",
     "text": [
      ">>> images count = 1267\n",
      ">>> images count = 1268\n",
      ">>> images count = 1269\n",
      ">>> images count = 1270\n",
      ">>> images count = 1271\n",
      ">>> images count = 1272\n",
      ">>> images count = 1273\n",
      ">>> images count = 1274\n",
      ">>> images count = 1275\n",
      ">>> images count = 1276\n",
      ">>> images count = 1277\n"
     ]
    },
    {
     "name": "stderr",
     "output_type": "stream",
     "text": [
      "Processing Images:  21%|███████████▉                                            | 1278/6000 [00:28<01:41, 46.37image/s]\n",
      "Processing Images:  21%|███████████▉                                            | 1284/6000 [00:28<01:39, 47.44image/s]\u001b[A\n",
      " 21%|████████████████▋                                                             | 1284/6000 [00:28<01:39, 47.44it/s]\u001b[A"
     ]
    },
    {
     "name": "stdout",
     "output_type": "stream",
     "text": [
      ">>> images count = 1278\n",
      ">>> images count = 1279\n",
      ">>> images count = 1280\n",
      ">>> images count = 1281\n",
      ">>> images count = 1282\n",
      ">>> images count = 1283\n",
      ">>> images count = 1284\n",
      ">>> images count = 1285\n",
      ">>> images count = 1286\n",
      ">>> images count = 1287\n",
      ">>> images count = 1288\n"
     ]
    },
    {
     "name": "stderr",
     "output_type": "stream",
     "text": [
      "Processing Images:  22%|████████████                                            | 1290/6000 [00:28<01:35, 49.56image/s]\n",
      "Processing Images:  22%|████████████                                            | 1295/6000 [00:28<01:38, 47.71image/s]\u001b[A\n",
      " 22%|████████████████▊                                                             | 1295/6000 [00:28<01:38, 47.71it/s]\u001b[A"
     ]
    },
    {
     "name": "stdout",
     "output_type": "stream",
     "text": [
      ">>> images count = 1289\n",
      ">>> images count = 1290\n",
      ">>> images count = 1291\n",
      ">>> images count = 1292\n",
      ">>> images count = 1293\n",
      ">>> images count = 1294\n",
      ">>> images count = 1295\n",
      ">>> images count = 1296\n",
      ">>> images count = 1297\n",
      ">>> images count = 1298\n"
     ]
    },
    {
     "name": "stderr",
     "output_type": "stream",
     "text": [
      "Processing Images:  22%|████████████▏                                           | 1300/6000 [00:28<01:41, 46.24image/s]\n",
      "Processing Images:  22%|████████████▏                                           | 1306/6000 [00:29<01:36, 48.88image/s]\u001b[A\n",
      " 22%|████████████████▉                                                             | 1306/6000 [00:29<01:36, 48.88it/s]\u001b[A"
     ]
    },
    {
     "name": "stdout",
     "output_type": "stream",
     "text": [
      ">>> images count = 1299\n",
      ">>> images count = 1300\n",
      ">>> images count = 1301\n",
      ">>> images count = 1302\n",
      ">>> images count = 1303\n",
      ">>> images count = 1304\n",
      ">>> images count = 1305\n",
      ">>> images count = 1306\n",
      ">>> images count = 1307\n",
      ">>> images count = 1308\n",
      ">>> images count = 1309\n"
     ]
    },
    {
     "name": "stderr",
     "output_type": "stream",
     "text": [
      "Processing Images:  22%|████████████▏                                           | 1311/6000 [00:29<01:38, 47.56image/s]\n",
      "Processing Images:  22%|████████████▎                                           | 1316/6000 [00:29<01:37, 47.81image/s]\u001b[A\n",
      " 22%|█████████████████                                                             | 1316/6000 [00:29<01:37, 47.81it/s]\u001b[A"
     ]
    },
    {
     "name": "stdout",
     "output_type": "stream",
     "text": [
      ">>> images count = 1310\n",
      ">>> images count = 1311\n",
      ">>> images count = 1312\n",
      ">>> images count = 1313\n",
      ">>> images count = 1314\n",
      ">>> images count = 1315\n",
      ">>> images count = 1316\n",
      ">>> images count = 1317\n",
      ">>> images count = 1318\n",
      ">>> images count = 1319\n"
     ]
    },
    {
     "name": "stderr",
     "output_type": "stream",
     "text": [
      "Processing Images:  22%|████████████▎                                           | 1321/6000 [00:29<01:38, 47.59image/s]\n",
      "Processing Images:  22%|████████████▍                                           | 1326/6000 [00:29<01:36, 48.24image/s]\u001b[A\n",
      " 22%|█████████████████▏                                                            | 1326/6000 [00:29<01:36, 48.23it/s]\u001b[A"
     ]
    },
    {
     "name": "stdout",
     "output_type": "stream",
     "text": [
      ">>> images count = 1320\n",
      ">>> images count = 1321\n",
      ">>> images count = 1322\n",
      ">>> images count = 1323\n",
      ">>> images count = 1324\n",
      ">>> images count = 1325\n",
      ">>> images count = 1326\n",
      ">>> images count = 1327\n",
      ">>> images count = 1328\n",
      ">>> images count = 1329\n",
      ">>> images count = 1330\n"
     ]
    },
    {
     "name": "stderr",
     "output_type": "stream",
     "text": [
      "Processing Images:  22%|████████████▍                                           | 1332/6000 [00:29<01:34, 49.26image/s]\n",
      "Processing Images:  22%|████████████▍                                           | 1337/6000 [00:29<01:36, 48.29image/s]\u001b[A\n",
      " 22%|█████████████████▍                                                            | 1337/6000 [00:29<01:36, 48.29it/s]\u001b[A"
     ]
    },
    {
     "name": "stdout",
     "output_type": "stream",
     "text": [
      ">>> images count = 1331\n",
      ">>> images count = 1332\n",
      ">>> images count = 1333\n",
      ">>> images count = 1334\n",
      ">>> images count = 1335\n",
      ">>> images count = 1336\n",
      ">>> images count = 1337\n",
      ">>> images count = 1338\n",
      ">>> images count = 1339\n",
      ">>> images count = 1340\n"
     ]
    },
    {
     "name": "stderr",
     "output_type": "stream",
     "text": [
      "Processing Images:  22%|████████████▌                                           | 1342/6000 [00:29<01:38, 47.48image/s]\n",
      "Processing Images:  22%|████████████▌                                           | 1347/6000 [00:29<01:38, 47.17image/s]\u001b[A\n",
      " 22%|█████████████████▌                                                            | 1347/6000 [00:29<01:38, 47.18it/s]\u001b[A"
     ]
    },
    {
     "name": "stdout",
     "output_type": "stream",
     "text": [
      ">>> images count = 1341\n",
      ">>> images count = 1342\n",
      ">>> images count = 1343\n",
      ">>> images count = 1344\n",
      ">>> images count = 1345\n",
      ">>> images count = 1346\n",
      ">>> images count = 1347\n",
      ">>> images count = 1348\n",
      ">>> images count = 1349\n",
      ">>> images count = 1350\n",
      ">>> images count = 1351\n"
     ]
    },
    {
     "name": "stderr",
     "output_type": "stream",
     "text": [
      "Processing Images:  23%|████████████▌                                           | 1352/6000 [00:29<01:37, 47.80image/s]\n",
      "Processing Images:  23%|████████████▋                                           | 1358/6000 [00:30<01:33, 49.90image/s]\u001b[A\n",
      " 23%|█████████████████▋                                                            | 1358/6000 [00:30<01:33, 49.91it/s]\u001b[A"
     ]
    },
    {
     "name": "stdout",
     "output_type": "stream",
     "text": [
      ">>> images count = 1352\n",
      ">>> images count = 1353\n",
      ">>> images count = 1354\n",
      ">>> images count = 1355\n",
      ">>> images count = 1356\n",
      ">>> images count = 1357\n",
      ">>> images count = 1358\n",
      ">>> images count = 1359\n",
      ">>> images count = 1360\n",
      ">>> images count = 1361\n",
      ">>> images count = 1362\n"
     ]
    },
    {
     "name": "stderr",
     "output_type": "stream",
     "text": [
      "Processing Images:  23%|████████████▋                                           | 1363/6000 [00:30<01:34, 49.21image/s]\n",
      "Processing Images:  23%|████████████▊                                           | 1368/6000 [00:30<01:35, 48.55image/s]\u001b[A\n",
      " 23%|█████████████████▊                                                            | 1368/6000 [00:30<01:35, 48.55it/s]\u001b[A"
     ]
    },
    {
     "name": "stdout",
     "output_type": "stream",
     "text": [
      ">>> images count = 1363\n",
      ">>> images count = 1364\n",
      ">>> images count = 1365\n",
      ">>> images count = 1366\n",
      ">>> images count = 1367\n",
      ">>> images count = 1368\n",
      ">>> images count = 1369\n",
      ">>> images count = 1370\n",
      ">>> images count = 1371\n",
      ">>> images count = 1372\n"
     ]
    },
    {
     "name": "stderr",
     "output_type": "stream",
     "text": [
      "Processing Images:  23%|████████████▊                                           | 1373/6000 [00:30<01:38, 47.11image/s]\n",
      "Processing Images:  23%|████████████▊                                           | 1378/6000 [00:30<01:37, 47.51image/s]\u001b[A\n",
      " 23%|█████████████████▉                                                            | 1378/6000 [00:30<01:37, 47.51it/s]\u001b[A"
     ]
    },
    {
     "name": "stdout",
     "output_type": "stream",
     "text": [
      ">>> images count = 1373\n",
      ">>> images count = 1374\n",
      ">>> images count = 1375\n",
      ">>> images count = 1376\n",
      ">>> images count = 1377\n",
      ">>> images count = 1378\n",
      ">>> images count = 1379\n",
      ">>> images count = 1380\n",
      ">>> images count = 1381\n",
      ">>> images count = 1382\n",
      ">>> images count = 1383\n"
     ]
    },
    {
     "name": "stderr",
     "output_type": "stream",
     "text": [
      "Processing Images:  23%|████████████▉                                           | 1384/6000 [00:30<01:33, 49.52image/s]\n",
      "Processing Images:  23%|████████████▉                                           | 1389/6000 [00:30<01:34, 48.63image/s]\u001b[A\n",
      " 23%|██████████████████                                                            | 1389/6000 [00:30<01:34, 48.63it/s]\u001b[A"
     ]
    },
    {
     "name": "stdout",
     "output_type": "stream",
     "text": [
      ">>> images count = 1384\n",
      ">>> images count = 1385\n",
      ">>> images count = 1386\n",
      ">>> images count = 1387\n",
      ">>> images count = 1388\n",
      ">>> images count = 1389\n",
      ">>> images count = 1390\n",
      ">>> images count = 1391\n",
      ">>> images count = 1392\n",
      ">>> images count = 1393\n",
      ">>> images count = 1394\n"
     ]
    },
    {
     "name": "stderr",
     "output_type": "stream",
     "text": [
      "Processing Images:  23%|█████████████                                           | 1395/6000 [00:30<01:33, 49.11image/s]\n",
      "Processing Images:  23%|█████████████                                           | 1401/6000 [00:30<01:31, 50.03image/s]\u001b[A\n",
      " 23%|██████████████████▏                                                           | 1401/6000 [00:30<01:31, 50.07it/s]\u001b[A"
     ]
    },
    {
     "name": "stdout",
     "output_type": "stream",
     "text": [
      ">>> images count = 1395\n",
      ">>> images count = 1396\n",
      ">>> images count = 1397\n",
      ">>> images count = 1398\n",
      ">>> images count = 1399\n",
      ">>> images count = 1400\n",
      ">>> images count = 1401\n",
      ">>> images count = 1402\n",
      ">>> images count = 1403\n",
      ">>> images count = 1404\n"
     ]
    },
    {
     "name": "stderr",
     "output_type": "stream",
     "text": [
      "Processing Images:  23%|█████████████                                           | 1406/6000 [00:31<01:38, 46.51image/s]\n",
      "Processing Images:  24%|█████████████▏                                          | 1411/6000 [00:31<01:44, 43.84image/s]\u001b[A"
     ]
    },
    {
     "name": "stdout",
     "output_type": "stream",
     "text": [
      ">>> images count = 1405\n",
      ">>> images count = 1406\n",
      ">>> images count = 1407\n",
      ">>> images count = 1408\n",
      ">>> images count = 1409\n",
      ">>> images count = 1410\n",
      ">>> images count = 1411\n",
      ">>> images count = 1412\n"
     ]
    },
    {
     "name": "stderr",
     "output_type": "stream",
     "text": [
      "\n",
      "Processing Images:  24%|█████████████▏                                          | 1416/6000 [00:31<01:49, 41.93image/s]\u001b[A\n",
      " 24%|██████████████████▍                                                           | 1417/6000 [00:31<01:48, 42.29it/s]\u001b[A"
     ]
    },
    {
     "name": "stdout",
     "output_type": "stream",
     "text": [
      ">>> images count = 1413\n",
      ">>> images count = 1414\n",
      ">>> images count = 1415\n",
      ">>> images count = 1416\n",
      ">>> images count = 1417\n",
      ">>> images count = 1418\n",
      ">>> images count = 1419\n",
      ">>> images count = 1420\n"
     ]
    },
    {
     "name": "stderr",
     "output_type": "stream",
     "text": [
      "Processing Images:  24%|█████████████▎                                          | 1421/6000 [00:31<01:47, 42.46image/s]\n",
      "Processing Images:  24%|█████████████▎                                          | 1426/6000 [00:31<01:43, 44.23image/s]\u001b[A\n",
      " 24%|██████████████████▌                                                           | 1427/6000 [00:31<01:42, 44.66it/s]\u001b[A"
     ]
    },
    {
     "name": "stdout",
     "output_type": "stream",
     "text": [
      ">>> images count = 1421\n",
      ">>> images count = 1422\n",
      ">>> images count = 1423\n",
      ">>> images count = 1424\n",
      ">>> images count = 1425\n",
      ">>> images count = 1426\n",
      ">>> images count = 1427\n",
      ">>> images count = 1428\n",
      ">>> images count = 1429\n",
      ">>> images count = 1430\n"
     ]
    },
    {
     "name": "stderr",
     "output_type": "stream",
     "text": [
      "Processing Images:  24%|█████████████▎                                          | 1431/6000 [00:31<01:41, 45.04image/s]\n",
      "Processing Images:  24%|█████████████▍                                          | 1436/6000 [00:31<01:43, 44.03image/s]\u001b[A\n",
      " 24%|██████████████████▋                                                           | 1437/6000 [00:31<01:44, 43.65it/s]\u001b[A"
     ]
    },
    {
     "name": "stdout",
     "output_type": "stream",
     "text": [
      ">>> images count = 1431\n",
      ">>> images count = 1432\n",
      ">>> images count = 1433\n",
      ">>> images count = 1434\n",
      ">>> images count = 1435\n",
      ">>> images count = 1436\n",
      ">>> images count = 1437\n",
      ">>> images count = 1438\n"
     ]
    },
    {
     "name": "stderr",
     "output_type": "stream",
     "text": [
      "Processing Images:  24%|█████████████▍                                          | 1441/6000 [00:31<01:45, 43.02image/s]\n",
      "Processing Images:  24%|█████████████▍                                          | 1446/6000 [00:32<01:45, 43.02image/s]\u001b[A\n"
     ]
    },
    {
     "name": "stdout",
     "output_type": "stream",
     "text": [
      ">>> images count = 1439\n",
      ">>> images count = 1440\n",
      ">>> images count = 1441\n",
      ">>> images count = 1442\n",
      ">>> images count = 1443\n",
      ">>> images count = 1444\n",
      ">>> images count = 1445\n",
      ">>> images count = 1446\n",
      ">>> images count = 1447\n"
     ]
    },
    {
     "name": "stderr",
     "output_type": "stream",
     "text": [
      "Processing Images:  24%|█████████████▌                                          | 1451/6000 [00:32<01:46, 42.77image/s]\u001b[A\n",
      "Processing Images:  24%|█████████████▌                                          | 1456/6000 [00:32<01:42, 44.21image/s]\u001b[A"
     ]
    },
    {
     "name": "stdout",
     "output_type": "stream",
     "text": [
      ">>> images count = 1448\n",
      ">>> images count = 1449\n",
      ">>> images count = 1450\n",
      ">>> images count = 1451\n",
      ">>> images count = 1452\n",
      ">>> images count = 1453\n",
      ">>> images count = 1454\n",
      ">>> images count = 1455\n",
      ">>> images count = 1456\n",
      ">>> images count = 1457\n"
     ]
    },
    {
     "name": "stderr",
     "output_type": "stream",
     "text": [
      "\n",
      "Processing Images:  24%|█████████████▋                                          | 1462/6000 [00:32<01:38, 46.20image/s]\u001b[A\n",
      "Processing Images:  24%|█████████████▋                                          | 1467/6000 [00:32<01:36, 46.95image/s]\u001b[A"
     ]
    },
    {
     "name": "stdout",
     "output_type": "stream",
     "text": [
      ">>> images count = 1458\n",
      ">>> images count = 1459\n",
      ">>> images count = 1460\n",
      ">>> images count = 1461\n",
      ">>> images count = 1462\n",
      ">>> images count = 1463\n",
      ">>> images count = 1464\n",
      ">>> images count = 1465\n",
      ">>> images count = 1466\n"
     ]
    },
    {
     "name": "stderr",
     "output_type": "stream",
     "text": [
      "\n",
      "Processing Images:  25%|█████████████▋                                          | 1472/6000 [00:32<01:38, 45.99image/s]\u001b[A\n",
      " 25%|███████████████████▏                                                          | 1472/6000 [00:32<01:38, 45.92it/s]\u001b[A"
     ]
    },
    {
     "name": "stdout",
     "output_type": "stream",
     "text": [
      ">>> images count = 1467\n",
      ">>> images count = 1468\n",
      ">>> images count = 1469\n",
      ">>> images count = 1470\n",
      ">>> images count = 1471\n",
      ">>> images count = 1472\n",
      ">>> images count = 1473\n",
      ">>> images count = 1474\n",
      ">>> images count = 1475\n",
      ">>> images count = 1476\n"
     ]
    },
    {
     "name": "stderr",
     "output_type": "stream",
     "text": [
      "Processing Images:  25%|█████████████▊                                          | 1477/6000 [00:32<01:41, 44.52image/s]\n",
      "Processing Images:  25%|█████████████▊                                          | 1482/6000 [00:32<01:43, 43.74image/s]\u001b[A\n",
      " 25%|███████████████████▎                                                          | 1482/6000 [00:32<01:43, 43.67it/s]\u001b[A"
     ]
    },
    {
     "name": "stdout",
     "output_type": "stream",
     "text": [
      ">>> images count = 1477\n",
      ">>> images count = 1478\n",
      ">>> images count = 1479\n",
      ">>> images count = 1480\n",
      ">>> images count = 1481\n",
      ">>> images count = 1482\n",
      ">>> images count = 1483\n",
      ">>> images count = 1484\n",
      ">>> images count = 1485\n",
      ">>> images count = 1486\n"
     ]
    },
    {
     "name": "stderr",
     "output_type": "stream",
     "text": [
      "Processing Images:  25%|█████████████▉                                          | 1487/6000 [00:32<01:43, 43.62image/s]\n",
      "Processing Images:  25%|█████████████▉                                          | 1493/6000 [00:33<01:36, 46.50image/s]\u001b[A\n",
      " 25%|███████████████████▍                                                          | 1493/6000 [00:33<01:36, 46.49it/s]\u001b[A"
     ]
    },
    {
     "name": "stdout",
     "output_type": "stream",
     "text": [
      ">>> images count = 1487\n",
      ">>> images count = 1488\n",
      ">>> images count = 1489\n",
      ">>> images count = 1490\n",
      ">>> images count = 1491\n",
      ">>> images count = 1492\n",
      ">>> images count = 1493\n",
      ">>> images count = 1494\n",
      ">>> images count = 1495\n",
      ">>> images count = 1496\n",
      ">>> images count = 1497\n",
      ">>> images count = 1498\n"
     ]
    },
    {
     "name": "stderr",
     "output_type": "stream",
     "text": [
      "Processing Images:  25%|█████████████▉                                          | 1499/6000 [00:33<01:33, 48.18image/s]\n",
      "Processing Images:  25%|██████████████                                          | 1504/6000 [00:33<01:33, 48.00image/s]\u001b[A\n",
      " 25%|███████████████████▌                                                          | 1504/6000 [00:33<01:33, 48.00it/s]\u001b[A"
     ]
    },
    {
     "name": "stdout",
     "output_type": "stream",
     "text": [
      ">>> images count = 1499\n",
      ">>> images count = 1500\n",
      ">>> images count = 1501\n",
      ">>> images count = 1502\n",
      ">>> images count = 1503\n",
      ">>> images count = 1504\n",
      ">>> images count = 1505\n",
      ">>> images count = 1506\n",
      ">>> images count = 1507\n",
      ">>> images count = 1508\n"
     ]
    },
    {
     "name": "stderr",
     "output_type": "stream",
     "text": [
      "Processing Images:  25%|██████████████                                          | 1509/6000 [00:33<01:35, 46.89image/s]\n",
      "Processing Images:  25%|██████████████▏                                         | 1514/6000 [00:33<01:34, 47.33image/s]\u001b[A\n",
      " 25%|███████████████████▋                                                          | 1514/6000 [00:33<01:34, 47.33it/s]\u001b[A"
     ]
    },
    {
     "name": "stdout",
     "output_type": "stream",
     "text": [
      ">>> images count = 1509\n",
      ">>> images count = 1510\n",
      ">>> images count = 1511\n",
      ">>> images count = 1512\n",
      ">>> images count = 1513\n",
      ">>> images count = 1514\n",
      ">>> images count = 1515\n",
      ">>> images count = 1516\n",
      ">>> images count = 1517\n",
      ">>> images count = 1518\n"
     ]
    },
    {
     "name": "stderr",
     "output_type": "stream",
     "text": [
      "Processing Images:  25%|██████████████▏                                         | 1519/6000 [00:33<01:35, 46.81image/s]\n",
      "Processing Images:  25%|██████████████▏                                         | 1524/6000 [00:33<01:38, 45.64image/s]\u001b[A\n",
      " 25%|███████████████████▊                                                          | 1524/6000 [00:33<01:37, 45.76it/s]\u001b[A"
     ]
    },
    {
     "name": "stdout",
     "output_type": "stream",
     "text": [
      ">>> images count = 1519\n",
      ">>> images count = 1520\n",
      ">>> images count = 1521\n",
      ">>> images count = 1522\n",
      ">>> images count = 1523\n",
      ">>> images count = 1524\n",
      ">>> images count = 1525\n",
      ">>> images count = 1526\n",
      ">>> images count = 1527\n",
      ">>> images count = 1528\n"
     ]
    },
    {
     "name": "stderr",
     "output_type": "stream",
     "text": [
      "Processing Images:  25%|██████████████▎                                         | 1529/6000 [00:33<01:42, 43.60image/s]\n",
      "Processing Images:  26%|██████████████▎                                         | 1534/6000 [00:33<01:38, 45.21image/s]\u001b[A\n",
      " 26%|███████████████████▉                                                          | 1534/6000 [00:33<01:38, 45.19it/s]\u001b[A"
     ]
    },
    {
     "name": "stdout",
     "output_type": "stream",
     "text": [
      ">>> images count = 1529\n",
      ">>> images count = 1530\n",
      ">>> images count = 1531\n",
      ">>> images count = 1532\n",
      ">>> images count = 1533\n",
      ">>> images count = 1534\n",
      ">>> images count = 1535\n",
      ">>> images count = 1536\n",
      ">>> images count = 1537\n",
      ">>> images count = 1538\n"
     ]
    },
    {
     "name": "stderr",
     "output_type": "stream",
     "text": [
      "Processing Images:  26%|██████████████▎                                         | 1539/6000 [00:34<01:40, 44.54image/s]\n",
      "Processing Images:  26%|██████████████▍                                         | 1544/6000 [00:34<01:37, 45.64image/s]\u001b[A\n",
      " 26%|████████████████████                                                          | 1544/6000 [00:34<01:37, 45.63it/s]\u001b[A"
     ]
    },
    {
     "name": "stdout",
     "output_type": "stream",
     "text": [
      ">>> images count = 1539\n",
      ">>> images count = 1540\n",
      ">>> images count = 1541\n",
      ">>> images count = 1542\n",
      ">>> images count = 1543\n",
      ">>> images count = 1544\n",
      ">>> images count = 1545\n",
      ">>> images count = 1546\n",
      ">>> images count = 1547\n",
      ">>> images count = 1548\n"
     ]
    },
    {
     "name": "stderr",
     "output_type": "stream",
     "text": [
      "Processing Images:  26%|██████████████▍                                         | 1549/6000 [00:34<01:36, 46.26image/s]\n",
      "Processing Images:  26%|██████████████▌                                         | 1554/6000 [00:34<01:35, 46.74image/s]\u001b[A\n",
      " 26%|████████████████████▏                                                         | 1554/6000 [00:34<01:35, 46.73it/s]\u001b[A"
     ]
    },
    {
     "name": "stdout",
     "output_type": "stream",
     "text": [
      ">>> images count = 1549\n",
      ">>> images count = 1550\n",
      ">>> images count = 1551\n",
      ">>> images count = 1552\n",
      ">>> images count = 1553\n",
      ">>> images count = 1554\n",
      ">>> images count = 1555\n",
      ">>> images count = 1556\n",
      ">>> images count = 1557\n",
      ">>> images count = 1558\n"
     ]
    },
    {
     "name": "stderr",
     "output_type": "stream",
     "text": [
      "Processing Images:  26%|██████████████▌                                         | 1559/6000 [00:34<01:36, 45.82image/s]\n",
      "Processing Images:  26%|██████████████▌                                         | 1564/6000 [00:34<01:37, 45.27image/s]\u001b[A\n",
      " 26%|████████████████████▎                                                         | 1564/6000 [00:34<01:37, 45.27it/s]\u001b[A"
     ]
    },
    {
     "name": "stdout",
     "output_type": "stream",
     "text": [
      ">>> images count = 1559\n",
      ">>> images count = 1560\n",
      ">>> images count = 1561\n",
      ">>> images count = 1562\n",
      ">>> images count = 1563\n",
      ">>> images count = 1564\n",
      ">>> images count = 1565\n",
      ">>> images count = 1566\n",
      ">>> images count = 1567\n",
      ">>> images count = 1568\n"
     ]
    },
    {
     "name": "stderr",
     "output_type": "stream",
     "text": [
      "Processing Images:  26%|██████████████▋                                         | 1569/6000 [00:34<01:39, 44.58image/s]\n",
      "Processing Images:  26%|██████████████▋                                         | 1574/6000 [00:34<01:43, 42.74image/s]\u001b[A\n",
      " 26%|████████████████████▍                                                         | 1574/6000 [00:34<01:43, 42.85it/s]\u001b[A"
     ]
    },
    {
     "name": "stdout",
     "output_type": "stream",
     "text": [
      ">>> images count = 1569\n",
      ">>> images count = 1570\n",
      ">>> images count = 1571\n",
      ">>> images count = 1572\n",
      ">>> images count = 1573\n",
      ">>> images count = 1574\n",
      ">>> images count = 1575\n",
      ">>> images count = 1576\n",
      ">>> images count = 1577\n"
     ]
    },
    {
     "name": "stderr",
     "output_type": "stream",
     "text": [
      "Processing Images:  26%|██████████████▋                                         | 1579/6000 [00:34<01:42, 43.22image/s]\n",
      "Processing Images:  26%|██████████████▊                                         | 1584/6000 [00:35<01:41, 43.62image/s]\u001b[A\n",
      " 26%|████████████████████▌                                                         | 1584/6000 [00:35<01:41, 43.60it/s]\u001b[A"
     ]
    },
    {
     "name": "stdout",
     "output_type": "stream",
     "text": [
      ">>> images count = 1578\n",
      ">>> images count = 1579\n",
      ">>> images count = 1580\n",
      ">>> images count = 1581\n",
      ">>> images count = 1582\n",
      ">>> images count = 1583\n",
      ">>> images count = 1584\n",
      ">>> images count = 1585\n",
      ">>> images count = 1586\n",
      ">>> images count = 1587\n",
      ">>> images count = 1588\n"
     ]
    },
    {
     "name": "stderr",
     "output_type": "stream",
     "text": [
      "Processing Images:  26%|██████████████▊                                         | 1590/6000 [00:35<01:35, 46.05image/s]\n",
      "Processing Images:  27%|██████████████▉                                         | 1596/6000 [00:35<01:31, 48.25image/s]\u001b[A\n",
      " 27%|████████████████████▋                                                         | 1596/6000 [00:35<01:31, 48.23it/s]\u001b[A"
     ]
    },
    {
     "name": "stdout",
     "output_type": "stream",
     "text": [
      ">>> images count = 1589\n",
      ">>> images count = 1590\n",
      ">>> images count = 1591\n",
      ">>> images count = 1592\n",
      ">>> images count = 1593\n",
      ">>> images count = 1594\n",
      ">>> images count = 1595\n",
      ">>> images count = 1596\n",
      ">>> images count = 1597\n",
      ">>> images count = 1598\n",
      ">>> images count = 1599\n"
     ]
    },
    {
     "name": "stderr",
     "output_type": "stream",
     "text": [
      "Processing Images:  27%|██████████████▉                                         | 1602/6000 [00:35<01:29, 49.28image/s]\n",
      "Processing Images:  27%|███████████████                                         | 1608/6000 [00:35<01:26, 50.66image/s]\u001b[A\n",
      " 27%|████████████████████▉                                                         | 1608/6000 [00:35<01:26, 50.65it/s]\u001b[A"
     ]
    },
    {
     "name": "stdout",
     "output_type": "stream",
     "text": [
      ">>> images count = 1600\n",
      ">>> images count = 1601\n",
      ">>> images count = 1602\n",
      ">>> images count = 1603\n",
      ">>> images count = 1604\n",
      ">>> images count = 1605\n",
      ">>> images count = 1606\n",
      ">>> images count = 1607\n",
      ">>> images count = 1608\n",
      ">>> images count = 1609\n",
      ">>> images count = 1610\n",
      ">>> images count = 1611\n"
     ]
    },
    {
     "name": "stderr",
     "output_type": "stream",
     "text": [
      "Processing Images:  27%|███████████████                                         | 1614/6000 [00:35<01:28, 49.28image/s]\n",
      "Processing Images:  27%|███████████████                                         | 1619/6000 [00:35<01:33, 46.61image/s]\u001b[A\n",
      " 27%|█████████████████████                                                         | 1619/6000 [00:35<01:34, 46.57it/s]\u001b[A"
     ]
    },
    {
     "name": "stdout",
     "output_type": "stream",
     "text": [
      ">>> images count = 1612\n",
      ">>> images count = 1613\n",
      ">>> images count = 1614\n",
      ">>> images count = 1615\n",
      ">>> images count = 1616\n",
      ">>> images count = 1617\n",
      ">>> images count = 1618\n",
      ">>> images count = 1619\n",
      ">>> images count = 1620\n"
     ]
    },
    {
     "name": "stderr",
     "output_type": "stream",
     "text": [
      "Processing Images:  27%|███████████████▏                                        | 1624/6000 [00:35<01:37, 44.72image/s]\n",
      "Processing Images:  27%|███████████████▏                                        | 1629/6000 [00:36<01:38, 44.23image/s]\u001b[A"
     ]
    },
    {
     "name": "stdout",
     "output_type": "stream",
     "text": [
      ">>> images count = 1621\n",
      ">>> images count = 1622\n",
      ">>> images count = 1623\n",
      ">>> images count = 1624\n",
      ">>> images count = 1625\n",
      ">>> images count = 1626\n",
      ">>> images count = 1627\n",
      ">>> images count = 1628\n"
     ]
    },
    {
     "name": "stderr",
     "output_type": "stream",
     "text": [
      "\n",
      "Processing Images:  27%|███████████████▎                                        | 1634/6000 [00:36<01:40, 43.34image/s]\u001b[A\n",
      " 27%|█████████████████████▏                                                        | 1634/6000 [00:36<01:41, 43.22it/s]\u001b[A"
     ]
    },
    {
     "name": "stdout",
     "output_type": "stream",
     "text": [
      ">>> images count = 1629\n",
      ">>> images count = 1630\n",
      ">>> images count = 1631\n",
      ">>> images count = 1632\n",
      ">>> images count = 1633\n",
      ">>> images count = 1634\n",
      ">>> images count = 1635\n",
      ">>> images count = 1636\n",
      ">>> images count = 1637\n"
     ]
    },
    {
     "name": "stderr",
     "output_type": "stream",
     "text": [
      "Processing Images:  27%|███████████████▎                                        | 1639/6000 [00:36<01:41, 42.91image/s]\n",
      "Processing Images:  27%|███████████████▎                                        | 1644/6000 [00:36<01:38, 44.29image/s]\u001b[A\n",
      " 27%|█████████████████████▎                                                        | 1644/6000 [00:36<01:38, 44.31it/s]\u001b[A"
     ]
    },
    {
     "name": "stdout",
     "output_type": "stream",
     "text": [
      ">>> images count = 1638\n",
      ">>> images count = 1639\n",
      ">>> images count = 1640\n",
      ">>> images count = 1641\n",
      ">>> images count = 1642\n",
      ">>> images count = 1643\n",
      ">>> images count = 1644\n",
      ">>> images count = 1645\n",
      ">>> images count = 1646\n"
     ]
    },
    {
     "name": "stderr",
     "output_type": "stream",
     "text": [
      "Processing Images:  27%|███████████████▍                                        | 1649/6000 [00:36<01:39, 43.91image/s]\n",
      "Processing Images:  28%|███████████████▍                                        | 1654/6000 [00:36<01:42, 42.34image/s]\u001b[A\n",
      " 28%|█████████████████████▌                                                        | 1654/6000 [00:36<01:42, 42.35it/s]\u001b[A"
     ]
    },
    {
     "name": "stdout",
     "output_type": "stream",
     "text": [
      ">>> images count = 1647\n",
      ">>> images count = 1648\n",
      ">>> images count = 1649\n",
      ">>> images count = 1650\n",
      ">>> images count = 1651\n",
      ">>> images count = 1652\n",
      ">>> images count = 1653\n",
      ">>> images count = 1654\n",
      ">>> images count = 1655\n",
      ">>> images count = 1656\n"
     ]
    },
    {
     "name": "stderr",
     "output_type": "stream",
     "text": [
      "Processing Images:  28%|███████████████▍                                        | 1660/6000 [00:36<01:36, 44.82image/s]\n",
      "Processing Images:  28%|███████████████▌                                        | 1665/6000 [00:36<01:38, 43.95image/s]\u001b[A\n",
      " 28%|█████████████████████▋                                                        | 1665/6000 [00:36<01:38, 43.95it/s]\u001b[A"
     ]
    },
    {
     "name": "stdout",
     "output_type": "stream",
     "text": [
      ">>> images count = 1657\n",
      ">>> images count = 1658\n",
      ">>> images count = 1659\n",
      ">>> images count = 1660\n",
      ">>> images count = 1661\n",
      ">>> images count = 1662\n",
      ">>> images count = 1663\n",
      ">>> images count = 1664\n",
      ">>> images count = 1665\n"
     ]
    },
    {
     "name": "stderr",
     "output_type": "stream",
     "text": [
      "Processing Images:  28%|███████████████▌                                        | 1670/6000 [00:36<01:36, 44.99image/s]\n",
      "Processing Images:  28%|███████████████▋                                        | 1675/6000 [00:37<01:33, 46.08image/s]\u001b[A"
     ]
    },
    {
     "name": "stdout",
     "output_type": "stream",
     "text": [
      ">>> images count = 1666\n",
      ">>> images count = 1667\n",
      ">>> images count = 1668\n",
      ">>> images count = 1669\n",
      ">>> images count = 1670\n",
      ">>> images count = 1671\n",
      ">>> images count = 1672\n",
      ">>> images count = 1673\n",
      ">>> images count = 1674\n"
     ]
    },
    {
     "name": "stderr",
     "output_type": "stream",
     "text": [
      "\n",
      "Processing Images:  28%|███████████████▋                                        | 1680/6000 [00:37<01:36, 44.91image/s]\u001b[A\n",
      " 28%|█████████████████████▊                                                        | 1680/6000 [00:37<01:36, 44.91it/s]\u001b[A"
     ]
    },
    {
     "name": "stdout",
     "output_type": "stream",
     "text": [
      ">>> images count = 1675\n",
      ">>> images count = 1676\n",
      ">>> images count = 1677\n",
      ">>> images count = 1678\n",
      ">>> images count = 1679\n",
      ">>> images count = 1680\n",
      ">>> images count = 1681\n",
      ">>> images count = 1682\n",
      ">>> images count = 1683\n",
      ">>> images count = 1684\n"
     ]
    },
    {
     "name": "stderr",
     "output_type": "stream",
     "text": [
      "Processing Images:  28%|███████████████▋                                        | 1685/6000 [00:37<01:34, 45.65image/s]\n",
      "Processing Images:  28%|███████████████▊                                        | 1690/6000 [00:37<01:33, 46.07image/s]\u001b[A\n",
      " 28%|█████████████████████▉                                                        | 1690/6000 [00:37<01:33, 46.07it/s]\u001b[A"
     ]
    },
    {
     "name": "stdout",
     "output_type": "stream",
     "text": [
      ">>> images count = 1685\n",
      ">>> images count = 1686\n",
      ">>> images count = 1687\n",
      ">>> images count = 1688\n",
      ">>> images count = 1689\n",
      ">>> images count = 1690\n",
      ">>> images count = 1691\n",
      ">>> images count = 1692\n",
      ">>> images count = 1693\n",
      ">>> images count = 1694\n"
     ]
    },
    {
     "name": "stderr",
     "output_type": "stream",
     "text": [
      "Processing Images:  28%|███████████████▊                                        | 1695/6000 [00:37<01:36, 44.41image/s]\n",
      "Processing Images:  28%|███████████████▊                                        | 1700/6000 [00:37<01:36, 44.58image/s]\u001b[A\n",
      " 28%|██████████████████████                                                        | 1700/6000 [00:37<01:36, 44.58it/s]\u001b[A"
     ]
    },
    {
     "name": "stdout",
     "output_type": "stream",
     "text": [
      ">>> images count = 1695\n",
      ">>> images count = 1696\n",
      ">>> images count = 1697\n",
      ">>> images count = 1698\n",
      ">>> images count = 1699\n",
      ">>> images count = 1700\n",
      ">>> images count = 1701\n",
      ">>> images count = 1702\n",
      ">>> images count = 1703\n",
      ">>> images count = 1704\n"
     ]
    },
    {
     "name": "stderr",
     "output_type": "stream",
     "text": [
      "Processing Images:  28%|███████████████▉                                        | 1705/6000 [00:37<01:34, 45.55image/s]\n",
      "Processing Images:  28%|███████████████▉                                        | 1710/6000 [00:37<01:33, 45.75image/s]\u001b[A\n",
      " 28%|██████████████████████▏                                                       | 1710/6000 [00:37<01:33, 45.75it/s]\u001b[A"
     ]
    },
    {
     "name": "stdout",
     "output_type": "stream",
     "text": [
      ">>> images count = 1705\n",
      ">>> images count = 1706\n",
      ">>> images count = 1707\n",
      ">>> images count = 1708\n",
      ">>> images count = 1709\n",
      ">>> images count = 1710\n",
      ">>> images count = 1711\n",
      ">>> images count = 1712\n",
      ">>> images count = 1713\n",
      ">>> images count = 1714\n"
     ]
    },
    {
     "name": "stderr",
     "output_type": "stream",
     "text": [
      "Processing Images:  29%|████████████████                                        | 1715/6000 [00:37<01:34, 45.51image/s]\n",
      "Processing Images:  29%|████████████████                                        | 1720/6000 [00:38<01:32, 46.36image/s]\u001b[A\n",
      " 29%|██████████████████████▎                                                       | 1720/6000 [00:38<01:32, 46.32it/s]\u001b[A"
     ]
    },
    {
     "name": "stdout",
     "output_type": "stream",
     "text": [
      ">>> images count = 1715\n",
      ">>> images count = 1716\n",
      ">>> images count = 1717\n",
      ">>> images count = 1718\n",
      ">>> images count = 1719\n",
      ">>> images count = 1720\n",
      ">>> images count = 1721\n",
      ">>> images count = 1722\n",
      ">>> images count = 1723\n",
      ">>> images count = 1724\n"
     ]
    },
    {
     "name": "stderr",
     "output_type": "stream",
     "text": [
      "Processing Images:  29%|████████████████                                        | 1725/6000 [00:38<01:30, 47.10image/s]\n",
      "Processing Images:  29%|████████████████▏                                       | 1730/6000 [00:38<01:32, 46.37image/s]\u001b[A\n",
      " 29%|██████████████████████▍                                                       | 1730/6000 [00:38<01:32, 46.36it/s]\u001b[A"
     ]
    },
    {
     "name": "stdout",
     "output_type": "stream",
     "text": [
      ">>> images count = 1725\n",
      ">>> images count = 1726\n",
      ">>> images count = 1727\n",
      ">>> images count = 1728\n",
      ">>> images count = 1729\n",
      ">>> images count = 1730\n",
      ">>> images count = 1731\n",
      ">>> images count = 1732\n",
      ">>> images count = 1733\n"
     ]
    },
    {
     "name": "stderr",
     "output_type": "stream",
     "text": [
      "Processing Images:  29%|████████████████▏                                       | 1735/6000 [00:38<01:35, 44.84image/s]\n",
      "Processing Images:  29%|████████████████▏                                       | 1740/6000 [00:38<01:38, 43.04image/s]\u001b[A\n",
      " 29%|██████████████████████▌                                                       | 1740/6000 [00:38<01:39, 43.03it/s]\u001b[A"
     ]
    },
    {
     "name": "stdout",
     "output_type": "stream",
     "text": [
      ">>> images count = 1734\n",
      ">>> images count = 1735\n",
      ">>> images count = 1736\n",
      ">>> images count = 1737\n",
      ">>> images count = 1738\n",
      ">>> images count = 1739\n",
      ">>> images count = 1740\n",
      ">>> images count = 1741\n",
      ">>> images count = 1742\n"
     ]
    },
    {
     "name": "stderr",
     "output_type": "stream",
     "text": [
      "Processing Images:  29%|████████████████▎                                       | 1745/6000 [00:38<01:37, 43.83image/s]\n",
      "Processing Images:  29%|████████████████▎                                       | 1750/6000 [00:38<01:34, 44.76image/s]\u001b[A\n",
      " 29%|██████████████████████▊                                                       | 1750/6000 [00:38<01:35, 44.64it/s]\u001b[A"
     ]
    },
    {
     "name": "stdout",
     "output_type": "stream",
     "text": [
      ">>> images count = 1743\n",
      ">>> images count = 1744\n",
      ">>> images count = 1745\n",
      ">>> images count = 1746\n",
      ">>> images count = 1747\n",
      ">>> images count = 1748\n",
      ">>> images count = 1749\n",
      ">>> images count = 1750\n",
      ">>> images count = 1751\n",
      ">>> images count = 1752\n"
     ]
    },
    {
     "name": "stderr",
     "output_type": "stream",
     "text": [
      "Processing Images:  29%|████████████████▍                                       | 1755/6000 [00:38<01:34, 44.95image/s]\n",
      "Processing Images:  29%|████████████████▍                                       | 1761/6000 [00:38<01:29, 47.15image/s]\u001b[A\n",
      " 29%|██████████████████████▉                                                       | 1761/6000 [00:38<01:29, 47.17it/s]\u001b[A"
     ]
    },
    {
     "name": "stdout",
     "output_type": "stream",
     "text": [
      ">>> images count = 1753\n",
      ">>> images count = 1754\n",
      ">>> images count = 1755\n",
      ">>> images count = 1756\n",
      ">>> images count = 1757\n",
      ">>> images count = 1758\n",
      ">>> images count = 1759\n",
      ">>> images count = 1760\n",
      ">>> images count = 1761\n",
      ">>> images count = 1762\n",
      ">>> images count = 1763\n",
      ">>> images count = 1764\n"
     ]
    },
    {
     "name": "stderr",
     "output_type": "stream",
     "text": [
      "Processing Images:  29%|████████████████▍                                       | 1767/6000 [00:39<01:27, 48.59image/s]\n",
      "Processing Images:  30%|████████████████▌                                       | 1772/6000 [00:39<01:28, 47.71image/s]\u001b[A\n",
      " 30%|███████████████████████                                                       | 1772/6000 [00:39<01:28, 47.72it/s]\u001b[A"
     ]
    },
    {
     "name": "stdout",
     "output_type": "stream",
     "text": [
      ">>> images count = 1765\n",
      ">>> images count = 1766\n",
      ">>> images count = 1767\n",
      ">>> images count = 1768\n",
      ">>> images count = 1769\n",
      ">>> images count = 1770\n",
      ">>> images count = 1771\n",
      ">>> images count = 1772\n",
      ">>> images count = 1773\n",
      ">>> images count = 1774\n",
      ">>> images count = 1775\n"
     ]
    },
    {
     "name": "stderr",
     "output_type": "stream",
     "text": [
      "Processing Images:  30%|████████████████▌                                       | 1778/6000 [00:39<01:26, 48.92image/s]\n",
      "Processing Images:  30%|████████████████▋                                       | 1784/6000 [00:39<01:24, 49.62image/s]\u001b[A\n",
      " 30%|███████████████████████▏                                                      | 1784/6000 [00:39<01:24, 49.63it/s]\u001b[A"
     ]
    },
    {
     "name": "stdout",
     "output_type": "stream",
     "text": [
      ">>> images count = 1776\n",
      ">>> images count = 1777\n",
      ">>> images count = 1778\n",
      ">>> images count = 1779\n",
      ">>> images count = 1780\n",
      ">>> images count = 1781\n",
      ">>> images count = 1782\n",
      ">>> images count = 1783\n",
      ">>> images count = 1784\n",
      ">>> images count = 1785\n",
      ">>> images count = 1786\n"
     ]
    },
    {
     "name": "stderr",
     "output_type": "stream",
     "text": [
      "Processing Images:  30%|████████████████▋                                       | 1789/6000 [00:39<01:24, 49.70image/s]\n",
      "Processing Images:  30%|████████████████▋                                       | 1794/6000 [00:39<01:26, 48.54image/s]\u001b[A\n",
      " 30%|███████████████████████▎                                                      | 1795/6000 [00:39<01:26, 48.69it/s]\u001b[A"
     ]
    },
    {
     "name": "stdout",
     "output_type": "stream",
     "text": [
      ">>> images count = 1787\n",
      ">>> images count = 1788\n",
      ">>> images count = 1789\n",
      ">>> images count = 1790\n",
      ">>> images count = 1791\n",
      ">>> images count = 1792\n",
      ">>> images count = 1793\n",
      ">>> images count = 1794\n",
      ">>> images count = 1795\n",
      ">>> images count = 1796\n"
     ]
    },
    {
     "name": "stderr",
     "output_type": "stream",
     "text": [
      "Processing Images:  30%|████████████████▊                                       | 1799/6000 [00:39<01:27, 47.85image/s]\n",
      "Processing Images:  30%|████████████████▊                                       | 1804/6000 [00:39<01:28, 47.24image/s]\u001b[A\n",
      " 30%|███████████████████████▍                                                      | 1805/6000 [00:39<01:29, 47.08it/s]\u001b[A"
     ]
    },
    {
     "name": "stdout",
     "output_type": "stream",
     "text": [
      ">>> images count = 1797\n",
      ">>> images count = 1798\n",
      ">>> images count = 1799\n",
      ">>> images count = 1800\n",
      ">>> images count = 1801\n",
      ">>> images count = 1802\n",
      ">>> images count = 1803\n",
      ">>> images count = 1804\n",
      ">>> images count = 1805\n",
      ">>> images count = 1806\n"
     ]
    },
    {
     "name": "stderr",
     "output_type": "stream",
     "text": [
      "Processing Images:  30%|████████████████▉                                       | 1809/6000 [00:39<01:29, 46.65image/s]\n",
      "Processing Images:  30%|████████████████▉                                       | 1814/6000 [00:40<01:30, 46.27image/s]\u001b[A"
     ]
    },
    {
     "name": "stdout",
     "output_type": "stream",
     "text": [
      ">>> images count = 1807\n",
      ">>> images count = 1808\n",
      ">>> images count = 1809\n",
      ">>> images count = 1810\n",
      ">>> images count = 1811\n",
      ">>> images count = 1812\n",
      ">>> images count = 1813\n",
      ">>> images count = 1814\n",
      ">>> images count = 1815\n"
     ]
    },
    {
     "name": "stderr",
     "output_type": "stream",
     "text": [
      "\n",
      "Processing Images:  30%|████████████████▉                                       | 1819/6000 [00:40<01:29, 46.76image/s]\u001b[A\n",
      "Processing Images:  30%|█████████████████                                       | 1824/6000 [00:40<01:28, 47.05image/s]\u001b[A"
     ]
    },
    {
     "name": "stdout",
     "output_type": "stream",
     "text": [
      ">>> images count = 1816\n",
      ">>> images count = 1817\n",
      ">>> images count = 1818\n",
      ">>> images count = 1819\n",
      ">>> images count = 1820\n",
      ">>> images count = 1821\n",
      ">>> images count = 1822\n",
      ">>> images count = 1823\n",
      ">>> images count = 1824\n",
      ">>> images count = 1825\n"
     ]
    },
    {
     "name": "stderr",
     "output_type": "stream",
     "text": [
      "\n",
      "Processing Images:  30%|█████████████████                                       | 1829/6000 [00:40<01:29, 46.48image/s]\u001b[A\n",
      "Processing Images:  31%|█████████████████                                       | 1834/6000 [00:40<01:30, 46.15image/s]\u001b[A"
     ]
    },
    {
     "name": "stdout",
     "output_type": "stream",
     "text": [
      ">>> images count = 1826\n",
      ">>> images count = 1827\n",
      ">>> images count = 1828\n",
      ">>> images count = 1829\n",
      ">>> images count = 1830\n",
      ">>> images count = 1831\n",
      ">>> images count = 1832\n",
      ">>> images count = 1833\n",
      ">>> images count = 1834\n",
      ">>> images count = 1835\n"
     ]
    },
    {
     "name": "stderr",
     "output_type": "stream",
     "text": [
      "\n",
      "Processing Images:  31%|█████████████████▏                                      | 1839/6000 [00:40<01:29, 46.30image/s]\u001b[A\n",
      "Processing Images:  31%|█████████████████▏                                      | 1844/6000 [00:40<01:31, 45.40image/s]\u001b[A"
     ]
    },
    {
     "name": "stdout",
     "output_type": "stream",
     "text": [
      ">>> images count = 1836\n",
      ">>> images count = 1837\n",
      ">>> images count = 1838\n",
      ">>> images count = 1839\n",
      ">>> images count = 1840\n",
      ">>> images count = 1841\n",
      ">>> images count = 1842\n",
      ">>> images count = 1843\n",
      ">>> images count = 1844\n",
      ">>> images count = 1845\n"
     ]
    },
    {
     "name": "stderr",
     "output_type": "stream",
     "text": [
      "\n",
      "Processing Images:  31%|█████████████████▎                                      | 1849/6000 [00:40<01:29, 46.14image/s]\u001b[A\n",
      "Processing Images:  31%|█████████████████▎                                      | 1854/6000 [00:40<01:29, 46.41image/s]\u001b[A"
     ]
    },
    {
     "name": "stdout",
     "output_type": "stream",
     "text": [
      ">>> images count = 1846\n",
      ">>> images count = 1847\n",
      ">>> images count = 1848\n",
      ">>> images count = 1849\n",
      ">>> images count = 1850\n",
      ">>> images count = 1851\n",
      ">>> images count = 1852\n",
      ">>> images count = 1853\n",
      ">>> images count = 1854\n",
      ">>> images count = 1855\n",
      ">>> images count = 1856\n"
     ]
    },
    {
     "name": "stderr",
     "output_type": "stream",
     "text": [
      "\n",
      "Processing Images:  31%|█████████████████▎                                      | 1859/6000 [00:41<01:29, 46.49image/s]\u001b[A\n",
      "Processing Images:  31%|█████████████████▍                                      | 1864/6000 [00:41<01:28, 46.93image/s]\u001b[A"
     ]
    },
    {
     "name": "stdout",
     "output_type": "stream",
     "text": [
      ">>> images count = 1857\n",
      ">>> images count = 1858\n",
      ">>> images count = 1859\n",
      ">>> images count = 1860\n",
      ">>> images count = 1861\n",
      ">>> images count = 1862\n",
      ">>> images count = 1863\n",
      ">>> images count = 1864\n",
      ">>> images count = 1865\n"
     ]
    },
    {
     "name": "stderr",
     "output_type": "stream",
     "text": [
      "\n",
      "Processing Images:  31%|█████████████████▍                                      | 1869/6000 [00:41<01:28, 46.92image/s]\u001b[A\n",
      "Processing Images:  31%|█████████████████▍                                      | 1874/6000 [00:41<01:30, 45.81image/s]\u001b[A\n"
     ]
    },
    {
     "name": "stdout",
     "output_type": "stream",
     "text": [
      ">>> images count = 1866\n",
      ">>> images count = 1867\n",
      ">>> images count = 1868\n",
      ">>> images count = 1869\n",
      ">>> images count = 1870\n",
      ">>> images count = 1871\n",
      ">>> images count = 1872\n",
      ">>> images count = 1873\n",
      ">>> images count = 1874\n",
      ">>> images count = 1875\n",
      ">>> images count = 1876\n"
     ]
    },
    {
     "name": "stderr",
     "output_type": "stream",
     "text": [
      "Processing Images:  31%|█████████████████▌                                      | 1879/6000 [00:41<01:27, 46.84image/s]\u001b[A\n",
      "Processing Images:  31%|█████████████████▌                                      | 1884/6000 [00:41<01:31, 45.07image/s]\u001b[A"
     ]
    },
    {
     "name": "stdout",
     "output_type": "stream",
     "text": [
      ">>> images count = 1877\n",
      ">>> images count = 1878\n",
      ">>> images count = 1879\n",
      ">>> images count = 1880\n",
      ">>> images count = 1881\n",
      ">>> images count = 1882\n",
      ">>> images count = 1883\n",
      ">>> images count = 1884\n",
      ">>> images count = 1885\n"
     ]
    },
    {
     "name": "stderr",
     "output_type": "stream",
     "text": [
      "\n",
      "Processing Images:  31%|█████████████████▋                                      | 1889/6000 [00:41<01:30, 45.41image/s]\u001b[A\n",
      "Processing Images:  32%|█████████████████▋                                      | 1894/6000 [00:41<01:29, 45.90image/s]\u001b[A\n"
     ]
    },
    {
     "name": "stdout",
     "output_type": "stream",
     "text": [
      ">>> images count = 1886\n",
      ">>> images count = 1887\n",
      ">>> images count = 1888\n",
      ">>> images count = 1889\n",
      ">>> images count = 1890\n",
      ">>> images count = 1891\n",
      ">>> images count = 1892\n",
      ">>> images count = 1893\n",
      ">>> images count = 1894\n",
      ">>> images count = 1895\n",
      ">>> images count = 1896\n"
     ]
    },
    {
     "name": "stderr",
     "output_type": "stream",
     "text": [
      "Processing Images:  32%|█████████████████▋                                      | 1899/6000 [00:41<01:27, 47.01image/s]\u001b[A\n",
      "Processing Images:  32%|█████████████████▊                                      | 1905/6000 [00:42<01:23, 48.76image/s]\u001b[A"
     ]
    },
    {
     "name": "stdout",
     "output_type": "stream",
     "text": [
      ">>> images count = 1897\n",
      ">>> images count = 1898\n",
      ">>> images count = 1899\n",
      ">>> images count = 1900\n",
      ">>> images count = 1901\n",
      ">>> images count = 1902\n",
      ">>> images count = 1903\n",
      ">>> images count = 1904\n",
      ">>> images count = 1905\n",
      ">>> images count = 1906\n"
     ]
    },
    {
     "name": "stderr",
     "output_type": "stream",
     "text": [
      "\n",
      "Processing Images:  32%|█████████████████▊                                      | 1910/6000 [00:42<01:26, 47.35image/s]\u001b[A\n",
      "Processing Images:  32%|█████████████████▊                                      | 1915/6000 [00:42<01:27, 46.89image/s]\u001b[A"
     ]
    },
    {
     "name": "stdout",
     "output_type": "stream",
     "text": [
      ">>> images count = 1907\n",
      ">>> images count = 1908\n",
      ">>> images count = 1909\n",
      ">>> images count = 1910\n",
      ">>> images count = 1911\n",
      ">>> images count = 1912\n",
      ">>> images count = 1913\n",
      ">>> images count = 1914\n",
      ">>> images count = 1915\n",
      ">>> images count = 1916\n"
     ]
    },
    {
     "name": "stderr",
     "output_type": "stream",
     "text": [
      "\n",
      "Processing Images:  32%|█████████████████▉                                      | 1920/6000 [00:42<01:29, 45.74image/s]\u001b[A\n",
      "Processing Images:  32%|█████████████████▉                                      | 1926/6000 [00:42<01:24, 48.07image/s]\u001b[A"
     ]
    },
    {
     "name": "stdout",
     "output_type": "stream",
     "text": [
      ">>> images count = 1917\n",
      ">>> images count = 1918\n",
      ">>> images count = 1919\n",
      ">>> images count = 1920\n",
      ">>> images count = 1921\n",
      ">>> images count = 1922\n",
      ">>> images count = 1923\n",
      ">>> images count = 1924\n",
      ">>> images count = 1925\n"
     ]
    },
    {
     "name": "stderr",
     "output_type": "stream",
     "text": [
      "\n",
      "Processing Images:  32%|██████████████████                                      | 1931/6000 [00:42<01:25, 47.78image/s]\u001b[A\n",
      " 32%|█████████████████████████▏                                                    | 1933/6000 [00:42<01:24, 48.15it/s]\u001b[A"
     ]
    },
    {
     "name": "stdout",
     "output_type": "stream",
     "text": [
      ">>> images count = 1926\n",
      ">>> images count = 1927\n",
      ">>> images count = 1928\n",
      ">>> images count = 1929\n",
      ">>> images count = 1930\n",
      ">>> images count = 1931\n",
      ">>> images count = 1932\n",
      ">>> images count = 1933\n",
      ">>> images count = 1934\n",
      ">>> images count = 1935\n"
     ]
    },
    {
     "name": "stderr",
     "output_type": "stream",
     "text": [
      "Processing Images:  32%|██████████████████                                      | 1936/6000 [00:42<01:26, 47.14image/s]\n",
      "Processing Images:  32%|██████████████████                                      | 1941/6000 [00:42<01:26, 46.74image/s]\u001b[A\n",
      " 32%|█████████████████████████▎                                                    | 1943/6000 [00:42<01:26, 46.68it/s]\u001b[A"
     ]
    },
    {
     "name": "stdout",
     "output_type": "stream",
     "text": [
      ">>> images count = 1936\n",
      ">>> images count = 1937\n",
      ">>> images count = 1938\n",
      ">>> images count = 1939\n",
      ">>> images count = 1940\n",
      ">>> images count = 1941\n",
      ">>> images count = 1942\n",
      ">>> images count = 1943\n",
      ">>> images count = 1944\n",
      ">>> images count = 1945\n"
     ]
    },
    {
     "name": "stderr",
     "output_type": "stream",
     "text": [
      "Processing Images:  32%|██████████████████▏                                     | 1946/6000 [00:42<01:28, 45.59image/s]\n",
      "Processing Images:  33%|██████████████████▏                                     | 1951/6000 [00:43<01:27, 46.53image/s]\u001b[A\n",
      " 33%|█████████████████████████▍                                                    | 1953/6000 [00:43<01:28, 45.73it/s]\u001b[A"
     ]
    },
    {
     "name": "stdout",
     "output_type": "stream",
     "text": [
      ">>> images count = 1946\n",
      ">>> images count = 1947\n",
      ">>> images count = 1948\n",
      ">>> images count = 1949\n",
      ">>> images count = 1950\n",
      ">>> images count = 1951\n",
      ">>> images count = 1952\n",
      ">>> images count = 1953\n",
      ">>> images count = 1954\n",
      ">>> images count = 1955\n"
     ]
    },
    {
     "name": "stderr",
     "output_type": "stream",
     "text": [
      "Processing Images:  33%|██████████████████▎                                     | 1956/6000 [00:43<01:27, 46.19image/s]\n",
      "Processing Images:  33%|██████████████████▎                                     | 1961/6000 [00:43<01:29, 45.33image/s]\u001b[A\n",
      " 33%|█████████████████████████▌                                                    | 1963/6000 [00:43<01:30, 44.43it/s]\u001b[A"
     ]
    },
    {
     "name": "stdout",
     "output_type": "stream",
     "text": [
      ">>> images count = 1956\n",
      ">>> images count = 1957\n",
      ">>> images count = 1958\n",
      ">>> images count = 1959\n",
      ">>> images count = 1960\n",
      ">>> images count = 1961\n",
      ">>> images count = 1962\n",
      ">>> images count = 1963\n",
      ">>> images count = 1964\n",
      ">>> images count = 1965\n"
     ]
    },
    {
     "name": "stderr",
     "output_type": "stream",
     "text": [
      "Processing Images:  33%|██████████████████▎                                     | 1966/6000 [00:43<01:30, 44.74image/s]\n",
      "Processing Images:  33%|██████████████████▍                                     | 1971/6000 [00:43<01:27, 46.04image/s]\u001b[A\n",
      " 33%|█████████████████████████▋                                                    | 1974/6000 [00:43<01:25, 46.89it/s]\u001b[A"
     ]
    },
    {
     "name": "stdout",
     "output_type": "stream",
     "text": [
      ">>> images count = 1966\n",
      ">>> images count = 1967\n",
      ">>> images count = 1968\n",
      ">>> images count = 1969\n",
      ">>> images count = 1970\n",
      ">>> images count = 1971\n",
      ">>> images count = 1972\n",
      ">>> images count = 1973\n",
      ">>> images count = 1974\n",
      ">>> images count = 1975\n"
     ]
    },
    {
     "name": "stderr",
     "output_type": "stream",
     "text": [
      "Processing Images:  33%|██████████████████▍                                     | 1976/6000 [00:43<01:27, 45.85image/s]\n",
      "Processing Images:  33%|██████████████████▍                                     | 1981/6000 [00:43<01:33, 43.11image/s]\u001b[A\n"
     ]
    },
    {
     "name": "stdout",
     "output_type": "stream",
     "text": [
      ">>> images count = 1976\n",
      ">>> images count = 1977\n",
      ">>> images count = 1978\n",
      ">>> images count = 1979\n",
      ">>> images count = 1980\n",
      ">>> images count = 1981\n",
      ">>> images count = 1982\n",
      ">>> images count = 1983\n",
      ">>> images count = 1984\n"
     ]
    },
    {
     "name": "stderr",
     "output_type": "stream",
     "text": [
      "Processing Images:  33%|██████████████████▌                                     | 1986/6000 [00:43<01:31, 43.77image/s]\u001b[A\n",
      "Processing Images:  33%|██████████████████▌                                     | 1991/6000 [00:43<01:35, 41.93image/s]\u001b[A"
     ]
    },
    {
     "name": "stdout",
     "output_type": "stream",
     "text": [
      ">>> images count = 1985\n",
      ">>> images count = 1986\n",
      ">>> images count = 1987\n",
      ">>> images count = 1988\n",
      ">>> images count = 1989\n",
      ">>> images count = 1990\n",
      ">>> images count = 1991\n",
      ">>> images count = 1992\n"
     ]
    },
    {
     "name": "stderr",
     "output_type": "stream",
     "text": [
      "\n",
      "Processing Images:  33%|██████████████████▋                                     | 1996/6000 [00:44<01:38, 40.62image/s]\u001b[A\n",
      "Processing Images:  33%|██████████████████▋                                     | 2001/6000 [00:44<01:37, 40.87image/s]\u001b[A"
     ]
    },
    {
     "name": "stdout",
     "output_type": "stream",
     "text": [
      ">>> images count = 1993\n",
      ">>> images count = 1994\n",
      ">>> images count = 1995\n",
      ">>> images count = 1996\n",
      ">>> images count = 1997\n",
      ">>> images count = 1998\n",
      ">>> images count = 1999\n",
      ">>> images count = 2000\n"
     ]
    },
    {
     "name": "stderr",
     "output_type": "stream",
     "text": [
      "\n",
      "Processing Images:  33%|██████████████████▋                                     | 2006/6000 [00:44<01:35, 41.70image/s]\u001b[A\n",
      " 33%|██████████████████████████                                                    | 2009/6000 [00:44<01:33, 42.62it/s]\u001b[A"
     ]
    },
    {
     "name": "stdout",
     "output_type": "stream",
     "text": [
      ">>> images count = 2001\n",
      ">>> images count = 2002\n",
      ">>> images count = 2003\n",
      ">>> images count = 2004\n",
      ">>> images count = 2005\n",
      ">>> images count = 2006\n",
      ">>> images count = 2007\n",
      ">>> images count = 2008\n",
      ">>> images count = 2009\n",
      ">>> images count = 2010\n"
     ]
    },
    {
     "name": "stderr",
     "output_type": "stream",
     "text": [
      "Processing Images:  34%|██████████████████▊                                     | 2011/6000 [00:44<01:31, 43.40image/s]\n",
      "Processing Images:  34%|██████████████████▊                                     | 2016/6000 [00:44<01:30, 43.98image/s]\u001b[A\n",
      " 34%|██████████████████████████▏                                                   | 2019/6000 [00:44<01:31, 43.72it/s]\u001b[A"
     ]
    },
    {
     "name": "stdout",
     "output_type": "stream",
     "text": [
      ">>> images count = 2011\n",
      ">>> images count = 2012\n",
      ">>> images count = 2013\n",
      ">>> images count = 2014\n",
      ">>> images count = 2015\n",
      ">>> images count = 2016\n",
      ">>> images count = 2017\n",
      ">>> images count = 2018\n",
      ">>> images count = 2019\n",
      ">>> images count = 2020\n"
     ]
    },
    {
     "name": "stderr",
     "output_type": "stream",
     "text": [
      "Processing Images:  34%|██████████████████▊                                     | 2021/6000 [00:44<01:33, 42.48image/s]\n",
      "Processing Images:  34%|██████████████████▉                                     | 2026/6000 [00:44<01:31, 43.53image/s]\u001b[A"
     ]
    },
    {
     "name": "stdout",
     "output_type": "stream",
     "text": [
      ">>> images count = 2021\n",
      ">>> images count = 2022\n",
      ">>> images count = 2023\n",
      ">>> images count = 2024\n",
      ">>> images count = 2025\n",
      ">>> images count = 2026\n",
      ">>> images count = 2027\n",
      ">>> images count = 2028\n",
      ">>> images count = 2029\n"
     ]
    },
    {
     "name": "stderr",
     "output_type": "stream",
     "text": [
      "\n",
      "Processing Images:  34%|██████████████████▉                                     | 2031/6000 [00:44<01:33, 42.60image/s]\u001b[A\n",
      "Processing Images:  34%|███████████████████                                     | 2036/6000 [00:45<01:33, 42.35image/s]\u001b[A"
     ]
    },
    {
     "name": "stdout",
     "output_type": "stream",
     "text": [
      ">>> images count = 2030\n",
      ">>> images count = 2031\n",
      ">>> images count = 2032\n",
      ">>> images count = 2033\n",
      ">>> images count = 2034\n",
      ">>> images count = 2035\n",
      ">>> images count = 2036\n",
      ">>> images count = 2037\n"
     ]
    },
    {
     "name": "stderr",
     "output_type": "stream",
     "text": [
      "\n",
      "Processing Images:  34%|███████████████████                                     | 2041/6000 [00:45<01:35, 41.36image/s]\u001b[A\n",
      " 34%|██████████████████████████▌                                                   | 2044/6000 [00:45<01:35, 41.22it/s]\u001b[A"
     ]
    },
    {
     "name": "stdout",
     "output_type": "stream",
     "text": [
      ">>> images count = 2038\n",
      ">>> images count = 2039\n",
      ">>> images count = 2040\n",
      ">>> images count = 2041\n",
      ">>> images count = 2042\n",
      ">>> images count = 2043\n",
      ">>> images count = 2044\n",
      ">>> images count = 2045\n"
     ]
    },
    {
     "name": "stderr",
     "output_type": "stream",
     "text": [
      "Processing Images:  34%|███████████████████                                     | 2046/6000 [00:45<01:32, 42.60image/s]\n",
      "Processing Images:  34%|███████████████████▏                                    | 2051/6000 [00:45<01:29, 43.94image/s]\u001b[A\n",
      " 34%|██████████████████████████▋                                                   | 2054/6000 [00:45<01:30, 43.53it/s]\u001b[A"
     ]
    },
    {
     "name": "stdout",
     "output_type": "stream",
     "text": [
      ">>> images count = 2046\n",
      ">>> images count = 2047\n",
      ">>> images count = 2048\n",
      ">>> images count = 2049\n",
      ">>> images count = 2050\n",
      ">>> images count = 2051\n",
      ">>> images count = 2052\n",
      ">>> images count = 2053\n",
      ">>> images count = 2054\n",
      ">>> images count = 2055\n"
     ]
    },
    {
     "name": "stderr",
     "output_type": "stream",
     "text": [
      "Processing Images:  34%|███████████████████▏                                    | 2056/6000 [00:45<01:30, 43.48image/s]\n",
      "Processing Images:  34%|███████████████████▏                                    | 2061/6000 [00:45<01:30, 43.70image/s]\u001b[A\n",
      " 34%|██████████████████████████▊                                                   | 2064/6000 [00:45<01:27, 44.73it/s]\u001b[A"
     ]
    },
    {
     "name": "stdout",
     "output_type": "stream",
     "text": [
      ">>> images count = 2056\n",
      ">>> images count = 2057\n",
      ">>> images count = 2058\n",
      ">>> images count = 2059\n",
      ">>> images count = 2060\n",
      ">>> images count = 2061\n",
      ">>> images count = 2062\n",
      ">>> images count = 2063\n",
      ">>> images count = 2064\n",
      ">>> images count = 2065\n"
     ]
    },
    {
     "name": "stderr",
     "output_type": "stream",
     "text": [
      "Processing Images:  34%|███████████████████▎                                    | 2066/6000 [00:45<01:27, 45.15image/s]\n",
      "Processing Images:  35%|███████████████████▎                                    | 2071/6000 [00:45<01:29, 44.09image/s]\u001b[A\n",
      " 35%|██████████████████████████▉                                                   | 2074/6000 [00:45<01:25, 45.67it/s]\u001b[A"
     ]
    },
    {
     "name": "stdout",
     "output_type": "stream",
     "text": [
      ">>> images count = 2066\n",
      ">>> images count = 2067\n",
      ">>> images count = 2068\n",
      ">>> images count = 2069\n",
      ">>> images count = 2070\n",
      ">>> images count = 2071\n",
      ">>> images count = 2072\n",
      ">>> images count = 2073\n",
      ">>> images count = 2074\n",
      ">>> images count = 2075\n"
     ]
    },
    {
     "name": "stderr",
     "output_type": "stream",
     "text": [
      "Processing Images:  35%|███████████████████▍                                    | 2077/6000 [00:45<01:25, 46.03image/s]\n",
      "Processing Images:  35%|███████████████████▍                                    | 2082/6000 [00:46<01:23, 47.06image/s]\u001b[A\n",
      " 35%|███████████████████████████                                                   | 2085/6000 [00:46<01:22, 47.39it/s]\u001b[A"
     ]
    },
    {
     "name": "stdout",
     "output_type": "stream",
     "text": [
      ">>> images count = 2076\n",
      ">>> images count = 2077\n",
      ">>> images count = 2078\n",
      ">>> images count = 2079\n",
      ">>> images count = 2080\n",
      ">>> images count = 2081\n",
      ">>> images count = 2082\n",
      ">>> images count = 2083\n",
      ">>> images count = 2084\n",
      ">>> images count = 2085\n"
     ]
    },
    {
     "name": "stderr",
     "output_type": "stream",
     "text": [
      "Processing Images:  35%|███████████████████▍                                    | 2087/6000 [00:46<01:21, 47.85image/s]\n",
      "Processing Images:  35%|███████████████████▌                                    | 2093/6000 [00:46<01:17, 50.28image/s]\u001b[A"
     ]
    },
    {
     "name": "stdout",
     "output_type": "stream",
     "text": [
      ">>> images count = 2086\n",
      ">>> images count = 2087\n",
      ">>> images count = 2088\n",
      ">>> images count = 2089\n",
      ">>> images count = 2090\n",
      ">>> images count = 2091\n",
      ">>> images count = 2092\n",
      ">>> images count = 2093\n",
      ">>> images count = 2094\n",
      ">>> images count = 2095\n",
      ">>> images count = 2096\n",
      ">>> images count = 2097\n"
     ]
    },
    {
     "name": "stderr",
     "output_type": "stream",
     "text": [
      "\n",
      "Processing Images:  35%|███████████████████▌                                    | 2099/6000 [00:46<01:19, 49.29image/s]\u001b[A\n",
      "Processing Images:  35%|███████████████████▋                                    | 2104/6000 [00:46<01:21, 47.83image/s]\u001b[A"
     ]
    },
    {
     "name": "stdout",
     "output_type": "stream",
     "text": [
      ">>> images count = 2098\n",
      ">>> images count = 2099\n",
      ">>> images count = 2100\n",
      ">>> images count = 2101\n",
      ">>> images count = 2102\n",
      ">>> images count = 2103\n",
      ">>> images count = 2104\n",
      ">>> images count = 2105\n",
      ">>> images count = 2106\n"
     ]
    },
    {
     "name": "stderr",
     "output_type": "stream",
     "text": [
      "\n",
      "Processing Images:  35%|███████████████████▋                                    | 2109/6000 [00:46<01:23, 46.49image/s]\u001b[A\n",
      "Processing Images:  35%|███████████████████▋                                    | 2114/6000 [00:46<01:26, 45.13image/s]\u001b[A"
     ]
    },
    {
     "name": "stdout",
     "output_type": "stream",
     "text": [
      ">>> images count = 2107\n",
      ">>> images count = 2108\n",
      ">>> images count = 2109\n",
      ">>> images count = 2110\n",
      ">>> images count = 2111\n",
      ">>> images count = 2112\n",
      ">>> images count = 2113\n",
      ">>> images count = 2114\n",
      ">>> images count = 2115\n"
     ]
    },
    {
     "name": "stderr",
     "output_type": "stream",
     "text": [
      "\n",
      "Processing Images:  35%|███████████████████▊                                    | 2119/6000 [00:46<01:27, 44.59image/s]\u001b[A"
     ]
    },
    {
     "name": "stdout",
     "output_type": "stream",
     "text": [
      ">>> images count = 2116\n",
      ">>> images count = 2117\n",
      ">>> images count = 2118\n",
      ">>> images count = 2119\n",
      ">>> images count = 2120\n",
      ">>> images count = 2121\n",
      ">>> images count = 2122\n",
      ">>> images count = 2123\n"
     ]
    },
    {
     "name": "stderr",
     "output_type": "stream",
     "text": [
      "\n",
      "Processing Images:  35%|███████████████████▊                                    | 2124/6000 [00:46<01:30, 42.65image/s]\u001b[A\n",
      "Processing Images:  35%|███████████████████▊                                    | 2129/6000 [00:47<01:28, 43.50image/s]\u001b[A"
     ]
    },
    {
     "name": "stdout",
     "output_type": "stream",
     "text": [
      ">>> images count = 2124\n",
      ">>> images count = 2125\n",
      ">>> images count = 2126\n",
      ">>> images count = 2127\n",
      ">>> images count = 2128\n",
      ">>> images count = 2129\n",
      ">>> images count = 2130\n",
      ">>> images count = 2131\n",
      ">>> images count = 2132\n",
      ">>> images count = 2133\n",
      ">>> images count = 2134\n"
     ]
    },
    {
     "name": "stderr",
     "output_type": "stream",
     "text": [
      "\n",
      "Processing Images:  36%|███████████████████▉                                    | 2135/6000 [00:47<01:24, 45.82image/s]\u001b[A\n",
      "Processing Images:  36%|███████████████████▉                                    | 2140/6000 [00:47<01:24, 45.94image/s]\u001b[A"
     ]
    },
    {
     "name": "stdout",
     "output_type": "stream",
     "text": [
      ">>> images count = 2135\n",
      ">>> images count = 2136\n",
      ">>> images count = 2137\n",
      ">>> images count = 2138\n",
      ">>> images count = 2139\n",
      ">>> images count = 2140\n",
      ">>> images count = 2141\n",
      ">>> images count = 2142\n",
      ">>> images count = 2143\n"
     ]
    },
    {
     "name": "stderr",
     "output_type": "stream",
     "text": [
      "\n",
      "Processing Images:  36%|████████████████████                                    | 2145/6000 [00:47<01:26, 44.43image/s]\u001b[A\n",
      "Processing Images:  36%|████████████████████                                    | 2150/6000 [00:47<01:33, 41.16image/s]\u001b[A"
     ]
    },
    {
     "name": "stdout",
     "output_type": "stream",
     "text": [
      ">>> images count = 2144\n",
      ">>> images count = 2145\n",
      ">>> images count = 2146\n",
      ">>> images count = 2147\n",
      ">>> images count = 2148\n",
      ">>> images count = 2149\n",
      ">>> images count = 2150\n",
      ">>> images count = 2151\n"
     ]
    },
    {
     "name": "stderr",
     "output_type": "stream",
     "text": [
      "\n",
      "Processing Images:  36%|████████████████████                                    | 2155/6000 [00:47<01:31, 42.12image/s]\u001b[A\n",
      "Processing Images:  36%|████████████████████▏                                   | 2160/6000 [00:47<01:27, 43.65image/s]\u001b[A"
     ]
    },
    {
     "name": "stdout",
     "output_type": "stream",
     "text": [
      ">>> images count = 2152\n",
      ">>> images count = 2153\n",
      ">>> images count = 2154\n",
      ">>> images count = 2155\n",
      ">>> images count = 2156\n",
      ">>> images count = 2157\n",
      ">>> images count = 2158\n",
      ">>> images count = 2159\n",
      ">>> images count = 2160\n",
      ">>> images count = 2161\n",
      ">>> images count = 2162\n",
      ">>> images count = 2163\n"
     ]
    },
    {
     "name": "stderr",
     "output_type": "stream",
     "text": [
      "\n",
      "Processing Images:  36%|████████████████████▏                                   | 2166/6000 [00:47<01:23, 46.18image/s]\u001b[A\n",
      "Processing Images:  36%|████████████████████▎                                   | 2171/6000 [00:47<01:25, 44.89image/s]\u001b[A"
     ]
    },
    {
     "name": "stdout",
     "output_type": "stream",
     "text": [
      ">>> images count = 2164\n",
      ">>> images count = 2165\n",
      ">>> images count = 2166\n",
      ">>> images count = 2167\n",
      ">>> images count = 2168\n",
      ">>> images count = 2169\n",
      ">>> images count = 2170\n",
      ">>> images count = 2171\n",
      ">>> images count = 2172\n",
      ">>> images count = 2173\n",
      ">>> images count = 2174\n"
     ]
    },
    {
     "name": "stderr",
     "output_type": "stream",
     "text": [
      "\n",
      "Processing Images:  36%|████████████████████▎                                   | 2177/6000 [00:48<01:22, 46.49image/s]\u001b[A\n",
      "Processing Images:  36%|████████████████████▎                                   | 2182/6000 [00:48<01:22, 46.42image/s]\u001b[A"
     ]
    },
    {
     "name": "stdout",
     "output_type": "stream",
     "text": [
      ">>> images count = 2175\n",
      ">>> images count = 2176\n",
      ">>> images count = 2177\n",
      ">>> images count = 2178\n",
      ">>> images count = 2179\n",
      ">>> images count = 2180\n",
      ">>> images count = 2181\n",
      ">>> images count = 2182\n",
      ">>> images count = 2183\n",
      ">>> images count = 2184\n"
     ]
    },
    {
     "name": "stderr",
     "output_type": "stream",
     "text": [
      "\n",
      "Processing Images:  36%|████████████████████▍                                   | 2188/6000 [00:48<01:18, 48.38image/s]\u001b[A\n",
      "Processing Images:  37%|████████████████████▍                                   | 2194/6000 [00:48<01:17, 49.30image/s]\u001b[A"
     ]
    },
    {
     "name": "stdout",
     "output_type": "stream",
     "text": [
      ">>> images count = 2185\n",
      ">>> images count = 2186\n",
      ">>> images count = 2187\n",
      ">>> images count = 2188\n",
      ">>> images count = 2189\n",
      ">>> images count = 2190\n",
      ">>> images count = 2191\n",
      ">>> images count = 2192\n",
      ">>> images count = 2193\n",
      ">>> images count = 2194\n",
      ">>> images count = 2195\n"
     ]
    },
    {
     "name": "stderr",
     "output_type": "stream",
     "text": [
      "\n",
      "Processing Images:  37%|████████████████████▌                                   | 2199/6000 [00:48<01:17, 48.81image/s]\u001b[A\n",
      "Processing Images:  37%|████████████████████▌                                   | 2205/6000 [00:48<01:17, 49.04image/s]\u001b[A"
     ]
    },
    {
     "name": "stdout",
     "output_type": "stream",
     "text": [
      ">>> images count = 2196\n",
      ">>> images count = 2197\n",
      ">>> images count = 2198\n",
      ">>> images count = 2199\n",
      ">>> images count = 2200\n",
      ">>> images count = 2201\n",
      ">>> images count = 2202\n",
      ">>> images count = 2203\n",
      ">>> images count = 2204\n"
     ]
    },
    {
     "name": "stderr",
     "output_type": "stream",
     "text": [
      "\n",
      "Processing Images:  37%|████████████████████▋                                   | 2211/6000 [00:48<01:15, 50.35image/s]\u001b[A\n",
      " 37%|████████████████████████████▊                                                 | 2214/6000 [00:48<01:14, 51.00it/s]\u001b[A"
     ]
    },
    {
     "name": "stdout",
     "output_type": "stream",
     "text": [
      ">>> images count = 2205\n",
      ">>> images count = 2206\n",
      ">>> images count = 2207\n",
      ">>> images count = 2208\n",
      ">>> images count = 2209\n",
      ">>> images count = 2210\n",
      ">>> images count = 2211\n",
      ">>> images count = 2212\n",
      ">>> images count = 2213\n",
      ">>> images count = 2214\n",
      ">>> images count = 2215\n",
      ">>> images count = 2216\n"
     ]
    },
    {
     "name": "stderr",
     "output_type": "stream",
     "text": [
      "Processing Images:  37%|████████████████████▋                                   | 2217/6000 [00:48<01:14, 51.08image/s]\n",
      "Processing Images:  37%|████████████████████▋                                   | 2223/6000 [00:49<01:15, 50.08image/s]\u001b[A\n"
     ]
    },
    {
     "name": "stdout",
     "output_type": "stream",
     "text": [
      ">>> images count = 2217\n",
      ">>> images count = 2218\n",
      ">>> images count = 2219\n",
      ">>> images count = 2220\n",
      ">>> images count = 2221\n",
      ">>> images count = 2222\n",
      ">>> images count = 2223\n",
      ">>> images count = 2224\n",
      ">>> images count = 2225\n",
      ">>> images count = 2226\n"
     ]
    },
    {
     "name": "stderr",
     "output_type": "stream",
     "text": [
      "Processing Images:  37%|████████████████████▊                                   | 2229/6000 [00:49<01:14, 50.59image/s]\u001b[A\n",
      "Processing Images:  37%|████████████████████▊                                   | 2235/6000 [00:49<01:13, 51.57image/s]\u001b[A"
     ]
    },
    {
     "name": "stdout",
     "output_type": "stream",
     "text": [
      ">>> images count = 2227\n",
      ">>> images count = 2228\n",
      ">>> images count = 2229\n",
      ">>> images count = 2230\n",
      ">>> images count = 2231\n",
      ">>> images count = 2232\n",
      ">>> images count = 2233\n",
      ">>> images count = 2234\n",
      ">>> images count = 2235\n",
      ">>> images count = 2236\n",
      ">>> images count = 2237\n"
     ]
    },
    {
     "name": "stderr",
     "output_type": "stream",
     "text": [
      "\n",
      "Processing Images:  37%|████████████████████▉                                   | 2241/6000 [00:49<01:13, 51.20image/s]\u001b[A\n",
      "Processing Images:  37%|████████████████████▉                                   | 2247/6000 [00:49<01:13, 50.81image/s]\u001b[A"
     ]
    },
    {
     "name": "stdout",
     "output_type": "stream",
     "text": [
      ">>> images count = 2238\n",
      ">>> images count = 2239\n",
      ">>> images count = 2240\n",
      ">>> images count = 2241\n",
      ">>> images count = 2242\n",
      ">>> images count = 2243\n",
      ">>> images count = 2244\n",
      ">>> images count = 2245\n",
      ">>> images count = 2246\n",
      ">>> images count = 2247\n",
      ">>> images count = 2248\n"
     ]
    },
    {
     "name": "stderr",
     "output_type": "stream",
     "text": [
      "\n",
      "Processing Images:  38%|█████████████████████                                   | 2253/6000 [00:49<01:13, 51.00image/s]\u001b[A\n",
      " 38%|█████████████████████████████▎                                                | 2256/6000 [00:49<01:16, 48.98it/s]\u001b[A"
     ]
    },
    {
     "name": "stdout",
     "output_type": "stream",
     "text": [
      ">>> images count = 2249\n",
      ">>> images count = 2250\n",
      ">>> images count = 2251\n",
      ">>> images count = 2252\n",
      ">>> images count = 2253\n",
      ">>> images count = 2254\n",
      ">>> images count = 2255\n",
      ">>> images count = 2256\n",
      ">>> images count = 2257\n",
      ">>> images count = 2258\n"
     ]
    },
    {
     "name": "stderr",
     "output_type": "stream",
     "text": [
      "Processing Images:  38%|█████████████████████                                   | 2259/6000 [00:49<01:19, 47.27image/s]\n",
      "Processing Images:  38%|█████████████████████▏                                  | 2264/6000 [00:49<01:24, 44.24image/s]\u001b[A\n"
     ]
    },
    {
     "name": "stdout",
     "output_type": "stream",
     "text": [
      ">>> images count = 2259\n",
      ">>> images count = 2260\n",
      ">>> images count = 2261\n",
      ">>> images count = 2262\n",
      ">>> images count = 2263\n",
      ">>> images count = 2264\n",
      ">>> images count = 2265\n",
      ">>> images count = 2266\n"
     ]
    },
    {
     "name": "stderr",
     "output_type": "stream",
     "text": [
      "Processing Images:  38%|█████████████████████▏                                  | 2269/6000 [00:50<01:24, 44.01image/s]\u001b[A\n",
      "Processing Images:  38%|█████████████████████▏                                  | 2274/6000 [00:50<01:24, 43.84image/s]\u001b[A"
     ]
    },
    {
     "name": "stdout",
     "output_type": "stream",
     "text": [
      ">>> images count = 2267\n",
      ">>> images count = 2268\n",
      ">>> images count = 2269\n",
      ">>> images count = 2270\n",
      ">>> images count = 2271\n",
      ">>> images count = 2272\n",
      ">>> images count = 2273\n",
      ">>> images count = 2274\n",
      ">>> images count = 2275\n"
     ]
    },
    {
     "name": "stderr",
     "output_type": "stream",
     "text": [
      "\n",
      "Processing Images:  38%|█████████████████████▎                                  | 2279/6000 [00:50<01:24, 44.05image/s]\u001b[A\n",
      "Processing Images:  38%|█████████████████████▎                                  | 2284/6000 [00:50<01:25, 43.54image/s]\u001b[A"
     ]
    },
    {
     "name": "stdout",
     "output_type": "stream",
     "text": [
      ">>> images count = 2276\n",
      ">>> images count = 2277\n",
      ">>> images count = 2278\n",
      ">>> images count = 2279\n",
      ">>> images count = 2280\n",
      ">>> images count = 2281\n",
      ">>> images count = 2282\n",
      ">>> images count = 2283\n"
     ]
    },
    {
     "name": "stderr",
     "output_type": "stream",
     "text": [
      "\n",
      "Processing Images:  38%|█████████████████████▎                                  | 2290/6000 [00:50<01:21, 45.76image/s]\u001b[A\n",
      " 38%|█████████████████████████████▊                                                | 2291/6000 [00:50<01:21, 45.42it/s]\u001b[A"
     ]
    },
    {
     "name": "stdout",
     "output_type": "stream",
     "text": [
      ">>> images count = 2284\n",
      ">>> images count = 2285\n",
      ">>> images count = 2286\n",
      ">>> images count = 2287\n",
      ">>> images count = 2288\n",
      ">>> images count = 2289\n",
      ">>> images count = 2290\n",
      ">>> images count = 2291\n",
      ">>> images count = 2292\n",
      ">>> images count = 2293\n"
     ]
    },
    {
     "name": "stderr",
     "output_type": "stream",
     "text": [
      "Processing Images:  38%|█████████████████████▍                                  | 2295/6000 [00:50<01:22, 44.84image/s]\n",
      "Processing Images:  38%|█████████████████████▍                                  | 2300/6000 [00:50<01:24, 43.92image/s]\u001b[A\n",
      " 38%|█████████████████████████████▉                                                | 2301/6000 [00:50<01:23, 44.38it/s]\u001b[A"
     ]
    },
    {
     "name": "stdout",
     "output_type": "stream",
     "text": [
      ">>> images count = 2294\n",
      ">>> images count = 2295\n",
      ">>> images count = 2296\n",
      ">>> images count = 2297\n",
      ">>> images count = 2298\n",
      ">>> images count = 2299\n",
      ">>> images count = 2300\n",
      ">>> images count = 2301\n",
      ">>> images count = 2302\n",
      ">>> images count = 2303\n"
     ]
    },
    {
     "name": "stderr",
     "output_type": "stream",
     "text": [
      "Processing Images:  38%|█████████████████████▌                                  | 2305/6000 [00:50<01:23, 44.11image/s]\n",
      "Processing Images:  38%|█████████████████████▌                                  | 2310/6000 [00:50<01:24, 43.60image/s]\u001b[A\n",
      " 39%|██████████████████████████████                                                | 2311/6000 [00:50<01:25, 43.16it/s]\u001b[A"
     ]
    },
    {
     "name": "stdout",
     "output_type": "stream",
     "text": [
      ">>> images count = 2304\n",
      ">>> images count = 2305\n",
      ">>> images count = 2306\n",
      ">>> images count = 2307\n",
      ">>> images count = 2308\n",
      ">>> images count = 2309\n",
      ">>> images count = 2310\n",
      ">>> images count = 2311\n",
      ">>> images count = 2312\n"
     ]
    },
    {
     "name": "stderr",
     "output_type": "stream",
     "text": [
      "Processing Images:  39%|█████████████████████▌                                  | 2315/6000 [00:51<01:24, 43.55image/s]\n",
      "Processing Images:  39%|█████████████████████▋                                  | 2320/6000 [00:51<01:21, 45.27image/s]\u001b[A\n",
      " 39%|██████████████████████████████▏                                               | 2321/6000 [00:51<01:21, 45.03it/s]\u001b[A"
     ]
    },
    {
     "name": "stdout",
     "output_type": "stream",
     "text": [
      ">>> images count = 2313\n",
      ">>> images count = 2314\n",
      ">>> images count = 2315\n",
      ">>> images count = 2316\n",
      ">>> images count = 2317\n",
      ">>> images count = 2318\n",
      ">>> images count = 2319\n",
      ">>> images count = 2320\n",
      ">>> images count = 2321\n",
      ">>> images count = 2322\n"
     ]
    },
    {
     "name": "stderr",
     "output_type": "stream",
     "text": [
      "Processing Images:  39%|█████████████████████▋                                  | 2325/6000 [00:51<01:21, 45.01image/s]\n",
      "Processing Images:  39%|█████████████████████▋                                  | 2330/6000 [00:51<01:23, 44.18image/s]\u001b[A\n"
     ]
    },
    {
     "name": "stdout",
     "output_type": "stream",
     "text": [
      ">>> images count = 2323\n",
      ">>> images count = 2324\n",
      ">>> images count = 2325\n",
      ">>> images count = 2326\n",
      ">>> images count = 2327\n",
      ">>> images count = 2328\n",
      ">>> images count = 2329\n",
      ">>> images count = 2330\n",
      ">>> images count = 2331\n"
     ]
    },
    {
     "name": "stderr",
     "output_type": "stream",
     "text": [
      "Processing Images:  39%|█████████████████████▊                                  | 2335/6000 [00:51<01:21, 45.13image/s]\u001b[A\n",
      "Processing Images:  39%|█████████████████████▊                                  | 2340/6000 [00:51<01:20, 45.57image/s]\u001b[A\n"
     ]
    },
    {
     "name": "stdout",
     "output_type": "stream",
     "text": [
      ">>> images count = 2332\n",
      ">>> images count = 2333\n",
      ">>> images count = 2334\n",
      ">>> images count = 2335\n",
      ">>> images count = 2336\n",
      ">>> images count = 2337\n",
      ">>> images count = 2338\n",
      ">>> images count = 2339\n",
      ">>> images count = 2340\n",
      ">>> images count = 2341\n"
     ]
    },
    {
     "name": "stderr",
     "output_type": "stream",
     "text": [
      "Processing Images:  39%|█████████████████████▉                                  | 2345/6000 [00:51<01:19, 45.95image/s]\u001b[A\n",
      "Processing Images:  39%|█████████████████████▉                                  | 2350/6000 [00:51<01:18, 46.55image/s]\u001b[A"
     ]
    },
    {
     "name": "stdout",
     "output_type": "stream",
     "text": [
      ">>> images count = 2342\n",
      ">>> images count = 2343\n",
      ">>> images count = 2344\n",
      ">>> images count = 2345\n",
      ">>> images count = 2346\n",
      ">>> images count = 2347\n",
      ">>> images count = 2348\n",
      ">>> images count = 2349\n",
      ">>> images count = 2350\n",
      ">>> images count = 2351\n"
     ]
    },
    {
     "name": "stderr",
     "output_type": "stream",
     "text": [
      "\n",
      "Processing Images:  39%|█████████████████████▉                                  | 2355/6000 [00:51<01:18, 46.66image/s]\u001b[A\n",
      "Processing Images:  39%|██████████████████████                                  | 2360/6000 [00:52<01:17, 46.92image/s]\u001b[A"
     ]
    },
    {
     "name": "stdout",
     "output_type": "stream",
     "text": [
      ">>> images count = 2352\n",
      ">>> images count = 2353\n",
      ">>> images count = 2354\n",
      ">>> images count = 2355\n",
      ">>> images count = 2356\n",
      ">>> images count = 2357\n",
      ">>> images count = 2358\n",
      ">>> images count = 2359\n",
      ">>> images count = 2360\n",
      ">>> images count = 2361\n"
     ]
    },
    {
     "name": "stderr",
     "output_type": "stream",
     "text": [
      "\n",
      "Processing Images:  39%|██████████████████████                                  | 2366/6000 [00:52<01:15, 48.30image/s]\u001b[A\n",
      " 39%|██████████████████████████████▊                                               | 2367/6000 [00:52<01:15, 47.84it/s]\u001b[A"
     ]
    },
    {
     "name": "stdout",
     "output_type": "stream",
     "text": [
      ">>> images count = 2362\n",
      ">>> images count = 2363\n",
      ">>> images count = 2364\n",
      ">>> images count = 2365\n",
      ">>> images count = 2366\n",
      ">>> images count = 2367\n",
      ">>> images count = 2368\n",
      ">>> images count = 2369\n",
      ">>> images count = 2370\n"
     ]
    },
    {
     "name": "stderr",
     "output_type": "stream",
     "text": [
      "Processing Images:  40%|██████████████████████▏                                 | 2371/6000 [00:52<01:15, 48.21image/s]\n",
      "Processing Images:  40%|██████████████████████▏                                 | 2376/6000 [00:52<01:15, 48.15image/s]\u001b[A\n",
      " 40%|██████████████████████████████▉                                               | 2377/6000 [00:52<01:14, 48.48it/s]\u001b[A"
     ]
    },
    {
     "name": "stdout",
     "output_type": "stream",
     "text": [
      ">>> images count = 2371\n",
      ">>> images count = 2372\n",
      ">>> images count = 2373\n",
      ">>> images count = 2374\n",
      ">>> images count = 2375\n",
      ">>> images count = 2376\n",
      ">>> images count = 2377\n",
      ">>> images count = 2378\n",
      ">>> images count = 2379\n",
      ">>> images count = 2380\n"
     ]
    },
    {
     "name": "stderr",
     "output_type": "stream",
     "text": [
      "Processing Images:  40%|██████████████████████▏                                 | 2381/6000 [00:52<01:16, 47.30image/s]\n",
      "Processing Images:  40%|██████████████████████▎                                 | 2386/6000 [00:52<01:16, 47.11image/s]\u001b[A\n",
      " 40%|███████████████████████████████                                               | 2387/6000 [00:52<01:16, 47.53it/s]\u001b[A"
     ]
    },
    {
     "name": "stdout",
     "output_type": "stream",
     "text": [
      ">>> images count = 2381\n",
      ">>> images count = 2382\n",
      ">>> images count = 2383\n",
      ">>> images count = 2384\n",
      ">>> images count = 2385\n",
      ">>> images count = 2386\n",
      ">>> images count = 2387\n",
      ">>> images count = 2388\n",
      ">>> images count = 2389\n"
     ]
    },
    {
     "name": "stderr",
     "output_type": "stream",
     "text": [
      "Processing Images:  40%|██████████████████████▎                                 | 2391/6000 [00:52<01:16, 47.05image/s]\n",
      "Processing Images:  40%|██████████████████████▎                                 | 2396/6000 [00:52<01:15, 47.60image/s]\u001b[A\n",
      " 40%|███████████████████████████████▏                                              | 2397/6000 [00:52<01:15, 47.71it/s]\u001b[A"
     ]
    },
    {
     "name": "stdout",
     "output_type": "stream",
     "text": [
      ">>> images count = 2390\n",
      ">>> images count = 2391\n",
      ">>> images count = 2392\n",
      ">>> images count = 2393\n",
      ">>> images count = 2394\n",
      ">>> images count = 2395\n",
      ">>> images count = 2396\n",
      ">>> images count = 2397\n",
      ">>> images count = 2398\n",
      ">>> images count = 2399\n",
      ">>> images count = 2400\n"
     ]
    },
    {
     "name": "stderr",
     "output_type": "stream",
     "text": [
      "Processing Images:  40%|██████████████████████▍                                 | 2401/6000 [00:52<01:16, 47.18image/s]\n",
      "Processing Images:  40%|██████████████████████▍                                 | 2406/6000 [00:52<01:17, 46.50image/s]\u001b[A\n",
      " 40%|███████████████████████████████▎                                              | 2407/6000 [00:53<01:17, 46.17it/s]\u001b[A"
     ]
    },
    {
     "name": "stdout",
     "output_type": "stream",
     "text": [
      ">>> images count = 2401\n",
      ">>> images count = 2402\n",
      ">>> images count = 2403\n",
      ">>> images count = 2404\n",
      ">>> images count = 2405\n",
      ">>> images count = 2406\n",
      ">>> images count = 2407\n",
      ">>> images count = 2408\n",
      ">>> images count = 2409\n",
      ">>> images count = 2410\n"
     ]
    },
    {
     "name": "stderr",
     "output_type": "stream",
     "text": [
      "Processing Images:  40%|██████████████████████▌                                 | 2411/6000 [00:53<01:18, 45.47image/s]\n",
      "Processing Images:  40%|██████████████████████▌                                 | 2416/6000 [00:53<01:19, 45.00image/s]\u001b[A\n",
      " 40%|███████████████████████████████▍                                              | 2417/6000 [00:53<01:18, 45.57it/s]\u001b[A"
     ]
    },
    {
     "name": "stdout",
     "output_type": "stream",
     "text": [
      ">>> images count = 2411\n",
      ">>> images count = 2412\n",
      ">>> images count = 2413\n",
      ">>> images count = 2414\n",
      ">>> images count = 2415\n",
      ">>> images count = 2416\n",
      ">>> images count = 2417\n",
      ">>> images count = 2418\n",
      ">>> images count = 2419\n"
     ]
    },
    {
     "name": "stderr",
     "output_type": "stream",
     "text": [
      "Processing Images:  40%|██████████████████████▌                                 | 2421/6000 [00:53<01:19, 45.12image/s]\n",
      "Processing Images:  40%|██████████████████████▋                                 | 2426/6000 [00:53<01:19, 44.91image/s]\u001b[A\n",
      " 40%|███████████████████████████████▌                                              | 2427/6000 [00:53<01:20, 44.60it/s]\u001b[A"
     ]
    },
    {
     "name": "stdout",
     "output_type": "stream",
     "text": [
      ">>> images count = 2420\n",
      ">>> images count = 2421\n",
      ">>> images count = 2422\n",
      ">>> images count = 2423\n",
      ">>> images count = 2424\n",
      ">>> images count = 2425\n",
      ">>> images count = 2426\n",
      ">>> images count = 2427\n",
      ">>> images count = 2428\n",
      ">>> images count = 2429\n"
     ]
    },
    {
     "name": "stderr",
     "output_type": "stream",
     "text": [
      "Processing Images:  41%|██████████████████████▋                                 | 2431/6000 [00:53<01:21, 43.59image/s]\n",
      "Processing Images:  41%|██████████████████████▋                                 | 2436/6000 [00:53<01:19, 44.65image/s]\u001b[A\n",
      " 41%|███████████████████████████████▋                                              | 2437/6000 [00:53<01:19, 44.64it/s]\u001b[A"
     ]
    },
    {
     "name": "stdout",
     "output_type": "stream",
     "text": [
      ">>> images count = 2430\n",
      ">>> images count = 2431\n",
      ">>> images count = 2432\n",
      ">>> images count = 2433\n",
      ">>> images count = 2434\n",
      ">>> images count = 2435\n",
      ">>> images count = 2436\n",
      ">>> images count = 2437\n",
      ">>> images count = 2438\n",
      ">>> images count = 2439\n"
     ]
    },
    {
     "name": "stderr",
     "output_type": "stream",
     "text": [
      "Processing Images:  41%|██████████████████████▊                                 | 2441/6000 [00:53<01:21, 43.75image/s]\n",
      "Processing Images:  41%|██████████████████████▊                                 | 2446/6000 [00:53<01:24, 42.01image/s]\u001b[A"
     ]
    },
    {
     "name": "stdout",
     "output_type": "stream",
     "text": [
      ">>> images count = 2440\n",
      ">>> images count = 2441\n",
      ">>> images count = 2442\n",
      ">>> images count = 2443\n",
      ">>> images count = 2444\n",
      ">>> images count = 2445\n",
      ">>> images count = 2446\n",
      ">>> images count = 2447\n"
     ]
    },
    {
     "name": "stderr",
     "output_type": "stream",
     "text": [
      "\n",
      "Processing Images:  41%|██████████████████████▉                                 | 2451/6000 [00:54<01:23, 42.64image/s]\u001b[A\n",
      "Processing Images:  41%|██████████████████████▉                                 | 2456/6000 [00:54<01:23, 42.43image/s]\u001b[A"
     ]
    },
    {
     "name": "stdout",
     "output_type": "stream",
     "text": [
      ">>> images count = 2448\n",
      ">>> images count = 2449\n",
      ">>> images count = 2450\n",
      ">>> images count = 2451\n",
      ">>> images count = 2452\n",
      ">>> images count = 2453\n",
      ">>> images count = 2454\n",
      ">>> images count = 2455\n"
     ]
    },
    {
     "name": "stderr",
     "output_type": "stream",
     "text": [
      "\n",
      "Processing Images:  41%|██████████████████████▉                                 | 2461/6000 [00:54<01:22, 42.97image/s]\u001b[A\n",
      " 41%|████████████████████████████████                                              | 2462/6000 [00:54<01:21, 43.49it/s]\u001b[A"
     ]
    },
    {
     "name": "stdout",
     "output_type": "stream",
     "text": [
      ">>> images count = 2456\n",
      ">>> images count = 2457\n",
      ">>> images count = 2458\n",
      ">>> images count = 2459\n",
      ">>> images count = 2460\n",
      ">>> images count = 2461\n",
      ">>> images count = 2462\n",
      ">>> images count = 2463\n",
      ">>> images count = 2464\n",
      ">>> images count = 2465\n"
     ]
    },
    {
     "name": "stderr",
     "output_type": "stream",
     "text": [
      "Processing Images:  41%|███████████████████████                                 | 2467/6000 [00:54<01:18, 45.22image/s]\n",
      "Processing Images:  41%|███████████████████████                                 | 2472/6000 [00:54<01:17, 45.73image/s]\u001b[A\n",
      " 41%|████████████████████████████████▏                                             | 2472/6000 [00:54<01:17, 45.76it/s]\u001b[A"
     ]
    },
    {
     "name": "stdout",
     "output_type": "stream",
     "text": [
      ">>> images count = 2466\n",
      ">>> images count = 2467\n",
      ">>> images count = 2468\n",
      ">>> images count = 2469\n",
      ">>> images count = 2470\n",
      ">>> images count = 2471\n",
      ">>> images count = 2472\n",
      ">>> images count = 2473\n",
      ">>> images count = 2474\n",
      ">>> images count = 2475\n"
     ]
    },
    {
     "name": "stderr",
     "output_type": "stream",
     "text": [
      "Processing Images:  41%|███████████████████████                                 | 2477/6000 [00:54<01:17, 45.17image/s]\n",
      "Processing Images:  41%|███████████████████████▏                                | 2483/6000 [00:54<01:14, 46.94image/s]\u001b[A\n",
      " 41%|████████████████████████████████▎                                             | 2483/6000 [00:54<01:14, 46.98it/s]\u001b[A"
     ]
    },
    {
     "name": "stdout",
     "output_type": "stream",
     "text": [
      ">>> images count = 2476\n",
      ">>> images count = 2477\n",
      ">>> images count = 2478\n",
      ">>> images count = 2479\n",
      ">>> images count = 2480\n",
      ">>> images count = 2481\n",
      ">>> images count = 2482\n",
      ">>> images count = 2483\n",
      ">>> images count = 2484\n",
      ">>> images count = 2485\n"
     ]
    },
    {
     "name": "stderr",
     "output_type": "stream",
     "text": [
      "Processing Images:  41%|███████████████████████▏                                | 2488/6000 [00:54<01:14, 46.86image/s]\n",
      "Processing Images:  42%|███████████████████████▎                                | 2493/6000 [00:54<01:13, 47.45image/s]\u001b[A\n",
      " 42%|████████████████████████████████▍                                             | 2493/6000 [00:54<01:13, 47.61it/s]\u001b[A"
     ]
    },
    {
     "name": "stdout",
     "output_type": "stream",
     "text": [
      ">>> images count = 2486\n",
      ">>> images count = 2487\n",
      ">>> images count = 2488\n",
      ">>> images count = 2489\n",
      ">>> images count = 2490\n",
      ">>> images count = 2491\n",
      ">>> images count = 2492\n",
      ">>> images count = 2493\n",
      ">>> images count = 2494\n",
      ">>> images count = 2495\n",
      ">>> images count = 2496\n",
      ">>> images count = 2497\n"
     ]
    },
    {
     "name": "stderr",
     "output_type": "stream",
     "text": [
      "Processing Images:  42%|███████████████████████▎                                | 2499/6000 [00:55<01:09, 50.10image/s]\n",
      "Processing Images:  42%|███████████████████████▍                                | 2505/6000 [00:55<01:10, 49.34image/s]\u001b[A\n",
      " 42%|████████████████████████████████▌                                             | 2505/6000 [00:55<01:10, 49.34it/s]\u001b[A"
     ]
    },
    {
     "name": "stdout",
     "output_type": "stream",
     "text": [
      ">>> images count = 2498\n",
      ">>> images count = 2499\n",
      ">>> images count = 2500\n",
      ">>> images count = 2501\n",
      ">>> images count = 2502\n",
      ">>> images count = 2503\n",
      ">>> images count = 2504\n",
      ">>> images count = 2505\n",
      ">>> images count = 2506\n",
      ">>> images count = 2507\n"
     ]
    },
    {
     "name": "stderr",
     "output_type": "stream",
     "text": [
      "Processing Images:  42%|███████████████████████▍                                | 2510/6000 [00:55<01:13, 47.24image/s]\n",
      "Processing Images:  42%|███████████████████████▍                                | 2516/6000 [00:55<01:12, 47.76image/s]\u001b[A\n",
      " 42%|████████████████████████████████▋                                             | 2516/6000 [00:55<01:12, 47.75it/s]\u001b[A"
     ]
    },
    {
     "name": "stdout",
     "output_type": "stream",
     "text": [
      ">>> images count = 2508\n",
      ">>> images count = 2509\n",
      ">>> images count = 2510\n",
      ">>> images count = 2511\n",
      ">>> images count = 2512\n",
      ">>> images count = 2513\n",
      ">>> images count = 2514\n",
      ">>> images count = 2515\n",
      ">>> images count = 2516\n",
      ">>> images count = 2517\n"
     ]
    },
    {
     "name": "stderr",
     "output_type": "stream",
     "text": [
      "Processing Images:  42%|███████████████████████▌                                | 2521/6000 [00:55<01:12, 48.15image/s]\n",
      "Processing Images:  42%|███████████████████████▌                                | 2526/6000 [00:55<01:12, 48.01image/s]\u001b[A\n",
      " 42%|████████████████████████████████▊                                             | 2526/6000 [00:55<01:12, 48.01it/s]\u001b[A"
     ]
    },
    {
     "name": "stdout",
     "output_type": "stream",
     "text": [
      ">>> images count = 2518\n",
      ">>> images count = 2519\n",
      ">>> images count = 2520\n",
      ">>> images count = 2521\n",
      ">>> images count = 2522\n",
      ">>> images count = 2523\n",
      ">>> images count = 2524\n",
      ">>> images count = 2525\n",
      ">>> images count = 2526\n",
      ">>> images count = 2527\n"
     ]
    },
    {
     "name": "stderr",
     "output_type": "stream",
     "text": [
      "Processing Images:  42%|███████████████████████▌                                | 2531/6000 [00:55<01:12, 48.13image/s]\n",
      "Processing Images:  42%|███████████████████████▋                                | 2536/6000 [00:55<01:12, 47.95image/s]\u001b[A\n",
      " 42%|████████████████████████████████▉                                             | 2536/6000 [00:55<01:12, 47.95it/s]\u001b[A"
     ]
    },
    {
     "name": "stdout",
     "output_type": "stream",
     "text": [
      ">>> images count = 2528\n",
      ">>> images count = 2529\n",
      ">>> images count = 2530\n",
      ">>> images count = 2531\n",
      ">>> images count = 2532\n",
      ">>> images count = 2533\n",
      ">>> images count = 2534\n",
      ">>> images count = 2535\n",
      ">>> images count = 2536\n",
      ">>> images count = 2537\n",
      ">>> images count = 2538\n"
     ]
    },
    {
     "name": "stderr",
     "output_type": "stream",
     "text": [
      "Processing Images:  42%|███████████████████████▋                                | 2541/6000 [00:55<01:15, 45.83image/s]\n",
      "Processing Images:  42%|███████████████████████▊                                | 2547/6000 [00:56<01:12, 47.50image/s]\u001b[A\n",
      " 42%|█████████████████████████████████                                             | 2547/6000 [00:56<01:12, 47.50it/s]\u001b[A"
     ]
    },
    {
     "name": "stdout",
     "output_type": "stream",
     "text": [
      ">>> images count = 2539\n",
      ">>> images count = 2540\n",
      ">>> images count = 2541\n",
      ">>> images count = 2542\n",
      ">>> images count = 2543\n",
      ">>> images count = 2544\n",
      ">>> images count = 2545\n",
      ">>> images count = 2546\n",
      ">>> images count = 2547\n",
      ">>> images count = 2548\n",
      ">>> images count = 2549\n"
     ]
    },
    {
     "name": "stderr",
     "output_type": "stream",
     "text": [
      "Processing Images:  43%|███████████████████████▊                                | 2553/6000 [00:56<01:10, 48.95image/s]\n",
      "Processing Images:  43%|███████████████████████▊                                | 2558/6000 [00:56<01:14, 46.38image/s]\u001b[A\n",
      " 43%|█████████████████████████████████▎                                            | 2558/6000 [00:56<01:14, 46.35it/s]\u001b[A"
     ]
    },
    {
     "name": "stdout",
     "output_type": "stream",
     "text": [
      ">>> images count = 2550\n",
      ">>> images count = 2551\n",
      ">>> images count = 2552\n",
      ">>> images count = 2553\n",
      ">>> images count = 2554\n",
      ">>> images count = 2555\n",
      ">>> images count = 2556\n",
      ">>> images count = 2557\n",
      ">>> images count = 2558\n",
      ">>> images count = 2559\n"
     ]
    },
    {
     "name": "stderr",
     "output_type": "stream",
     "text": [
      "Processing Images:  43%|███████████████████████▉                                | 2563/6000 [00:56<01:15, 45.50image/s]\n",
      " 43%|█████████████████████████████████▎                                            | 2563/6000 [00:56<01:15, 45.48it/s]\u001b[A"
     ]
    },
    {
     "name": "stdout",
     "output_type": "stream",
     "text": [
      ">>> images count = 2560\n",
      ">>> images count = 2561\n",
      ">>> images count = 2562\n",
      ">>> images count = 2563\n",
      ">>> images count = 2564\n",
      ">>> images count = 2565\n",
      ">>> images count = 2566\n",
      ">>> images count = 2567\n"
     ]
    },
    {
     "name": "stderr",
     "output_type": "stream",
     "text": [
      "Processing Images:  43%|███████████████████████▉                                | 2568/6000 [00:56<01:16, 44.94image/s]\n",
      "Processing Images:  43%|████████████████████████                                | 2573/6000 [00:56<01:16, 44.72image/s]\u001b[A\n",
      " 43%|█████████████████████████████████▍                                            | 2573/6000 [00:56<01:16, 44.82it/s]\u001b[A"
     ]
    },
    {
     "name": "stdout",
     "output_type": "stream",
     "text": [
      ">>> images count = 2568\n",
      ">>> images count = 2569\n",
      ">>> images count = 2570\n",
      ">>> images count = 2571\n",
      ">>> images count = 2572\n",
      ">>> images count = 2573\n",
      ">>> images count = 2574\n",
      ">>> images count = 2575\n",
      ">>> images count = 2576\n",
      ">>> images count = 2577\n"
     ]
    },
    {
     "name": "stderr",
     "output_type": "stream",
     "text": [
      "Processing Images:  43%|████████████████████████                                | 2578/6000 [00:56<01:19, 43.20image/s]\n",
      "Processing Images:  43%|████████████████████████                                | 2583/6000 [00:56<01:17, 44.17image/s]\u001b[A\n",
      " 43%|█████████████████████████████████▌                                            | 2583/6000 [00:56<01:17, 44.14it/s]\u001b[A"
     ]
    },
    {
     "name": "stdout",
     "output_type": "stream",
     "text": [
      ">>> images count = 2578\n",
      ">>> images count = 2579\n",
      ">>> images count = 2580\n",
      ">>> images count = 2581\n",
      ">>> images count = 2582\n",
      ">>> images count = 2583\n",
      ">>> images count = 2584\n",
      ">>> images count = 2585\n",
      ">>> images count = 2586\n",
      ">>> images count = 2587\n"
     ]
    },
    {
     "name": "stderr",
     "output_type": "stream",
     "text": [
      "Processing Images:  43%|████████████████████████▏                               | 2588/6000 [00:56<01:19, 42.94image/s]\n",
      "Processing Images:  43%|████████████████████████▏                               | 2593/6000 [00:57<01:19, 43.08image/s]\u001b[A\n",
      " 43%|█████████████████████████████████▋                                            | 2593/6000 [00:57<01:19, 43.07it/s]\u001b[A"
     ]
    },
    {
     "name": "stdout",
     "output_type": "stream",
     "text": [
      ">>> images count = 2588\n",
      ">>> images count = 2589\n",
      ">>> images count = 2590\n",
      ">>> images count = 2591\n",
      ">>> images count = 2592\n",
      ">>> images count = 2593\n",
      ">>> images count = 2594\n",
      ">>> images count = 2595\n",
      ">>> images count = 2596\n"
     ]
    },
    {
     "name": "stderr",
     "output_type": "stream",
     "text": [
      "Processing Images:  43%|████████████████████████▏                               | 2598/6000 [00:57<01:20, 42.26image/s]\n",
      "Processing Images:  43%|████████████████████████▎                               | 2603/6000 [00:57<01:17, 43.87image/s]\u001b[A\n",
      " 43%|█████████████████████████████████▊                                            | 2603/6000 [00:57<01:17, 43.87it/s]\u001b[A"
     ]
    },
    {
     "name": "stdout",
     "output_type": "stream",
     "text": [
      ">>> images count = 2597\n",
      ">>> images count = 2598\n",
      ">>> images count = 2599\n",
      ">>> images count = 2600\n",
      ">>> images count = 2601\n",
      ">>> images count = 2602\n",
      ">>> images count = 2603\n",
      ">>> images count = 2604\n",
      ">>> images count = 2605\n",
      ">>> images count = 2606\n"
     ]
    },
    {
     "name": "stderr",
     "output_type": "stream",
     "text": [
      "Processing Images:  43%|████████████████████████▎                               | 2608/6000 [00:57<01:17, 43.97image/s]\n",
      "Processing Images:  44%|████████████████████████▍                               | 2613/6000 [00:57<01:17, 43.69image/s]\u001b[A\n",
      " 44%|█████████████████████████████████▉                                            | 2613/6000 [00:57<01:17, 43.68it/s]\u001b[A"
     ]
    },
    {
     "name": "stdout",
     "output_type": "stream",
     "text": [
      ">>> images count = 2607\n",
      ">>> images count = 2608\n",
      ">>> images count = 2609\n",
      ">>> images count = 2610\n",
      ">>> images count = 2611\n",
      ">>> images count = 2612\n",
      ">>> images count = 2613\n",
      ">>> images count = 2614\n",
      ">>> images count = 2615\n",
      ">>> images count = 2616\n"
     ]
    },
    {
     "name": "stderr",
     "output_type": "stream",
     "text": [
      "Processing Images:  44%|████████████████████████▍                               | 2618/6000 [00:57<01:18, 42.83image/s]\n",
      "Processing Images:  44%|████████████████████████▍                               | 2623/6000 [00:57<01:22, 41.15image/s]\u001b[A\n",
      " 44%|██████████████████████████████████                                            | 2623/6000 [00:57<01:22, 41.15it/s]\u001b[A"
     ]
    },
    {
     "name": "stdout",
     "output_type": "stream",
     "text": [
      ">>> images count = 2617\n",
      ">>> images count = 2618\n",
      ">>> images count = 2619\n",
      ">>> images count = 2620\n",
      ">>> images count = 2621\n",
      ">>> images count = 2622\n",
      ">>> images count = 2623\n",
      ">>> images count = 2624\n"
     ]
    },
    {
     "name": "stderr",
     "output_type": "stream",
     "text": [
      "Processing Images:  44%|████████████████████████▌                               | 2628/6000 [00:57<01:24, 40.06image/s]\n",
      "Processing Images:  44%|████████████████████████▌                               | 2633/6000 [00:58<01:20, 41.77image/s]\u001b[A\n",
      " 44%|██████████████████████████████████▏                                           | 2633/6000 [00:58<01:20, 41.77it/s]\u001b[A"
     ]
    },
    {
     "name": "stdout",
     "output_type": "stream",
     "text": [
      ">>> images count = 2625\n",
      ">>> images count = 2626\n",
      ">>> images count = 2627\n",
      ">>> images count = 2628\n",
      ">>> images count = 2629\n",
      ">>> images count = 2630\n",
      ">>> images count = 2631\n",
      ">>> images count = 2632\n",
      ">>> images count = 2633\n",
      ">>> images count = 2634\n"
     ]
    },
    {
     "name": "stderr",
     "output_type": "stream",
     "text": [
      "Processing Images:  44%|████████████████████████▌                               | 2638/6000 [00:58<01:19, 42.15image/s]\n",
      " 44%|██████████████████████████████████▎                                           | 2638/6000 [00:58<01:19, 42.25it/s]\u001b[A"
     ]
    },
    {
     "name": "stdout",
     "output_type": "stream",
     "text": [
      ">>> images count = 2635\n",
      ">>> images count = 2636\n",
      ">>> images count = 2637\n",
      ">>> images count = 2638\n",
      ">>> images count = 2639\n",
      ">>> images count = 2640\n",
      ">>> images count = 2641\n",
      ">>> images count = 2642\n"
     ]
    },
    {
     "name": "stderr",
     "output_type": "stream",
     "text": [
      "Processing Images:  44%|████████████████████████▋                               | 2643/6000 [00:58<01:19, 41.99image/s]\n",
      "Processing Images:  44%|████████████████████████▋                               | 2648/6000 [00:58<01:20, 41.66image/s]\u001b[A\n",
      " 44%|██████████████████████████████████▍                                           | 2648/6000 [00:58<01:20, 41.64it/s]\u001b[A"
     ]
    },
    {
     "name": "stdout",
     "output_type": "stream",
     "text": [
      ">>> images count = 2643\n",
      ">>> images count = 2644\n",
      ">>> images count = 2645\n",
      ">>> images count = 2646\n",
      ">>> images count = 2647\n",
      ">>> images count = 2648\n",
      ">>> images count = 2649\n",
      ">>> images count = 2650\n",
      ">>> images count = 2651\n"
     ]
    },
    {
     "name": "stderr",
     "output_type": "stream",
     "text": [
      "Processing Images:  44%|████████████████████████▊                               | 2653/6000 [00:58<01:19, 41.96image/s]\n",
      "Processing Images:  44%|████████████████████████▊                               | 2658/6000 [00:58<01:18, 42.51image/s]\u001b[A\n",
      " 44%|██████████████████████████████████▌                                           | 2658/6000 [00:58<01:18, 42.50it/s]\u001b[A"
     ]
    },
    {
     "name": "stdout",
     "output_type": "stream",
     "text": [
      ">>> images count = 2652\n",
      ">>> images count = 2653\n",
      ">>> images count = 2654\n",
      ">>> images count = 2655\n",
      ">>> images count = 2656\n",
      ">>> images count = 2657\n",
      ">>> images count = 2658\n",
      ">>> images count = 2659\n",
      ">>> images count = 2660\n"
     ]
    },
    {
     "name": "stderr",
     "output_type": "stream",
     "text": [
      "Processing Images:  44%|████████████████████████▊                               | 2663/6000 [00:58<01:18, 42.56image/s]\n",
      "Processing Images:  44%|████████████████████████▉                               | 2668/6000 [00:58<01:17, 42.82image/s]\u001b[A\n",
      " 44%|██████████████████████████████████▋                                           | 2668/6000 [00:58<01:17, 42.81it/s]\u001b[A"
     ]
    },
    {
     "name": "stdout",
     "output_type": "stream",
     "text": [
      ">>> images count = 2661\n",
      ">>> images count = 2662\n",
      ">>> images count = 2663\n",
      ">>> images count = 2664\n",
      ">>> images count = 2665\n",
      ">>> images count = 2666\n",
      ">>> images count = 2667\n",
      ">>> images count = 2668\n",
      ">>> images count = 2669\n"
     ]
    },
    {
     "name": "stderr",
     "output_type": "stream",
     "text": [
      "Processing Images:  45%|████████████████████████▉                               | 2673/6000 [00:59<01:20, 41.40image/s]\n",
      " 45%|██████████████████████████████████▋                                           | 2673/6000 [00:59<01:20, 41.40it/s]\u001b[A"
     ]
    },
    {
     "name": "stdout",
     "output_type": "stream",
     "text": [
      ">>> images count = 2670\n",
      ">>> images count = 2671\n",
      ">>> images count = 2672\n",
      ">>> images count = 2673\n",
      ">>> images count = 2674\n",
      ">>> images count = 2675\n",
      ">>> images count = 2676\n",
      ">>> images count = 2677\n"
     ]
    },
    {
     "name": "stderr",
     "output_type": "stream",
     "text": [
      "Processing Images:  45%|████████████████████████▉                               | 2678/6000 [00:59<01:20, 41.52image/s]\n",
      "Processing Images:  45%|█████████████████████████                               | 2683/6000 [00:59<01:19, 41.86image/s]\u001b[A\n",
      " 45%|██████████████████████████████████▉                                           | 2683/6000 [00:59<01:19, 41.86it/s]\u001b[A"
     ]
    },
    {
     "name": "stdout",
     "output_type": "stream",
     "text": [
      ">>> images count = 2678\n",
      ">>> images count = 2679\n",
      ">>> images count = 2680\n",
      ">>> images count = 2681\n",
      ">>> images count = 2682\n",
      ">>> images count = 2683\n",
      ">>> images count = 2684\n",
      ">>> images count = 2685\n",
      ">>> images count = 2686\n"
     ]
    },
    {
     "name": "stderr",
     "output_type": "stream",
     "text": [
      "Processing Images:  45%|█████████████████████████                               | 2688/6000 [00:59<01:20, 40.96image/s]\n",
      "Processing Images:  45%|█████████████████████████▏                              | 2693/6000 [00:59<01:18, 41.89image/s]\u001b[A\n",
      " 45%|███████████████████████████████████                                           | 2693/6000 [00:59<01:18, 41.99it/s]\u001b[A"
     ]
    },
    {
     "name": "stdout",
     "output_type": "stream",
     "text": [
      ">>> images count = 2687\n",
      ">>> images count = 2688\n",
      ">>> images count = 2689\n",
      ">>> images count = 2690\n",
      ">>> images count = 2691\n",
      ">>> images count = 2692\n",
      ">>> images count = 2693\n",
      ">>> images count = 2694\n",
      ">>> images count = 2695\n",
      ">>> images count = 2696\n"
     ]
    },
    {
     "name": "stderr",
     "output_type": "stream",
     "text": [
      "Processing Images:  45%|█████████████████████████▏                              | 2698/6000 [00:59<01:17, 42.34image/s]\n",
      "Processing Images:  45%|█████████████████████████▏                              | 2703/6000 [00:59<01:20, 40.75image/s]\u001b[A\n",
      " 45%|███████████████████████████████████▏                                          | 2703/6000 [00:59<01:20, 40.73it/s]\u001b[A"
     ]
    },
    {
     "name": "stdout",
     "output_type": "stream",
     "text": [
      ">>> images count = 2697\n",
      ">>> images count = 2698\n",
      ">>> images count = 2699\n",
      ">>> images count = 2700\n",
      ">>> images count = 2701\n",
      ">>> images count = 2702\n",
      ">>> images count = 2703\n",
      ">>> images count = 2704\n"
     ]
    },
    {
     "name": "stderr",
     "output_type": "stream",
     "text": [
      "Processing Images:  45%|█████████████████████████▎                              | 2708/6000 [00:59<01:19, 41.52image/s]\n",
      "Processing Images:  45%|█████████████████████████▎                              | 2713/6000 [00:59<01:18, 42.08image/s]\u001b[A\n",
      " 45%|███████████████████████████████████▎                                          | 2713/6000 [00:59<01:18, 42.06it/s]"
     ]
    },
    {
     "name": "stdout",
     "output_type": "stream",
     "text": [
      ">>> images count = 2705\n",
      ">>> images count = 2706\n",
      ">>> images count = 2707\n",
      ">>> images count = 2708\n",
      ">>> images count = 2709\n",
      ">>> images count = 2710\n",
      ">>> images count = 2711\n",
      ">>> images count = 2712\n",
      ">>> images count = 2713\n"
     ]
    },
    {
     "name": "stderr",
     "output_type": "stream",
     "text": [
      "Processing Images:  45%|█████████████████████████▎                              | 2718/6000 [01:00<01:18, 41.78image/s]\n",
      " 45%|███████████████████████████████████▎                                          | 2718/6000 [01:00<01:18, 41.77it/s]\u001b[A"
     ]
    },
    {
     "name": "stdout",
     "output_type": "stream",
     "text": [
      ">>> images count = 2714\n",
      ">>> images count = 2715\n",
      ">>> images count = 2716\n",
      ">>> images count = 2717\n",
      ">>> images count = 2718\n",
      ">>> images count = 2719\n",
      ">>> images count = 2720\n",
      ">>> images count = 2721\n"
     ]
    },
    {
     "name": "stderr",
     "output_type": "stream",
     "text": [
      "Processing Images:  45%|█████████████████████████▍                              | 2723/6000 [01:00<01:17, 42.37image/s]\n",
      "Processing Images:  45%|█████████████████████████▍                              | 2728/6000 [01:00<01:15, 43.57image/s]\u001b[A\n",
      " 45%|███████████████████████████████████▍                                          | 2728/6000 [01:00<01:15, 43.57it/s]\u001b[A"
     ]
    },
    {
     "name": "stdout",
     "output_type": "stream",
     "text": [
      ">>> images count = 2722\n",
      ">>> images count = 2723\n",
      ">>> images count = 2724\n",
      ">>> images count = 2725\n",
      ">>> images count = 2726\n",
      ">>> images count = 2727\n",
      ">>> images count = 2728\n",
      ">>> images count = 2729\n",
      ">>> images count = 2730\n"
     ]
    },
    {
     "name": "stderr",
     "output_type": "stream",
     "text": [
      "Processing Images:  46%|█████████████████████████▌                              | 2733/6000 [01:00<01:16, 42.48image/s]\n",
      "Processing Images:  46%|█████████████████████████▌                              | 2738/6000 [01:00<01:17, 42.22image/s]\u001b[A\n",
      " 46%|███████████████████████████████████▌                                          | 2738/6000 [01:00<01:17, 42.22it/s]\u001b[A"
     ]
    },
    {
     "name": "stdout",
     "output_type": "stream",
     "text": [
      ">>> images count = 2731\n",
      ">>> images count = 2732\n",
      ">>> images count = 2733\n",
      ">>> images count = 2734\n",
      ">>> images count = 2735\n",
      ">>> images count = 2736\n",
      ">>> images count = 2737\n",
      ">>> images count = 2738\n",
      ">>> images count = 2739\n"
     ]
    },
    {
     "name": "stderr",
     "output_type": "stream",
     "text": [
      "Processing Images:  46%|█████████████████████████▌                              | 2743/6000 [01:00<01:18, 41.52image/s]\n",
      " 46%|███████████████████████████████████▋                                          | 2743/6000 [01:00<01:18, 41.62it/s]\u001b[A"
     ]
    },
    {
     "name": "stdout",
     "output_type": "stream",
     "text": [
      ">>> images count = 2740\n",
      ">>> images count = 2741\n",
      ">>> images count = 2742\n",
      ">>> images count = 2743\n",
      ">>> images count = 2744\n",
      ">>> images count = 2745\n",
      ">>> images count = 2746\n",
      ">>> images count = 2747\n"
     ]
    },
    {
     "name": "stderr",
     "output_type": "stream",
     "text": [
      "Processing Images:  46%|█████████████████████████▋                              | 2748/6000 [01:00<01:17, 41.86image/s]\n",
      "Processing Images:  46%|█████████████████████████▋                              | 2753/6000 [01:00<01:17, 41.81image/s]\u001b[A\n",
      " 46%|███████████████████████████████████▊                                          | 2753/6000 [01:00<01:17, 41.79it/s]\u001b[A"
     ]
    },
    {
     "name": "stdout",
     "output_type": "stream",
     "text": [
      ">>> images count = 2748\n",
      ">>> images count = 2749\n",
      ">>> images count = 2750\n",
      ">>> images count = 2751\n",
      ">>> images count = 2752\n",
      ">>> images count = 2753\n",
      ">>> images count = 2754\n",
      ">>> images count = 2755\n",
      ">>> images count = 2756\n",
      ">>> images count = 2757\n"
     ]
    },
    {
     "name": "stderr",
     "output_type": "stream",
     "text": [
      "Processing Images:  46%|█████████████████████████▋                              | 2758/6000 [01:01<01:15, 42.92image/s]\n",
      "Processing Images:  46%|█████████████████████████▊                              | 2764/6000 [01:01<01:11, 45.08image/s]\u001b[A\n",
      " 46%|███████████████████████████████████▉                                          | 2764/6000 [01:01<01:11, 45.06it/s]\u001b[A"
     ]
    },
    {
     "name": "stdout",
     "output_type": "stream",
     "text": [
      ">>> images count = 2758\n",
      ">>> images count = 2759\n",
      ">>> images count = 2760\n",
      ">>> images count = 2761\n",
      ">>> images count = 2762\n",
      ">>> images count = 2763\n",
      ">>> images count = 2764\n",
      ">>> images count = 2765\n",
      ">>> images count = 2766\n",
      ">>> images count = 2767\n",
      ">>> images count = 2768\n"
     ]
    },
    {
     "name": "stderr",
     "output_type": "stream",
     "text": [
      "Processing Images:  46%|█████████████████████████▊                              | 2769/6000 [01:01<01:10, 45.88image/s]\n",
      "Processing Images:  46%|█████████████████████████▉                              | 2774/6000 [01:01<01:09, 46.54image/s]\u001b[A\n",
      "Processing Images:  46%|█████████████████████████▉                              | 2779/6000 [01:01<01:08, 47.35image/s]\u001b[A"
     ]
    },
    {
     "name": "stdout",
     "output_type": "stream",
     "text": [
      ">>> images count = 2769\n",
      ">>> images count = 2770\n",
      ">>> images count = 2771\n",
      ">>> images count = 2772\n",
      ">>> images count = 2773\n",
      ">>> images count = 2774\n",
      ">>> images count = 2775\n",
      ">>> images count = 2776\n",
      ">>> images count = 2777\n",
      ">>> images count = 2778\n"
     ]
    },
    {
     "name": "stderr",
     "output_type": "stream",
     "text": [
      "\n",
      "Processing Images:  46%|█████████████████████████▉                              | 2785/6000 [01:01<01:05, 49.25image/s]\u001b[A\n",
      " 46%|████████████████████████████████████▏                                         | 2785/6000 [01:01<01:05, 49.45it/s]\u001b[A"
     ]
    },
    {
     "name": "stdout",
     "output_type": "stream",
     "text": [
      ">>> images count = 2779\n",
      ">>> images count = 2780\n",
      ">>> images count = 2781\n",
      ">>> images count = 2782\n",
      ">>> images count = 2783\n",
      ">>> images count = 2784\n",
      ">>> images count = 2785\n",
      ">>> images count = 2786\n",
      ">>> images count = 2787\n",
      ">>> images count = 2788\n",
      ">>> images count = 2789\n"
     ]
    },
    {
     "name": "stderr",
     "output_type": "stream",
     "text": [
      "Processing Images:  46%|██████████████████████████                              | 2790/6000 [01:01<01:05, 49.30image/s]\n",
      "Processing Images:  47%|██████████████████████████                              | 2796/6000 [01:01<01:04, 49.91image/s]\u001b[A\n",
      " 47%|████████████████████████████████████▎                                         | 2796/6000 [01:01<01:04, 49.92it/s]\u001b[A"
     ]
    },
    {
     "name": "stdout",
     "output_type": "stream",
     "text": [
      ">>> images count = 2790\n",
      ">>> images count = 2791\n",
      ">>> images count = 2792\n",
      ">>> images count = 2793\n",
      ">>> images count = 2794\n",
      ">>> images count = 2795\n",
      ">>> images count = 2796\n",
      ">>> images count = 2797\n",
      ">>> images count = 2798\n",
      ">>> images count = 2799\n"
     ]
    },
    {
     "name": "stderr",
     "output_type": "stream",
     "text": [
      "Processing Images:  47%|██████████████████████████▏                             | 2801/6000 [01:01<01:04, 49.49image/s]\n",
      "Processing Images:  47%|██████████████████████████▏                             | 2806/6000 [01:01<01:04, 49.19image/s]\u001b[A\n",
      " 47%|████████████████████████████████████▍                                         | 2806/6000 [01:01<01:04, 49.19it/s]\u001b[A"
     ]
    },
    {
     "name": "stdout",
     "output_type": "stream",
     "text": [
      ">>> images count = 2800\n",
      ">>> images count = 2801\n",
      ">>> images count = 2802\n",
      ">>> images count = 2803\n",
      ">>> images count = 2804\n",
      ">>> images count = 2805\n",
      ">>> images count = 2806\n",
      ">>> images count = 2807\n",
      ">>> images count = 2808\n",
      ">>> images count = 2809\n"
     ]
    },
    {
     "name": "stderr",
     "output_type": "stream",
     "text": [
      "Processing Images:  47%|██████████████████████████▏                             | 2811/6000 [01:02<01:06, 48.20image/s]\n",
      "Processing Images:  47%|██████████████████████████▎                             | 2816/6000 [01:02<01:06, 47.74image/s]\u001b[A\n",
      " 47%|████████████████████████████████████▌                                         | 2816/6000 [01:02<01:06, 47.74it/s]\u001b[A"
     ]
    },
    {
     "name": "stdout",
     "output_type": "stream",
     "text": [
      ">>> images count = 2810\n",
      ">>> images count = 2811\n",
      ">>> images count = 2812\n",
      ">>> images count = 2813\n",
      ">>> images count = 2814\n",
      ">>> images count = 2815\n",
      ">>> images count = 2816\n",
      ">>> images count = 2817\n",
      ">>> images count = 2818\n"
     ]
    },
    {
     "name": "stderr",
     "output_type": "stream",
     "text": [
      "Processing Images:  47%|██████████████████████████▎                             | 2821/6000 [01:02<01:08, 46.29image/s]\n",
      "Processing Images:  47%|██████████████████████████▍                             | 2827/6000 [01:02<01:06, 47.90image/s]\u001b[A\n",
      " 47%|████████████████████████████████████▊                                         | 2827/6000 [01:02<01:06, 47.98it/s]\u001b[A"
     ]
    },
    {
     "name": "stdout",
     "output_type": "stream",
     "text": [
      ">>> images count = 2819\n",
      ">>> images count = 2820\n",
      ">>> images count = 2821\n",
      ">>> images count = 2822\n",
      ">>> images count = 2823\n",
      ">>> images count = 2824\n",
      ">>> images count = 2825\n",
      ">>> images count = 2826\n",
      ">>> images count = 2827\n",
      ">>> images count = 2828\n",
      ">>> images count = 2829\n"
     ]
    },
    {
     "name": "stderr",
     "output_type": "stream",
     "text": [
      "Processing Images:  47%|██████████████████████████▍                             | 2833/6000 [01:02<01:04, 49.06image/s]\n",
      "Processing Images:  47%|██████████████████████████▍                             | 2839/6000 [01:02<01:02, 50.64image/s]\u001b[A\n",
      " 47%|████████████████████████████████████▉                                         | 2839/6000 [01:02<01:02, 50.72it/s]\u001b[A"
     ]
    },
    {
     "name": "stdout",
     "output_type": "stream",
     "text": [
      ">>> images count = 2830\n",
      ">>> images count = 2831\n",
      ">>> images count = 2832\n",
      ">>> images count = 2833\n",
      ">>> images count = 2834\n",
      ">>> images count = 2835\n",
      ">>> images count = 2836\n",
      ">>> images count = 2837\n",
      ">>> images count = 2838\n",
      ">>> images count = 2839\n",
      ">>> images count = 2840\n"
     ]
    },
    {
     "name": "stderr",
     "output_type": "stream",
     "text": [
      "Processing Images:  47%|██████████████████████████▌                             | 2845/6000 [01:02<01:02, 50.57image/s]\n",
      "Processing Images:  48%|██████████████████████████▌                             | 2851/6000 [01:02<01:03, 49.77image/s]\u001b[A"
     ]
    },
    {
     "name": "stdout",
     "output_type": "stream",
     "text": [
      ">>> images count = 2841\n",
      ">>> images count = 2842\n",
      ">>> images count = 2843\n",
      ">>> images count = 2844\n",
      ">>> images count = 2845\n",
      ">>> images count = 2846\n",
      ">>> images count = 2847\n",
      ">>> images count = 2848\n",
      ">>> images count = 2849\n",
      ">>> images count = 2850\n"
     ]
    },
    {
     "name": "stderr",
     "output_type": "stream",
     "text": [
      "\n",
      "Processing Images:  48%|██████████████████████████▋                             | 2857/6000 [01:03<01:03, 49.51image/s]\u001b[A\n",
      " 48%|█████████████████████████████████████▏                                        | 2857/6000 [01:03<01:03, 49.53it/s]\u001b[A"
     ]
    },
    {
     "name": "stdout",
     "output_type": "stream",
     "text": [
      ">>> images count = 2851\n",
      ">>> images count = 2852\n",
      ">>> images count = 2853\n",
      ">>> images count = 2854\n",
      ">>> images count = 2855\n",
      ">>> images count = 2856\n",
      ">>> images count = 2857\n",
      ">>> images count = 2858\n",
      ">>> images count = 2859\n",
      ">>> images count = 2860\n"
     ]
    },
    {
     "name": "stderr",
     "output_type": "stream",
     "text": [
      "Processing Images:  48%|██████████████████████████▋                             | 2862/6000 [01:03<01:04, 48.42image/s]\n",
      "Processing Images:  48%|██████████████████████████▊                             | 2867/6000 [01:03<01:06, 47.29image/s]\u001b[A\n",
      " 48%|█████████████████████████████████████▎                                        | 2867/6000 [01:03<01:06, 47.30it/s]\u001b[A"
     ]
    },
    {
     "name": "stdout",
     "output_type": "stream",
     "text": [
      ">>> images count = 2861\n",
      ">>> images count = 2862\n",
      ">>> images count = 2863\n",
      ">>> images count = 2864\n",
      ">>> images count = 2865\n",
      ">>> images count = 2866\n",
      ">>> images count = 2867\n",
      ">>> images count = 2868\n",
      ">>> images count = 2869\n",
      ">>> images count = 2870\n"
     ]
    },
    {
     "name": "stderr",
     "output_type": "stream",
     "text": [
      "Processing Images:  48%|██████████████████████████▊                             | 2872/6000 [01:03<01:05, 47.61image/s]\n",
      "Processing Images:  48%|██████████████████████████▊                             | 2878/6000 [01:03<01:02, 49.64image/s]\u001b[A\n",
      " 48%|█████████████████████████████████████▍                                        | 2878/6000 [01:03<01:02, 49.65it/s]\u001b[A"
     ]
    },
    {
     "name": "stdout",
     "output_type": "stream",
     "text": [
      ">>> images count = 2871\n",
      ">>> images count = 2872\n",
      ">>> images count = 2873\n",
      ">>> images count = 2874\n",
      ">>> images count = 2875\n",
      ">>> images count = 2876\n",
      ">>> images count = 2877\n",
      ">>> images count = 2878\n",
      ">>> images count = 2879\n",
      ">>> images count = 2880\n"
     ]
    },
    {
     "name": "stderr",
     "output_type": "stream",
     "text": [
      "Processing Images:  48%|██████████████████████████▉                             | 2883/6000 [01:03<01:07, 46.30image/s]\n",
      "Processing Images:  48%|██████████████████████████▉                             | 2888/6000 [01:03<01:09, 44.55image/s]\u001b[A"
     ]
    },
    {
     "name": "stdout",
     "output_type": "stream",
     "text": [
      ">>> images count = 2881\n",
      ">>> images count = 2882\n",
      ">>> images count = 2883\n",
      ">>> images count = 2884\n",
      ">>> images count = 2885\n",
      ">>> images count = 2886\n",
      ">>> images count = 2887\n"
     ]
    },
    {
     "name": "stderr",
     "output_type": "stream",
     "text": [
      "\n",
      "Processing Images:  48%|███████████████████████████                             | 2893/6000 [01:03<01:08, 45.03image/s]\u001b[A\n",
      " 48%|█████████████████████████████████████▌                                        | 2893/6000 [01:03<01:09, 45.03it/s]\u001b[A"
     ]
    },
    {
     "name": "stdout",
     "output_type": "stream",
     "text": [
      ">>> images count = 2888\n",
      ">>> images count = 2889\n",
      ">>> images count = 2890\n",
      ">>> images count = 2891\n",
      ">>> images count = 2892\n",
      ">>> images count = 2893\n",
      ">>> images count = 2894\n",
      ">>> images count = 2895\n",
      ">>> images count = 2896\n",
      ">>> images count = 2897\n"
     ]
    },
    {
     "name": "stderr",
     "output_type": "stream",
     "text": [
      "Processing Images:  48%|███████████████████████████                             | 2898/6000 [01:03<01:08, 45.62image/s]\n",
      "Processing Images:  48%|███████████████████████████                             | 2903/6000 [01:04<01:09, 44.48image/s]\u001b[A\n",
      " 48%|█████████████████████████████████████▋                                        | 2903/6000 [01:04<01:09, 44.48it/s]\u001b[A"
     ]
    },
    {
     "name": "stdout",
     "output_type": "stream",
     "text": [
      ">>> images count = 2898\n",
      ">>> images count = 2899\n",
      ">>> images count = 2900\n",
      ">>> images count = 2901\n",
      ">>> images count = 2902\n",
      ">>> images count = 2903\n",
      ">>> images count = 2904\n",
      ">>> images count = 2905\n",
      ">>> images count = 2906\n",
      ">>> images count = 2907\n"
     ]
    },
    {
     "name": "stderr",
     "output_type": "stream",
     "text": [
      "Processing Images:  48%|███████████████████████████▏                            | 2909/6000 [01:04<01:05, 46.86image/s]\n",
      "Processing Images:  49%|███████████████████████████▏                            | 2915/6000 [01:04<01:02, 49.22image/s]\u001b[A\n",
      " 49%|█████████████████████████████████████▉                                        | 2915/6000 [01:04<01:02, 49.22it/s]\u001b[A"
     ]
    },
    {
     "name": "stdout",
     "output_type": "stream",
     "text": [
      ">>> images count = 2908\n",
      ">>> images count = 2909\n",
      ">>> images count = 2910\n",
      ">>> images count = 2911\n",
      ">>> images count = 2912\n",
      ">>> images count = 2913\n",
      ">>> images count = 2914\n",
      ">>> images count = 2915\n",
      ">>> images count = 2916\n",
      ">>> images count = 2917\n",
      ">>> images count = 2918\n",
      ">>> images count = 2919\n"
     ]
    },
    {
     "name": "stderr",
     "output_type": "stream",
     "text": [
      "Processing Images:  49%|███████████████████████████▎                            | 2920/6000 [01:04<01:02, 49.41image/s]\n",
      "Processing Images:  49%|███████████████████████████▎                            | 2925/6000 [01:04<01:03, 48.46image/s]\u001b[A\n",
      " 49%|██████████████████████████████████████                                        | 2925/6000 [01:04<01:03, 48.46it/s]\u001b[A"
     ]
    },
    {
     "name": "stdout",
     "output_type": "stream",
     "text": [
      ">>> images count = 2920\n",
      ">>> images count = 2921\n",
      ">>> images count = 2922\n",
      ">>> images count = 2923\n",
      ">>> images count = 2924\n",
      ">>> images count = 2925\n",
      ">>> images count = 2926\n",
      ">>> images count = 2927\n",
      ">>> images count = 2928\n",
      ">>> images count = 2929\n"
     ]
    },
    {
     "name": "stderr",
     "output_type": "stream",
     "text": [
      "Processing Images:  49%|███████████████████████████▎                            | 2930/6000 [01:04<01:03, 48.19image/s]\n",
      "Processing Images:  49%|███████████████████████████▍                            | 2935/6000 [01:04<01:04, 47.46image/s]\u001b[A\n",
      " 49%|██████████████████████████████████████▏                                       | 2935/6000 [01:04<01:04, 47.46it/s]\u001b[A"
     ]
    },
    {
     "name": "stdout",
     "output_type": "stream",
     "text": [
      ">>> images count = 2930\n",
      ">>> images count = 2931\n",
      ">>> images count = 2932\n",
      ">>> images count = 2933\n",
      ">>> images count = 2934\n",
      ">>> images count = 2935\n",
      ">>> images count = 2936\n",
      ">>> images count = 2937\n",
      ">>> images count = 2938\n",
      ">>> images count = 2939\n"
     ]
    },
    {
     "name": "stderr",
     "output_type": "stream",
     "text": [
      "Processing Images:  49%|███████████████████████████▍                            | 2940/6000 [01:04<01:06, 46.32image/s]\n",
      "Processing Images:  49%|███████████████████████████▍                            | 2945/6000 [01:04<01:07, 45.37image/s]\u001b[A\n",
      " 49%|██████████████████████████████████████▎                                       | 2945/6000 [01:04<01:07, 45.37it/s]\u001b[A"
     ]
    },
    {
     "name": "stdout",
     "output_type": "stream",
     "text": [
      ">>> images count = 2940\n",
      ">>> images count = 2941\n",
      ">>> images count = 2942\n",
      ">>> images count = 2943\n",
      ">>> images count = 2944\n",
      ">>> images count = 2945\n",
      ">>> images count = 2946\n",
      ">>> images count = 2947\n",
      ">>> images count = 2948\n"
     ]
    },
    {
     "name": "stderr",
     "output_type": "stream",
     "text": [
      "Processing Images:  49%|███████████████████████████▌                            | 2950/6000 [01:05<01:06, 45.87image/s]\n",
      "Processing Images:  49%|███████████████████████████▌                            | 2955/6000 [01:05<01:05, 46.74image/s]\u001b[A\n",
      " 49%|██████████████████████████████████████▍                                       | 2955/6000 [01:05<01:05, 46.74it/s]\u001b[A"
     ]
    },
    {
     "name": "stdout",
     "output_type": "stream",
     "text": [
      ">>> images count = 2949\n",
      ">>> images count = 2950\n",
      ">>> images count = 2951\n",
      ">>> images count = 2952\n",
      ">>> images count = 2953\n",
      ">>> images count = 2954\n",
      ">>> images count = 2955\n",
      ">>> images count = 2956\n",
      ">>> images count = 2957\n"
     ]
    },
    {
     "name": "stderr",
     "output_type": "stream",
     "text": [
      "Processing Images:  49%|███████████████████████████▋                            | 2960/6000 [01:05<01:08, 44.26image/s]\n",
      "Processing Images:  49%|███████████████████████████▋                            | 2965/6000 [01:05<01:09, 43.76image/s]\u001b[A\n",
      " 49%|██████████████████████████████████████▌                                       | 2965/6000 [01:05<01:09, 43.76it/s]\u001b[A"
     ]
    },
    {
     "name": "stdout",
     "output_type": "stream",
     "text": [
      ">>> images count = 2958\n",
      ">>> images count = 2959\n",
      ">>> images count = 2960\n",
      ">>> images count = 2961\n",
      ">>> images count = 2962\n",
      ">>> images count = 2963\n",
      ">>> images count = 2964\n",
      ">>> images count = 2965\n",
      ">>> images count = 2966\n",
      ">>> images count = 2967\n"
     ]
    },
    {
     "name": "stderr",
     "output_type": "stream",
     "text": [
      "Processing Images:  50%|███████████████████████████▋                            | 2970/6000 [01:05<01:07, 44.93image/s]\n",
      "Processing Images:  50%|███████████████████████████▊                            | 2975/6000 [01:05<01:08, 44.48image/s]\u001b[A\n",
      " 50%|██████████████████████████████████████▋                                       | 2975/6000 [01:05<01:08, 44.36it/s]\u001b[A"
     ]
    },
    {
     "name": "stdout",
     "output_type": "stream",
     "text": [
      ">>> images count = 2968\n",
      ">>> images count = 2969\n",
      ">>> images count = 2970\n",
      ">>> images count = 2971\n",
      ">>> images count = 2972\n",
      ">>> images count = 2973\n",
      ">>> images count = 2974\n",
      ">>> images count = 2975\n",
      ">>> images count = 2976\n",
      ">>> images count = 2977\n"
     ]
    },
    {
     "name": "stderr",
     "output_type": "stream",
     "text": [
      "Processing Images:  50%|███████████████████████████▊                            | 2980/6000 [01:05<01:06, 45.60image/s]\n",
      "Processing Images:  50%|███████████████████████████▊                            | 2985/6000 [01:05<01:05, 46.29image/s]\u001b[A\n",
      " 50%|██████████████████████████████████████▊                                       | 2985/6000 [01:05<01:05, 46.32it/s]\u001b[A"
     ]
    },
    {
     "name": "stdout",
     "output_type": "stream",
     "text": [
      ">>> images count = 2978\n",
      ">>> images count = 2979\n",
      ">>> images count = 2980\n",
      ">>> images count = 2981\n",
      ">>> images count = 2982\n",
      ">>> images count = 2983\n",
      ">>> images count = 2984\n",
      ">>> images count = 2985\n",
      ">>> images count = 2986\n",
      ">>> images count = 2987\n"
     ]
    },
    {
     "name": "stderr",
     "output_type": "stream",
     "text": [
      "Processing Images:  50%|███████████████████████████▉                            | 2990/6000 [01:05<01:07, 44.55image/s]\n",
      "Processing Images:  50%|███████████████████████████▉                            | 2995/6000 [01:06<01:07, 44.24image/s]\u001b[A\n",
      " 50%|██████████████████████████████████████▉                                       | 2995/6000 [01:06<01:07, 44.25it/s]\u001b[A"
     ]
    },
    {
     "name": "stdout",
     "output_type": "stream",
     "text": [
      ">>> images count = 2988\n",
      ">>> images count = 2989\n",
      ">>> images count = 2990\n",
      ">>> images count = 2991\n",
      ">>> images count = 2992\n",
      ">>> images count = 2993\n",
      ">>> images count = 2994\n",
      ">>> images count = 2995\n",
      ">>> images count = 2996\n"
     ]
    },
    {
     "name": "stderr",
     "output_type": "stream",
     "text": [
      "Processing Images:  50%|████████████████████████████                            | 3000/6000 [01:06<01:12, 41.16image/s]\n",
      " 50%|███████████████████████████████████████                                       | 3000/6000 [01:06<01:13, 41.07it/s]\u001b[A"
     ]
    },
    {
     "name": "stdout",
     "output_type": "stream",
     "text": [
      ">>> images count = 2997\n",
      ">>> images count = 2998\n",
      ">>> images count = 2999\n",
      ">>> images count = 3000\n",
      ">>> images count = 3001\n",
      ">>> images count = 3002\n",
      ">>> images count = 3003\n",
      ">>> images count = 3004\n"
     ]
    },
    {
     "name": "stderr",
     "output_type": "stream",
     "text": [
      "Processing Images:  50%|████████████████████████████                            | 3005/6000 [01:06<01:09, 43.16image/s]\n",
      "Processing Images:  50%|████████████████████████████                            | 3010/6000 [01:06<01:07, 44.03image/s]\u001b[A\n",
      " 50%|███████████████████████████████████████▏                                      | 3010/6000 [01:06<01:08, 43.94it/s]\u001b[A"
     ]
    },
    {
     "name": "stdout",
     "output_type": "stream",
     "text": [
      ">>> images count = 3005\n",
      ">>> images count = 3006\n",
      ">>> images count = 3007\n",
      ">>> images count = 3008\n",
      ">>> images count = 3009\n",
      ">>> images count = 3010\n",
      ">>> images count = 3011\n",
      ">>> images count = 3012\n",
      ">>> images count = 3013\n",
      ">>> images count = 3014\n"
     ]
    },
    {
     "name": "stderr",
     "output_type": "stream",
     "text": [
      "Processing Images:  50%|████████████████████████████▏                           | 3015/6000 [01:06<01:08, 43.73image/s]\n",
      "Processing Images:  50%|████████████████████████████▏                           | 3020/6000 [01:06<01:08, 43.58image/s]\u001b[A\n",
      " 50%|███████████████████████████████████████▎                                      | 3020/6000 [01:06<01:08, 43.62it/s]\u001b[A"
     ]
    },
    {
     "name": "stdout",
     "output_type": "stream",
     "text": [
      ">>> images count = 3015\n",
      ">>> images count = 3016\n",
      ">>> images count = 3017\n",
      ">>> images count = 3018\n",
      ">>> images count = 3019\n",
      ">>> images count = 3020\n",
      ">>> images count = 3021\n",
      ">>> images count = 3022\n",
      ">>> images count = 3023\n"
     ]
    },
    {
     "name": "stderr",
     "output_type": "stream",
     "text": [
      "Processing Images:  50%|████████████████████████████▏                           | 3025/6000 [01:06<01:08, 43.20image/s]\n",
      "Processing Images:  50%|████████████████████████████▎                           | 3030/6000 [01:06<01:09, 42.53image/s]\u001b[A\n",
      " 50%|███████████████████████████████████████▍                                      | 3030/6000 [01:06<01:09, 42.55it/s]\u001b[A"
     ]
    },
    {
     "name": "stdout",
     "output_type": "stream",
     "text": [
      ">>> images count = 3024\n",
      ">>> images count = 3025\n",
      ">>> images count = 3026\n",
      ">>> images count = 3027\n",
      ">>> images count = 3028\n",
      ">>> images count = 3029\n",
      ">>> images count = 3030\n",
      ">>> images count = 3031\n",
      ">>> images count = 3032\n"
     ]
    },
    {
     "name": "stderr",
     "output_type": "stream",
     "text": [
      "Processing Images:  51%|████████████████████████████▎                           | 3035/6000 [01:06<01:11, 41.63image/s]\n",
      "Processing Images:  51%|████████████████████████████▎                           | 3040/6000 [01:07<01:08, 42.90image/s]\u001b[A\n",
      " 51%|███████████████████████████████████████▌                                      | 3040/6000 [01:07<01:08, 42.91it/s]\u001b[A"
     ]
    },
    {
     "name": "stdout",
     "output_type": "stream",
     "text": [
      ">>> images count = 3033\n",
      ">>> images count = 3034\n",
      ">>> images count = 3035\n",
      ">>> images count = 3036\n",
      ">>> images count = 3037\n",
      ">>> images count = 3038\n",
      ">>> images count = 3039\n",
      ">>> images count = 3040\n",
      ">>> images count = 3041\n",
      ">>> images count = 3042\n"
     ]
    },
    {
     "name": "stderr",
     "output_type": "stream",
     "text": [
      "Processing Images:  51%|████████████████████████████▍                           | 3045/6000 [01:07<01:07, 43.93image/s]\n",
      "Processing Images:  51%|████████████████████████████▍                           | 3050/6000 [01:07<01:07, 43.60image/s]\u001b[A\n",
      " 51%|███████████████████████████████████████▋                                      | 3050/6000 [01:07<01:07, 43.61it/s]\u001b[A"
     ]
    },
    {
     "name": "stdout",
     "output_type": "stream",
     "text": [
      ">>> images count = 3043\n",
      ">>> images count = 3044\n",
      ">>> images count = 3045\n",
      ">>> images count = 3046\n",
      ">>> images count = 3047\n",
      ">>> images count = 3048\n",
      ">>> images count = 3049\n",
      ">>> images count = 3050\n",
      ">>> images count = 3051\n"
     ]
    },
    {
     "name": "stderr",
     "output_type": "stream",
     "text": [
      "Processing Images:  51%|████████████████████████████▌                           | 3055/6000 [01:07<01:07, 43.32image/s]\n",
      "Processing Images:  51%|████████████████████████████▌                           | 3060/6000 [01:07<01:06, 44.04image/s]\u001b[A\n",
      " 51%|███████████████████████████████████████▊                                      | 3060/6000 [01:07<01:06, 44.01it/s]\u001b[A"
     ]
    },
    {
     "name": "stdout",
     "output_type": "stream",
     "text": [
      ">>> images count = 3052\n",
      ">>> images count = 3053\n",
      ">>> images count = 3054\n",
      ">>> images count = 3055\n",
      ">>> images count = 3056\n",
      ">>> images count = 3057\n",
      ">>> images count = 3058\n",
      ">>> images count = 3059\n",
      ">>> images count = 3060\n",
      ">>> images count = 3061\n"
     ]
    },
    {
     "name": "stderr",
     "output_type": "stream",
     "text": [
      "Processing Images:  51%|████████████████████████████▌                           | 3066/6000 [01:07<01:03, 46.36image/s]\n",
      " 51%|███████████████████████████████████████▊                                      | 3066/6000 [01:07<01:03, 46.34it/s]\u001b[A"
     ]
    },
    {
     "name": "stdout",
     "output_type": "stream",
     "text": [
      ">>> images count = 3062\n",
      ">>> images count = 3063\n",
      ">>> images count = 3064\n",
      ">>> images count = 3065\n",
      ">>> images count = 3066\n",
      ">>> images count = 3067\n",
      ">>> images count = 3068\n",
      ">>> images count = 3069\n",
      ">>> images count = 3070\n",
      ">>> images count = 3071\n"
     ]
    },
    {
     "name": "stderr",
     "output_type": "stream",
     "text": [
      "Processing Images:  51%|████████████████████████████▋                           | 3072/6000 [01:07<01:01, 47.63image/s]\n",
      "Processing Images:  51%|████████████████████████████▋                           | 3077/6000 [01:07<01:03, 46.01image/s]\u001b[A\n",
      " 51%|████████████████████████████████████████                                      | 3077/6000 [01:07<01:03, 46.04it/s]\u001b[A"
     ]
    },
    {
     "name": "stdout",
     "output_type": "stream",
     "text": [
      ">>> images count = 3072\n",
      ">>> images count = 3073\n",
      ">>> images count = 3074\n",
      ">>> images count = 3075\n",
      ">>> images count = 3076\n",
      ">>> images count = 3077\n",
      ">>> images count = 3078\n",
      ">>> images count = 3079\n",
      ">>> images count = 3080\n"
     ]
    },
    {
     "name": "stderr",
     "output_type": "stream",
     "text": [
      "Processing Images:  51%|████████████████████████████▊                           | 3082/6000 [01:08<01:03, 46.20image/s]\n",
      "Processing Images:  51%|████████████████████████████▊                           | 3087/6000 [01:08<01:03, 45.56image/s]\u001b[A\n",
      " 51%|████████████████████████████████████████▏                                     | 3087/6000 [01:08<01:03, 45.57it/s]\u001b[A"
     ]
    },
    {
     "name": "stdout",
     "output_type": "stream",
     "text": [
      ">>> images count = 3081\n",
      ">>> images count = 3082\n",
      ">>> images count = 3083\n",
      ">>> images count = 3084\n",
      ">>> images count = 3085\n",
      ">>> images count = 3086\n",
      ">>> images count = 3087\n",
      ">>> images count = 3088\n",
      ">>> images count = 3089\n",
      ">>> images count = 3090\n"
     ]
    },
    {
     "name": "stderr",
     "output_type": "stream",
     "text": [
      "Processing Images:  52%|████████████████████████████▊                           | 3093/6000 [01:08<01:01, 47.19image/s]\n",
      "Processing Images:  52%|████████████████████████████▉                           | 3099/6000 [01:08<00:59, 48.80image/s]\u001b[A\n",
      " 52%|████████████████████████████████████████▎                                     | 3099/6000 [01:08<00:59, 48.76it/s]\u001b[A"
     ]
    },
    {
     "name": "stdout",
     "output_type": "stream",
     "text": [
      ">>> images count = 3091\n",
      ">>> images count = 3092\n",
      ">>> images count = 3093\n",
      ">>> images count = 3094\n",
      ">>> images count = 3095\n",
      ">>> images count = 3096\n",
      ">>> images count = 3097\n",
      ">>> images count = 3098\n",
      ">>> images count = 3099\n",
      ">>> images count = 3100\n",
      ">>> images count = 3101\n"
     ]
    },
    {
     "name": "stderr",
     "output_type": "stream",
     "text": [
      "Processing Images:  52%|████████████████████████████▉                           | 3104/6000 [01:08<00:59, 48.31image/s]\n",
      "Processing Images:  52%|█████████████████████████████                           | 3109/6000 [01:08<01:01, 46.95image/s]\u001b[A\n",
      " 52%|████████████████████████████████████████▍                                     | 3109/6000 [01:08<01:01, 46.93it/s]\u001b[A"
     ]
    },
    {
     "name": "stdout",
     "output_type": "stream",
     "text": [
      ">>> images count = 3102\n",
      ">>> images count = 3103\n",
      ">>> images count = 3104\n",
      ">>> images count = 3105\n",
      ">>> images count = 3106\n",
      ">>> images count = 3107\n",
      ">>> images count = 3108\n",
      ">>> images count = 3109\n",
      ">>> images count = 3110\n"
     ]
    },
    {
     "name": "stderr",
     "output_type": "stream",
     "text": [
      "Processing Images:  52%|█████████████████████████████                           | 3114/6000 [01:08<01:01, 47.25image/s]\n",
      "Processing Images:  52%|█████████████████████████████                           | 3120/6000 [01:08<00:58, 49.15image/s]\u001b[A\n"
     ]
    },
    {
     "name": "stdout",
     "output_type": "stream",
     "text": [
      ">>> images count = 3111\n",
      ">>> images count = 3112\n",
      ">>> images count = 3113\n",
      ">>> images count = 3114\n",
      ">>> images count = 3115\n",
      ">>> images count = 3116\n",
      ">>> images count = 3117\n",
      ">>> images count = 3118\n",
      ">>> images count = 3119\n",
      ">>> images count = 3120\n"
     ]
    },
    {
     "name": "stderr",
     "output_type": "stream",
     "text": [
      "Processing Images:  52%|█████████████████████████████▏                          | 3125/6000 [01:08<00:58, 49.23image/s]\u001b[A\n",
      "Processing Images:  52%|█████████████████████████████▏                          | 3131/6000 [01:09<00:57, 49.95image/s]\u001b[A"
     ]
    },
    {
     "name": "stdout",
     "output_type": "stream",
     "text": [
      ">>> images count = 3121\n",
      ">>> images count = 3122\n",
      ">>> images count = 3123\n",
      ">>> images count = 3124\n",
      ">>> images count = 3125\n",
      ">>> images count = 3126\n",
      ">>> images count = 3127\n",
      ">>> images count = 3128\n",
      ">>> images count = 3129\n",
      ">>> images count = 3130\n"
     ]
    },
    {
     "name": "stderr",
     "output_type": "stream",
     "text": [
      "\n",
      "Processing Images:  52%|█████████████████████████████▎                          | 3136/6000 [01:09<01:00, 47.24image/s]\u001b[A\n",
      " 52%|████████████████████████████████████████▊                                     | 3136/6000 [01:09<01:00, 47.25it/s]\u001b[A"
     ]
    },
    {
     "name": "stdout",
     "output_type": "stream",
     "text": [
      ">>> images count = 3131\n",
      ">>> images count = 3132\n",
      ">>> images count = 3133\n",
      ">>> images count = 3134\n",
      ">>> images count = 3135\n",
      ">>> images count = 3136\n",
      ">>> images count = 3137\n",
      ">>> images count = 3138\n",
      ">>> images count = 3139\n"
     ]
    },
    {
     "name": "stderr",
     "output_type": "stream",
     "text": [
      "Processing Images:  52%|█████████████████████████████▎                          | 3141/6000 [01:09<01:00, 47.44image/s]\n",
      "Processing Images:  52%|█████████████████████████████▎                          | 3146/6000 [01:09<01:02, 45.72image/s]\u001b[A\n",
      " 52%|████████████████████████████████████████▉                                     | 3146/6000 [01:09<01:02, 45.72it/s]\u001b[A"
     ]
    },
    {
     "name": "stdout",
     "output_type": "stream",
     "text": [
      ">>> images count = 3140\n",
      ">>> images count = 3141\n",
      ">>> images count = 3142\n",
      ">>> images count = 3143\n",
      ">>> images count = 3144\n",
      ">>> images count = 3145\n",
      ">>> images count = 3146\n",
      ">>> images count = 3147\n",
      ">>> images count = 3148\n"
     ]
    },
    {
     "name": "stderr",
     "output_type": "stream",
     "text": [
      "Processing Images:  53%|█████████████████████████████▍                          | 3151/6000 [01:09<01:02, 45.49image/s]\n",
      "Processing Images:  53%|█████████████████████████████▍                          | 3156/6000 [01:09<01:02, 45.34image/s]\u001b[A\n",
      " 53%|█████████████████████████████████████████                                     | 3156/6000 [01:09<01:02, 45.34it/s]\u001b[A"
     ]
    },
    {
     "name": "stdout",
     "output_type": "stream",
     "text": [
      ">>> images count = 3149\n",
      ">>> images count = 3150\n",
      ">>> images count = 3151\n",
      ">>> images count = 3152\n",
      ">>> images count = 3153\n",
      ">>> images count = 3154\n",
      ">>> images count = 3155\n",
      ">>> images count = 3156\n",
      ">>> images count = 3157\n",
      ">>> images count = 3158\n"
     ]
    },
    {
     "name": "stderr",
     "output_type": "stream",
     "text": [
      "Processing Images:  53%|█████████████████████████████▌                          | 3162/6000 [01:09<00:59, 48.05image/s]\n",
      "Processing Images:  53%|█████████████████████████████▌                          | 3167/6000 [01:09<01:03, 44.50image/s]\u001b[A"
     ]
    },
    {
     "name": "stdout",
     "output_type": "stream",
     "text": [
      ">>> images count = 3159\n",
      ">>> images count = 3160\n",
      ">>> images count = 3161\n",
      ">>> images count = 3162\n",
      ">>> images count = 3163\n",
      ">>> images count = 3164\n",
      ">>> images count = 3165\n",
      ">>> images count = 3166\n"
     ]
    },
    {
     "name": "stderr",
     "output_type": "stream",
     "text": [
      "\n",
      "Processing Images:  53%|█████████████████████████████▌                          | 3173/6000 [01:09<01:00, 46.83image/s]\u001b[A\n",
      " 53%|█████████████████████████████████████████▏                                    | 3173/6000 [01:09<01:00, 46.83it/s]\u001b[A"
     ]
    },
    {
     "name": "stdout",
     "output_type": "stream",
     "text": [
      ">>> images count = 3167\n",
      ">>> images count = 3168\n",
      ">>> images count = 3169\n",
      ">>> images count = 3170\n",
      ">>> images count = 3171\n",
      ">>> images count = 3172\n",
      ">>> images count = 3173\n",
      ">>> images count = 3174\n",
      ">>> images count = 3175\n",
      ">>> images count = 3176\n",
      ">>> images count = 3177\n"
     ]
    },
    {
     "name": "stderr",
     "output_type": "stream",
     "text": [
      "Processing Images:  53%|█████████████████████████████▋                          | 3179/6000 [01:10<00:57, 48.90image/s]\n",
      "Processing Images:  53%|█████████████████████████████▋                          | 3184/6000 [01:10<00:57, 49.00image/s]\u001b[A\n",
      " 53%|█████████████████████████████████████████▍                                    | 3184/6000 [01:10<00:57, 49.00it/s]\u001b[A"
     ]
    },
    {
     "name": "stdout",
     "output_type": "stream",
     "text": [
      ">>> images count = 3178\n",
      ">>> images count = 3179\n",
      ">>> images count = 3180\n",
      ">>> images count = 3181\n",
      ">>> images count = 3182\n",
      ">>> images count = 3183\n",
      ">>> images count = 3184\n",
      ">>> images count = 3185\n",
      ">>> images count = 3186\n",
      ">>> images count = 3187\n",
      ">>> images count = 3188\n"
     ]
    },
    {
     "name": "stderr",
     "output_type": "stream",
     "text": [
      "Processing Images:  53%|█████████████████████████████▊                          | 3189/6000 [01:10<00:57, 49.12image/s]\n",
      "Processing Images:  53%|█████████████████████████████▊                          | 3194/6000 [01:10<01:00, 46.58image/s]\u001b[A\n",
      " 53%|█████████████████████████████████████████▌                                    | 3194/6000 [01:10<01:00, 46.58it/s]\u001b[A"
     ]
    },
    {
     "name": "stdout",
     "output_type": "stream",
     "text": [
      ">>> images count = 3189\n",
      ">>> images count = 3190\n",
      ">>> images count = 3191\n",
      ">>> images count = 3192\n",
      ">>> images count = 3193\n",
      ">>> images count = 3194\n",
      ">>> images count = 3195\n",
      ">>> images count = 3196\n",
      ">>> images count = 3197\n",
      ">>> images count = 3198\n"
     ]
    },
    {
     "name": "stderr",
     "output_type": "stream",
     "text": [
      "Processing Images:  53%|█████████████████████████████▊                          | 3199/6000 [01:10<01:00, 46.23image/s]\n",
      "Processing Images:  53%|█████████████████████████████▉                          | 3204/6000 [01:10<01:00, 45.86image/s]\u001b[A\n",
      " 53%|█████████████████████████████████████████▋                                    | 3204/6000 [01:10<01:00, 45.86it/s]\u001b[A"
     ]
    },
    {
     "name": "stdout",
     "output_type": "stream",
     "text": [
      ">>> images count = 3199\n",
      ">>> images count = 3200\n",
      ">>> images count = 3201\n",
      ">>> images count = 3202\n",
      ">>> images count = 3203\n",
      ">>> images count = 3204\n",
      ">>> images count = 3205\n",
      ">>> images count = 3206\n",
      ">>> images count = 3207\n",
      ">>> images count = 3208\n"
     ]
    },
    {
     "name": "stderr",
     "output_type": "stream",
     "text": [
      "Processing Images:  53%|█████████████████████████████▉                          | 3209/6000 [01:10<00:59, 46.60image/s]\n",
      "Processing Images:  54%|█████████████████████████████▉                          | 3214/6000 [01:10<01:00, 45.98image/s]\u001b[A\n",
      " 54%|█████████████████████████████████████████▊                                    | 3214/6000 [01:10<01:00, 45.98it/s]\u001b[A"
     ]
    },
    {
     "name": "stdout",
     "output_type": "stream",
     "text": [
      ">>> images count = 3209\n",
      ">>> images count = 3210\n",
      ">>> images count = 3211\n",
      ">>> images count = 3212\n",
      ">>> images count = 3213\n",
      ">>> images count = 3214\n",
      ">>> images count = 3215\n",
      ">>> images count = 3216\n",
      ">>> images count = 3217\n",
      ">>> images count = 3218\n"
     ]
    },
    {
     "name": "stderr",
     "output_type": "stream",
     "text": [
      "Processing Images:  54%|██████████████████████████████                          | 3219/6000 [01:10<01:00, 45.88image/s]\n",
      "Processing Images:  54%|██████████████████████████████                          | 3224/6000 [01:11<01:03, 43.54image/s]\u001b[A\n",
      " 54%|█████████████████████████████████████████▉                                    | 3224/6000 [01:11<01:03, 43.54it/s]\u001b[A"
     ]
    },
    {
     "name": "stdout",
     "output_type": "stream",
     "text": [
      ">>> images count = 3219\n",
      ">>> images count = 3220\n",
      ">>> images count = 3221\n",
      ">>> images count = 3222\n",
      ">>> images count = 3223\n",
      ">>> images count = 3224\n",
      ">>> images count = 3225\n",
      ">>> images count = 3226\n"
     ]
    },
    {
     "name": "stderr",
     "output_type": "stream",
     "text": [
      "Processing Images:  54%|██████████████████████████████▏                         | 3229/6000 [01:11<01:03, 43.74image/s]\n",
      "Processing Images:  54%|██████████████████████████████▏                         | 3234/6000 [01:11<01:00, 45.42image/s]\u001b[A\n",
      " 54%|██████████████████████████████████████████                                    | 3234/6000 [01:11<01:00, 45.42it/s]\u001b[A"
     ]
    },
    {
     "name": "stdout",
     "output_type": "stream",
     "text": [
      ">>> images count = 3227\n",
      ">>> images count = 3228\n",
      ">>> images count = 3229\n",
      ">>> images count = 3230\n",
      ">>> images count = 3231\n",
      ">>> images count = 3232\n",
      ">>> images count = 3233\n",
      ">>> images count = 3234\n",
      ">>> images count = 3235\n",
      ">>> images count = 3236\n",
      ">>> images count = 3237\n"
     ]
    },
    {
     "name": "stderr",
     "output_type": "stream",
     "text": [
      "Processing Images:  54%|██████████████████████████████▏                         | 3239/6000 [01:11<01:02, 44.51image/s]\n",
      "Processing Images:  54%|██████████████████████████████▎                         | 3244/6000 [01:11<01:01, 45.14image/s]\u001b[A\n",
      " 54%|██████████████████████████████████████████▏                                   | 3244/6000 [01:11<01:01, 45.14it/s]\u001b[A"
     ]
    },
    {
     "name": "stdout",
     "output_type": "stream",
     "text": [
      ">>> images count = 3238\n",
      ">>> images count = 3239\n",
      ">>> images count = 3240\n",
      ">>> images count = 3241\n",
      ">>> images count = 3242\n",
      ">>> images count = 3243\n",
      ">>> images count = 3244\n",
      ">>> images count = 3245\n",
      ">>> images count = 3246\n",
      ">>> images count = 3247\n"
     ]
    },
    {
     "name": "stderr",
     "output_type": "stream",
     "text": [
      "Processing Images:  54%|██████████████████████████████▎                         | 3249/6000 [01:11<01:01, 45.09image/s]\n",
      "Processing Images:  54%|██████████████████████████████▎                         | 3254/6000 [01:11<01:01, 44.34image/s]\u001b[A\n",
      " 54%|██████████████████████████████████████████▎                                   | 3254/6000 [01:11<01:01, 44.34it/s]\u001b[A"
     ]
    },
    {
     "name": "stdout",
     "output_type": "stream",
     "text": [
      ">>> images count = 3248\n",
      ">>> images count = 3249\n",
      ">>> images count = 3250\n",
      ">>> images count = 3251\n",
      ">>> images count = 3252\n",
      ">>> images count = 3253\n",
      ">>> images count = 3254\n",
      ">>> images count = 3255\n",
      ">>> images count = 3256\n",
      ">>> images count = 3257\n"
     ]
    },
    {
     "name": "stderr",
     "output_type": "stream",
     "text": [
      "Processing Images:  54%|██████████████████████████████▍                         | 3259/6000 [01:11<01:00, 45.26image/s]\n",
      "Processing Images:  54%|██████████████████████████████▍                         | 3264/6000 [01:11<01:01, 44.51image/s]\u001b[A\n",
      " 54%|██████████████████████████████████████████▍                                   | 3264/6000 [01:11<01:01, 44.63it/s]\u001b[A"
     ]
    },
    {
     "name": "stdout",
     "output_type": "stream",
     "text": [
      ">>> images count = 3258\n",
      ">>> images count = 3259\n",
      ">>> images count = 3260\n",
      ">>> images count = 3261\n",
      ">>> images count = 3262\n",
      ">>> images count = 3263\n",
      ">>> images count = 3264\n",
      ">>> images count = 3265\n",
      ">>> images count = 3266\n",
      ">>> images count = 3267\n",
      ">>> images count = 3268\n"
     ]
    },
    {
     "name": "stderr",
     "output_type": "stream",
     "text": [
      "Processing Images:  54%|██████████████████████████████▌                         | 3269/6000 [01:12<00:59, 45.75image/s]\n",
      "Processing Images:  55%|██████████████████████████████▌                         | 3274/6000 [01:12<00:59, 45.88image/s]\u001b[A\n",
      " 55%|██████████████████████████████████████████▌                                   | 3274/6000 [01:12<00:59, 45.98it/s]\u001b[A"
     ]
    },
    {
     "name": "stdout",
     "output_type": "stream",
     "text": [
      ">>> images count = 3269\n",
      ">>> images count = 3270\n",
      ">>> images count = 3271\n",
      ">>> images count = 3272\n",
      ">>> images count = 3273\n",
      ">>> images count = 3274\n",
      ">>> images count = 3275\n",
      ">>> images count = 3276\n",
      ">>> images count = 3277\n",
      ">>> images count = 3278\n",
      ">>> images count = 3279\n"
     ]
    },
    {
     "name": "stderr",
     "output_type": "stream",
     "text": [
      "Processing Images:  55%|██████████████████████████████▌                         | 3280/6000 [01:12<00:56, 48.22image/s]\n",
      "Processing Images:  55%|██████████████████████████████▋                         | 3285/6000 [01:12<00:55, 48.56image/s]\u001b[A\n",
      " 55%|██████████████████████████████████████████▋                                   | 3285/6000 [01:12<00:55, 48.52it/s]\u001b[A"
     ]
    },
    {
     "name": "stdout",
     "output_type": "stream",
     "text": [
      ">>> images count = 3280\n",
      ">>> images count = 3281\n",
      ">>> images count = 3282\n",
      ">>> images count = 3283\n",
      ">>> images count = 3284\n",
      ">>> images count = 3285\n",
      ">>> images count = 3286\n",
      ">>> images count = 3287\n",
      ">>> images count = 3288\n",
      ">>> images count = 3289\n"
     ]
    },
    {
     "name": "stderr",
     "output_type": "stream",
     "text": [
      "Processing Images:  55%|██████████████████████████████▋                         | 3290/6000 [01:12<00:56, 47.72image/s]\n",
      "Processing Images:  55%|██████████████████████████████▊                         | 3296/6000 [01:12<00:55, 49.10image/s]\u001b[A\n",
      " 55%|██████████████████████████████████████████▊                                   | 3296/6000 [01:12<00:55, 49.08it/s]\u001b[A"
     ]
    },
    {
     "name": "stdout",
     "output_type": "stream",
     "text": [
      ">>> images count = 3290\n",
      ">>> images count = 3291\n",
      ">>> images count = 3292\n",
      ">>> images count = 3293\n",
      ">>> images count = 3294\n",
      ">>> images count = 3295\n",
      ">>> images count = 3296\n",
      ">>> images count = 3297\n",
      ">>> images count = 3298\n",
      ">>> images count = 3299\n",
      ">>> images count = 3300\n",
      ">>> images count = 3301\n"
     ]
    },
    {
     "name": "stderr",
     "output_type": "stream",
     "text": [
      "Processing Images:  55%|██████████████████████████████▊                         | 3302/6000 [01:12<00:53, 50.15image/s]\n",
      "Processing Images:  55%|██████████████████████████████▊                         | 3308/6000 [01:12<00:54, 49.31image/s]\u001b[A\n",
      " 55%|███████████████████████████████████████████                                   | 3308/6000 [01:12<00:54, 49.30it/s]\u001b[A"
     ]
    },
    {
     "name": "stdout",
     "output_type": "stream",
     "text": [
      ">>> images count = 3302\n",
      ">>> images count = 3303\n",
      ">>> images count = 3304\n",
      ">>> images count = 3305\n",
      ">>> images count = 3306\n",
      ">>> images count = 3307\n",
      ">>> images count = 3308\n",
      ">>> images count = 3309\n",
      ">>> images count = 3310\n",
      ">>> images count = 3311\n"
     ]
    },
    {
     "name": "stderr",
     "output_type": "stream",
     "text": [
      "Processing Images:  55%|██████████████████████████████▉                         | 3313/6000 [01:12<00:56, 47.61image/s]\n",
      "Processing Images:  55%|██████████████████████████████▉                         | 3319/6000 [01:13<00:55, 48.21image/s]\u001b[A\n",
      " 55%|███████████████████████████████████████████▏                                  | 3319/6000 [01:13<00:55, 48.17it/s]\u001b[A"
     ]
    },
    {
     "name": "stdout",
     "output_type": "stream",
     "text": [
      ">>> images count = 3312\n",
      ">>> images count = 3313\n",
      ">>> images count = 3314\n",
      ">>> images count = 3315\n",
      ">>> images count = 3316\n",
      ">>> images count = 3317\n",
      ">>> images count = 3318\n",
      ">>> images count = 3319\n",
      ">>> images count = 3320\n",
      ">>> images count = 3321\n",
      ">>> images count = 3322\n"
     ]
    },
    {
     "name": "stderr",
     "output_type": "stream",
     "text": [
      "Processing Images:  55%|███████████████████████████████                         | 3324/6000 [01:13<00:57, 46.43image/s]\n",
      "Processing Images:  55%|███████████████████████████████                         | 3329/6000 [01:13<00:57, 46.50image/s]\u001b[A\n",
      " 55%|███████████████████████████████████████████▎                                  | 3329/6000 [01:13<00:57, 46.48it/s]\u001b[A"
     ]
    },
    {
     "name": "stdout",
     "output_type": "stream",
     "text": [
      ">>> images count = 3323\n",
      ">>> images count = 3324\n",
      ">>> images count = 3325\n",
      ">>> images count = 3326\n",
      ">>> images count = 3327\n",
      ">>> images count = 3328\n",
      ">>> images count = 3329\n",
      ">>> images count = 3330\n",
      ">>> images count = 3331\n",
      ">>> images count = 3332\n",
      ">>> images count = 3333\n"
     ]
    },
    {
     "name": "stderr",
     "output_type": "stream",
     "text": [
      "Processing Images:  56%|███████████████████████████████                         | 3334/6000 [01:13<00:57, 46.67image/s]\n",
      "Processing Images:  56%|███████████████████████████████▏                        | 3339/6000 [01:13<00:59, 44.44image/s]\u001b[A\n",
      " 56%|███████████████████████████████████████████▍                                  | 3339/6000 [01:13<00:59, 44.51it/s]\u001b[A"
     ]
    },
    {
     "name": "stdout",
     "output_type": "stream",
     "text": [
      ">>> images count = 3334\n",
      ">>> images count = 3335\n",
      ">>> images count = 3336\n",
      ">>> images count = 3337\n",
      ">>> images count = 3338\n",
      ">>> images count = 3339\n",
      ">>> images count = 3340\n",
      ">>> images count = 3341\n",
      ">>> images count = 3342\n"
     ]
    },
    {
     "name": "stderr",
     "output_type": "stream",
     "text": [
      "Processing Images:  56%|███████████████████████████████▏                        | 3344/6000 [01:13<01:00, 43.56image/s]\n",
      "Processing Images:  56%|███████████████████████████████▎                        | 3350/6000 [01:13<00:57, 46.12image/s]\u001b[A\n",
      " 56%|███████████████████████████████████████████▌                                  | 3350/6000 [01:13<00:57, 46.15it/s]\u001b[A"
     ]
    },
    {
     "name": "stdout",
     "output_type": "stream",
     "text": [
      ">>> images count = 3343\n",
      ">>> images count = 3344\n",
      ">>> images count = 3345\n",
      ">>> images count = 3346\n",
      ">>> images count = 3347\n",
      ">>> images count = 3348\n",
      ">>> images count = 3349\n",
      ">>> images count = 3350\n",
      ">>> images count = 3351\n",
      ">>> images count = 3352\n"
     ]
    },
    {
     "name": "stderr",
     "output_type": "stream",
     "text": [
      "Processing Images:  56%|███████████████████████████████▎                        | 3355/6000 [01:13<00:58, 45.06image/s]\n",
      "Processing Images:  56%|███████████████████████████████▎                        | 3360/6000 [01:13<00:58, 45.39image/s]\u001b[A\n",
      " 56%|███████████████████████████████████████████▋                                  | 3360/6000 [01:13<00:58, 45.40it/s]\u001b[A"
     ]
    },
    {
     "name": "stdout",
     "output_type": "stream",
     "text": [
      ">>> images count = 3353\n",
      ">>> images count = 3354\n",
      ">>> images count = 3355\n",
      ">>> images count = 3356\n",
      ">>> images count = 3357\n",
      ">>> images count = 3358\n",
      ">>> images count = 3359\n",
      ">>> images count = 3360\n",
      ">>> images count = 3361\n",
      ">>> images count = 3362\n"
     ]
    },
    {
     "name": "stderr",
     "output_type": "stream",
     "text": [
      "Processing Images:  56%|███████████████████████████████▍                        | 3365/6000 [01:14<00:58, 45.15image/s]\n",
      "Processing Images:  56%|███████████████████████████████▍                        | 3370/6000 [01:14<00:57, 46.05image/s]\u001b[A\n",
      " 56%|███████████████████████████████████████████▊                                  | 3370/6000 [01:14<00:57, 46.06it/s]\u001b[A"
     ]
    },
    {
     "name": "stdout",
     "output_type": "stream",
     "text": [
      ">>> images count = 3363\n",
      ">>> images count = 3364\n",
      ">>> images count = 3365\n",
      ">>> images count = 3366\n",
      ">>> images count = 3367\n",
      ">>> images count = 3368\n",
      ">>> images count = 3369\n",
      ">>> images count = 3370\n",
      ">>> images count = 3371\n",
      ">>> images count = 3372\n"
     ]
    },
    {
     "name": "stderr",
     "output_type": "stream",
     "text": [
      "Processing Images:  56%|███████████████████████████████▌                        | 3375/6000 [01:14<00:55, 47.00image/s]\n",
      "Processing Images:  56%|███████████████████████████████▌                        | 3381/6000 [01:14<00:53, 49.00image/s]\u001b[A\n",
      " 56%|███████████████████████████████████████████▉                                  | 3381/6000 [01:14<00:53, 49.01it/s]\u001b[A"
     ]
    },
    {
     "name": "stdout",
     "output_type": "stream",
     "text": [
      ">>> images count = 3373\n",
      ">>> images count = 3374\n",
      ">>> images count = 3375\n",
      ">>> images count = 3376\n",
      ">>> images count = 3377\n",
      ">>> images count = 3378\n",
      ">>> images count = 3379\n",
      ">>> images count = 3380\n",
      ">>> images count = 3381\n",
      ">>> images count = 3382\n",
      ">>> images count = 3383\n"
     ]
    },
    {
     "name": "stderr",
     "output_type": "stream",
     "text": [
      "Processing Images:  56%|███████████████████████████████▌                        | 3387/6000 [01:14<00:52, 50.19image/s]\n",
      "Processing Images:  57%|███████████████████████████████▋                        | 3393/6000 [01:14<00:52, 50.03image/s]\u001b[A\n",
      " 57%|████████████████████████████████████████████                                  | 3393/6000 [01:14<00:52, 50.03it/s]"
     ]
    },
    {
     "name": "stdout",
     "output_type": "stream",
     "text": [
      ">>> images count = 3384\n",
      ">>> images count = 3385\n",
      ">>> images count = 3386\n",
      ">>> images count = 3387\n",
      ">>> images count = 3388\n",
      ">>> images count = 3389\n",
      ">>> images count = 3390\n",
      ">>> images count = 3391\n",
      ">>> images count = 3392\n",
      ">>> images count = 3393\n"
     ]
    },
    {
     "name": "stderr",
     "output_type": "stream",
     "text": [
      "Processing Images:  57%|███████████████████████████████▋                        | 3399/6000 [01:14<00:53, 48.61image/s]\n",
      " 57%|████████████████████████████████████████████▏                                 | 3399/6000 [01:14<00:53, 48.62it/s]\u001b[A"
     ]
    },
    {
     "name": "stdout",
     "output_type": "stream",
     "text": [
      ">>> images count = 3394\n",
      ">>> images count = 3395\n",
      ">>> images count = 3396\n",
      ">>> images count = 3397\n",
      ">>> images count = 3398\n",
      ">>> images count = 3399\n",
      ">>> images count = 3400\n",
      ">>> images count = 3401\n",
      ">>> images count = 3402\n",
      ">>> images count = 3403\n"
     ]
    },
    {
     "name": "stderr",
     "output_type": "stream",
     "text": [
      "Processing Images:  57%|███████████████████████████████▊                        | 3404/6000 [01:14<00:53, 48.45image/s]\n",
      "Processing Images:  57%|███████████████████████████████▊                        | 3409/6000 [01:14<00:53, 48.77image/s]\u001b[A\n",
      "Processing Images:  57%|███████████████████████████████▊                        | 3414/6000 [01:15<00:53, 48.48image/s]\u001b[A"
     ]
    },
    {
     "name": "stdout",
     "output_type": "stream",
     "text": [
      ">>> images count = 3404\n",
      ">>> images count = 3405\n",
      ">>> images count = 3406\n",
      ">>> images count = 3407\n",
      ">>> images count = 3408\n",
      ">>> images count = 3409\n",
      ">>> images count = 3410\n",
      ">>> images count = 3411\n",
      ">>> images count = 3412\n",
      ">>> images count = 3413\n"
     ]
    },
    {
     "name": "stderr",
     "output_type": "stream",
     "text": [
      "\n",
      "Processing Images:  57%|███████████████████████████████▉                        | 3419/6000 [01:15<00:54, 47.42image/s]\u001b[A\n",
      " 57%|████████████████████████████████████████████▍                                 | 3419/6000 [01:15<00:54, 47.45it/s]\u001b[A"
     ]
    },
    {
     "name": "stdout",
     "output_type": "stream",
     "text": [
      ">>> images count = 3414\n",
      ">>> images count = 3415\n",
      ">>> images count = 3416\n",
      ">>> images count = 3417\n",
      ">>> images count = 3418\n",
      ">>> images count = 3419\n",
      ">>> images count = 3420\n",
      ">>> images count = 3421\n",
      ">>> images count = 3422\n",
      ">>> images count = 3423\n"
     ]
    },
    {
     "name": "stderr",
     "output_type": "stream",
     "text": [
      "Processing Images:  57%|███████████████████████████████▉                        | 3424/6000 [01:15<00:55, 46.67image/s]\n",
      "Processing Images:  57%|████████████████████████████████                        | 3429/6000 [01:15<00:56, 45.42image/s]\u001b[A\n",
      " 57%|████████████████████████████████████████████▌                                 | 3429/6000 [01:15<00:56, 45.44it/s]\u001b[A"
     ]
    },
    {
     "name": "stdout",
     "output_type": "stream",
     "text": [
      ">>> images count = 3424\n",
      ">>> images count = 3425\n",
      ">>> images count = 3426\n",
      ">>> images count = 3427\n",
      ">>> images count = 3428\n",
      ">>> images count = 3429\n",
      ">>> images count = 3430\n",
      ">>> images count = 3431\n",
      ">>> images count = 3432\n"
     ]
    },
    {
     "name": "stderr",
     "output_type": "stream",
     "text": [
      "Processing Images:  57%|████████████████████████████████                        | 3434/6000 [01:15<00:58, 44.21image/s]\n",
      "Processing Images:  57%|████████████████████████████████                        | 3439/6000 [01:15<00:56, 45.52image/s]\u001b[A\n",
      " 57%|████████████████████████████████████████████▋                                 | 3439/6000 [01:15<00:56, 45.52it/s]\u001b[A"
     ]
    },
    {
     "name": "stdout",
     "output_type": "stream",
     "text": [
      ">>> images count = 3433\n",
      ">>> images count = 3434\n",
      ">>> images count = 3435\n",
      ">>> images count = 3436\n",
      ">>> images count = 3437\n",
      ">>> images count = 3438\n",
      ">>> images count = 3439\n",
      ">>> images count = 3440\n",
      ">>> images count = 3441\n",
      ">>> images count = 3442\n"
     ]
    },
    {
     "name": "stderr",
     "output_type": "stream",
     "text": [
      "Processing Images:  57%|████████████████████████████████▏                       | 3444/6000 [01:15<00:55, 45.72image/s]\n",
      "Processing Images:  57%|████████████████████████████████▏                       | 3449/6000 [01:15<00:54, 46.42image/s]\u001b[A\n",
      " 57%|████████████████████████████████████████████▊                                 | 3449/6000 [01:15<00:54, 46.42it/s]\u001b[A"
     ]
    },
    {
     "name": "stdout",
     "output_type": "stream",
     "text": [
      ">>> images count = 3443\n",
      ">>> images count = 3444\n",
      ">>> images count = 3445\n",
      ">>> images count = 3446\n",
      ">>> images count = 3447\n",
      ">>> images count = 3448\n",
      ">>> images count = 3449\n",
      ">>> images count = 3450\n",
      ">>> images count = 3451\n",
      ">>> images count = 3452\n",
      ">>> images count = 3453\n"
     ]
    },
    {
     "name": "stderr",
     "output_type": "stream",
     "text": [
      "Processing Images:  58%|████████████████████████████████▏                       | 3454/6000 [01:15<00:53, 47.22image/s]\n",
      "Processing Images:  58%|████████████████████████████████▎                       | 3459/6000 [01:16<00:54, 46.68image/s]\u001b[A\n",
      " 58%|████████████████████████████████████████████▉                                 | 3459/6000 [01:16<00:54, 46.69it/s]\u001b[A"
     ]
    },
    {
     "name": "stdout",
     "output_type": "stream",
     "text": [
      ">>> images count = 3454\n",
      ">>> images count = 3455\n",
      ">>> images count = 3456\n",
      ">>> images count = 3457\n",
      ">>> images count = 3458\n",
      ">>> images count = 3459\n",
      ">>> images count = 3460\n",
      ">>> images count = 3461\n",
      ">>> images count = 3462\n",
      ">>> images count = 3463\n"
     ]
    },
    {
     "name": "stderr",
     "output_type": "stream",
     "text": [
      "Processing Images:  58%|████████████████████████████████▎                       | 3464/6000 [01:16<00:55, 46.04image/s]\n",
      "Processing Images:  58%|████████████████████████████████▍                       | 3470/6000 [01:16<00:52, 48.34image/s]\u001b[A\n",
      " 58%|█████████████████████████████████████████████                                 | 3470/6000 [01:16<00:52, 48.34it/s]\u001b[A"
     ]
    },
    {
     "name": "stdout",
     "output_type": "stream",
     "text": [
      ">>> images count = 3464\n",
      ">>> images count = 3465\n",
      ">>> images count = 3466\n",
      ">>> images count = 3467\n",
      ">>> images count = 3468\n",
      ">>> images count = 3469\n",
      ">>> images count = 3470\n",
      ">>> images count = 3471\n",
      ">>> images count = 3472\n",
      ">>> images count = 3473\n",
      ">>> images count = 3474\n",
      ">>> images count = 3475\n"
     ]
    },
    {
     "name": "stderr",
     "output_type": "stream",
     "text": [
      "Processing Images:  58%|████████████████████████████████▍                       | 3476/6000 [01:16<00:50, 49.51image/s]\n",
      "Processing Images:  58%|████████████████████████████████▍                       | 3482/6000 [01:16<00:48, 51.39image/s]\u001b[A\n",
      " 58%|█████████████████████████████████████████████▎                                | 3482/6000 [01:16<00:48, 51.40it/s]\u001b[A"
     ]
    },
    {
     "name": "stdout",
     "output_type": "stream",
     "text": [
      ">>> images count = 3476\n",
      ">>> images count = 3477\n",
      ">>> images count = 3478\n",
      ">>> images count = 3479\n",
      ">>> images count = 3480\n",
      ">>> images count = 3481\n",
      ">>> images count = 3482\n",
      ">>> images count = 3483\n",
      ">>> images count = 3484\n",
      ">>> images count = 3485\n",
      ">>> images count = 3486\n"
     ]
    },
    {
     "name": "stderr",
     "output_type": "stream",
     "text": [
      "Processing Images:  58%|████████████████████████████████▌                       | 3488/6000 [01:16<00:50, 49.30image/s]\n",
      "Processing Images:  58%|████████████████████████████████▌                       | 3493/6000 [01:16<00:52, 47.93image/s]\u001b[A\n",
      " 58%|█████████████████████████████████████████████▍                                | 3493/6000 [01:16<00:52, 47.93it/s]\u001b[A"
     ]
    },
    {
     "name": "stdout",
     "output_type": "stream",
     "text": [
      ">>> images count = 3487\n",
      ">>> images count = 3488\n",
      ">>> images count = 3489\n",
      ">>> images count = 3490\n",
      ">>> images count = 3491\n",
      ">>> images count = 3492\n",
      ">>> images count = 3493\n",
      ">>> images count = 3494\n",
      ">>> images count = 3495\n",
      ">>> images count = 3496\n",
      ">>> images count = 3497\n"
     ]
    },
    {
     "name": "stderr",
     "output_type": "stream",
     "text": [
      "Processing Images:  58%|████████████████████████████████▋                       | 3498/6000 [01:16<00:52, 47.63image/s]\n",
      "Processing Images:  58%|████████████████████████████████▋                       | 3503/6000 [01:16<00:51, 48.12image/s]\u001b[A\n",
      "Processing Images:  58%|████████████████████████████████▊                       | 3509/6000 [01:17<00:49, 50.59image/s]\u001b[A"
     ]
    },
    {
     "name": "stdout",
     "output_type": "stream",
     "text": [
      ">>> images count = 3498\n",
      ">>> images count = 3499\n",
      ">>> images count = 3500\n",
      ">>> images count = 3501\n",
      ">>> images count = 3502\n",
      ">>> images count = 3503\n",
      ">>> images count = 3504\n",
      ">>> images count = 3505\n",
      ">>> images count = 3506\n",
      ">>> images count = 3507\n",
      ">>> images count = 3508\n"
     ]
    },
    {
     "name": "stderr",
     "output_type": "stream",
     "text": [
      "\n",
      "Processing Images:  59%|████████████████████████████████▊                       | 3515/6000 [01:17<00:52, 47.29image/s]\u001b[A\n",
      " 59%|█████████████████████████████████████████████▋                                | 3515/6000 [01:17<00:52, 47.31it/s]\u001b[A"
     ]
    },
    {
     "name": "stdout",
     "output_type": "stream",
     "text": [
      ">>> images count = 3509\n",
      ">>> images count = 3510\n",
      ">>> images count = 3511\n",
      ">>> images count = 3512\n",
      ">>> images count = 3513\n",
      ">>> images count = 3514\n",
      ">>> images count = 3515\n",
      ">>> images count = 3516\n",
      ">>> images count = 3517\n"
     ]
    },
    {
     "name": "stderr",
     "output_type": "stream",
     "text": [
      "Processing Images:  59%|████████████████████████████████▊                       | 3520/6000 [01:17<00:52, 47.48image/s]\n",
      "Processing Images:  59%|████████████████████████████████▉                       | 3525/6000 [01:17<00:54, 45.37image/s]\u001b[A\n",
      " 59%|█████████████████████████████████████████████▊                                | 3525/6000 [01:17<00:54, 45.38it/s]\u001b[A"
     ]
    },
    {
     "name": "stdout",
     "output_type": "stream",
     "text": [
      ">>> images count = 3518\n",
      ">>> images count = 3519\n",
      ">>> images count = 3520\n",
      ">>> images count = 3521\n",
      ">>> images count = 3522\n",
      ">>> images count = 3523\n",
      ">>> images count = 3524\n",
      ">>> images count = 3525\n",
      ">>> images count = 3526\n"
     ]
    },
    {
     "name": "stderr",
     "output_type": "stream",
     "text": [
      "Processing Images:  59%|████████████████████████████████▉                       | 3530/6000 [01:17<00:53, 45.85image/s]\n",
      "Processing Images:  59%|████████████████████████████████▉                       | 3535/6000 [01:17<00:53, 45.72image/s]\u001b[A\n",
      " 59%|█████████████████████████████████████████████▉                                | 3535/6000 [01:17<00:53, 45.72it/s]\u001b[A"
     ]
    },
    {
     "name": "stdout",
     "output_type": "stream",
     "text": [
      ">>> images count = 3527\n",
      ">>> images count = 3528\n",
      ">>> images count = 3529\n",
      ">>> images count = 3530\n",
      ">>> images count = 3531\n",
      ">>> images count = 3532\n",
      ">>> images count = 3533\n",
      ">>> images count = 3534\n",
      ">>> images count = 3535\n",
      ">>> images count = 3536\n"
     ]
    },
    {
     "name": "stderr",
     "output_type": "stream",
     "text": [
      "Processing Images:  59%|█████████████████████████████████                       | 3540/6000 [01:17<00:54, 45.43image/s]\n",
      "Processing Images:  59%|█████████████████████████████████                       | 3545/6000 [01:17<00:54, 44.94image/s]\u001b[A\n",
      " 59%|██████████████████████████████████████████████                                | 3545/6000 [01:17<00:54, 45.06it/s]\u001b[A"
     ]
    },
    {
     "name": "stdout",
     "output_type": "stream",
     "text": [
      ">>> images count = 3537\n",
      ">>> images count = 3538\n",
      ">>> images count = 3539\n",
      ">>> images count = 3540\n",
      ">>> images count = 3541\n",
      ">>> images count = 3542\n",
      ">>> images count = 3543\n",
      ">>> images count = 3544\n",
      ">>> images count = 3545\n",
      ">>> images count = 3546\n"
     ]
    },
    {
     "name": "stderr",
     "output_type": "stream",
     "text": [
      "Processing Images:  59%|█████████████████████████████████▏                      | 3550/6000 [01:17<00:53, 45.43image/s]\n",
      "Processing Images:  59%|█████████████████████████████████▏                      | 3556/6000 [01:18<00:51, 47.74image/s]\u001b[A\n",
      " 59%|██████████████████████████████████████████████▏                               | 3556/6000 [01:18<00:51, 47.71it/s]\u001b[A"
     ]
    },
    {
     "name": "stdout",
     "output_type": "stream",
     "text": [
      ">>> images count = 3547\n",
      ">>> images count = 3548\n",
      ">>> images count = 3549\n",
      ">>> images count = 3550\n",
      ">>> images count = 3551\n",
      ">>> images count = 3552\n",
      ">>> images count = 3553\n",
      ">>> images count = 3554\n",
      ">>> images count = 3555\n",
      ">>> images count = 3556\n",
      ">>> images count = 3557\n"
     ]
    },
    {
     "name": "stderr",
     "output_type": "stream",
     "text": [
      "Processing Images:  59%|█████████████████████████████████▏                      | 3561/6000 [01:18<00:53, 45.69image/s]\n",
      " 59%|██████████████████████████████████████████████▎                               | 3561/6000 [01:18<00:53, 45.68it/s]\u001b[A"
     ]
    },
    {
     "name": "stdout",
     "output_type": "stream",
     "text": [
      ">>> images count = 3558\n",
      ">>> images count = 3559\n",
      ">>> images count = 3560\n",
      ">>> images count = 3561\n",
      ">>> images count = 3562\n",
      ">>> images count = 3563\n",
      ">>> images count = 3564\n",
      ">>> images count = 3565\n"
     ]
    },
    {
     "name": "stderr",
     "output_type": "stream",
     "text": [
      "Processing Images:  59%|█████████████████████████████████▎                      | 3566/6000 [01:18<00:53, 45.48image/s]\n",
      "Processing Images:  60%|█████████████████████████████████▎                      | 3572/6000 [01:18<00:50, 47.93image/s]\u001b[A\n",
      " 60%|██████████████████████████████████████████████▍                               | 3572/6000 [01:18<00:50, 47.95it/s]\u001b[A"
     ]
    },
    {
     "name": "stdout",
     "output_type": "stream",
     "text": [
      ">>> images count = 3566\n",
      ">>> images count = 3567\n",
      ">>> images count = 3568\n",
      ">>> images count = 3569\n",
      ">>> images count = 3570\n",
      ">>> images count = 3571\n",
      ">>> images count = 3572\n",
      ">>> images count = 3573\n",
      ">>> images count = 3574\n",
      ">>> images count = 3575\n",
      ">>> images count = 3576\n",
      ">>> images count = 3577\n"
     ]
    },
    {
     "name": "stderr",
     "output_type": "stream",
     "text": [
      "Processing Images:  60%|█████████████████████████████████▍                      | 3578/6000 [01:18<00:48, 50.12image/s]\n",
      "Processing Images:  60%|█████████████████████████████████▍                      | 3584/6000 [01:18<00:49, 48.42image/s]\u001b[A\n",
      " 60%|██████████████████████████████████████████████▌                               | 3584/6000 [01:18<00:49, 48.43it/s]\u001b[A"
     ]
    },
    {
     "name": "stdout",
     "output_type": "stream",
     "text": [
      ">>> images count = 3578\n",
      ">>> images count = 3579\n",
      ">>> images count = 3580\n",
      ">>> images count = 3581\n",
      ">>> images count = 3582\n",
      ">>> images count = 3583\n",
      ">>> images count = 3584\n",
      ">>> images count = 3585\n",
      ">>> images count = 3586\n"
     ]
    },
    {
     "name": "stderr",
     "output_type": "stream",
     "text": [
      "Processing Images:  60%|█████████████████████████████████▍                      | 3589/6000 [01:18<00:51, 46.71image/s]\n",
      "Processing Images:  60%|█████████████████████████████████▌                      | 3594/6000 [01:18<00:51, 46.81image/s]\u001b[A\n",
      " 60%|██████████████████████████████████████████████▋                               | 3594/6000 [01:18<00:51, 46.82it/s]\u001b[A"
     ]
    },
    {
     "name": "stdout",
     "output_type": "stream",
     "text": [
      ">>> images count = 3587\n",
      ">>> images count = 3588\n",
      ">>> images count = 3589\n",
      ">>> images count = 3590\n",
      ">>> images count = 3591\n",
      ">>> images count = 3592\n",
      ">>> images count = 3593\n",
      ">>> images count = 3594\n",
      ">>> images count = 3595\n",
      ">>> images count = 3596\n"
     ]
    },
    {
     "name": "stderr",
     "output_type": "stream",
     "text": [
      "Processing Images:  60%|█████████████████████████████████▌                      | 3599/6000 [01:19<00:51, 47.02image/s]\n",
      "Processing Images:  60%|█████████████████████████████████▋                      | 3605/6000 [01:19<00:48, 49.50image/s]\u001b[A\n",
      " 60%|██████████████████████████████████████████████▊                               | 3605/6000 [01:19<00:48, 49.50it/s]\u001b[A"
     ]
    },
    {
     "name": "stdout",
     "output_type": "stream",
     "text": [
      ">>> images count = 3597\n",
      ">>> images count = 3598\n",
      ">>> images count = 3599\n",
      ">>> images count = 3600\n",
      ">>> images count = 3601\n",
      ">>> images count = 3602\n",
      ">>> images count = 3603\n",
      ">>> images count = 3604\n",
      ">>> images count = 3605\n",
      ">>> images count = 3606\n",
      ">>> images count = 3607\n"
     ]
    },
    {
     "name": "stderr",
     "output_type": "stream",
     "text": [
      "Processing Images:  60%|█████████████████████████████████▋                      | 3610/6000 [01:19<00:50, 47.06image/s]\n",
      "Processing Images:  60%|█████████████████████████████████▋                      | 3615/6000 [01:19<00:52, 45.48image/s]\u001b[A\n",
      " 60%|██████████████████████████████████████████████▉                               | 3615/6000 [01:19<00:52, 45.48it/s]\u001b[A"
     ]
    },
    {
     "name": "stdout",
     "output_type": "stream",
     "text": [
      ">>> images count = 3608\n",
      ">>> images count = 3609\n",
      ">>> images count = 3610\n",
      ">>> images count = 3611\n",
      ">>> images count = 3612\n",
      ">>> images count = 3613\n",
      ">>> images count = 3614\n",
      ">>> images count = 3615\n",
      ">>> images count = 3616\n"
     ]
    },
    {
     "name": "stderr",
     "output_type": "stream",
     "text": [
      "Processing Images:  60%|█████████████████████████████████▊                      | 3620/6000 [01:19<00:54, 43.62image/s]\n",
      " 60%|███████████████████████████████████████████████                               | 3620/6000 [01:19<00:54, 43.62it/s]\u001b[A"
     ]
    },
    {
     "name": "stdout",
     "output_type": "stream",
     "text": [
      ">>> images count = 3617\n",
      ">>> images count = 3618\n",
      ">>> images count = 3619\n",
      ">>> images count = 3620\n",
      ">>> images count = 3621\n",
      ">>> images count = 3622\n",
      ">>> images count = 3623\n",
      ">>> images count = 3624\n"
     ]
    },
    {
     "name": "stderr",
     "output_type": "stream",
     "text": [
      "Processing Images:  60%|█████████████████████████████████▊                      | 3625/6000 [01:19<00:55, 42.90image/s]\n",
      "Processing Images:  60%|█████████████████████████████████▉                      | 3630/6000 [01:19<00:54, 43.50image/s]\u001b[A\n",
      "Processing Images:  61%|█████████████████████████████████▉                      | 3635/6000 [01:19<00:52, 44.98image/s]\u001b[A"
     ]
    },
    {
     "name": "stdout",
     "output_type": "stream",
     "text": [
      ">>> images count = 3625\n",
      ">>> images count = 3626\n",
      ">>> images count = 3627\n",
      ">>> images count = 3628\n",
      ">>> images count = 3629\n",
      ">>> images count = 3630\n",
      ">>> images count = 3631\n",
      ">>> images count = 3632\n",
      ">>> images count = 3633\n",
      ">>> images count = 3634\n"
     ]
    },
    {
     "name": "stderr",
     "output_type": "stream",
     "text": [
      "\n",
      "Processing Images:  61%|█████████████████████████████████▉                      | 3640/6000 [01:19<00:52, 45.07image/s]\u001b[A\n",
      " 61%|███████████████████████████████████████████████▎                              | 3640/6000 [01:19<00:52, 45.07it/s]\u001b[A"
     ]
    },
    {
     "name": "stdout",
     "output_type": "stream",
     "text": [
      ">>> images count = 3635\n",
      ">>> images count = 3636\n",
      ">>> images count = 3637\n",
      ">>> images count = 3638\n",
      ">>> images count = 3639\n",
      ">>> images count = 3640\n",
      ">>> images count = 3641\n",
      ">>> images count = 3642\n",
      ">>> images count = 3643\n"
     ]
    },
    {
     "name": "stderr",
     "output_type": "stream",
     "text": [
      "Processing Images:  61%|██████████████████████████████████                      | 3645/6000 [01:20<00:53, 43.70image/s]\n",
      "Processing Images:  61%|██████████████████████████████████                      | 3650/6000 [01:20<00:52, 44.43image/s]\u001b[A\n",
      " 61%|███████████████████████████████████████████████▍                              | 3650/6000 [01:20<00:53, 44.31it/s]\u001b[A"
     ]
    },
    {
     "name": "stdout",
     "output_type": "stream",
     "text": [
      ">>> images count = 3644\n",
      ">>> images count = 3645\n",
      ">>> images count = 3646\n",
      ">>> images count = 3647\n",
      ">>> images count = 3648\n",
      ">>> images count = 3649\n",
      ">>> images count = 3650\n",
      ">>> images count = 3651\n",
      ">>> images count = 3652\n",
      ">>> images count = 3653\n",
      ">>> images count = 3654\n"
     ]
    },
    {
     "name": "stderr",
     "output_type": "stream",
     "text": [
      "Processing Images:  61%|██████████████████████████████████                      | 3656/6000 [01:20<00:49, 46.97image/s]\n",
      "Processing Images:  61%|██████████████████████████████████▏                     | 3661/6000 [01:20<00:49, 47.52image/s]\u001b[A\n",
      " 61%|███████████████████████████████████████████████▌                              | 3661/6000 [01:20<00:49, 47.50it/s]\u001b[A"
     ]
    },
    {
     "name": "stdout",
     "output_type": "stream",
     "text": [
      ">>> images count = 3655\n",
      ">>> images count = 3656\n",
      ">>> images count = 3657\n",
      ">>> images count = 3658\n",
      ">>> images count = 3659\n",
      ">>> images count = 3660\n",
      ">>> images count = 3661\n",
      ">>> images count = 3662\n",
      ">>> images count = 3663\n",
      ">>> images count = 3664\n",
      ">>> images count = 3665\n"
     ]
    },
    {
     "name": "stderr",
     "output_type": "stream",
     "text": [
      "Processing Images:  61%|██████████████████████████████████▏                     | 3666/6000 [01:20<00:50, 46.00image/s]\n",
      "Processing Images:  61%|██████████████████████████████████▎                     | 3671/6000 [01:20<00:50, 46.44image/s]\u001b[A\n",
      " 61%|███████████████████████████████████████████████▋                              | 3671/6000 [01:20<00:50, 46.44it/s]\u001b[A"
     ]
    },
    {
     "name": "stdout",
     "output_type": "stream",
     "text": [
      ">>> images count = 3666\n",
      ">>> images count = 3667\n",
      ">>> images count = 3668\n",
      ">>> images count = 3669\n",
      ">>> images count = 3670\n",
      ">>> images count = 3671\n",
      ">>> images count = 3672\n",
      ">>> images count = 3673\n",
      ">>> images count = 3674\n",
      ">>> images count = 3675\n",
      ">>> images count = 3676\n"
     ]
    },
    {
     "name": "stderr",
     "output_type": "stream",
     "text": [
      "Processing Images:  61%|██████████████████████████████████▎                     | 3677/6000 [01:20<00:48, 48.20image/s]\n",
      "Processing Images:  61%|██████████████████████████████████▎                     | 3683/6000 [01:20<00:45, 50.89image/s]\u001b[A\n",
      " 61%|███████████████████████████████████████████████▉                              | 3683/6000 [01:20<00:45, 50.89it/s]\u001b[A"
     ]
    },
    {
     "name": "stdout",
     "output_type": "stream",
     "text": [
      ">>> images count = 3677\n",
      ">>> images count = 3678\n",
      ">>> images count = 3679\n",
      ">>> images count = 3680\n",
      ">>> images count = 3681\n",
      ">>> images count = 3682\n",
      ">>> images count = 3683\n",
      ">>> images count = 3684\n",
      ">>> images count = 3685\n",
      ">>> images count = 3686\n",
      ">>> images count = 3687\n",
      ">>> images count = 3688\n"
     ]
    },
    {
     "name": "stderr",
     "output_type": "stream",
     "text": [
      "Processing Images:  61%|██████████████████████████████████▍                     | 3689/6000 [01:20<00:46, 49.86image/s]\n",
      "Processing Images:  62%|██████████████████████████████████▍                     | 3695/6000 [01:21<00:46, 49.76image/s]\u001b[A\n",
      " 62%|████████████████████████████████████████████████                              | 3695/6000 [01:21<00:46, 49.76it/s]\u001b[A"
     ]
    },
    {
     "name": "stdout",
     "output_type": "stream",
     "text": [
      ">>> images count = 3689\n",
      ">>> images count = 3690\n",
      ">>> images count = 3691\n",
      ">>> images count = 3692\n",
      ">>> images count = 3693\n",
      ">>> images count = 3694\n",
      ">>> images count = 3695\n",
      ">>> images count = 3696\n",
      ">>> images count = 3697\n",
      ">>> images count = 3698\n"
     ]
    },
    {
     "name": "stderr",
     "output_type": "stream",
     "text": [
      "Processing Images:  62%|██████████████████████████████████▌                     | 3700/6000 [01:21<00:46, 49.40image/s]\n",
      "Processing Images:  62%|██████████████████████████████████▌                     | 3705/6000 [01:21<00:47, 48.26image/s]\u001b[A\n",
      " 62%|████████████████████████████████████████████████▏                             | 3705/6000 [01:21<00:47, 48.26it/s]\u001b[A"
     ]
    },
    {
     "name": "stdout",
     "output_type": "stream",
     "text": [
      ">>> images count = 3699\n",
      ">>> images count = 3700\n",
      ">>> images count = 3701\n",
      ">>> images count = 3702\n",
      ">>> images count = 3703\n",
      ">>> images count = 3704\n",
      ">>> images count = 3705\n",
      ">>> images count = 3706\n",
      ">>> images count = 3707\n",
      ">>> images count = 3708\n",
      ">>> images count = 3709\n"
     ]
    },
    {
     "name": "stderr",
     "output_type": "stream",
     "text": [
      "Processing Images:  62%|██████████████████████████████████▋                     | 3710/6000 [01:21<00:47, 48.45image/s]\n",
      "Processing Images:  62%|██████████████████████████████████▋                     | 3716/6000 [01:21<00:45, 50.14image/s]\u001b[A\n",
      " 62%|████████████████████████████████████████████████▎                             | 3716/6000 [01:21<00:45, 50.14it/s]\u001b[A"
     ]
    },
    {
     "name": "stdout",
     "output_type": "stream",
     "text": [
      ">>> images count = 3710\n",
      ">>> images count = 3711\n",
      ">>> images count = 3712\n",
      ">>> images count = 3713\n",
      ">>> images count = 3714\n",
      ">>> images count = 3715\n",
      ">>> images count = 3716\n",
      ">>> images count = 3717\n",
      ">>> images count = 3718\n",
      ">>> images count = 3719\n",
      ">>> images count = 3720\n"
     ]
    },
    {
     "name": "stderr",
     "output_type": "stream",
     "text": [
      "Processing Images:  62%|██████████████████████████████████▋                     | 3722/6000 [01:21<00:44, 51.02image/s]\n",
      "Processing Images:  62%|██████████████████████████████████▊                     | 3728/6000 [01:21<00:46, 48.88image/s]\u001b[A\n",
      " 62%|████████████████████████████████████████████████▍                             | 3728/6000 [01:21<00:46, 48.88it/s]\u001b[A"
     ]
    },
    {
     "name": "stdout",
     "output_type": "stream",
     "text": [
      ">>> images count = 3721\n",
      ">>> images count = 3722\n",
      ">>> images count = 3723\n",
      ">>> images count = 3724\n",
      ">>> images count = 3725\n",
      ">>> images count = 3726\n",
      ">>> images count = 3727\n",
      ">>> images count = 3728\n",
      ">>> images count = 3729\n",
      ">>> images count = 3730\n",
      ">>> images count = 3731\n"
     ]
    },
    {
     "name": "stderr",
     "output_type": "stream",
     "text": [
      "Processing Images:  62%|██████████████████████████████████▊                     | 3733/6000 [01:21<00:46, 48.57image/s]\n",
      "Processing Images:  62%|██████████████████████████████████▉                     | 3738/6000 [01:21<00:47, 47.51image/s]\u001b[A\n",
      " 62%|████████████████████████████████████████████████▌                             | 3738/6000 [01:21<00:47, 47.51it/s]\u001b[A"
     ]
    },
    {
     "name": "stdout",
     "output_type": "stream",
     "text": [
      ">>> images count = 3732\n",
      ">>> images count = 3733\n",
      ">>> images count = 3734\n",
      ">>> images count = 3735\n",
      ">>> images count = 3736\n",
      ">>> images count = 3737\n",
      ">>> images count = 3738\n",
      ">>> images count = 3739\n",
      ">>> images count = 3740\n"
     ]
    },
    {
     "name": "stderr",
     "output_type": "stream",
     "text": [
      "Processing Images:  62%|██████████████████████████████████▉                     | 3743/6000 [01:22<00:47, 47.52image/s]\n",
      "Processing Images:  62%|██████████████████████████████████▉                     | 3748/6000 [01:22<00:48, 46.88image/s]\u001b[A\n",
      " 62%|████████████████████████████████████████████████▋                             | 3748/6000 [01:22<00:48, 46.88it/s]\u001b[A"
     ]
    },
    {
     "name": "stdout",
     "output_type": "stream",
     "text": [
      ">>> images count = 3741\n",
      ">>> images count = 3742\n",
      ">>> images count = 3743\n",
      ">>> images count = 3744\n",
      ">>> images count = 3745\n",
      ">>> images count = 3746\n",
      ">>> images count = 3747\n",
      ">>> images count = 3748\n",
      ">>> images count = 3749\n",
      ">>> images count = 3750\n"
     ]
    },
    {
     "name": "stderr",
     "output_type": "stream",
     "text": [
      "Processing Images:  63%|███████████████████████████████████                     | 3753/6000 [01:22<00:48, 46.44image/s]\n",
      "Processing Images:  63%|███████████████████████████████████                     | 3758/6000 [01:22<00:48, 46.12image/s]\u001b[A\n",
      " 63%|████████████████████████████████████████████████▊                             | 3758/6000 [01:22<00:48, 46.12it/s]\u001b[A"
     ]
    },
    {
     "name": "stdout",
     "output_type": "stream",
     "text": [
      ">>> images count = 3751\n",
      ">>> images count = 3752\n",
      ">>> images count = 3753\n",
      ">>> images count = 3754\n",
      ">>> images count = 3755\n",
      ">>> images count = 3756\n",
      ">>> images count = 3757\n",
      ">>> images count = 3758\n",
      ">>> images count = 3759\n",
      ">>> images count = 3760\n"
     ]
    },
    {
     "name": "stderr",
     "output_type": "stream",
     "text": [
      "Processing Images:  63%|███████████████████████████████████                     | 3763/6000 [01:22<00:47, 46.92image/s]\n",
      "Processing Images:  63%|███████████████████████████████████▏                    | 3769/6000 [01:22<00:45, 48.68image/s]\u001b[A\n",
      " 63%|████████████████████████████████████████████████▉                             | 3769/6000 [01:22<00:45, 48.68it/s]\u001b[A"
     ]
    },
    {
     "name": "stdout",
     "output_type": "stream",
     "text": [
      ">>> images count = 3761\n",
      ">>> images count = 3762\n",
      ">>> images count = 3763\n",
      ">>> images count = 3764\n",
      ">>> images count = 3765\n",
      ">>> images count = 3766\n",
      ">>> images count = 3767\n",
      ">>> images count = 3768\n",
      ">>> images count = 3769\n",
      ">>> images count = 3770\n",
      ">>> images count = 3771\n"
     ]
    },
    {
     "name": "stderr",
     "output_type": "stream",
     "text": [
      "Processing Images:  63%|███████████████████████████████████▏                    | 3774/6000 [01:22<00:47, 47.01image/s]\n",
      "Processing Images:  63%|███████████████████████████████████▎                    | 3779/6000 [01:22<00:46, 47.68image/s]\u001b[A\n",
      " 63%|█████████████████████████████████████████████████▏                            | 3779/6000 [01:22<00:46, 47.68it/s]\u001b[A"
     ]
    },
    {
     "name": "stdout",
     "output_type": "stream",
     "text": [
      ">>> images count = 3772\n",
      ">>> images count = 3773\n",
      ">>> images count = 3774\n",
      ">>> images count = 3775\n",
      ">>> images count = 3776\n",
      ">>> images count = 3777\n",
      ">>> images count = 3778\n",
      ">>> images count = 3779\n",
      ">>> images count = 3780\n",
      ">>> images count = 3781\n"
     ]
    },
    {
     "name": "stderr",
     "output_type": "stream",
     "text": [
      "Processing Images:  63%|███████████████████████████████████▎                    | 3784/6000 [01:22<00:47, 46.99image/s]\n",
      "Processing Images:  63%|███████████████████████████████████▎                    | 3790/6000 [01:23<00:45, 48.38image/s]\u001b[A\n",
      " 63%|█████████████████████████████████████████████████▎                            | 3790/6000 [01:23<00:45, 48.38it/s]\u001b[A"
     ]
    },
    {
     "name": "stdout",
     "output_type": "stream",
     "text": [
      ">>> images count = 3782\n",
      ">>> images count = 3783\n",
      ">>> images count = 3784\n",
      ">>> images count = 3785\n",
      ">>> images count = 3786\n",
      ">>> images count = 3787\n",
      ">>> images count = 3788\n",
      ">>> images count = 3789\n",
      ">>> images count = 3790\n",
      ">>> images count = 3791\n",
      ">>> images count = 3792\n"
     ]
    },
    {
     "name": "stderr",
     "output_type": "stream",
     "text": [
      "Processing Images:  63%|███████████████████████████████████▍                    | 3795/6000 [01:23<00:45, 48.28image/s]\n",
      "Processing Images:  63%|███████████████████████████████████▍                    | 3801/6000 [01:23<00:44, 49.80image/s]\u001b[A\n",
      " 63%|█████████████████████████████████████████████████▍                            | 3801/6000 [01:23<00:44, 49.67it/s]\u001b[A"
     ]
    },
    {
     "name": "stdout",
     "output_type": "stream",
     "text": [
      ">>> images count = 3793\n",
      ">>> images count = 3794\n",
      ">>> images count = 3795\n",
      ">>> images count = 3796\n",
      ">>> images count = 3797\n",
      ">>> images count = 3798\n",
      ">>> images count = 3799\n",
      ">>> images count = 3800\n",
      ">>> images count = 3801\n",
      ">>> images count = 3802\n",
      ">>> images count = 3803\n",
      ">>> images count = 3804\n"
     ]
    },
    {
     "name": "stderr",
     "output_type": "stream",
     "text": [
      "Processing Images:  63%|███████████████████████████████████▌                    | 3807/6000 [01:23<00:43, 49.85image/s]\n",
      "Processing Images:  64%|███████████████████████████████████▌                    | 3812/6000 [01:23<00:44, 48.96image/s]\u001b[A\n",
      " 64%|█████████████████████████████████████████████████▌                            | 3812/6000 [01:23<00:44, 48.98it/s]\u001b[A"
     ]
    },
    {
     "name": "stdout",
     "output_type": "stream",
     "text": [
      ">>> images count = 3805\n",
      ">>> images count = 3806\n",
      ">>> images count = 3807\n",
      ">>> images count = 3808\n",
      ">>> images count = 3809\n",
      ">>> images count = 3810\n",
      ">>> images count = 3811\n",
      ">>> images count = 3812\n",
      ">>> images count = 3813\n",
      ">>> images count = 3814\n"
     ]
    },
    {
     "name": "stderr",
     "output_type": "stream",
     "text": [
      "Processing Images:  64%|███████████████████████████████████▋                    | 3817/6000 [01:23<00:44, 49.08image/s]\n",
      "Processing Images:  64%|███████████████████████████████████▋                    | 3823/6000 [01:23<00:44, 49.23image/s]\u001b[A\n",
      " 64%|█████████████████████████████████████████████████▋                            | 3823/6000 [01:23<00:44, 49.25it/s]\u001b[A"
     ]
    },
    {
     "name": "stdout",
     "output_type": "stream",
     "text": [
      ">>> images count = 3815\n",
      ">>> images count = 3816\n",
      ">>> images count = 3817\n",
      ">>> images count = 3818\n",
      ">>> images count = 3819\n",
      ">>> images count = 3820\n",
      ">>> images count = 3821\n",
      ">>> images count = 3822\n",
      ">>> images count = 3823\n",
      ">>> images count = 3824\n",
      ">>> images count = 3825\n"
     ]
    },
    {
     "name": "stderr",
     "output_type": "stream",
     "text": [
      "Processing Images:  64%|███████████████████████████████████▋                    | 3829/6000 [01:23<00:43, 50.25image/s]\n",
      " 64%|█████████████████████████████████████████████████▊                            | 3829/6000 [01:23<00:43, 50.26it/s]\u001b[A"
     ]
    },
    {
     "name": "stdout",
     "output_type": "stream",
     "text": [
      ">>> images count = 3826\n",
      ">>> images count = 3827\n",
      ">>> images count = 3828\n",
      ">>> images count = 3829\n",
      ">>> images count = 3830\n",
      ">>> images count = 3831\n",
      ">>> images count = 3832\n",
      ">>> images count = 3833\n",
      ">>> images count = 3834\n"
     ]
    },
    {
     "name": "stderr",
     "output_type": "stream",
     "text": [
      "Processing Images:  64%|███████████████████████████████████▊                    | 3835/6000 [01:23<00:44, 49.19image/s]\n",
      "Processing Images:  64%|███████████████████████████████████▊                    | 3840/6000 [01:24<00:43, 49.12image/s]\u001b[A\n",
      " 64%|█████████████████████████████████████████████████▉                            | 3840/6000 [01:24<00:43, 49.12it/s]\u001b[A"
     ]
    },
    {
     "name": "stdout",
     "output_type": "stream",
     "text": [
      ">>> images count = 3835\n",
      ">>> images count = 3836\n",
      ">>> images count = 3837\n",
      ">>> images count = 3838\n",
      ">>> images count = 3839\n",
      ">>> images count = 3840\n",
      ">>> images count = 3841\n",
      ">>> images count = 3842\n",
      ">>> images count = 3843\n",
      ">>> images count = 3844\n"
     ]
    },
    {
     "name": "stderr",
     "output_type": "stream",
     "text": [
      "Processing Images:  64%|███████████████████████████████████▉                    | 3845/6000 [01:24<00:46, 46.41image/s]\n",
      "Processing Images:  64%|███████████████████████████████████▉                    | 3850/6000 [01:24<00:47, 44.93image/s]\u001b[A\n",
      " 64%|██████████████████████████████████████████████████                            | 3850/6000 [01:24<00:47, 44.90it/s]\u001b[A"
     ]
    },
    {
     "name": "stdout",
     "output_type": "stream",
     "text": [
      ">>> images count = 3845\n",
      ">>> images count = 3846\n",
      ">>> images count = 3847\n",
      ">>> images count = 3848\n",
      ">>> images count = 3849\n",
      ">>> images count = 3850\n",
      ">>> images count = 3851\n",
      ">>> images count = 3852\n",
      ">>> images count = 3853\n",
      ">>> images count = 3854\n"
     ]
    },
    {
     "name": "stderr",
     "output_type": "stream",
     "text": [
      "Processing Images:  64%|███████████████████████████████████▉                    | 3855/6000 [01:24<00:47, 45.54image/s]\n",
      "Processing Images:  64%|████████████████████████████████████                    | 3861/6000 [01:24<00:45, 47.53image/s]\u001b[A\n",
      " 64%|██████████████████████████████████████████████████▏                           | 3861/6000 [01:24<00:45, 47.51it/s]\u001b[A"
     ]
    },
    {
     "name": "stdout",
     "output_type": "stream",
     "text": [
      ">>> images count = 3855\n",
      ">>> images count = 3856\n",
      ">>> images count = 3857\n",
      ">>> images count = 3858\n",
      ">>> images count = 3859\n",
      ">>> images count = 3860\n",
      ">>> images count = 3861\n",
      ">>> images count = 3862\n",
      ">>> images count = 3863\n",
      ">>> images count = 3864\n"
     ]
    },
    {
     "name": "stderr",
     "output_type": "stream",
     "text": [
      "Processing Images:  64%|████████████████████████████████████                    | 3866/6000 [01:24<00:44, 47.96image/s]\n",
      "Processing Images:  65%|████████████████████████████████████▏                   | 3872/6000 [01:24<00:41, 51.30image/s]\u001b[A\n",
      " 65%|██████████████████████████████████████████████████▎                           | 3872/6000 [01:24<00:41, 51.29it/s]\u001b[A"
     ]
    },
    {
     "name": "stdout",
     "output_type": "stream",
     "text": [
      ">>> images count = 3865\n",
      ">>> images count = 3866\n",
      ">>> images count = 3867\n",
      ">>> images count = 3868\n",
      ">>> images count = 3869\n",
      ">>> images count = 3870\n",
      ">>> images count = 3871\n",
      ">>> images count = 3872\n",
      ">>> images count = 3873\n",
      ">>> images count = 3874\n",
      ">>> images count = 3875\n",
      ">>> images count = 3876\n"
     ]
    },
    {
     "name": "stderr",
     "output_type": "stream",
     "text": [
      "Processing Images:  65%|████████████████████████████████████▏                   | 3878/6000 [01:24<00:43, 48.96image/s]\n",
      "Processing Images:  65%|████████████████████████████████████▏                   | 3883/6000 [01:24<00:44, 48.05image/s]\u001b[A\n",
      " 65%|██████████████████████████████████████████████████▍                           | 3883/6000 [01:24<00:43, 48.21it/s]\u001b[A"
     ]
    },
    {
     "name": "stdout",
     "output_type": "stream",
     "text": [
      ">>> images count = 3877\n",
      ">>> images count = 3878\n",
      ">>> images count = 3879\n",
      ">>> images count = 3880\n",
      ">>> images count = 3881\n",
      ">>> images count = 3882\n",
      ">>> images count = 3883\n",
      ">>> images count = 3884\n",
      ">>> images count = 3885\n",
      ">>> images count = 3886\n"
     ]
    },
    {
     "name": "stderr",
     "output_type": "stream",
     "text": [
      "Processing Images:  65%|████████████████████████████████████▎                   | 3888/6000 [01:25<00:47, 44.55image/s]\n",
      "Processing Images:  65%|████████████████████████████████████▎                   | 3893/6000 [01:25<00:46, 45.61image/s]\u001b[A\n",
      " 65%|██████████████████████████████████████████████████▌                           | 3893/6000 [01:25<00:46, 45.60it/s]\u001b[A"
     ]
    },
    {
     "name": "stdout",
     "output_type": "stream",
     "text": [
      ">>> images count = 3887\n",
      ">>> images count = 3888\n",
      ">>> images count = 3889\n",
      ">>> images count = 3890\n",
      ">>> images count = 3891\n",
      ">>> images count = 3892\n",
      ">>> images count = 3893\n",
      ">>> images count = 3894\n",
      ">>> images count = 3895\n",
      ">>> images count = 3896\n",
      ">>> images count = 3897\n"
     ]
    },
    {
     "name": "stderr",
     "output_type": "stream",
     "text": [
      "Processing Images:  65%|████████████████████████████████████▍                   | 3898/6000 [01:25<00:45, 46.40image/s]\n",
      "Processing Images:  65%|████████████████████████████████████▍                   | 3904/6000 [01:25<00:44, 47.15image/s]\u001b[A\n",
      " 65%|██████████████████████████████████████████████████▊                           | 3904/6000 [01:25<00:44, 46.90it/s]\u001b[A"
     ]
    },
    {
     "name": "stdout",
     "output_type": "stream",
     "text": [
      ">>> images count = 3898\n",
      ">>> images count = 3899\n",
      ">>> images count = 3900\n",
      ">>> images count = 3901\n",
      ">>> images count = 3902\n",
      ">>> images count = 3903\n",
      ">>> images count = 3904\n",
      ">>> images count = 3905\n",
      ">>> images count = 3906\n",
      ">>> images count = 3907\n",
      ">>> images count = 3908\n"
     ]
    },
    {
     "name": "stderr",
     "output_type": "stream",
     "text": [
      "Processing Images:  65%|████████████████████████████████████▍                   | 3910/6000 [01:25<00:43, 48.46image/s]\n",
      "Processing Images:  65%|████████████████████████████████████▌                   | 3916/6000 [01:25<00:41, 50.07image/s]\u001b[A\n",
      " 65%|██████████████████████████████████████████████████▉                           | 3916/6000 [01:25<00:41, 50.13it/s]\u001b[A"
     ]
    },
    {
     "name": "stdout",
     "output_type": "stream",
     "text": [
      ">>> images count = 3909\n",
      ">>> images count = 3910\n",
      ">>> images count = 3911\n",
      ">>> images count = 3912\n",
      ">>> images count = 3913\n",
      ">>> images count = 3914\n",
      ">>> images count = 3915\n",
      ">>> images count = 3916\n",
      ">>> images count = 3917\n",
      ">>> images count = 3918\n",
      ">>> images count = 3919\n",
      ">>> images count = 3920\n"
     ]
    },
    {
     "name": "stderr",
     "output_type": "stream",
     "text": [
      "Processing Images:  65%|████████████████████████████████████▌                   | 3922/6000 [01:25<00:42, 49.27image/s]\n",
      "Processing Images:  65%|████████████████████████████████████▋                   | 3927/6000 [01:25<00:42, 49.18image/s]\u001b[A\n",
      " 65%|███████████████████████████████████████████████████                           | 3927/6000 [01:25<00:42, 49.34it/s]\u001b[A"
     ]
    },
    {
     "name": "stdout",
     "output_type": "stream",
     "text": [
      ">>> images count = 3921\n",
      ">>> images count = 3922\n",
      ">>> images count = 3923\n",
      ">>> images count = 3924\n",
      ">>> images count = 3925\n",
      ">>> images count = 3926\n",
      ">>> images count = 3927\n",
      ">>> images count = 3928\n",
      ">>> images count = 3929\n",
      ">>> images count = 3930\n"
     ]
    },
    {
     "name": "stderr",
     "output_type": "stream",
     "text": [
      "Processing Images:  66%|████████████████████████████████████▋                   | 3932/6000 [01:26<00:44, 46.82image/s]\n",
      "Processing Images:  66%|████████████████████████████████████▋                   | 3937/6000 [01:26<00:45, 45.33image/s]\u001b[A\n",
      " 66%|███████████████████████████████████████████████████▏                          | 3937/6000 [01:26<00:45, 45.32it/s]\u001b[A"
     ]
    },
    {
     "name": "stdout",
     "output_type": "stream",
     "text": [
      ">>> images count = 3931\n",
      ">>> images count = 3932\n",
      ">>> images count = 3933\n",
      ">>> images count = 3934\n",
      ">>> images count = 3935\n",
      ">>> images count = 3936\n",
      ">>> images count = 3937\n",
      ">>> images count = 3938\n",
      ">>> images count = 3939\n",
      ">>> images count = 3940\n"
     ]
    },
    {
     "name": "stderr",
     "output_type": "stream",
     "text": [
      "Processing Images:  66%|████████████████████████████████████▊                   | 3942/6000 [01:26<00:44, 46.19image/s]\n",
      "Processing Images:  66%|████████████████████████████████████▊                   | 3947/6000 [01:26<00:44, 46.15image/s]\u001b[A\n",
      " 66%|███████████████████████████████████████████████████▎                          | 3947/6000 [01:26<00:44, 46.11it/s]\u001b[A"
     ]
    },
    {
     "name": "stdout",
     "output_type": "stream",
     "text": [
      ">>> images count = 3941\n",
      ">>> images count = 3942\n",
      ">>> images count = 3943\n",
      ">>> images count = 3944\n",
      ">>> images count = 3945\n",
      ">>> images count = 3946\n",
      ">>> images count = 3947\n",
      ">>> images count = 3948\n",
      ">>> images count = 3949\n"
     ]
    },
    {
     "name": "stderr",
     "output_type": "stream",
     "text": [
      "Processing Images:  66%|████████████████████████████████████▉                   | 3952/6000 [01:26<00:46, 44.20image/s]\n",
      "Processing Images:  66%|████████████████████████████████████▉                   | 3957/6000 [01:26<00:45, 44.43image/s]\u001b[A\n",
      " 66%|███████████████████████████████████████████████████▍                          | 3957/6000 [01:26<00:46, 44.41it/s]\u001b[A"
     ]
    },
    {
     "name": "stdout",
     "output_type": "stream",
     "text": [
      ">>> images count = 3950\n",
      ">>> images count = 3951\n",
      ">>> images count = 3952\n",
      ">>> images count = 3953\n",
      ">>> images count = 3954\n",
      ">>> images count = 3955\n",
      ">>> images count = 3956\n",
      ">>> images count = 3957\n",
      ">>> images count = 3958\n",
      ">>> images count = 3959\n"
     ]
    },
    {
     "name": "stderr",
     "output_type": "stream",
     "text": [
      "Processing Images:  66%|████████████████████████████████████▉                   | 3962/6000 [01:26<00:45, 44.36image/s]\n",
      "Processing Images:  66%|█████████████████████████████████████                   | 3967/6000 [01:26<00:44, 45.51image/s]\u001b[A\n",
      " 66%|███████████████████████████████████████████████████▌                          | 3967/6000 [01:26<00:44, 45.50it/s]\u001b[A"
     ]
    },
    {
     "name": "stdout",
     "output_type": "stream",
     "text": [
      ">>> images count = 3960\n",
      ">>> images count = 3961\n",
      ">>> images count = 3962\n",
      ">>> images count = 3963\n",
      ">>> images count = 3964\n",
      ">>> images count = 3965\n",
      ">>> images count = 3966\n",
      ">>> images count = 3967\n",
      ">>> images count = 3968\n",
      ">>> images count = 3969\n"
     ]
    },
    {
     "name": "stderr",
     "output_type": "stream",
     "text": [
      "Processing Images:  66%|█████████████████████████████████████                   | 3973/6000 [01:26<00:42, 48.06image/s]\n",
      "Processing Images:  66%|█████████████████████████████████████▏                  | 3978/6000 [01:27<00:42, 47.65image/s]\u001b[A\n",
      " 66%|███████████████████████████████████████████████████▋                          | 3978/6000 [01:27<00:42, 47.61it/s]\u001b[A"
     ]
    },
    {
     "name": "stdout",
     "output_type": "stream",
     "text": [
      ">>> images count = 3970\n",
      ">>> images count = 3971\n",
      ">>> images count = 3972\n",
      ">>> images count = 3973\n",
      ">>> images count = 3974\n",
      ">>> images count = 3975\n",
      ">>> images count = 3976\n",
      ">>> images count = 3977\n",
      ">>> images count = 3978\n",
      ">>> images count = 3979\n",
      ">>> images count = 3980\n"
     ]
    },
    {
     "name": "stderr",
     "output_type": "stream",
     "text": [
      "Processing Images:  66%|█████████████████████████████████████▏                  | 3983/6000 [01:27<00:42, 46.97image/s]\n",
      "Processing Images:  66%|█████████████████████████████████████▏                  | 3989/6000 [01:27<00:40, 49.09image/s]\u001b[A\n",
      " 66%|███████████████████████████████████████████████████▊                          | 3989/6000 [01:27<00:40, 49.07it/s]\u001b[A"
     ]
    },
    {
     "name": "stdout",
     "output_type": "stream",
     "text": [
      ">>> images count = 3981\n",
      ">>> images count = 3982\n",
      ">>> images count = 3983\n",
      ">>> images count = 3984\n",
      ">>> images count = 3985\n",
      ">>> images count = 3986\n",
      ">>> images count = 3987\n",
      ">>> images count = 3988\n",
      ">>> images count = 3989\n",
      ">>> images count = 3990\n",
      ">>> images count = 3991\n"
     ]
    },
    {
     "name": "stderr",
     "output_type": "stream",
     "text": [
      "Processing Images:  67%|█████████████████████████████████████▎                  | 3994/6000 [01:27<00:42, 47.09image/s]\n",
      "Processing Images:  67%|█████████████████████████████████████▎                  | 3999/6000 [01:27<00:43, 45.55image/s]\u001b[A\n",
      " 67%|███████████████████████████████████████████████████▉                          | 3999/6000 [01:27<00:43, 45.54it/s]\u001b[A"
     ]
    },
    {
     "name": "stdout",
     "output_type": "stream",
     "text": [
      ">>> images count = 3992\n",
      ">>> images count = 3993\n",
      ">>> images count = 3994\n",
      ">>> images count = 3995\n",
      ">>> images count = 3996\n",
      ">>> images count = 3997\n",
      ">>> images count = 3998\n",
      ">>> images count = 3999\n",
      ">>> images count = 4000\n",
      ">>> images count = 4001\n"
     ]
    },
    {
     "name": "stderr",
     "output_type": "stream",
     "text": [
      "Processing Images:  67%|█████████████████████████████████████▎                  | 4004/6000 [01:27<00:44, 45.27image/s]\n",
      "Processing Images:  67%|█████████████████████████████████████▍                  | 4009/6000 [01:27<00:44, 45.06image/s]\u001b[A\n",
      " 67%|████████████████████████████████████████████████████                          | 4009/6000 [01:27<00:44, 45.06it/s]\u001b[A"
     ]
    },
    {
     "name": "stdout",
     "output_type": "stream",
     "text": [
      ">>> images count = 4002\n",
      ">>> images count = 4003\n",
      ">>> images count = 4004\n",
      ">>> images count = 4005\n",
      ">>> images count = 4006\n",
      ">>> images count = 4007\n",
      ">>> images count = 4008\n",
      ">>> images count = 4009\n",
      ">>> images count = 4010\n",
      ">>> images count = 4011\n"
     ]
    },
    {
     "name": "stderr",
     "output_type": "stream",
     "text": [
      "Processing Images:  67%|█████████████████████████████████████▍                  | 4014/6000 [01:27<00:44, 44.22image/s]\n",
      "Processing Images:  67%|█████████████████████████████████████▌                  | 4019/6000 [01:27<00:46, 42.77image/s]\u001b[A\n",
      " 67%|████████████████████████████████████████████████████▏                         | 4019/6000 [01:27<00:46, 42.80it/s]\u001b[A"
     ]
    },
    {
     "name": "stdout",
     "output_type": "stream",
     "text": [
      ">>> images count = 4012\n",
      ">>> images count = 4013\n",
      ">>> images count = 4014\n",
      ">>> images count = 4015\n",
      ">>> images count = 4016\n",
      ">>> images count = 4017\n",
      ">>> images count = 4018\n",
      ">>> images count = 4019\n",
      ">>> images count = 4020\n"
     ]
    },
    {
     "name": "stderr",
     "output_type": "stream",
     "text": [
      "Processing Images:  67%|█████████████████████████████████████▌                  | 4024/6000 [01:28<00:45, 43.79image/s]\n",
      "Processing Images:  67%|█████████████████████████████████████▌                  | 4029/6000 [01:28<00:45, 43.51image/s]\u001b[A\n",
      " 67%|████████████████████████████████████████████████████▍                         | 4029/6000 [01:28<00:45, 43.49it/s]\u001b[A"
     ]
    },
    {
     "name": "stdout",
     "output_type": "stream",
     "text": [
      ">>> images count = 4021\n",
      ">>> images count = 4022\n",
      ">>> images count = 4023\n",
      ">>> images count = 4024\n",
      ">>> images count = 4025\n",
      ">>> images count = 4026\n",
      ">>> images count = 4027\n",
      ">>> images count = 4028\n",
      ">>> images count = 4029\n",
      ">>> images count = 4030\n"
     ]
    },
    {
     "name": "stderr",
     "output_type": "stream",
     "text": [
      "Processing Images:  67%|█████████████████████████████████████▋                  | 4034/6000 [01:28<00:44, 43.76image/s]\n",
      "Processing Images:  67%|█████████████████████████████████████▋                  | 4039/6000 [01:28<00:44, 44.47image/s]\u001b[A\n",
      " 67%|████████████████████████████████████████████████████▌                         | 4039/6000 [01:28<00:44, 44.46it/s]\u001b[A"
     ]
    },
    {
     "name": "stdout",
     "output_type": "stream",
     "text": [
      ">>> images count = 4031\n",
      ">>> images count = 4032\n",
      ">>> images count = 4033\n",
      ">>> images count = 4034\n",
      ">>> images count = 4035\n",
      ">>> images count = 4036\n",
      ">>> images count = 4037\n",
      ">>> images count = 4038\n",
      ">>> images count = 4039\n",
      ">>> images count = 4040\n",
      ">>> images count = 4041\n"
     ]
    },
    {
     "name": "stderr",
     "output_type": "stream",
     "text": [
      "Processing Images:  67%|█████████████████████████████████████▋                  | 4044/6000 [01:28<00:43, 45.22image/s]\n",
      "Processing Images:  67%|█████████████████████████████████████▊                  | 4049/6000 [01:28<00:42, 46.15image/s]\u001b[A\n",
      " 67%|████████████████████████████████████████████████████▋                         | 4049/6000 [01:28<00:42, 46.14it/s]\u001b[A"
     ]
    },
    {
     "name": "stdout",
     "output_type": "stream",
     "text": [
      ">>> images count = 4042\n",
      ">>> images count = 4043\n",
      ">>> images count = 4044\n",
      ">>> images count = 4045\n",
      ">>> images count = 4046\n",
      ">>> images count = 4047\n",
      ">>> images count = 4048\n",
      ">>> images count = 4049\n",
      ">>> images count = 4050\n",
      ">>> images count = 4051\n"
     ]
    },
    {
     "name": "stderr",
     "output_type": "stream",
     "text": [
      "Processing Images:  68%|█████████████████████████████████████▊                  | 4055/6000 [01:28<00:40, 47.60image/s]\n",
      " 68%|████████████████████████████████████████████████████▋                         | 4055/6000 [01:28<00:40, 47.60it/s]\u001b[A"
     ]
    },
    {
     "name": "stdout",
     "output_type": "stream",
     "text": [
      ">>> images count = 4052\n",
      ">>> images count = 4053\n",
      ">>> images count = 4054\n",
      ">>> images count = 4055\n",
      ">>> images count = 4056\n",
      ">>> images count = 4057\n",
      ">>> images count = 4058\n",
      ">>> images count = 4059\n"
     ]
    },
    {
     "name": "stderr",
     "output_type": "stream",
     "text": [
      "Processing Images:  68%|█████████████████████████████████████▉                  | 4060/6000 [01:28<00:41, 46.20image/s]\n",
      "Processing Images:  68%|█████████████████████████████████████▉                  | 4065/6000 [01:28<00:42, 45.03image/s]\u001b[A\n",
      " 68%|████████████████████████████████████████████████████▊                         | 4065/6000 [01:28<00:42, 45.07it/s]\u001b[A"
     ]
    },
    {
     "name": "stdout",
     "output_type": "stream",
     "text": [
      ">>> images count = 4060\n",
      ">>> images count = 4061\n",
      ">>> images count = 4062\n",
      ">>> images count = 4063\n",
      ">>> images count = 4064\n",
      ">>> images count = 4065\n",
      ">>> images count = 4066\n",
      ">>> images count = 4067\n",
      ">>> images count = 4068\n",
      ">>> images count = 4069\n"
     ]
    },
    {
     "name": "stderr",
     "output_type": "stream",
     "text": [
      "Processing Images:  68%|█████████████████████████████████████▉                  | 4070/6000 [01:29<00:43, 44.72image/s]\n",
      "Processing Images:  68%|██████████████████████████████████████                  | 4076/6000 [01:29<00:41, 46.35image/s]\u001b[A\n",
      " 68%|████████████████████████████████████████████████████▉                         | 4076/6000 [01:29<00:41, 46.36it/s]\u001b[A"
     ]
    },
    {
     "name": "stdout",
     "output_type": "stream",
     "text": [
      ">>> images count = 4070\n",
      ">>> images count = 4071\n",
      ">>> images count = 4072\n",
      ">>> images count = 4073\n",
      ">>> images count = 4074\n",
      ">>> images count = 4075\n",
      ">>> images count = 4076\n",
      ">>> images count = 4077\n",
      ">>> images count = 4078\n",
      ">>> images count = 4079\n"
     ]
    },
    {
     "name": "stderr",
     "output_type": "stream",
     "text": [
      "Processing Images:  68%|██████████████████████████████████████                  | 4081/6000 [01:29<00:42, 45.59image/s]\n",
      "Processing Images:  68%|██████████████████████████████████████▏                 | 4086/6000 [01:29<00:43, 44.14image/s]\u001b[A\n",
      " 68%|█████████████████████████████████████████████████████                         | 4086/6000 [01:29<00:43, 44.15it/s]\u001b[A"
     ]
    },
    {
     "name": "stdout",
     "output_type": "stream",
     "text": [
      ">>> images count = 4080\n",
      ">>> images count = 4081\n",
      ">>> images count = 4082\n",
      ">>> images count = 4083\n",
      ">>> images count = 4084\n",
      ">>> images count = 4085\n",
      ">>> images count = 4086\n",
      ">>> images count = 4087\n",
      ">>> images count = 4088\n"
     ]
    },
    {
     "name": "stderr",
     "output_type": "stream",
     "text": [
      "Processing Images:  68%|██████████████████████████████████████▏                 | 4091/6000 [01:29<00:43, 43.60image/s]\n",
      "Processing Images:  68%|██████████████████████████████████████▏                 | 4096/6000 [01:29<00:43, 43.66image/s]\u001b[A\n",
      " 68%|█████████████████████████████████████████████████████▏                        | 4096/6000 [01:29<00:43, 43.66it/s]\u001b[A"
     ]
    },
    {
     "name": "stdout",
     "output_type": "stream",
     "text": [
      ">>> images count = 4089\n",
      ">>> images count = 4090\n",
      ">>> images count = 4091\n",
      ">>> images count = 4092\n",
      ">>> images count = 4093\n",
      ">>> images count = 4094\n",
      ">>> images count = 4095\n",
      ">>> images count = 4096\n",
      ">>> images count = 4097\n",
      ">>> images count = 4098\n"
     ]
    },
    {
     "name": "stderr",
     "output_type": "stream",
     "text": [
      "Processing Images:  68%|██████████████████████████████████████▎                 | 4101/6000 [01:29<00:43, 44.10image/s]\n",
      "Processing Images:  68%|██████████████████████████████████████▎                 | 4106/6000 [01:29<00:43, 43.82image/s]\u001b[A\n",
      " 68%|█████████████████████████████████████████████████████▍                        | 4106/6000 [01:29<00:43, 43.82it/s]\u001b[A"
     ]
    },
    {
     "name": "stdout",
     "output_type": "stream",
     "text": [
      ">>> images count = 4099\n",
      ">>> images count = 4100\n",
      ">>> images count = 4101\n",
      ">>> images count = 4102\n",
      ">>> images count = 4103\n",
      ">>> images count = 4104\n",
      ">>> images count = 4105\n",
      ">>> images count = 4106\n",
      ">>> images count = 4107\n"
     ]
    },
    {
     "name": "stderr",
     "output_type": "stream",
     "text": [
      "Processing Images:  69%|██████████████████████████████████████▎                 | 4111/6000 [01:29<00:41, 44.99image/s]\n",
      " 69%|█████████████████████████████████████████████████████▍                        | 4111/6000 [01:29<00:41, 44.99it/s]\u001b[A"
     ]
    },
    {
     "name": "stdout",
     "output_type": "stream",
     "text": [
      ">>> images count = 4108\n",
      ">>> images count = 4109\n",
      ">>> images count = 4110\n",
      ">>> images count = 4111\n",
      ">>> images count = 4112\n",
      ">>> images count = 4113\n",
      ">>> images count = 4114\n",
      ">>> images count = 4115\n",
      ">>> images count = 4116\n"
     ]
    },
    {
     "name": "stderr",
     "output_type": "stream",
     "text": [
      "Processing Images:  69%|██████████████████████████████████████▍                 | 4117/6000 [01:30<00:39, 47.33image/s]\n",
      "Processing Images:  69%|██████████████████████████████████████▍                 | 4122/6000 [01:30<00:39, 47.14image/s]\u001b[A\n",
      " 69%|█████████████████████████████████████████████████████▌                        | 4122/6000 [01:30<00:39, 47.18it/s]\u001b[A"
     ]
    },
    {
     "name": "stdout",
     "output_type": "stream",
     "text": [
      ">>> images count = 4117\n",
      ">>> images count = 4118\n",
      ">>> images count = 4119\n",
      ">>> images count = 4120\n",
      ">>> images count = 4121\n",
      ">>> images count = 4122\n",
      ">>> images count = 4123\n",
      ">>> images count = 4124\n",
      ">>> images count = 4125\n",
      ">>> images count = 4126\n"
     ]
    },
    {
     "name": "stderr",
     "output_type": "stream",
     "text": [
      "Processing Images:  69%|██████████████████████████████████████▌                 | 4127/6000 [01:30<00:39, 47.26image/s]\n",
      "Processing Images:  69%|██████████████████████████████████████▌                 | 4133/6000 [01:30<00:39, 47.49image/s]\u001b[A\n",
      " 69%|█████████████████████████████████████████████████████▋                        | 4133/6000 [01:30<00:39, 47.51it/s]\u001b[A"
     ]
    },
    {
     "name": "stdout",
     "output_type": "stream",
     "text": [
      ">>> images count = 4127\n",
      ">>> images count = 4128\n",
      ">>> images count = 4129\n",
      ">>> images count = 4130\n",
      ">>> images count = 4131\n",
      ">>> images count = 4132\n",
      ">>> images count = 4133\n",
      ">>> images count = 4134\n",
      ">>> images count = 4135\n",
      ">>> images count = 4136\n"
     ]
    },
    {
     "name": "stderr",
     "output_type": "stream",
     "text": [
      "Processing Images:  69%|██████████████████████████████████████▌                 | 4138/6000 [01:30<00:39, 47.50image/s]\n",
      "Processing Images:  69%|██████████████████████████████████████▋                 | 4143/6000 [01:30<00:41, 45.29image/s]\u001b[A\n",
      " 69%|█████████████████████████████████████████████████████▊                        | 4143/6000 [01:30<00:40, 45.30it/s]\u001b[A"
     ]
    },
    {
     "name": "stdout",
     "output_type": "stream",
     "text": [
      ">>> images count = 4137\n",
      ">>> images count = 4138\n",
      ">>> images count = 4139\n",
      ">>> images count = 4140\n",
      ">>> images count = 4141\n",
      ">>> images count = 4142\n",
      ">>> images count = 4143\n",
      ">>> images count = 4144\n",
      ">>> images count = 4145\n",
      ">>> images count = 4146\n"
     ]
    },
    {
     "name": "stderr",
     "output_type": "stream",
     "text": [
      "Processing Images:  69%|██████████████████████████████████████▋                 | 4148/6000 [01:30<00:40, 45.18image/s]\n",
      "Processing Images:  69%|██████████████████████████████████████▊                 | 4153/6000 [01:30<00:40, 45.28image/s]\u001b[A\n",
      " 69%|█████████████████████████████████████████████████████▉                        | 4153/6000 [01:30<00:40, 45.28it/s]\u001b[A"
     ]
    },
    {
     "name": "stdout",
     "output_type": "stream",
     "text": [
      ">>> images count = 4147\n",
      ">>> images count = 4148\n",
      ">>> images count = 4149\n",
      ">>> images count = 4150\n",
      ">>> images count = 4151\n",
      ">>> images count = 4152\n",
      ">>> images count = 4153\n",
      ">>> images count = 4154\n",
      ">>> images count = 4155\n",
      ">>> images count = 4156\n",
      ">>> images count = 4157\n"
     ]
    },
    {
     "name": "stderr",
     "output_type": "stream",
     "text": [
      "Processing Images:  69%|██████████████████████████████████████▊                 | 4158/6000 [01:30<00:40, 45.96image/s]\n",
      "Processing Images:  69%|██████████████████████████████████████▊                 | 4163/6000 [01:31<00:39, 46.39image/s]\u001b[A\n",
      " 69%|██████████████████████████████████████████████████████                        | 4163/6000 [01:31<00:39, 46.39it/s]\u001b[A"
     ]
    },
    {
     "name": "stdout",
     "output_type": "stream",
     "text": [
      ">>> images count = 4158\n",
      ">>> images count = 4159\n",
      ">>> images count = 4160\n",
      ">>> images count = 4161\n",
      ">>> images count = 4162\n",
      ">>> images count = 4163\n",
      ">>> images count = 4164\n",
      ">>> images count = 4165\n",
      ">>> images count = 4166\n",
      ">>> images count = 4167\n"
     ]
    },
    {
     "name": "stderr",
     "output_type": "stream",
     "text": [
      "Processing Images:  69%|██████████████████████████████████████▉                 | 4168/6000 [01:31<00:39, 46.67image/s]\n",
      "Processing Images:  70%|██████████████████████████████████████▉                 | 4174/6000 [01:31<00:37, 48.30image/s]\u001b[A\n",
      " 70%|██████████████████████████████████████████████████████▎                       | 4174/6000 [01:31<00:37, 48.30it/s]\u001b[A"
     ]
    },
    {
     "name": "stdout",
     "output_type": "stream",
     "text": [
      ">>> images count = 4168\n",
      ">>> images count = 4169\n",
      ">>> images count = 4170\n",
      ">>> images count = 4171\n",
      ">>> images count = 4172\n",
      ">>> images count = 4173\n",
      ">>> images count = 4174\n",
      ">>> images count = 4175\n",
      ">>> images count = 4176\n",
      ">>> images count = 4177\n"
     ]
    },
    {
     "name": "stderr",
     "output_type": "stream",
     "text": [
      "Processing Images:  70%|███████████████████████████████████████                 | 4179/6000 [01:31<00:38, 47.43image/s]\n",
      "Processing Images:  70%|███████████████████████████████████████                 | 4184/6000 [01:31<00:38, 47.33image/s]\u001b[A\n",
      " 70%|██████████████████████████████████████████████████████▍                       | 4184/6000 [01:31<00:38, 47.33it/s]\u001b[A"
     ]
    },
    {
     "name": "stdout",
     "output_type": "stream",
     "text": [
      ">>> images count = 4178\n",
      ">>> images count = 4179\n",
      ">>> images count = 4180\n",
      ">>> images count = 4181\n",
      ">>> images count = 4182\n",
      ">>> images count = 4183\n",
      ">>> images count = 4184\n",
      ">>> images count = 4185\n",
      ">>> images count = 4186\n"
     ]
    },
    {
     "name": "stderr",
     "output_type": "stream",
     "text": [
      "Processing Images:  70%|███████████████████████████████████████                 | 4189/6000 [01:31<00:39, 45.58image/s]\n",
      "Processing Images:  70%|███████████████████████████████████████▏                | 4194/6000 [01:31<00:39, 45.27image/s]\u001b[A\n",
      " 70%|██████████████████████████████████████████████████████▌                       | 4194/6000 [01:31<00:39, 45.39it/s]\u001b[A"
     ]
    },
    {
     "name": "stdout",
     "output_type": "stream",
     "text": [
      ">>> images count = 4187\n",
      ">>> images count = 4188\n",
      ">>> images count = 4189\n",
      ">>> images count = 4190\n",
      ">>> images count = 4191\n",
      ">>> images count = 4192\n",
      ">>> images count = 4193\n",
      ">>> images count = 4194\n",
      ">>> images count = 4195\n",
      ">>> images count = 4196\n",
      ">>> images count = 4197\n"
     ]
    },
    {
     "name": "stderr",
     "output_type": "stream",
     "text": [
      "Processing Images:  70%|███████████████████████████████████████▏                | 4199/6000 [01:31<00:40, 44.65image/s]\n",
      "Processing Images:  70%|███████████████████████████████████████▏                | 4204/6000 [01:32<00:42, 42.38image/s]\u001b[A\n",
      " 70%|██████████████████████████████████████████████████████▋                       | 4204/6000 [01:32<00:42, 42.35it/s]\u001b[A"
     ]
    },
    {
     "name": "stdout",
     "output_type": "stream",
     "text": [
      ">>> images count = 4198\n",
      ">>> images count = 4199\n",
      ">>> images count = 4200\n",
      ">>> images count = 4201\n",
      ">>> images count = 4202\n",
      ">>> images count = 4203\n",
      ">>> images count = 4204\n",
      ">>> images count = 4205\n",
      ">>> images count = 4206\n"
     ]
    },
    {
     "name": "stderr",
     "output_type": "stream",
     "text": [
      "Processing Images:  70%|███████████████████████████████████████▎                | 4209/6000 [01:32<00:43, 41.44image/s]\n",
      "Processing Images:  70%|███████████████████████████████████████▎                | 4214/6000 [01:32<00:41, 42.54image/s]\u001b[A\n",
      " 70%|██████████████████████████████████████████████████████▊                       | 4214/6000 [01:32<00:41, 42.53it/s]\u001b[A"
     ]
    },
    {
     "name": "stdout",
     "output_type": "stream",
     "text": [
      ">>> images count = 4207\n",
      ">>> images count = 4208\n",
      ">>> images count = 4209\n",
      ">>> images count = 4210\n",
      ">>> images count = 4211\n",
      ">>> images count = 4212\n",
      ">>> images count = 4213\n",
      ">>> images count = 4214\n",
      ">>> images count = 4215\n"
     ]
    },
    {
     "name": "stderr",
     "output_type": "stream",
     "text": [
      "Processing Images:  70%|███████████████████████████████████████▍                | 4219/6000 [01:32<00:42, 42.20image/s]\n",
      "Processing Images:  70%|███████████████████████████████████████▍                | 4224/6000 [01:32<00:41, 42.89image/s]\u001b[A\n",
      " 70%|██████████████████████████████████████████████████████▉                       | 4224/6000 [01:32<00:41, 42.89it/s]\u001b[A"
     ]
    },
    {
     "name": "stdout",
     "output_type": "stream",
     "text": [
      ">>> images count = 4216\n",
      ">>> images count = 4217\n",
      ">>> images count = 4218\n",
      ">>> images count = 4219\n",
      ">>> images count = 4220\n",
      ">>> images count = 4221\n",
      ">>> images count = 4222\n",
      ">>> images count = 4223\n",
      ">>> images count = 4224\n",
      ">>> images count = 4225\n"
     ]
    },
    {
     "name": "stderr",
     "output_type": "stream",
     "text": [
      "Processing Images:  70%|███████████████████████████████████████▍                | 4229/6000 [01:32<00:41, 42.72image/s]\n",
      " 70%|██████████████████████████████████████████████████████▉                       | 4229/6000 [01:32<00:41, 42.71it/s]\u001b[A"
     ]
    },
    {
     "name": "stdout",
     "output_type": "stream",
     "text": [
      ">>> images count = 4226\n",
      ">>> images count = 4227\n",
      ">>> images count = 4228\n",
      ">>> images count = 4229\n",
      ">>> images count = 4230\n",
      ">>> images count = 4231\n",
      ">>> images count = 4232\n",
      ">>> images count = 4233\n"
     ]
    },
    {
     "name": "stderr",
     "output_type": "stream",
     "text": [
      "Processing Images:  71%|███████████████████████████████████████▌                | 4234/6000 [01:32<00:40, 43.94image/s]\n",
      "Processing Images:  71%|███████████████████████████████████████▌                | 4239/6000 [01:32<00:39, 44.25image/s]\u001b[A\n",
      " 71%|███████████████████████████████████████████████████████                       | 4239/6000 [01:32<00:39, 44.25it/s]\u001b[A"
     ]
    },
    {
     "name": "stdout",
     "output_type": "stream",
     "text": [
      ">>> images count = 4234\n",
      ">>> images count = 4235\n",
      ">>> images count = 4236\n",
      ">>> images count = 4237\n",
      ">>> images count = 4238\n",
      ">>> images count = 4239\n",
      ">>> images count = 4240\n",
      ">>> images count = 4241\n",
      ">>> images count = 4242\n",
      ">>> images count = 4243\n"
     ]
    },
    {
     "name": "stderr",
     "output_type": "stream",
     "text": [
      "Processing Images:  71%|███████████████████████████████████████▌                | 4244/6000 [01:32<00:39, 44.59image/s]\n",
      "Processing Images:  71%|███████████████████████████████████████▋                | 4249/6000 [01:33<00:38, 45.42image/s]\u001b[A\n",
      " 71%|███████████████████████████████████████████████████████▏                      | 4249/6000 [01:33<00:38, 45.42it/s]\u001b[A"
     ]
    },
    {
     "name": "stdout",
     "output_type": "stream",
     "text": [
      ">>> images count = 4244\n",
      ">>> images count = 4245\n",
      ">>> images count = 4246\n",
      ">>> images count = 4247\n",
      ">>> images count = 4248\n",
      ">>> images count = 4249\n",
      ">>> images count = 4250\n",
      ">>> images count = 4251\n",
      ">>> images count = 4252\n",
      ">>> images count = 4253\n"
     ]
    },
    {
     "name": "stderr",
     "output_type": "stream",
     "text": [
      "Processing Images:  71%|███████████████████████████████████████▋                | 4255/6000 [01:33<00:37, 46.87image/s]\n",
      "Processing Images:  71%|███████████████████████████████████████▊                | 4261/6000 [01:33<00:36, 47.88image/s]\u001b[A\n",
      " 71%|███████████████████████████████████████████████████████▍                      | 4261/6000 [01:33<00:36, 47.88it/s]\u001b[A"
     ]
    },
    {
     "name": "stdout",
     "output_type": "stream",
     "text": [
      ">>> images count = 4254\n",
      ">>> images count = 4255\n",
      ">>> images count = 4256\n",
      ">>> images count = 4257\n",
      ">>> images count = 4258\n",
      ">>> images count = 4259\n",
      ">>> images count = 4260\n",
      ">>> images count = 4261\n",
      ">>> images count = 4262\n",
      ">>> images count = 4263\n",
      ">>> images count = 4264\n"
     ]
    },
    {
     "name": "stderr",
     "output_type": "stream",
     "text": [
      "Processing Images:  71%|███████████████████████████████████████▊                | 4266/6000 [01:33<00:36, 48.00image/s]\n",
      "Processing Images:  71%|███████████████████████████████████████▊                | 4271/6000 [01:33<00:38, 44.55image/s]\u001b[A\n",
      " 71%|███████████████████████████████████████████████████████▌                      | 4271/6000 [01:33<00:38, 44.55it/s]\u001b[A"
     ]
    },
    {
     "name": "stdout",
     "output_type": "stream",
     "text": [
      ">>> images count = 4265\n",
      ">>> images count = 4266\n",
      ">>> images count = 4267\n",
      ">>> images count = 4268\n",
      ">>> images count = 4269\n",
      ">>> images count = 4270\n",
      ">>> images count = 4271\n",
      ">>> images count = 4272\n",
      ">>> images count = 4273\n"
     ]
    },
    {
     "name": "stderr",
     "output_type": "stream",
     "text": [
      "Processing Images:  71%|███████████████████████████████████████▉                | 4276/6000 [01:33<00:39, 43.98image/s]\n",
      "Processing Images:  71%|███████████████████████████████████████▉                | 4281/6000 [01:33<00:38, 44.40image/s]\u001b[A\n",
      " 71%|███████████████████████████████████████████████████████▋                      | 4281/6000 [01:33<00:38, 44.25it/s]\u001b[A"
     ]
    },
    {
     "name": "stdout",
     "output_type": "stream",
     "text": [
      ">>> images count = 4274\n",
      ">>> images count = 4275\n",
      ">>> images count = 4276\n",
      ">>> images count = 4277\n",
      ">>> images count = 4278\n",
      ">>> images count = 4279\n",
      ">>> images count = 4280\n",
      ">>> images count = 4281\n",
      ">>> images count = 4282\n",
      ">>> images count = 4283\n"
     ]
    },
    {
     "name": "stderr",
     "output_type": "stream",
     "text": [
      "Processing Images:  71%|████████████████████████████████████████                | 4286/6000 [01:33<00:39, 42.99image/s]\n",
      " 71%|███████████████████████████████████████████████████████▋                      | 4286/6000 [01:33<00:39, 43.00it/s]\u001b[A"
     ]
    },
    {
     "name": "stdout",
     "output_type": "stream",
     "text": [
      ">>> images count = 4284\n",
      ">>> images count = 4285\n",
      ">>> images count = 4286\n",
      ">>> images count = 4287\n",
      ">>> images count = 4288\n",
      ">>> images count = 4289\n",
      ">>> images count = 4290\n"
     ]
    },
    {
     "name": "stderr",
     "output_type": "stream",
     "text": [
      "Processing Images:  72%|████████████████████████████████████████                | 4291/6000 [01:33<00:41, 41.68image/s]\n",
      "Processing Images:  72%|████████████████████████████████████████                | 4296/6000 [01:34<00:40, 41.88image/s]\u001b[A\n",
      " 72%|███████████████████████████████████████████████████████▊                      | 4296/6000 [01:34<00:40, 41.98it/s]\u001b[A"
     ]
    },
    {
     "name": "stdout",
     "output_type": "stream",
     "text": [
      ">>> images count = 4291\n",
      ">>> images count = 4292\n",
      ">>> images count = 4293\n",
      ">>> images count = 4294\n",
      ">>> images count = 4295\n",
      ">>> images count = 4296\n",
      ">>> images count = 4297\n",
      ">>> images count = 4298\n",
      ">>> images count = 4299\n",
      ">>> images count = 4300\n"
     ]
    },
    {
     "name": "stderr",
     "output_type": "stream",
     "text": [
      "Processing Images:  72%|████████████████████████████████████████▏               | 4301/6000 [01:34<00:39, 42.76image/s]\n",
      "Processing Images:  72%|████████████████████████████████████████▏               | 4306/6000 [01:34<00:37, 44.67image/s]\u001b[A\n",
      " 72%|███████████████████████████████████████████████████████▉                      | 4306/6000 [01:34<00:37, 44.61it/s]\u001b[A"
     ]
    },
    {
     "name": "stdout",
     "output_type": "stream",
     "text": [
      ">>> images count = 4301\n",
      ">>> images count = 4302\n",
      ">>> images count = 4303\n",
      ">>> images count = 4304\n",
      ">>> images count = 4305\n",
      ">>> images count = 4306\n",
      ">>> images count = 4307\n",
      ">>> images count = 4308\n",
      ">>> images count = 4309\n",
      ">>> images count = 4310\n",
      ">>> images count = 4311\n"
     ]
    },
    {
     "name": "stderr",
     "output_type": "stream",
     "text": [
      "Processing Images:  72%|████████████████████████████████████████▏               | 4312/6000 [01:34<00:35, 46.93image/s]\n",
      "Processing Images:  72%|████████████████████████████████████████▎               | 4317/6000 [01:34<00:35, 47.49image/s]\u001b[A\n",
      " 72%|████████████████████████████████████████████████████████                      | 4317/6000 [01:34<00:35, 47.50it/s]\u001b[A"
     ]
    },
    {
     "name": "stdout",
     "output_type": "stream",
     "text": [
      ">>> images count = 4312\n",
      ">>> images count = 4313\n",
      ">>> images count = 4314\n",
      ">>> images count = 4315\n",
      ">>> images count = 4316\n",
      ">>> images count = 4317\n",
      ">>> images count = 4318\n",
      ">>> images count = 4319\n",
      ">>> images count = 4320\n",
      ">>> images count = 4321\n"
     ]
    },
    {
     "name": "stderr",
     "output_type": "stream",
     "text": [
      "Processing Images:  72%|████████████████████████████████████████▎               | 4322/6000 [01:34<00:35, 47.50image/s]\n",
      "Processing Images:  72%|████████████████████████████████████████▍               | 4327/6000 [01:34<00:37, 45.21image/s]\u001b[A\n",
      " 72%|████████████████████████████████████████████████████████▎                     | 4327/6000 [01:34<00:37, 45.21it/s]\u001b[A"
     ]
    },
    {
     "name": "stdout",
     "output_type": "stream",
     "text": [
      ">>> images count = 4322\n",
      ">>> images count = 4323\n",
      ">>> images count = 4324\n",
      ">>> images count = 4325\n",
      ">>> images count = 4326\n",
      ">>> images count = 4327\n",
      ">>> images count = 4328\n",
      ">>> images count = 4329\n",
      ">>> images count = 4330\n"
     ]
    },
    {
     "name": "stderr",
     "output_type": "stream",
     "text": [
      "Processing Images:  72%|████████████████████████████████████████▍               | 4332/6000 [01:34<00:39, 42.22image/s]\n",
      "Processing Images:  72%|████████████████████████████████████████▍               | 4337/6000 [01:35<00:40, 41.32image/s]\u001b[A\n",
      " 72%|████████████████████████████████████████████████████████▍                     | 4337/6000 [01:35<00:40, 41.32it/s]\u001b[A"
     ]
    },
    {
     "name": "stdout",
     "output_type": "stream",
     "text": [
      ">>> images count = 4331\n",
      ">>> images count = 4332\n",
      ">>> images count = 4333\n",
      ">>> images count = 4334\n",
      ">>> images count = 4335\n",
      ">>> images count = 4336\n",
      ">>> images count = 4337\n",
      ">>> images count = 4338\n",
      ">>> images count = 4339\n"
     ]
    },
    {
     "name": "stderr",
     "output_type": "stream",
     "text": [
      "Processing Images:  72%|████████████████████████████████████████▌               | 4342/6000 [01:35<00:39, 41.61image/s]\n",
      "Processing Images:  72%|████████████████████████████████████████▌               | 4347/6000 [01:35<00:39, 42.02image/s]\u001b[A\n",
      " 72%|████████████████████████████████████████████████████████▌                     | 4347/6000 [01:35<00:39, 42.02it/s]\u001b[A"
     ]
    },
    {
     "name": "stdout",
     "output_type": "stream",
     "text": [
      ">>> images count = 4340\n",
      ">>> images count = 4341\n",
      ">>> images count = 4342\n",
      ">>> images count = 4343\n",
      ">>> images count = 4344\n",
      ">>> images count = 4345\n",
      ">>> images count = 4346\n",
      ">>> images count = 4347\n",
      ">>> images count = 4348\n",
      ">>> images count = 4349\n"
     ]
    },
    {
     "name": "stderr",
     "output_type": "stream",
     "text": [
      "Processing Images:  73%|████████████████████████████████████████▌               | 4352/6000 [01:35<00:38, 43.15image/s]\n",
      "Processing Images:  73%|████████████████████████████████████████▋               | 4358/6000 [01:35<00:36, 44.81image/s]\u001b[A\n",
      " 73%|████████████████████████████████████████████████████████▋                     | 4358/6000 [01:35<00:36, 44.78it/s]\u001b[A"
     ]
    },
    {
     "name": "stdout",
     "output_type": "stream",
     "text": [
      ">>> images count = 4350\n",
      ">>> images count = 4351\n",
      ">>> images count = 4352\n",
      ">>> images count = 4353\n",
      ">>> images count = 4354\n",
      ">>> images count = 4355\n",
      ">>> images count = 4356\n",
      ">>> images count = 4357\n",
      ">>> images count = 4358\n",
      ">>> images count = 4359\n"
     ]
    },
    {
     "name": "stderr",
     "output_type": "stream",
     "text": [
      "Processing Images:  73%|████████████████████████████████████████▋               | 4364/6000 [01:35<00:34, 47.01image/s]\n",
      " 73%|████████████████████████████████████████████████████████▋                     | 4364/6000 [01:35<00:34, 46.98it/s]\u001b[A"
     ]
    },
    {
     "name": "stdout",
     "output_type": "stream",
     "text": [
      ">>> images count = 4360\n",
      ">>> images count = 4361\n",
      ">>> images count = 4362\n",
      ">>> images count = 4363\n",
      ">>> images count = 4364\n",
      ">>> images count = 4365\n",
      ">>> images count = 4366\n",
      ">>> images count = 4367\n",
      ">>> images count = 4368\n",
      ">>> images count = 4369\n"
     ]
    },
    {
     "name": "stderr",
     "output_type": "stream",
     "text": [
      "Processing Images:  73%|████████████████████████████████████████▊               | 4370/6000 [01:35<00:34, 47.84image/s]\n",
      "Processing Images:  73%|████████████████████████████████████████▊               | 4375/6000 [01:35<00:34, 47.50image/s]\u001b[A\n",
      "Processing Images:  73%|████████████████████████████████████████▉               | 4380/6000 [01:35<00:33, 47.72image/s]\u001b[A"
     ]
    },
    {
     "name": "stdout",
     "output_type": "stream",
     "text": [
      ">>> images count = 4370\n",
      ">>> images count = 4371\n",
      ">>> images count = 4372\n",
      ">>> images count = 4373\n",
      ">>> images count = 4374\n",
      ">>> images count = 4375\n",
      ">>> images count = 4376\n",
      ">>> images count = 4377\n",
      ">>> images count = 4378\n",
      ">>> images count = 4379\n"
     ]
    },
    {
     "name": "stderr",
     "output_type": "stream",
     "text": [
      "\n",
      "Processing Images:  73%|████████████████████████████████████████▉               | 4385/6000 [01:36<00:33, 47.78image/s]\u001b[A\n",
      " 73%|█████████████████████████████████████████████████████████                     | 4385/6000 [01:36<00:33, 47.81it/s]\u001b[A"
     ]
    },
    {
     "name": "stdout",
     "output_type": "stream",
     "text": [
      ">>> images count = 4380\n",
      ">>> images count = 4381\n",
      ">>> images count = 4382\n",
      ">>> images count = 4383\n",
      ">>> images count = 4384\n",
      ">>> images count = 4385\n",
      ">>> images count = 4386\n",
      ">>> images count = 4387\n",
      ">>> images count = 4388\n",
      ">>> images count = 4389\n"
     ]
    },
    {
     "name": "stderr",
     "output_type": "stream",
     "text": [
      "Processing Images:  73%|████████████████████████████████████████▉               | 4390/6000 [01:36<00:34, 46.36image/s]\n",
      "Processing Images:  73%|█████████████████████████████████████████               | 4395/6000 [01:36<00:35, 45.51image/s]\u001b[A\n",
      " 73%|█████████████████████████████████████████████████████████▏                    | 4395/6000 [01:36<00:35, 45.37it/s]\u001b[A"
     ]
    },
    {
     "name": "stdout",
     "output_type": "stream",
     "text": [
      ">>> images count = 4390\n",
      ">>> images count = 4391\n",
      ">>> images count = 4392\n",
      ">>> images count = 4393\n",
      ">>> images count = 4394\n",
      ">>> images count = 4395\n",
      ">>> images count = 4396\n",
      ">>> images count = 4397\n",
      ">>> images count = 4398\n",
      ">>> images count = 4399\n"
     ]
    },
    {
     "name": "stderr",
     "output_type": "stream",
     "text": [
      "Processing Images:  73%|█████████████████████████████████████████               | 4400/6000 [01:36<00:35, 44.71image/s]\n",
      "Processing Images:  73%|█████████████████████████████████████████               | 4405/6000 [01:36<00:35, 44.68image/s]\u001b[A\n",
      " 73%|█████████████████████████████████████████████████████████▎                    | 4405/6000 [01:36<00:35, 44.69it/s]\u001b[A"
     ]
    },
    {
     "name": "stdout",
     "output_type": "stream",
     "text": [
      ">>> images count = 4400\n",
      ">>> images count = 4401\n",
      ">>> images count = 4402\n",
      ">>> images count = 4403\n",
      ">>> images count = 4404\n",
      ">>> images count = 4405\n",
      ">>> images count = 4406\n",
      ">>> images count = 4407\n",
      ">>> images count = 4408\n",
      ">>> images count = 4409\n"
     ]
    },
    {
     "name": "stderr",
     "output_type": "stream",
     "text": [
      "Processing Images:  74%|█████████████████████████████████████████▏              | 4410/6000 [01:36<00:35, 44.88image/s]\n",
      "Processing Images:  74%|█████████████████████████████████████████▏              | 4415/6000 [01:36<00:35, 45.16image/s]\u001b[A\n",
      "Processing Images:  74%|█████████████████████████████████████████▎              | 4420/6000 [01:36<00:34, 45.53image/s]\u001b[A"
     ]
    },
    {
     "name": "stdout",
     "output_type": "stream",
     "text": [
      ">>> images count = 4410\n",
      ">>> images count = 4411\n",
      ">>> images count = 4412\n",
      ">>> images count = 4413\n",
      ">>> images count = 4414\n",
      ">>> images count = 4415\n",
      ">>> images count = 4416\n",
      ">>> images count = 4417\n",
      ">>> images count = 4418\n",
      ">>> images count = 4419\n"
     ]
    },
    {
     "name": "stderr",
     "output_type": "stream",
     "text": [
      "\n",
      "Processing Images:  74%|█████████████████████████████████████████▎              | 4425/6000 [01:36<00:34, 45.67image/s]\u001b[A\n",
      " 74%|█████████████████████████████████████████████████████████▌                    | 4425/6000 [01:36<00:34, 45.68it/s]\u001b[A"
     ]
    },
    {
     "name": "stdout",
     "output_type": "stream",
     "text": [
      ">>> images count = 4420\n",
      ">>> images count = 4421\n",
      ">>> images count = 4422\n",
      ">>> images count = 4423\n",
      ">>> images count = 4424\n",
      ">>> images count = 4425\n",
      ">>> images count = 4426\n",
      ">>> images count = 4427\n",
      ">>> images count = 4428\n",
      ">>> images count = 4429\n"
     ]
    },
    {
     "name": "stderr",
     "output_type": "stream",
     "text": [
      "Processing Images:  74%|█████████████████████████████████████████▎              | 4430/6000 [01:37<00:33, 46.39image/s]\n",
      "Processing Images:  74%|█████████████████████████████████████████▍              | 4436/6000 [01:37<00:32, 48.05image/s]\u001b[A\n",
      " 74%|█████████████████████████████████████████████████████████▋                    | 4436/6000 [01:37<00:32, 48.05it/s]\u001b[A"
     ]
    },
    {
     "name": "stdout",
     "output_type": "stream",
     "text": [
      ">>> images count = 4430\n",
      ">>> images count = 4431\n",
      ">>> images count = 4432\n",
      ">>> images count = 4433\n",
      ">>> images count = 4434\n",
      ">>> images count = 4435\n",
      ">>> images count = 4436\n",
      ">>> images count = 4437\n",
      ">>> images count = 4438\n",
      ">>> images count = 4439\n"
     ]
    },
    {
     "name": "stderr",
     "output_type": "stream",
     "text": [
      "Processing Images:  74%|█████████████████████████████████████████▍              | 4441/6000 [01:37<00:32, 47.63image/s]\n",
      "Processing Images:  74%|█████████████████████████████████████████▍              | 4446/6000 [01:37<00:33, 45.96image/s]\u001b[A\n",
      " 74%|█████████████████████████████████████████████████████████▊                    | 4446/6000 [01:37<00:33, 45.96it/s]\u001b[A"
     ]
    },
    {
     "name": "stdout",
     "output_type": "stream",
     "text": [
      ">>> images count = 4440\n",
      ">>> images count = 4441\n",
      ">>> images count = 4442\n",
      ">>> images count = 4443\n",
      ">>> images count = 4444\n",
      ">>> images count = 4445\n",
      ">>> images count = 4446\n",
      ">>> images count = 4447\n",
      ">>> images count = 4448\n"
     ]
    },
    {
     "name": "stderr",
     "output_type": "stream",
     "text": [
      "Processing Images:  74%|█████████████████████████████████████████▌              | 4451/6000 [01:37<00:33, 46.16image/s]\n",
      "Processing Images:  74%|█████████████████████████████████████████▌              | 4456/6000 [01:37<00:33, 46.52image/s]\u001b[A\n",
      " 74%|█████████████████████████████████████████████████████████▉                    | 4456/6000 [01:37<00:33, 46.52it/s]\u001b[A"
     ]
    },
    {
     "name": "stdout",
     "output_type": "stream",
     "text": [
      ">>> images count = 4449\n",
      ">>> images count = 4450\n",
      ">>> images count = 4451\n",
      ">>> images count = 4452\n",
      ">>> images count = 4453\n",
      ">>> images count = 4454\n",
      ">>> images count = 4455\n",
      ">>> images count = 4456\n",
      ">>> images count = 4457\n",
      ">>> images count = 4458\n"
     ]
    },
    {
     "name": "stderr",
     "output_type": "stream",
     "text": [
      "Processing Images:  74%|█████████████████████████████████████████▋              | 4461/6000 [01:37<00:33, 45.78image/s]\n",
      "Processing Images:  74%|█████████████████████████████████████████▋              | 4466/6000 [01:37<00:34, 44.29image/s]\u001b[A\n",
      " 74%|██████████████████████████████████████████████████████████                    | 4466/6000 [01:37<00:34, 44.41it/s]\u001b[A"
     ]
    },
    {
     "name": "stdout",
     "output_type": "stream",
     "text": [
      ">>> images count = 4459\n",
      ">>> images count = 4460\n",
      ">>> images count = 4461\n",
      ">>> images count = 4462\n",
      ">>> images count = 4463\n",
      ">>> images count = 4464\n",
      ">>> images count = 4465\n",
      ">>> images count = 4466\n",
      ">>> images count = 4467\n"
     ]
    },
    {
     "name": "stderr",
     "output_type": "stream",
     "text": [
      "Processing Images:  75%|█████████████████████████████████████████▋              | 4471/6000 [01:37<00:35, 43.42image/s]\n",
      "Processing Images:  75%|█████████████████████████████████████████▊              | 4477/6000 [01:38<00:32, 46.73image/s]\u001b[A\n",
      " 75%|██████████████████████████████████████████████████████████▏                   | 4477/6000 [01:38<00:32, 46.87it/s]"
     ]
    },
    {
     "name": "stdout",
     "output_type": "stream",
     "text": [
      ">>> images count = 4468\n",
      ">>> images count = 4469\n",
      ">>> images count = 4470\n",
      ">>> images count = 4471\n",
      ">>> images count = 4472\n",
      ">>> images count = 4473\n",
      ">>> images count = 4474\n",
      ">>> images count = 4475\n",
      ">>> images count = 4476\n",
      ">>> images count = 4477\n"
     ]
    },
    {
     "name": "stderr",
     "output_type": "stream",
     "text": [
      "Processing Images:  75%|█████████████████████████████████████████▊              | 4482/6000 [01:38<00:32, 46.24image/s]\n",
      " 75%|██████████████████████████████████████████████████████████▎                   | 4482/6000 [01:38<00:32, 46.21it/s]\u001b[A"
     ]
    },
    {
     "name": "stdout",
     "output_type": "stream",
     "text": [
      ">>> images count = 4478\n",
      ">>> images count = 4479\n",
      ">>> images count = 4480\n",
      ">>> images count = 4481\n",
      ">>> images count = 4482\n",
      ">>> images count = 4483\n",
      ">>> images count = 4484\n",
      ">>> images count = 4485\n",
      ">>> images count = 4486\n"
     ]
    },
    {
     "name": "stderr",
     "output_type": "stream",
     "text": [
      "Processing Images:  75%|█████████████████████████████████████████▉              | 4487/6000 [01:38<00:33, 44.94image/s]\n",
      "Processing Images:  75%|█████████████████████████████████████████▉              | 4492/6000 [01:38<00:32, 46.29image/s]\u001b[A\n",
      " 75%|██████████████████████████████████████████████████████████▍                   | 4493/6000 [01:38<00:32, 46.63it/s]\u001b[A"
     ]
    },
    {
     "name": "stdout",
     "output_type": "stream",
     "text": [
      ">>> images count = 4487\n",
      ">>> images count = 4488\n",
      ">>> images count = 4489\n",
      ">>> images count = 4490\n",
      ">>> images count = 4491\n",
      ">>> images count = 4492\n",
      ">>> images count = 4493\n",
      ">>> images count = 4494\n",
      ">>> images count = 4495\n",
      ">>> images count = 4496\n"
     ]
    },
    {
     "name": "stderr",
     "output_type": "stream",
     "text": [
      "Processing Images:  75%|█████████████████████████████████████████▉              | 4497/6000 [01:38<00:31, 47.04image/s]\n",
      "Processing Images:  75%|██████████████████████████████████████████              | 4502/6000 [01:38<00:32, 46.50image/s]\u001b[A\n",
      " 75%|██████████████████████████████████████████████████████████▌                   | 4503/6000 [01:38<00:31, 47.15it/s]\u001b[A"
     ]
    },
    {
     "name": "stdout",
     "output_type": "stream",
     "text": [
      ">>> images count = 4497\n",
      ">>> images count = 4498\n",
      ">>> images count = 4499\n",
      ">>> images count = 4500\n",
      ">>> images count = 4501\n",
      ">>> images count = 4502\n",
      ">>> images count = 4503\n",
      ">>> images count = 4504\n",
      ">>> images count = 4505\n",
      ">>> images count = 4506\n"
     ]
    },
    {
     "name": "stderr",
     "output_type": "stream",
     "text": [
      "Processing Images:  75%|██████████████████████████████████████████              | 4507/6000 [01:38<00:31, 47.33image/s]\n",
      "Processing Images:  75%|██████████████████████████████████████████              | 4512/6000 [01:38<00:32, 46.09image/s]\u001b[A\n",
      " 75%|██████████████████████████████████████████████████████████▋                   | 4513/6000 [01:38<00:31, 46.64it/s]\u001b[A"
     ]
    },
    {
     "name": "stdout",
     "output_type": "stream",
     "text": [
      ">>> images count = 4507\n",
      ">>> images count = 4508\n",
      ">>> images count = 4509\n",
      ">>> images count = 4510\n",
      ">>> images count = 4511\n",
      ">>> images count = 4512\n",
      ">>> images count = 4513\n",
      ">>> images count = 4514\n",
      ">>> images count = 4515\n",
      ">>> images count = 4516\n"
     ]
    },
    {
     "name": "stderr",
     "output_type": "stream",
     "text": [
      "Processing Images:  75%|██████████████████████████████████████████▏             | 4517/6000 [01:38<00:33, 44.89image/s]\n",
      "Processing Images:  75%|██████████████████████████████████████████▏             | 4522/6000 [01:39<00:34, 43.30image/s]\u001b[A\n",
      " 75%|██████████████████████████████████████████████████████████▊                   | 4523/6000 [01:39<00:34, 42.68it/s]\u001b[A"
     ]
    },
    {
     "name": "stdout",
     "output_type": "stream",
     "text": [
      ">>> images count = 4517\n",
      ">>> images count = 4518\n",
      ">>> images count = 4519\n",
      ">>> images count = 4520\n",
      ">>> images count = 4521\n",
      ">>> images count = 4522\n",
      ">>> images count = 4523\n",
      ">>> images count = 4524\n",
      ">>> images count = 4525\n",
      ">>> images count = 4526\n"
     ]
    },
    {
     "name": "stderr",
     "output_type": "stream",
     "text": [
      "Processing Images:  75%|██████████████████████████████████████████▎             | 4527/6000 [01:39<00:33, 44.40image/s]\n",
      "Processing Images:  76%|██████████████████████████████████████████▎             | 4532/6000 [01:39<00:33, 43.26image/s]\u001b[A\n",
      " 76%|██████████████████████████████████████████████████████████▉                   | 4533/6000 [01:39<00:34, 42.57it/s]\u001b[A"
     ]
    },
    {
     "name": "stdout",
     "output_type": "stream",
     "text": [
      ">>> images count = 4527\n",
      ">>> images count = 4528\n",
      ">>> images count = 4529\n",
      ">>> images count = 4530\n",
      ">>> images count = 4531\n",
      ">>> images count = 4532\n",
      ">>> images count = 4533\n",
      ">>> images count = 4534\n"
     ]
    },
    {
     "name": "stderr",
     "output_type": "stream",
     "text": [
      "Processing Images:  76%|██████████████████████████████████████████▎             | 4537/6000 [01:39<00:33, 43.05image/s]\n",
      "Processing Images:  76%|██████████████████████████████████████████▍             | 4542/6000 [01:39<00:34, 42.85image/s]\u001b[A"
     ]
    },
    {
     "name": "stdout",
     "output_type": "stream",
     "text": [
      ">>> images count = 4535\n",
      ">>> images count = 4536\n",
      ">>> images count = 4537\n",
      ">>> images count = 4538\n",
      ">>> images count = 4539\n",
      ">>> images count = 4540\n",
      ">>> images count = 4541\n",
      ">>> images count = 4542\n",
      ">>> images count = 4543\n"
     ]
    },
    {
     "name": "stderr",
     "output_type": "stream",
     "text": [
      "\n",
      "Processing Images:  76%|██████████████████████████████████████████▍             | 4547/6000 [01:39<00:34, 42.48image/s]\u001b[A\n",
      " 76%|███████████████████████████████████████████████████████████                   | 4548/6000 [01:39<00:34, 42.62it/s]\u001b[A"
     ]
    },
    {
     "name": "stdout",
     "output_type": "stream",
     "text": [
      ">>> images count = 4544\n",
      ">>> images count = 4545\n",
      ">>> images count = 4546\n",
      ">>> images count = 4547\n",
      ">>> images count = 4548\n",
      ">>> images count = 4549\n",
      ">>> images count = 4550\n",
      ">>> images count = 4551\n"
     ]
    },
    {
     "name": "stderr",
     "output_type": "stream",
     "text": [
      "Processing Images:  76%|██████████████████████████████████████████▍             | 4552/6000 [01:39<00:34, 42.33image/s]\n",
      "Processing Images:  76%|██████████████████████████████████████████▌             | 4557/6000 [01:39<00:34, 41.79image/s]\u001b[A\n",
      " 76%|███████████████████████████████████████████████████████████▎                  | 4558/6000 [01:39<00:34, 41.85it/s]\u001b[A"
     ]
    },
    {
     "name": "stdout",
     "output_type": "stream",
     "text": [
      ">>> images count = 4552\n",
      ">>> images count = 4553\n",
      ">>> images count = 4554\n",
      ">>> images count = 4555\n",
      ">>> images count = 4556\n",
      ">>> images count = 4557\n",
      ">>> images count = 4558\n",
      ">>> images count = 4559\n",
      ">>> images count = 4560\n",
      ">>> images count = 4561\n"
     ]
    },
    {
     "name": "stderr",
     "output_type": "stream",
     "text": [
      "Processing Images:  76%|██████████████████████████████████████████▌             | 4562/6000 [01:39<00:33, 43.47image/s]\n",
      "Processing Images:  76%|██████████████████████████████████████████▋             | 4567/6000 [01:40<00:32, 44.26image/s]\u001b[A\n",
      " 76%|███████████████████████████████████████████████████████████▍                  | 4569/6000 [01:40<00:31, 45.10it/s]\u001b[A"
     ]
    },
    {
     "name": "stdout",
     "output_type": "stream",
     "text": [
      ">>> images count = 4562\n",
      ">>> images count = 4563\n",
      ">>> images count = 4564\n",
      ">>> images count = 4565\n",
      ">>> images count = 4566\n",
      ">>> images count = 4567\n",
      ">>> images count = 4568\n",
      ">>> images count = 4569\n",
      ">>> images count = 4570\n",
      ">>> images count = 4571\n"
     ]
    },
    {
     "name": "stderr",
     "output_type": "stream",
     "text": [
      "Processing Images:  76%|██████████████████████████████████████████▋             | 4572/6000 [01:40<00:31, 44.71image/s]\n",
      "Processing Images:  76%|██████████████████████████████████████████▋             | 4577/6000 [01:40<00:31, 44.72image/s]\u001b[A\n",
      " 76%|███████████████████████████████████████████████████████████▌                  | 4579/6000 [01:40<00:31, 45.24it/s]\u001b[A"
     ]
    },
    {
     "name": "stdout",
     "output_type": "stream",
     "text": [
      ">>> images count = 4572\n",
      ">>> images count = 4573\n",
      ">>> images count = 4574\n",
      ">>> images count = 4575\n",
      ">>> images count = 4576\n",
      ">>> images count = 4577\n",
      ">>> images count = 4578\n",
      ">>> images count = 4579\n",
      ">>> images count = 4580\n",
      ">>> images count = 4581\n"
     ]
    },
    {
     "name": "stderr",
     "output_type": "stream",
     "text": [
      "Processing Images:  76%|██████████████████████████████████████████▊             | 4582/6000 [01:40<00:31, 45.47image/s]\n",
      "Processing Images:  76%|██████████████████████████████████████████▊             | 4587/6000 [01:40<00:31, 45.04image/s]\u001b[A\n",
      " 76%|███████████████████████████████████████████████████████████▋                  | 4589/6000 [01:40<00:31, 44.93it/s]\u001b[A"
     ]
    },
    {
     "name": "stdout",
     "output_type": "stream",
     "text": [
      ">>> images count = 4582\n",
      ">>> images count = 4583\n",
      ">>> images count = 4584\n",
      ">>> images count = 4585\n",
      ">>> images count = 4586\n",
      ">>> images count = 4587\n",
      ">>> images count = 4588\n",
      ">>> images count = 4589\n",
      ">>> images count = 4590\n",
      ">>> images count = 4591\n"
     ]
    },
    {
     "name": "stderr",
     "output_type": "stream",
     "text": [
      "Processing Images:  77%|██████████████████████████████████████████▊             | 4592/6000 [01:40<00:31, 44.59image/s]\n",
      "Processing Images:  77%|██████████████████████████████████████████▉             | 4597/6000 [01:40<00:31, 44.33image/s]\u001b[A\n",
      " 77%|███████████████████████████████████████████████████████████▊                  | 4599/6000 [01:40<00:32, 43.38it/s]\u001b[A"
     ]
    },
    {
     "name": "stdout",
     "output_type": "stream",
     "text": [
      ">>> images count = 4592\n",
      ">>> images count = 4593\n",
      ">>> images count = 4594\n",
      ">>> images count = 4595\n",
      ">>> images count = 4596\n",
      ">>> images count = 4597\n",
      ">>> images count = 4598\n",
      ">>> images count = 4599\n",
      ">>> images count = 4600\n",
      ">>> images count = 4601\n"
     ]
    },
    {
     "name": "stderr",
     "output_type": "stream",
     "text": [
      "Processing Images:  77%|██████████████████████████████████████████▉             | 4602/6000 [01:40<00:32, 43.09image/s]\n",
      "Processing Images:  77%|██████████████████████████████████████████▉             | 4607/6000 [01:41<00:33, 41.64image/s]\u001b[A\n",
      " 77%|███████████████████████████████████████████████████████████▉                  | 4609/6000 [01:41<00:33, 41.51it/s]\u001b[A"
     ]
    },
    {
     "name": "stdout",
     "output_type": "stream",
     "text": [
      ">>> images count = 4602\n",
      ">>> images count = 4603\n",
      ">>> images count = 4604\n",
      ">>> images count = 4605\n",
      ">>> images count = 4606\n",
      ">>> images count = 4607\n",
      ">>> images count = 4608\n",
      ">>> images count = 4609\n",
      ">>> images count = 4610\n"
     ]
    },
    {
     "name": "stderr",
     "output_type": "stream",
     "text": [
      "Processing Images:  77%|███████████████████████████████████████████             | 4612/6000 [01:41<00:33, 41.73image/s]\n",
      "Processing Images:  77%|███████████████████████████████████████████             | 4617/6000 [01:41<00:32, 42.12image/s]\u001b[A"
     ]
    },
    {
     "name": "stdout",
     "output_type": "stream",
     "text": [
      ">>> images count = 4611\n",
      ">>> images count = 4612\n",
      ">>> images count = 4613\n",
      ">>> images count = 4614\n",
      ">>> images count = 4615\n",
      ">>> images count = 4616\n",
      ">>> images count = 4617\n",
      ">>> images count = 4618\n",
      ">>> images count = 4619\n"
     ]
    },
    {
     "name": "stderr",
     "output_type": "stream",
     "text": [
      "\n",
      "Processing Images:  77%|███████████████████████████████████████████▏            | 4622/6000 [01:41<00:32, 42.78image/s]\u001b[A\n",
      "Processing Images:  77%|███████████████████████████████████████████▏            | 4627/6000 [01:41<00:31, 44.21image/s]\u001b[A"
     ]
    },
    {
     "name": "stdout",
     "output_type": "stream",
     "text": [
      ">>> images count = 4620\n",
      ">>> images count = 4621\n",
      ">>> images count = 4622\n",
      ">>> images count = 4623\n",
      ">>> images count = 4624\n",
      ">>> images count = 4625\n",
      ">>> images count = 4626\n",
      ">>> images count = 4627\n",
      ">>> images count = 4628\n"
     ]
    },
    {
     "name": "stderr",
     "output_type": "stream",
     "text": [
      "\n",
      "Processing Images:  77%|███████████████████████████████████████████▏            | 4632/6000 [01:41<00:30, 45.14image/s]\u001b[A\n",
      "Processing Images:  77%|███████████████████████████████████████████▎            | 4638/6000 [01:41<00:28, 47.16image/s]\u001b[A"
     ]
    },
    {
     "name": "stdout",
     "output_type": "stream",
     "text": [
      ">>> images count = 4629\n",
      ">>> images count = 4630\n",
      ">>> images count = 4631\n",
      ">>> images count = 4632\n",
      ">>> images count = 4633\n",
      ">>> images count = 4634\n",
      ">>> images count = 4635\n",
      ">>> images count = 4636\n",
      ">>> images count = 4637\n",
      ">>> images count = 4638\n",
      ">>> images count = 4639\n"
     ]
    },
    {
     "name": "stderr",
     "output_type": "stream",
     "text": [
      "\n",
      "Processing Images:  77%|███████████████████████████████████████████▎            | 4643/6000 [01:41<00:28, 47.27image/s]\u001b[A\n",
      "Processing Images:  77%|███████████████████████████████████████████▍            | 4648/6000 [01:41<00:29, 46.06image/s]\u001b[A"
     ]
    },
    {
     "name": "stdout",
     "output_type": "stream",
     "text": [
      ">>> images count = 4640\n",
      ">>> images count = 4641\n",
      ">>> images count = 4642\n",
      ">>> images count = 4643\n",
      ">>> images count = 4644\n",
      ">>> images count = 4645\n",
      ">>> images count = 4646\n",
      ">>> images count = 4647\n",
      ">>> images count = 4648\n",
      ">>> images count = 4649\n"
     ]
    },
    {
     "name": "stderr",
     "output_type": "stream",
     "text": [
      "\n",
      "Processing Images:  78%|███████████████████████████████████████████▍            | 4653/6000 [01:42<00:28, 47.13image/s]\u001b[A\n",
      "Processing Images:  78%|███████████████████████████████████████████▍            | 4658/6000 [01:42<00:28, 46.86image/s]\u001b[A"
     ]
    },
    {
     "name": "stdout",
     "output_type": "stream",
     "text": [
      ">>> images count = 4650\n",
      ">>> images count = 4651\n",
      ">>> images count = 4652\n",
      ">>> images count = 4653\n",
      ">>> images count = 4654\n",
      ">>> images count = 4655\n",
      ">>> images count = 4656\n",
      ">>> images count = 4657\n",
      ">>> images count = 4658\n",
      ">>> images count = 4659\n"
     ]
    },
    {
     "name": "stderr",
     "output_type": "stream",
     "text": [
      "\n",
      "Processing Images:  78%|███████████████████████████████████████████▌            | 4663/6000 [01:42<00:29, 45.05image/s]\u001b[A\n",
      "Processing Images:  78%|███████████████████████████████████████████▌            | 4668/6000 [01:42<00:29, 44.63image/s]\u001b[A"
     ]
    },
    {
     "name": "stdout",
     "output_type": "stream",
     "text": [
      ">>> images count = 4660\n",
      ">>> images count = 4661\n",
      ">>> images count = 4662\n",
      ">>> images count = 4663\n",
      ">>> images count = 4664\n",
      ">>> images count = 4665\n",
      ">>> images count = 4666\n",
      ">>> images count = 4667\n"
     ]
    },
    {
     "name": "stderr",
     "output_type": "stream",
     "text": [
      "\n",
      "Processing Images:  78%|███████████████████████████████████████████▌            | 4673/6000 [01:42<00:30, 43.74image/s]\u001b[A\n",
      " 78%|████████████████████████████████████████████████████████████▊                 | 4675/6000 [01:42<00:30, 43.87it/s]\u001b[A"
     ]
    },
    {
     "name": "stdout",
     "output_type": "stream",
     "text": [
      ">>> images count = 4668\n",
      ">>> images count = 4669\n",
      ">>> images count = 4670\n",
      ">>> images count = 4671\n",
      ">>> images count = 4672\n",
      ">>> images count = 4673\n",
      ">>> images count = 4674\n",
      ">>> images count = 4675\n",
      ">>> images count = 4676\n",
      ">>> images count = 4677\n"
     ]
    },
    {
     "name": "stderr",
     "output_type": "stream",
     "text": [
      "Processing Images:  78%|███████████████████████████████████████████▋            | 4678/6000 [01:42<00:30, 42.98image/s]\n",
      "Processing Images:  78%|███████████████████████████████████████████▋            | 4683/6000 [01:42<00:30, 43.38image/s]\u001b[A\n",
      " 78%|████████████████████████████████████████████████████████████▉                 | 4685/6000 [01:42<00:30, 43.18it/s]\u001b[A"
     ]
    },
    {
     "name": "stdout",
     "output_type": "stream",
     "text": [
      ">>> images count = 4678\n",
      ">>> images count = 4679\n",
      ">>> images count = 4680\n",
      ">>> images count = 4681\n",
      ">>> images count = 4682\n",
      ">>> images count = 4683\n",
      ">>> images count = 4684\n",
      ">>> images count = 4685\n",
      ">>> images count = 4686\n",
      ">>> images count = 4687\n"
     ]
    },
    {
     "name": "stderr",
     "output_type": "stream",
     "text": [
      "Processing Images:  78%|███████████████████████████████████████████▊            | 4688/6000 [01:42<00:30, 42.95image/s]\n",
      "Processing Images:  78%|███████████████████████████████████████████▊            | 4693/6000 [01:42<00:29, 43.77image/s]\u001b[A\n",
      " 78%|█████████████████████████████████████████████████████████████                 | 4695/6000 [01:42<00:30, 43.22it/s]\u001b[A"
     ]
    },
    {
     "name": "stdout",
     "output_type": "stream",
     "text": [
      ">>> images count = 4688\n",
      ">>> images count = 4689\n",
      ">>> images count = 4690\n",
      ">>> images count = 4691\n",
      ">>> images count = 4692\n",
      ">>> images count = 4693\n",
      ">>> images count = 4694\n",
      ">>> images count = 4695\n",
      ">>> images count = 4696\n",
      ">>> images count = 4697\n"
     ]
    },
    {
     "name": "stderr",
     "output_type": "stream",
     "text": [
      "Processing Images:  78%|███████████████████████████████████████████▊            | 4698/6000 [01:43<00:29, 44.48image/s]\n",
      "Processing Images:  78%|███████████████████████████████████████████▉            | 4703/6000 [01:43<00:28, 45.11image/s]\u001b[A\n",
      " 78%|█████████████████████████████████████████████████████████████▏                | 4706/6000 [01:43<00:28, 46.01it/s]\u001b[A"
     ]
    },
    {
     "name": "stdout",
     "output_type": "stream",
     "text": [
      ">>> images count = 4698\n",
      ">>> images count = 4699\n",
      ">>> images count = 4700\n",
      ">>> images count = 4701\n",
      ">>> images count = 4702\n",
      ">>> images count = 4703\n",
      ">>> images count = 4704\n",
      ">>> images count = 4705\n",
      ">>> images count = 4706\n",
      ">>> images count = 4707\n"
     ]
    },
    {
     "name": "stderr",
     "output_type": "stream",
     "text": [
      "Processing Images:  78%|███████████████████████████████████████████▉            | 4708/6000 [01:43<00:28, 46.06image/s]\n",
      "Processing Images:  79%|███████████████████████████████████████████▉            | 4713/6000 [01:43<00:27, 47.15image/s]\u001b[A"
     ]
    },
    {
     "name": "stdout",
     "output_type": "stream",
     "text": [
      ">>> images count = 4708\n",
      ">>> images count = 4709\n",
      ">>> images count = 4710\n",
      ">>> images count = 4711\n",
      ">>> images count = 4712\n",
      ">>> images count = 4713\n",
      ">>> images count = 4714\n",
      ">>> images count = 4715\n",
      ">>> images count = 4716\n",
      ">>> images count = 4717\n"
     ]
    },
    {
     "name": "stderr",
     "output_type": "stream",
     "text": [
      "\n",
      "Processing Images:  79%|████████████████████████████████████████████            | 4719/6000 [01:43<00:26, 47.74image/s]\u001b[A\n",
      "Processing Images:  79%|████████████████████████████████████████████            | 4724/6000 [01:43<00:28, 45.12image/s]\u001b[A"
     ]
    },
    {
     "name": "stdout",
     "output_type": "stream",
     "text": [
      ">>> images count = 4718\n",
      ">>> images count = 4719\n",
      ">>> images count = 4720\n",
      ">>> images count = 4721\n",
      ">>> images count = 4722\n",
      ">>> images count = 4723\n",
      ">>> images count = 4724\n",
      ">>> images count = 4725\n"
     ]
    },
    {
     "name": "stderr",
     "output_type": "stream",
     "text": [
      "\n",
      "Processing Images:  79%|████████████████████████████████████████████▏           | 4729/6000 [01:43<00:28, 44.59image/s]\u001b[A\n",
      " 79%|█████████████████████████████████████████████████████████████▌                | 4732/6000 [01:43<00:27, 45.50it/s]\u001b[A"
     ]
    },
    {
     "name": "stdout",
     "output_type": "stream",
     "text": [
      ">>> images count = 4726\n",
      ">>> images count = 4727\n",
      ">>> images count = 4728\n",
      ">>> images count = 4729\n",
      ">>> images count = 4730\n",
      ">>> images count = 4731\n",
      ">>> images count = 4732\n",
      ">>> images count = 4733\n"
     ]
    },
    {
     "name": "stderr",
     "output_type": "stream",
     "text": [
      "Processing Images:  79%|████████████████████████████████████████████▏           | 4734/6000 [01:43<00:28, 44.76image/s]\n",
      "Processing Images:  79%|████████████████████████████████████████████▏           | 4739/6000 [01:43<00:28, 44.82image/s]\u001b[A"
     ]
    },
    {
     "name": "stdout",
     "output_type": "stream",
     "text": [
      ">>> images count = 4734\n",
      ">>> images count = 4735\n",
      ">>> images count = 4736\n",
      ">>> images count = 4737\n",
      ">>> images count = 4738\n",
      ">>> images count = 4739\n",
      ">>> images count = 4740\n",
      ">>> images count = 4741\n",
      ">>> images count = 4742\n"
     ]
    },
    {
     "name": "stderr",
     "output_type": "stream",
     "text": [
      "\n",
      "Processing Images:  79%|████████████████████████████████████████████▎           | 4744/6000 [01:44<00:29, 42.61image/s]\u001b[A\n",
      "Processing Images:  79%|████████████████████████████████████████████▎           | 4749/6000 [01:44<00:29, 42.83image/s]\u001b[A"
     ]
    },
    {
     "name": "stdout",
     "output_type": "stream",
     "text": [
      ">>> images count = 4743\n",
      ">>> images count = 4744\n",
      ">>> images count = 4745\n",
      ">>> images count = 4746\n",
      ">>> images count = 4747\n",
      ">>> images count = 4748\n",
      ">>> images count = 4749\n",
      ">>> images count = 4750\n",
      ">>> images count = 4751\n",
      ">>> images count = 4752\n"
     ]
    },
    {
     "name": "stderr",
     "output_type": "stream",
     "text": [
      "\n",
      "Processing Images:  79%|████████████████████████████████████████████▎           | 4754/6000 [01:44<00:29, 42.46image/s]\u001b[A\n",
      "Processing Images:  79%|████████████████████████████████████████████▍           | 4759/6000 [01:44<00:29, 42.26image/s]\u001b[A"
     ]
    },
    {
     "name": "stdout",
     "output_type": "stream",
     "text": [
      ">>> images count = 4753\n",
      ">>> images count = 4754\n",
      ">>> images count = 4755\n",
      ">>> images count = 4756\n",
      ">>> images count = 4757\n",
      ">>> images count = 4758\n",
      ">>> images count = 4759\n",
      ">>> images count = 4760\n"
     ]
    },
    {
     "name": "stderr",
     "output_type": "stream",
     "text": [
      "\n",
      "Processing Images:  79%|████████████████████████████████████████████▍           | 4764/6000 [01:44<00:29, 41.98image/s]\u001b[A\n",
      " 79%|█████████████████████████████████████████████████████████████▉                | 4767/6000 [01:44<00:29, 41.20it/s]\u001b[A"
     ]
    },
    {
     "name": "stdout",
     "output_type": "stream",
     "text": [
      ">>> images count = 4761\n",
      ">>> images count = 4762\n",
      ">>> images count = 4763\n",
      ">>> images count = 4764\n",
      ">>> images count = 4765\n",
      ">>> images count = 4766\n",
      ">>> images count = 4767\n",
      ">>> images count = 4768\n"
     ]
    },
    {
     "name": "stderr",
     "output_type": "stream",
     "text": [
      "Processing Images:  79%|████████████████████████████████████████████▌           | 4769/6000 [01:44<00:29, 42.06image/s]\n",
      "Processing Images:  80%|████████████████████████████████████████████▌           | 4775/6000 [01:44<00:26, 45.94image/s]\u001b[A\n",
      " 80%|██████████████████████████████████████████████████████████████                | 4778/6000 [01:44<00:26, 45.38it/s]\u001b[A"
     ]
    },
    {
     "name": "stdout",
     "output_type": "stream",
     "text": [
      ">>> images count = 4769\n",
      ">>> images count = 4770\n",
      ">>> images count = 4771\n",
      ">>> images count = 4772\n",
      ">>> images count = 4773\n",
      ">>> images count = 4774\n",
      ">>> images count = 4775\n",
      ">>> images count = 4776\n",
      ">>> images count = 4777\n",
      ">>> images count = 4778\n",
      ">>> images count = 4779\n"
     ]
    },
    {
     "name": "stderr",
     "output_type": "stream",
     "text": [
      "Processing Images:  80%|████████████████████████████████████████████▌           | 4780/6000 [01:44<00:26, 45.49image/s]\n",
      "Processing Images:  80%|████████████████████████████████████████████▋           | 4785/6000 [01:44<00:26, 46.25image/s]\u001b[A\n",
      " 80%|██████████████████████████████████████████████████████████████▎               | 4789/6000 [01:45<00:25, 47.40it/s]\u001b[A"
     ]
    },
    {
     "name": "stdout",
     "output_type": "stream",
     "text": [
      ">>> images count = 4780\n",
      ">>> images count = 4781\n",
      ">>> images count = 4782\n",
      ">>> images count = 4783\n",
      ">>> images count = 4784\n",
      ">>> images count = 4785\n",
      ">>> images count = 4786\n",
      ">>> images count = 4787\n",
      ">>> images count = 4788\n",
      ">>> images count = 4789\n"
     ]
    },
    {
     "name": "stderr",
     "output_type": "stream",
     "text": [
      "Processing Images:  80%|████████████████████████████████████████████▋           | 4790/6000 [01:45<00:25, 47.25image/s]\n",
      "Processing Images:  80%|████████████████████████████████████████████▊           | 4795/6000 [01:45<00:26, 45.20image/s]\u001b[A"
     ]
    },
    {
     "name": "stdout",
     "output_type": "stream",
     "text": [
      ">>> images count = 4790\n",
      ">>> images count = 4791\n",
      ">>> images count = 4792\n",
      ">>> images count = 4793\n",
      ">>> images count = 4794\n",
      ">>> images count = 4795\n",
      ">>> images count = 4796\n",
      ">>> images count = 4797\n",
      ">>> images count = 4798\n"
     ]
    },
    {
     "name": "stderr",
     "output_type": "stream",
     "text": [
      "\n",
      "Processing Images:  80%|████████████████████████████████████████████▊           | 4800/6000 [01:45<00:26, 44.60image/s]\u001b[A\n",
      "Processing Images:  80%|████████████████████████████████████████████▊           | 4805/6000 [01:45<00:27, 43.01image/s]\u001b[A"
     ]
    },
    {
     "name": "stdout",
     "output_type": "stream",
     "text": [
      ">>> images count = 4799\n",
      ">>> images count = 4800\n",
      ">>> images count = 4801\n",
      ">>> images count = 4802\n",
      ">>> images count = 4803\n",
      ">>> images count = 4804\n",
      ">>> images count = 4805\n",
      ">>> images count = 4806\n",
      ">>> images count = 4807\n"
     ]
    },
    {
     "name": "stderr",
     "output_type": "stream",
     "text": [
      "\n",
      "Processing Images:  80%|████████████████████████████████████████████▉           | 4810/6000 [01:45<00:27, 43.79image/s]\u001b[A\n",
      "Processing Images:  80%|████████████████████████████████████████████▉           | 4815/6000 [01:45<00:27, 43.61image/s]\u001b[A"
     ]
    },
    {
     "name": "stdout",
     "output_type": "stream",
     "text": [
      ">>> images count = 4808\n",
      ">>> images count = 4809\n",
      ">>> images count = 4810\n",
      ">>> images count = 4811\n",
      ">>> images count = 4812\n",
      ">>> images count = 4813\n",
      ">>> images count = 4814\n",
      ">>> images count = 4815\n",
      ">>> images count = 4816\n"
     ]
    },
    {
     "name": "stderr",
     "output_type": "stream",
     "text": [
      "\n",
      "Processing Images:  80%|████████████████████████████████████████████▉           | 4820/6000 [01:45<00:26, 43.74image/s]\u001b[A\n",
      "Processing Images:  80%|█████████████████████████████████████████████           | 4825/6000 [01:45<00:28, 41.33image/s]\u001b[A"
     ]
    },
    {
     "name": "stdout",
     "output_type": "stream",
     "text": [
      ">>> images count = 4817\n",
      ">>> images count = 4818\n",
      ">>> images count = 4819\n",
      ">>> images count = 4820\n",
      ">>> images count = 4821\n",
      ">>> images count = 4822\n",
      ">>> images count = 4823\n",
      ">>> images count = 4824\n"
     ]
    },
    {
     "name": "stderr",
     "output_type": "stream",
     "text": [
      "\n",
      "Processing Images:  80%|█████████████████████████████████████████████           | 4830/6000 [01:46<00:27, 42.35image/s]\u001b[A"
     ]
    },
    {
     "name": "stdout",
     "output_type": "stream",
     "text": [
      ">>> images count = 4825\n",
      ">>> images count = 4826\n",
      ">>> images count = 4827\n",
      ">>> images count = 4828\n",
      ">>> images count = 4829\n",
      ">>> images count = 4830\n",
      ">>> images count = 4831\n",
      ">>> images count = 4832\n",
      ">>> images count = 4833\n",
      ">>> images count = 4834\n"
     ]
    },
    {
     "name": "stderr",
     "output_type": "stream",
     "text": [
      "\n",
      "Processing Images:  81%|█████████████████████████████████████████████▏          | 4835/6000 [01:46<00:26, 43.79image/s]\u001b[A\n",
      "Processing Images:  81%|█████████████████████████████████████████████▏          | 4840/6000 [01:46<00:26, 43.68image/s]\u001b[A"
     ]
    },
    {
     "name": "stdout",
     "output_type": "stream",
     "text": [
      ">>> images count = 4835\n",
      ">>> images count = 4836\n",
      ">>> images count = 4837\n",
      ">>> images count = 4838\n",
      ">>> images count = 4839\n",
      ">>> images count = 4840\n",
      ">>> images count = 4841\n",
      ">>> images count = 4842\n",
      ">>> images count = 4843\n"
     ]
    },
    {
     "name": "stderr",
     "output_type": "stream",
     "text": [
      "\n",
      "Processing Images:  81%|█████████████████████████████████████████████▏          | 4846/6000 [01:46<00:25, 45.85image/s]\u001b[A\n",
      "Processing Images:  81%|█████████████████████████████████████████████▎          | 4851/6000 [01:46<00:25, 45.47image/s]\u001b[A\n"
     ]
    },
    {
     "name": "stdout",
     "output_type": "stream",
     "text": [
      ">>> images count = 4844\n",
      ">>> images count = 4845\n",
      ">>> images count = 4846\n",
      ">>> images count = 4847\n",
      ">>> images count = 4848\n",
      ">>> images count = 4849\n",
      ">>> images count = 4850\n",
      ">>> images count = 4851\n",
      ">>> images count = 4852\n",
      ">>> images count = 4853\n",
      ">>> images count = 4854\n"
     ]
    },
    {
     "name": "stderr",
     "output_type": "stream",
     "text": [
      "Processing Images:  81%|█████████████████████████████████████████████▎          | 4857/6000 [01:46<00:24, 47.35image/s]\u001b[A\n",
      "Processing Images:  81%|█████████████████████████████████████████████▍          | 4862/6000 [01:46<00:24, 47.03image/s]\u001b[A"
     ]
    },
    {
     "name": "stdout",
     "output_type": "stream",
     "text": [
      ">>> images count = 4855\n",
      ">>> images count = 4856\n",
      ">>> images count = 4857\n",
      ">>> images count = 4858\n",
      ">>> images count = 4859\n",
      ">>> images count = 4860\n",
      ">>> images count = 4861\n",
      ">>> images count = 4862\n",
      ">>> images count = 4863\n"
     ]
    },
    {
     "name": "stderr",
     "output_type": "stream",
     "text": [
      "\n",
      "Processing Images:  81%|█████████████████████████████████████████████▍          | 4868/6000 [01:46<00:23, 47.57image/s]\u001b[A\n",
      "Processing Images:  81%|█████████████████████████████████████████████▍          | 4873/6000 [01:46<00:23, 47.50image/s]\u001b[A"
     ]
    },
    {
     "name": "stdout",
     "output_type": "stream",
     "text": [
      ">>> images count = 4864\n",
      ">>> images count = 4865\n",
      ">>> images count = 4866\n",
      ">>> images count = 4867\n",
      ">>> images count = 4868\n",
      ">>> images count = 4869\n",
      ">>> images count = 4870\n",
      ">>> images count = 4871\n",
      ">>> images count = 4872\n",
      ">>> images count = 4873\n",
      ">>> images count = 4874\n",
      ">>> images count = 4875\n"
     ]
    },
    {
     "name": "stderr",
     "output_type": "stream",
     "text": [
      "\n",
      "Processing Images:  81%|█████████████████████████████████████████████▌          | 4878/6000 [01:47<00:23, 48.17image/s]\u001b[A\n",
      "Processing Images:  81%|█████████████████████████████████████████████▌          | 4883/6000 [01:47<00:23, 48.39image/s]\u001b[A\n"
     ]
    },
    {
     "name": "stdout",
     "output_type": "stream",
     "text": [
      ">>> images count = 4876\n",
      ">>> images count = 4877\n",
      ">>> images count = 4878\n",
      ">>> images count = 4879\n",
      ">>> images count = 4880\n",
      ">>> images count = 4881\n",
      ">>> images count = 4882\n",
      ">>> images count = 4883\n",
      ">>> images count = 4884\n",
      ">>> images count = 4885\n",
      ">>> images count = 4886\n"
     ]
    },
    {
     "name": "stderr",
     "output_type": "stream",
     "text": [
      "Processing Images:  81%|█████████████████████████████████████████████▌          | 4888/6000 [01:47<00:23, 46.69image/s]\u001b[A\n",
      "Processing Images:  82%|█████████████████████████████████████████████▋          | 4893/6000 [01:47<00:25, 44.08image/s]\u001b[A"
     ]
    },
    {
     "name": "stdout",
     "output_type": "stream",
     "text": [
      ">>> images count = 4887\n",
      ">>> images count = 4888\n",
      ">>> images count = 4889\n",
      ">>> images count = 4890\n",
      ">>> images count = 4891\n",
      ">>> images count = 4892\n",
      ">>> images count = 4893\n",
      ">>> images count = 4894\n"
     ]
    },
    {
     "name": "stderr",
     "output_type": "stream",
     "text": [
      "\n",
      "Processing Images:  82%|█████████████████████████████████████████████▋          | 4898/6000 [01:47<00:25, 43.89image/s]\u001b[A\n",
      " 82%|███████████████████████████████████████████████████████████████▋              | 4901/6000 [01:47<00:24, 44.11it/s]\u001b[A"
     ]
    },
    {
     "name": "stdout",
     "output_type": "stream",
     "text": [
      ">>> images count = 4895\n",
      ">>> images count = 4896\n",
      ">>> images count = 4897\n",
      ">>> images count = 4898\n",
      ">>> images count = 4899\n",
      ">>> images count = 4900\n",
      ">>> images count = 4901\n",
      ">>> images count = 4902\n"
     ]
    },
    {
     "name": "stderr",
     "output_type": "stream",
     "text": [
      "Processing Images:  82%|█████████████████████████████████████████████▊          | 4903/6000 [01:47<00:24, 43.98image/s]\n",
      "Processing Images:  82%|█████████████████████████████████████████████▊          | 4908/6000 [01:47<00:25, 42.67image/s]\u001b[A"
     ]
    },
    {
     "name": "stdout",
     "output_type": "stream",
     "text": [
      ">>> images count = 4903\n",
      ">>> images count = 4904\n",
      ">>> images count = 4905\n",
      ">>> images count = 4906\n",
      ">>> images count = 4907\n",
      ">>> images count = 4908\n",
      ">>> images count = 4909\n",
      ">>> images count = 4910\n",
      ">>> images count = 4911\n"
     ]
    },
    {
     "name": "stderr",
     "output_type": "stream",
     "text": [
      "\n",
      "Processing Images:  82%|█████████████████████████████████████████████▊          | 4913/6000 [01:47<00:26, 41.62image/s]\u001b[A\n",
      "Processing Images:  82%|█████████████████████████████████████████████▉          | 4918/6000 [01:47<00:25, 41.67image/s]\u001b[A"
     ]
    },
    {
     "name": "stdout",
     "output_type": "stream",
     "text": [
      ">>> images count = 4912\n",
      ">>> images count = 4913\n",
      ">>> images count = 4914\n",
      ">>> images count = 4915\n",
      ">>> images count = 4916\n",
      ">>> images count = 4917\n",
      ">>> images count = 4918\n",
      ">>> images count = 4919\n",
      ">>> images count = 4920\n"
     ]
    },
    {
     "name": "stderr",
     "output_type": "stream",
     "text": [
      "\n",
      "Processing Images:  82%|█████████████████████████████████████████████▉          | 4923/6000 [01:48<00:25, 43.05image/s]\u001b[A\n",
      "Processing Images:  82%|█████████████████████████████████████████████▉          | 4928/6000 [01:48<00:24, 43.73image/s]\u001b[A"
     ]
    },
    {
     "name": "stdout",
     "output_type": "stream",
     "text": [
      ">>> images count = 4921\n",
      ">>> images count = 4922\n",
      ">>> images count = 4923\n",
      ">>> images count = 4924\n",
      ">>> images count = 4925\n",
      ">>> images count = 4926\n",
      ">>> images count = 4927\n",
      ">>> images count = 4928\n",
      ">>> images count = 4929\n",
      ">>> images count = 4930\n"
     ]
    },
    {
     "name": "stderr",
     "output_type": "stream",
     "text": [
      "\n",
      "Processing Images:  82%|██████████████████████████████████████████████          | 4933/6000 [01:48<00:24, 44.21image/s]\u001b[A\n",
      "Processing Images:  82%|██████████████████████████████████████████████          | 4938/6000 [01:48<00:23, 45.65image/s]\u001b[A"
     ]
    },
    {
     "name": "stdout",
     "output_type": "stream",
     "text": [
      ">>> images count = 4931\n",
      ">>> images count = 4932\n",
      ">>> images count = 4933\n",
      ">>> images count = 4934\n",
      ">>> images count = 4935\n",
      ">>> images count = 4936\n",
      ">>> images count = 4937\n",
      ">>> images count = 4938\n",
      ">>> images count = 4939\n",
      ">>> images count = 4940\n",
      ">>> images count = 4941\n"
     ]
    },
    {
     "name": "stderr",
     "output_type": "stream",
     "text": [
      "\n",
      "Processing Images:  82%|██████████████████████████████████████████████▏         | 4943/6000 [01:48<00:23, 45.82image/s]\u001b[A\n",
      "Processing Images:  82%|██████████████████████████████████████████████▏         | 4948/6000 [01:48<00:22, 46.97image/s]\u001b[A"
     ]
    },
    {
     "name": "stdout",
     "output_type": "stream",
     "text": [
      ">>> images count = 4942\n",
      ">>> images count = 4943\n",
      ">>> images count = 4944\n",
      ">>> images count = 4945\n",
      ">>> images count = 4946\n",
      ">>> images count = 4947\n",
      ">>> images count = 4948\n",
      ">>> images count = 4949\n",
      ">>> images count = 4950\n",
      ">>> images count = 4951\n"
     ]
    },
    {
     "name": "stderr",
     "output_type": "stream",
     "text": [
      "\n",
      "Processing Images:  83%|██████████████████████████████████████████████▏         | 4953/6000 [01:48<00:23, 45.35image/s]\u001b[A\n",
      "Processing Images:  83%|██████████████████████████████████████████████▎         | 4958/6000 [01:48<00:23, 44.60image/s]\u001b[A"
     ]
    },
    {
     "name": "stdout",
     "output_type": "stream",
     "text": [
      ">>> images count = 4952\n",
      ">>> images count = 4953\n",
      ">>> images count = 4954\n",
      ">>> images count = 4955\n",
      ">>> images count = 4956\n",
      ">>> images count = 4957\n",
      ">>> images count = 4958\n",
      ">>> images count = 4959\n",
      ">>> images count = 4960\n",
      ">>> images count = 4961\n"
     ]
    },
    {
     "name": "stderr",
     "output_type": "stream",
     "text": [
      "\n",
      "Processing Images:  83%|██████████████████████████████████████████████▎         | 4963/6000 [01:48<00:23, 44.84image/s]\u001b[A\n",
      "Processing Images:  83%|██████████████████████████████████████████████▎         | 4968/6000 [01:49<00:23, 44.11image/s]\u001b[A"
     ]
    },
    {
     "name": "stdout",
     "output_type": "stream",
     "text": [
      ">>> images count = 4962\n",
      ">>> images count = 4963\n",
      ">>> images count = 4964\n",
      ">>> images count = 4965\n",
      ">>> images count = 4966\n",
      ">>> images count = 4967\n",
      ">>> images count = 4968\n",
      ">>> images count = 4969\n",
      ">>> images count = 4970\n"
     ]
    },
    {
     "name": "stderr",
     "output_type": "stream",
     "text": [
      "\n",
      "Processing Images:  83%|██████████████████████████████████████████████▍         | 4978/6000 [01:49<00:22, 45.14image/s]\u001b[A\n",
      " 83%|████████████████████████████████████████████████████████████████▋             | 4978/6000 [01:49<00:22, 45.06it/s]\u001b[A"
     ]
    },
    {
     "name": "stdout",
     "output_type": "stream",
     "text": [
      ">>> images count = 4971\n",
      ">>> images count = 4972\n",
      ">>> images count = 4973\n",
      ">>> images count = 4974\n",
      ">>> images count = 4975\n",
      ">>> images count = 4976\n",
      ">>> images count = 4977\n",
      ">>> images count = 4978\n",
      ">>> images count = 4979\n",
      ">>> images count = 4980\n"
     ]
    },
    {
     "name": "stderr",
     "output_type": "stream",
     "text": [
      "Processing Images:  83%|██████████████████████████████████████████████▌         | 4983/6000 [01:49<00:22, 45.60image/s]\n",
      "Processing Images:  83%|██████████████████████████████████████████████▌         | 4988/6000 [01:49<00:23, 43.98image/s]\u001b[A\n",
      " 83%|████████████████████████████████████████████████████████████████▊             | 4988/6000 [01:49<00:22, 44.01it/s]\u001b[A"
     ]
    },
    {
     "name": "stdout",
     "output_type": "stream",
     "text": [
      ">>> images count = 4981\n",
      ">>> images count = 4982\n",
      ">>> images count = 4983\n",
      ">>> images count = 4984\n",
      ">>> images count = 4985\n",
      ">>> images count = 4986\n",
      ">>> images count = 4987\n",
      ">>> images count = 4988\n",
      ">>> images count = 4989\n",
      ">>> images count = 4990\n"
     ]
    },
    {
     "name": "stderr",
     "output_type": "stream",
     "text": [
      "Processing Images:  83%|██████████████████████████████████████████████▌         | 4994/6000 [01:49<00:21, 46.11image/s]\n",
      "Processing Images:  83%|██████████████████████████████████████████████▋         | 5000/6000 [01:49<00:20, 48.18image/s]\u001b[A\n",
      " 83%|█████████████████████████████████████████████████████████████████             | 5000/6000 [01:49<00:20, 48.13it/s]\u001b[A"
     ]
    },
    {
     "name": "stdout",
     "output_type": "stream",
     "text": [
      ">>> images count = 4991\n",
      ">>> images count = 4992\n",
      ">>> images count = 4993\n",
      ">>> images count = 4994\n",
      ">>> images count = 4995\n",
      ">>> images count = 4996\n",
      ">>> images count = 4997\n",
      ">>> images count = 4998\n",
      ">>> images count = 4999\n",
      ">>> images count = 5000\n",
      ">>> images count = 5001\n"
     ]
    },
    {
     "name": "stderr",
     "output_type": "stream",
     "text": [
      "Processing Images:  83%|██████████████████████████████████████████████▋         | 5005/6000 [01:49<00:21, 45.36image/s]\n",
      " 83%|█████████████████████████████████████████████████████████████████             | 5005/6000 [01:49<00:21, 45.36it/s]\u001b[A"
     ]
    },
    {
     "name": "stdout",
     "output_type": "stream",
     "text": [
      ">>> images count = 5002\n",
      ">>> images count = 5003\n",
      ">>> images count = 5004\n",
      ">>> images count = 5005\n",
      ">>> images count = 5006\n",
      ">>> images count = 5007\n",
      ">>> images count = 5008\n",
      ">>> images count = 5009\n"
     ]
    },
    {
     "name": "stderr",
     "output_type": "stream",
     "text": [
      "Processing Images:  84%|██████████████████████████████████████████████▊         | 5010/6000 [01:50<00:22, 44.23image/s]\n",
      "Processing Images:  84%|██████████████████████████████████████████████▊         | 5015/6000 [01:50<00:22, 43.87image/s]\u001b[A\n",
      " 84%|█████████████████████████████████████████████████████████████████▏            | 5015/6000 [01:50<00:22, 43.88it/s]\u001b[A"
     ]
    },
    {
     "name": "stdout",
     "output_type": "stream",
     "text": [
      ">>> images count = 5010\n",
      ">>> images count = 5011\n",
      ">>> images count = 5012\n",
      ">>> images count = 5013\n",
      ">>> images count = 5014\n",
      ">>> images count = 5015\n",
      ">>> images count = 5016\n",
      ">>> images count = 5017\n",
      ">>> images count = 5018\n"
     ]
    },
    {
     "name": "stderr",
     "output_type": "stream",
     "text": [
      "Processing Images:  84%|██████████████████████████████████████████████▊         | 5020/6000 [01:50<00:21, 44.88image/s]\n",
      "Processing Images:  84%|██████████████████████████████████████████████▉         | 5025/6000 [01:50<00:22, 43.98image/s]\u001b[A\n",
      " 84%|█████████████████████████████████████████████████████████████████▎            | 5025/6000 [01:50<00:22, 43.98it/s]\u001b[A"
     ]
    },
    {
     "name": "stdout",
     "output_type": "stream",
     "text": [
      ">>> images count = 5019\n",
      ">>> images count = 5020\n",
      ">>> images count = 5021\n",
      ">>> images count = 5022\n",
      ">>> images count = 5023\n",
      ">>> images count = 5024\n",
      ">>> images count = 5025\n",
      ">>> images count = 5026\n",
      ">>> images count = 5027\n"
     ]
    },
    {
     "name": "stderr",
     "output_type": "stream",
     "text": [
      "Processing Images:  84%|██████████████████████████████████████████████▉         | 5030/6000 [01:50<00:22, 42.43image/s]\n",
      "Processing Images:  84%|██████████████████████████████████████████████▉         | 5035/6000 [01:50<00:23, 41.34image/s]\u001b[A\n",
      " 84%|█████████████████████████████████████████████████████████████████▍            | 5035/6000 [01:50<00:23, 41.34it/s]\u001b[A"
     ]
    },
    {
     "name": "stdout",
     "output_type": "stream",
     "text": [
      ">>> images count = 5028\n",
      ">>> images count = 5029\n",
      ">>> images count = 5030\n",
      ">>> images count = 5031\n",
      ">>> images count = 5032\n",
      ">>> images count = 5033\n",
      ">>> images count = 5034\n",
      ">>> images count = 5035\n",
      ">>> images count = 5036\n"
     ]
    },
    {
     "name": "stderr",
     "output_type": "stream",
     "text": [
      "Processing Images:  84%|███████████████████████████████████████████████         | 5040/6000 [01:50<00:23, 40.97image/s]\n",
      "Processing Images:  84%|███████████████████████████████████████████████         | 5045/6000 [01:50<00:22, 42.21image/s]\u001b[A\n",
      " 84%|█████████████████████████████████████████████████████████████████▌            | 5045/6000 [01:50<00:22, 42.21it/s]\u001b[A"
     ]
    },
    {
     "name": "stdout",
     "output_type": "stream",
     "text": [
      ">>> images count = 5037\n",
      ">>> images count = 5038\n",
      ">>> images count = 5039\n",
      ">>> images count = 5040\n",
      ">>> images count = 5041\n",
      ">>> images count = 5042\n",
      ">>> images count = 5043\n",
      ">>> images count = 5044\n",
      ">>> images count = 5045\n",
      ">>> images count = 5046\n"
     ]
    },
    {
     "name": "stderr",
     "output_type": "stream",
     "text": [
      "Processing Images:  84%|███████████████████████████████████████████████▏        | 5050/6000 [01:50<00:22, 42.67image/s]\n",
      "Processing Images:  84%|███████████████████████████████████████████████▏        | 5055/6000 [01:51<00:21, 44.37image/s]\u001b[A\n",
      " 84%|█████████████████████████████████████████████████████████████████▋            | 5055/6000 [01:51<00:21, 44.37it/s]\u001b[A"
     ]
    },
    {
     "name": "stdout",
     "output_type": "stream",
     "text": [
      ">>> images count = 5047\n",
      ">>> images count = 5048\n",
      ">>> images count = 5049\n",
      ">>> images count = 5050\n",
      ">>> images count = 5051\n",
      ">>> images count = 5052\n",
      ">>> images count = 5053\n",
      ">>> images count = 5054\n",
      ">>> images count = 5055\n",
      ">>> images count = 5056\n"
     ]
    },
    {
     "name": "stderr",
     "output_type": "stream",
     "text": [
      "Processing Images:  84%|███████████████████████████████████████████████▏        | 5060/6000 [01:51<00:21, 43.84image/s]\n",
      " 84%|█████████████████████████████████████████████████████████████████▊            | 5060/6000 [01:51<00:21, 43.84it/s]\u001b[A"
     ]
    },
    {
     "name": "stdout",
     "output_type": "stream",
     "text": [
      ">>> images count = 5057\n",
      ">>> images count = 5058\n",
      ">>> images count = 5059\n",
      ">>> images count = 5060\n",
      ">>> images count = 5061\n",
      ">>> images count = 5062\n",
      ">>> images count = 5063\n",
      ">>> images count = 5064\n"
     ]
    },
    {
     "name": "stderr",
     "output_type": "stream",
     "text": [
      "Processing Images:  84%|███████████████████████████████████████████████▎        | 5065/6000 [01:51<00:20, 44.56image/s]\n",
      "Processing Images:  84%|███████████████████████████████████████████████▎        | 5070/6000 [01:51<00:20, 45.54image/s]\u001b[A\n",
      "Processing Images:  85%|███████████████████████████████████████████████▎        | 5075/6000 [01:51<00:20, 44.70image/s]\u001b[A"
     ]
    },
    {
     "name": "stdout",
     "output_type": "stream",
     "text": [
      ">>> images count = 5065\n",
      ">>> images count = 5066\n",
      ">>> images count = 5067\n",
      ">>> images count = 5068\n",
      ">>> images count = 5069\n",
      ">>> images count = 5070\n",
      ">>> images count = 5071\n",
      ">>> images count = 5072\n",
      ">>> images count = 5073\n",
      ">>> images count = 5074\n"
     ]
    },
    {
     "name": "stderr",
     "output_type": "stream",
     "text": [
      "\n",
      "Processing Images:  85%|███████████████████████████████████████████████▍        | 5080/6000 [01:51<00:21, 42.82image/s]\u001b[A\n",
      " 85%|██████████████████████████████████████████████████████████████████            | 5080/6000 [01:51<00:21, 42.84it/s]\u001b[A"
     ]
    },
    {
     "name": "stdout",
     "output_type": "stream",
     "text": [
      ">>> images count = 5075\n",
      ">>> images count = 5076\n",
      ">>> images count = 5077\n",
      ">>> images count = 5078\n",
      ">>> images count = 5079\n",
      ">>> images count = 5080\n",
      ">>> images count = 5081\n",
      ">>> images count = 5082\n",
      ">>> images count = 5083\n"
     ]
    },
    {
     "name": "stderr",
     "output_type": "stream",
     "text": [
      "Processing Images:  85%|███████████████████████████████████████████████▍        | 5085/6000 [01:51<00:22, 40.55image/s]\n",
      "Processing Images:  85%|███████████████████████████████████████████████▌        | 5090/6000 [01:51<00:21, 42.69image/s]\u001b[A\n",
      " 85%|██████████████████████████████████████████████████████████████████▏           | 5090/6000 [01:51<00:21, 42.73it/s]\u001b[A"
     ]
    },
    {
     "name": "stdout",
     "output_type": "stream",
     "text": [
      ">>> images count = 5084\n",
      ">>> images count = 5085\n",
      ">>> images count = 5086\n",
      ">>> images count = 5087\n",
      ">>> images count = 5088\n",
      ">>> images count = 5089\n",
      ">>> images count = 5090\n",
      ">>> images count = 5091\n",
      ">>> images count = 5092\n",
      ">>> images count = 5093\n"
     ]
    },
    {
     "name": "stderr",
     "output_type": "stream",
     "text": [
      "Processing Images:  85%|███████████████████████████████████████████████▌        | 5096/6000 [01:52<00:20, 44.85image/s]\n",
      "Processing Images:  85%|███████████████████████████████████████████████▌        | 5101/6000 [01:52<00:19, 45.65image/s]\u001b[A\n",
      " 85%|██████████████████████████████████████████████████████████████████▎           | 5101/6000 [01:52<00:19, 45.67it/s]\u001b[A"
     ]
    },
    {
     "name": "stdout",
     "output_type": "stream",
     "text": [
      ">>> images count = 5094\n",
      ">>> images count = 5095\n",
      ">>> images count = 5096\n",
      ">>> images count = 5097\n",
      ">>> images count = 5098\n",
      ">>> images count = 5099\n",
      ">>> images count = 5100\n",
      ">>> images count = 5101\n",
      ">>> images count = 5102\n",
      ">>> images count = 5103\n"
     ]
    },
    {
     "name": "stderr",
     "output_type": "stream",
     "text": [
      "Processing Images:  85%|███████████████████████████████████████████████▋        | 5106/6000 [01:52<00:20, 43.50image/s]\n",
      "Processing Images:  85%|███████████████████████████████████████████████▋        | 5111/6000 [01:52<00:20, 43.90image/s]\u001b[A\n",
      " 85%|██████████████████████████████████████████████████████████████████▍           | 5111/6000 [01:52<00:20, 43.91it/s]\u001b[A"
     ]
    },
    {
     "name": "stdout",
     "output_type": "stream",
     "text": [
      ">>> images count = 5104\n",
      ">>> images count = 5105\n",
      ">>> images count = 5106\n",
      ">>> images count = 5107\n",
      ">>> images count = 5108\n",
      ">>> images count = 5109\n",
      ">>> images count = 5110\n",
      ">>> images count = 5111\n",
      ">>> images count = 5112\n"
     ]
    },
    {
     "name": "stderr",
     "output_type": "stream",
     "text": [
      "Processing Images:  85%|███████████████████████████████████████████████▋        | 5116/6000 [01:52<00:20, 43.08image/s]\n",
      " 85%|██████████████████████████████████████████████████████████████████▌           | 5116/6000 [01:52<00:20, 43.08it/s]\u001b[A"
     ]
    },
    {
     "name": "stdout",
     "output_type": "stream",
     "text": [
      ">>> images count = 5113\n",
      ">>> images count = 5114\n",
      ">>> images count = 5115\n",
      ">>> images count = 5116\n",
      ">>> images count = 5117\n",
      ">>> images count = 5118\n",
      ">>> images count = 5119\n",
      ">>> images count = 5120\n"
     ]
    },
    {
     "name": "stderr",
     "output_type": "stream",
     "text": [
      "Processing Images:  85%|███████████████████████████████████████████████▊        | 5121/6000 [01:52<00:20, 43.19image/s]\n",
      "Processing Images:  85%|███████████████████████████████████████████████▊        | 5126/6000 [01:52<00:19, 43.98image/s]\u001b[A\n",
      " 85%|██████████████████████████████████████████████████████████████████▋           | 5126/6000 [01:52<00:19, 43.99it/s]\u001b[A"
     ]
    },
    {
     "name": "stdout",
     "output_type": "stream",
     "text": [
      ">>> images count = 5121\n",
      ">>> images count = 5122\n",
      ">>> images count = 5123\n",
      ">>> images count = 5124\n",
      ">>> images count = 5125\n",
      ">>> images count = 5126\n",
      ">>> images count = 5127\n",
      ">>> images count = 5128\n",
      ">>> images count = 5129\n",
      ">>> images count = 5130\n"
     ]
    },
    {
     "name": "stderr",
     "output_type": "stream",
     "text": [
      "Processing Images:  86%|███████████████████████████████████████████████▉        | 5131/6000 [01:52<00:19, 44.10image/s]\n",
      "Processing Images:  86%|███████████████████████████████████████████████▉        | 5136/6000 [01:52<00:20, 42.82image/s]\u001b[A\n",
      " 86%|██████████████████████████████████████████████████████████████████▊           | 5136/6000 [01:52<00:20, 42.82it/s]\u001b[A"
     ]
    },
    {
     "name": "stdout",
     "output_type": "stream",
     "text": [
      ">>> images count = 5131\n",
      ">>> images count = 5132\n",
      ">>> images count = 5133\n",
      ">>> images count = 5134\n",
      ">>> images count = 5135\n",
      ">>> images count = 5136\n",
      ">>> images count = 5137\n",
      ">>> images count = 5138\n",
      ">>> images count = 5139\n",
      ">>> images count = 5140\n"
     ]
    },
    {
     "name": "stderr",
     "output_type": "stream",
     "text": [
      "Processing Images:  86%|███████████████████████████████████████████████▉        | 5141/6000 [01:53<00:19, 43.79image/s]\n",
      "Processing Images:  86%|████████████████████████████████████████████████        | 5147/6000 [01:53<00:18, 46.65image/s]\u001b[A\n",
      " 86%|██████████████████████████████████████████████████████████████████▉           | 5147/6000 [01:53<00:18, 46.78it/s]\u001b[A"
     ]
    },
    {
     "name": "stdout",
     "output_type": "stream",
     "text": [
      ">>> images count = 5141\n",
      ">>> images count = 5142\n",
      ">>> images count = 5143\n",
      ">>> images count = 5144\n",
      ">>> images count = 5145\n",
      ">>> images count = 5146\n",
      ">>> images count = 5147\n",
      ">>> images count = 5148\n",
      ">>> images count = 5149\n",
      ">>> images count = 5150\n",
      ">>> images count = 5151\n"
     ]
    },
    {
     "name": "stderr",
     "output_type": "stream",
     "text": [
      "Processing Images:  86%|████████████████████████████████████████████████        | 5153/6000 [01:53<00:17, 48.90image/s]\n",
      "Processing Images:  86%|████████████████████████████████████████████████▏       | 5158/6000 [01:53<00:17, 47.23image/s]\u001b[A\n",
      " 86%|███████████████████████████████████████████████████████████████████           | 5158/6000 [01:53<00:17, 47.20it/s]\u001b[A"
     ]
    },
    {
     "name": "stdout",
     "output_type": "stream",
     "text": [
      ">>> images count = 5152\n",
      ">>> images count = 5153\n",
      ">>> images count = 5154\n",
      ">>> images count = 5155\n",
      ">>> images count = 5156\n",
      ">>> images count = 5157\n",
      ">>> images count = 5158\n",
      ">>> images count = 5159\n",
      ">>> images count = 5160\n"
     ]
    },
    {
     "name": "stderr",
     "output_type": "stream",
     "text": [
      "Processing Images:  86%|████████████████████████████████████████████████▏       | 5163/6000 [01:53<00:18, 45.59image/s]\n",
      "Processing Images:  86%|████████████████████████████████████████████████▏       | 5168/6000 [01:53<00:18, 45.54image/s]\u001b[A\n",
      " 86%|███████████████████████████████████████████████████████████████████▏          | 5168/6000 [01:53<00:18, 45.53it/s]\u001b[A"
     ]
    },
    {
     "name": "stdout",
     "output_type": "stream",
     "text": [
      ">>> images count = 5161\n",
      ">>> images count = 5162\n",
      ">>> images count = 5163\n",
      ">>> images count = 5164\n",
      ">>> images count = 5165\n",
      ">>> images count = 5166\n",
      ">>> images count = 5167\n",
      ">>> images count = 5168\n",
      ">>> images count = 5169\n",
      ">>> images count = 5170\n"
     ]
    },
    {
     "name": "stderr",
     "output_type": "stream",
     "text": [
      "Processing Images:  86%|████████████████████████████████████████████████▎       | 5173/6000 [01:53<00:17, 46.23image/s]\n",
      "Processing Images:  86%|████████████████████████████████████████████████▎       | 5178/6000 [01:53<00:17, 46.35image/s]\u001b[A\n",
      " 86%|███████████████████████████████████████████████████████████████████▎          | 5178/6000 [01:53<00:17, 46.35it/s]\u001b[A"
     ]
    },
    {
     "name": "stdout",
     "output_type": "stream",
     "text": [
      ">>> images count = 5171\n",
      ">>> images count = 5172\n",
      ">>> images count = 5173\n",
      ">>> images count = 5174\n",
      ">>> images count = 5175\n",
      ">>> images count = 5176\n",
      ">>> images count = 5177\n",
      ">>> images count = 5178\n",
      ">>> images count = 5179\n",
      ">>> images count = 5180\n"
     ]
    },
    {
     "name": "stderr",
     "output_type": "stream",
     "text": [
      "Processing Images:  86%|████████████████████████████████████████████████▍       | 5184/6000 [01:53<00:17, 47.75image/s]\n",
      "Processing Images:  86%|████████████████████████████████████████████████▍       | 5190/6000 [01:54<00:16, 48.07image/s]\u001b[A"
     ]
    },
    {
     "name": "stdout",
     "output_type": "stream",
     "text": [
      ">>> images count = 5181\n",
      ">>> images count = 5182\n",
      ">>> images count = 5183\n",
      ">>> images count = 5184\n",
      ">>> images count = 5185\n",
      ">>> images count = 5186\n",
      ">>> images count = 5187\n",
      ">>> images count = 5188\n",
      ">>> images count = 5189\n"
     ]
    },
    {
     "name": "stderr",
     "output_type": "stream",
     "text": [
      "\n",
      "Processing Images:  87%|████████████████████████████████████████████████▍       | 5195/6000 [01:54<00:16, 48.44image/s]\u001b[A\n",
      " 87%|███████████████████████████████████████████████████████████████████▌          | 5195/6000 [01:54<00:16, 48.44it/s]\u001b[A"
     ]
    },
    {
     "name": "stdout",
     "output_type": "stream",
     "text": [
      ">>> images count = 5190\n",
      ">>> images count = 5191\n",
      ">>> images count = 5192\n",
      ">>> images count = 5193\n",
      ">>> images count = 5194\n",
      ">>> images count = 5195\n",
      ">>> images count = 5196\n",
      ">>> images count = 5197\n",
      ">>> images count = 5198\n",
      ">>> images count = 5199\n"
     ]
    },
    {
     "name": "stderr",
     "output_type": "stream",
     "text": [
      "Processing Images:  87%|████████████████████████████████████████████████▌       | 5200/6000 [01:54<00:17, 46.13image/s]\n",
      "Processing Images:  87%|████████████████████████████████████████████████▌       | 5205/6000 [01:54<00:17, 44.67image/s]\u001b[A\n",
      " 87%|███████████████████████████████████████████████████████████████████▋          | 5205/6000 [01:54<00:17, 44.79it/s]\u001b[A"
     ]
    },
    {
     "name": "stdout",
     "output_type": "stream",
     "text": [
      ">>> images count = 5200\n",
      ">>> images count = 5201\n",
      ">>> images count = 5202\n",
      ">>> images count = 5203\n",
      ">>> images count = 5204\n",
      ">>> images count = 5205\n",
      ">>> images count = 5206\n",
      ">>> images count = 5207\n",
      ">>> images count = 5208\n"
     ]
    },
    {
     "name": "stderr",
     "output_type": "stream",
     "text": [
      "Processing Images:  87%|████████████████████████████████████████████████▋       | 5210/6000 [01:54<00:18, 43.47image/s]\n",
      "Processing Images:  87%|████████████████████████████████████████████████▋       | 5215/6000 [01:54<00:17, 43.90image/s]\u001b[A\n",
      " 87%|███████████████████████████████████████████████████████████████████▊          | 5215/6000 [01:54<00:17, 43.87it/s]\u001b[A"
     ]
    },
    {
     "name": "stdout",
     "output_type": "stream",
     "text": [
      ">>> images count = 5209\n",
      ">>> images count = 5210\n",
      ">>> images count = 5211\n",
      ">>> images count = 5212\n",
      ">>> images count = 5213\n",
      ">>> images count = 5214\n",
      ">>> images count = 5215\n",
      ">>> images count = 5216\n",
      ">>> images count = 5217\n"
     ]
    },
    {
     "name": "stderr",
     "output_type": "stream",
     "text": [
      "Processing Images:  87%|████████████████████████████████████████████████▋       | 5220/6000 [01:54<00:17, 43.64image/s]\n",
      "Processing Images:  87%|████████████████████████████████████████████████▊       | 5225/6000 [01:54<00:17, 43.69image/s]\u001b[A\n",
      " 87%|███████████████████████████████████████████████████████████████████▉          | 5225/6000 [01:54<00:17, 43.53it/s]\u001b[A"
     ]
    },
    {
     "name": "stdout",
     "output_type": "stream",
     "text": [
      ">>> images count = 5218\n",
      ">>> images count = 5219\n",
      ">>> images count = 5220\n",
      ">>> images count = 5221\n",
      ">>> images count = 5222\n",
      ">>> images count = 5223\n",
      ">>> images count = 5224\n",
      ">>> images count = 5225\n",
      ">>> images count = 5226\n",
      ">>> images count = 5227\n"
     ]
    },
    {
     "name": "stderr",
     "output_type": "stream",
     "text": [
      "Processing Images:  87%|████████████████████████████████████████████████▊       | 5230/6000 [01:54<00:17, 44.30image/s]\n",
      "Processing Images:  87%|████████████████████████████████████████████████▊       | 5235/6000 [01:55<00:17, 43.44image/s]\u001b[A\n",
      " 87%|████████████████████████████████████████████████████████████████████          | 5235/6000 [01:55<00:17, 43.50it/s]\u001b[A"
     ]
    },
    {
     "name": "stdout",
     "output_type": "stream",
     "text": [
      ">>> images count = 5228\n",
      ">>> images count = 5229\n",
      ">>> images count = 5230\n",
      ">>> images count = 5231\n",
      ">>> images count = 5232\n",
      ">>> images count = 5233\n",
      ">>> images count = 5234\n",
      ">>> images count = 5235\n",
      ">>> images count = 5236\n"
     ]
    },
    {
     "name": "stderr",
     "output_type": "stream",
     "text": [
      "Processing Images:  87%|████████████████████████████████████████████████▉       | 5240/6000 [01:55<00:17, 42.56image/s]\n",
      " 87%|████████████████████████████████████████████████████████████████████          | 5240/6000 [01:55<00:17, 42.54it/s]\u001b[A"
     ]
    },
    {
     "name": "stdout",
     "output_type": "stream",
     "text": [
      ">>> images count = 5237\n",
      ">>> images count = 5238\n",
      ">>> images count = 5239\n",
      ">>> images count = 5240\n",
      ">>> images count = 5241\n",
      ">>> images count = 5242\n",
      ">>> images count = 5243\n",
      ">>> images count = 5244\n"
     ]
    },
    {
     "name": "stderr",
     "output_type": "stream",
     "text": [
      "Processing Images:  87%|████████████████████████████████████████████████▉       | 5245/6000 [01:55<00:17, 43.01image/s]\n",
      "Processing Images:  88%|█████████████████████████████████████████████████       | 5250/6000 [01:55<00:17, 43.80image/s]\u001b[A\n",
      " 88%|████████████████████████████████████████████████████████████████████▎         | 5250/6000 [01:55<00:17, 43.79it/s]\u001b[A"
     ]
    },
    {
     "name": "stdout",
     "output_type": "stream",
     "text": [
      ">>> images count = 5245\n",
      ">>> images count = 5246\n",
      ">>> images count = 5247\n",
      ">>> images count = 5248\n",
      ">>> images count = 5249\n",
      ">>> images count = 5250\n",
      ">>> images count = 5251\n",
      ">>> images count = 5252\n",
      ">>> images count = 5253\n",
      ">>> images count = 5254\n"
     ]
    },
    {
     "name": "stderr",
     "output_type": "stream",
     "text": [
      "Processing Images:  88%|█████████████████████████████████████████████████       | 5255/6000 [01:55<00:16, 44.60image/s]\n",
      "Processing Images:  88%|█████████████████████████████████████████████████       | 5260/6000 [01:55<00:16, 45.19image/s]\u001b[A\n",
      "Processing Images:  88%|█████████████████████████████████████████████████▏      | 5265/6000 [01:55<00:16, 45.71image/s]\u001b[A"
     ]
    },
    {
     "name": "stdout",
     "output_type": "stream",
     "text": [
      ">>> images count = 5255\n",
      ">>> images count = 5256\n",
      ">>> images count = 5257\n",
      ">>> images count = 5258\n",
      ">>> images count = 5259\n",
      ">>> images count = 5260\n",
      ">>> images count = 5261\n",
      ">>> images count = 5262\n",
      ">>> images count = 5263\n",
      ">>> images count = 5264\n"
     ]
    },
    {
     "name": "stderr",
     "output_type": "stream",
     "text": [
      "\n",
      "Processing Images:  88%|█████████████████████████████████████████████████▏      | 5270/6000 [01:55<00:16, 44.63image/s]\u001b[A\n",
      " 88%|████████████████████████████████████████████████████████████████████▌         | 5270/6000 [01:55<00:16, 44.60it/s]\u001b[A"
     ]
    },
    {
     "name": "stdout",
     "output_type": "stream",
     "text": [
      ">>> images count = 5265\n",
      ">>> images count = 5266\n",
      ">>> images count = 5267\n",
      ">>> images count = 5268\n",
      ">>> images count = 5269\n",
      ">>> images count = 5270\n",
      ">>> images count = 5271\n",
      ">>> images count = 5272\n",
      ">>> images count = 5273\n",
      ">>> images count = 5274\n"
     ]
    },
    {
     "name": "stderr",
     "output_type": "stream",
     "text": [
      "Processing Images:  88%|█████████████████████████████████████████████████▏      | 5275/6000 [01:56<00:16, 43.81image/s]\n",
      "Processing Images:  88%|█████████████████████████████████████████████████▎      | 5280/6000 [01:56<00:16, 42.79image/s]\u001b[A\n",
      " 88%|████████████████████████████████████████████████████████████████████▋         | 5280/6000 [01:56<00:16, 42.78it/s]\u001b[A"
     ]
    },
    {
     "name": "stdout",
     "output_type": "stream",
     "text": [
      ">>> images count = 5275\n",
      ">>> images count = 5276\n",
      ">>> images count = 5277\n",
      ">>> images count = 5278\n",
      ">>> images count = 5279\n",
      ">>> images count = 5280\n",
      ">>> images count = 5281\n",
      ">>> images count = 5282\n",
      ">>> images count = 5283\n"
     ]
    },
    {
     "name": "stderr",
     "output_type": "stream",
     "text": [
      "Processing Images:  88%|█████████████████████████████████████████████████▎      | 5285/6000 [01:56<00:16, 42.77image/s]\n",
      "Processing Images:  88%|█████████████████████████████████████████████████▎      | 5290/6000 [01:56<00:16, 42.46image/s]\u001b[A\n",
      " 88%|████████████████████████████████████████████████████████████████████▊         | 5290/6000 [01:56<00:16, 42.45it/s]\u001b[A"
     ]
    },
    {
     "name": "stdout",
     "output_type": "stream",
     "text": [
      ">>> images count = 5284\n",
      ">>> images count = 5285\n",
      ">>> images count = 5286\n",
      ">>> images count = 5287\n",
      ">>> images count = 5288\n",
      ">>> images count = 5289\n",
      ">>> images count = 5290\n",
      ">>> images count = 5291\n",
      ">>> images count = 5292\n"
     ]
    },
    {
     "name": "stderr",
     "output_type": "stream",
     "text": [
      "Processing Images:  88%|█████████████████████████████████████████████████▍      | 5295/6000 [01:56<00:15, 44.09image/s]\n",
      "Processing Images:  88%|█████████████████████████████████████████████████▍      | 5300/6000 [01:56<00:15, 45.20image/s]\u001b[A\n",
      " 88%|████████████████████████████████████████████████████████████████████▉         | 5300/6000 [01:56<00:15, 45.19it/s]\u001b[A"
     ]
    },
    {
     "name": "stdout",
     "output_type": "stream",
     "text": [
      ">>> images count = 5293\n",
      ">>> images count = 5294\n",
      ">>> images count = 5295\n",
      ">>> images count = 5296\n",
      ">>> images count = 5297\n",
      ">>> images count = 5298\n",
      ">>> images count = 5299\n",
      ">>> images count = 5300\n",
      ">>> images count = 5301\n",
      ">>> images count = 5302\n"
     ]
    },
    {
     "name": "stderr",
     "output_type": "stream",
     "text": [
      "Processing Images:  88%|█████████████████████████████████████████████████▌      | 5305/6000 [01:56<00:15, 44.45image/s]\n",
      "Processing Images:  88%|█████████████████████████████████████████████████▌      | 5310/6000 [01:56<00:15, 44.30image/s]\u001b[A\n",
      " 88%|█████████████████████████████████████████████████████████████████████         | 5310/6000 [01:56<00:15, 44.24it/s]\u001b[A"
     ]
    },
    {
     "name": "stdout",
     "output_type": "stream",
     "text": [
      ">>> images count = 5303\n",
      ">>> images count = 5304\n",
      ">>> images count = 5305\n",
      ">>> images count = 5306\n",
      ">>> images count = 5307\n",
      ">>> images count = 5308\n",
      ">>> images count = 5309\n",
      ">>> images count = 5310\n",
      ">>> images count = 5311\n"
     ]
    },
    {
     "name": "stderr",
     "output_type": "stream",
     "text": [
      "Processing Images:  89%|█████████████████████████████████████████████████▌      | 5315/6000 [01:56<00:16, 42.09image/s]\n",
      "Processing Images:  89%|█████████████████████████████████████████████████▋      | 5320/6000 [01:57<00:15, 42.81image/s]\u001b[A\n"
     ]
    },
    {
     "name": "stdout",
     "output_type": "stream",
     "text": [
      ">>> images count = 5312\n",
      ">>> images count = 5313\n",
      ">>> images count = 5314\n",
      ">>> images count = 5315\n",
      ">>> images count = 5316\n",
      ">>> images count = 5317\n",
      ">>> images count = 5318\n",
      ">>> images count = 5319\n",
      ">>> images count = 5320\n"
     ]
    },
    {
     "name": "stderr",
     "output_type": "stream",
     "text": [
      "Processing Images:  89%|█████████████████████████████████████████████████▋      | 5325/6000 [01:57<00:15, 42.96image/s]\u001b[A\n",
      " 89%|█████████████████████████████████████████████████████████████████████▏        | 5325/6000 [01:57<00:15, 42.97it/s]\u001b[A"
     ]
    },
    {
     "name": "stdout",
     "output_type": "stream",
     "text": [
      ">>> images count = 5321\n",
      ">>> images count = 5322\n",
      ">>> images count = 5323\n",
      ">>> images count = 5324\n",
      ">>> images count = 5325\n",
      ">>> images count = 5326\n",
      ">>> images count = 5327\n",
      ">>> images count = 5328\n"
     ]
    },
    {
     "name": "stderr",
     "output_type": "stream",
     "text": [
      "Processing Images:  89%|█████████████████████████████████████████████████▋      | 5330/6000 [01:57<00:15, 43.72image/s]\n",
      "Processing Images:  89%|█████████████████████████████████████████████████▊      | 5335/6000 [01:57<00:15, 44.06image/s]\u001b[A\n",
      " 89%|█████████████████████████████████████████████████████████████████████▎        | 5335/6000 [01:57<00:15, 44.07it/s]\u001b[A"
     ]
    },
    {
     "name": "stdout",
     "output_type": "stream",
     "text": [
      ">>> images count = 5329\n",
      ">>> images count = 5330\n",
      ">>> images count = 5331\n",
      ">>> images count = 5332\n",
      ">>> images count = 5333\n",
      ">>> images count = 5334\n",
      ">>> images count = 5335\n",
      ">>> images count = 5336\n",
      ">>> images count = 5337\n",
      ">>> images count = 5338\n",
      ">>> images count = 5339\n"
     ]
    },
    {
     "name": "stderr",
     "output_type": "stream",
     "text": [
      "Processing Images:  89%|█████████████████████████████████████████████████▊      | 5340/6000 [01:57<00:14, 45.38image/s]\n",
      "Processing Images:  89%|█████████████████████████████████████████████████▉      | 5345/6000 [01:57<00:14, 44.95image/s]\u001b[A\n",
      " 89%|█████████████████████████████████████████████████████████████████████▍        | 5345/6000 [01:57<00:14, 44.95it/s]\u001b[A"
     ]
    },
    {
     "name": "stdout",
     "output_type": "stream",
     "text": [
      ">>> images count = 5340\n",
      ">>> images count = 5341\n",
      ">>> images count = 5342\n",
      ">>> images count = 5343\n",
      ">>> images count = 5344\n",
      ">>> images count = 5345\n",
      ">>> images count = 5346\n",
      ">>> images count = 5347\n",
      ">>> images count = 5348\n",
      ">>> images count = 5349\n"
     ]
    },
    {
     "name": "stderr",
     "output_type": "stream",
     "text": [
      "Processing Images:  89%|█████████████████████████████████████████████████▉      | 5350/6000 [01:57<00:14, 44.07image/s]\n",
      "Processing Images:  89%|█████████████████████████████████████████████████▉      | 5355/6000 [01:57<00:14, 44.70image/s]\u001b[A\n",
      " 89%|█████████████████████████████████████████████████████████████████████▌        | 5355/6000 [01:57<00:14, 44.70it/s]\u001b[A"
     ]
    },
    {
     "name": "stdout",
     "output_type": "stream",
     "text": [
      ">>> images count = 5350\n",
      ">>> images count = 5351\n",
      ">>> images count = 5352\n",
      ">>> images count = 5353\n",
      ">>> images count = 5354\n",
      ">>> images count = 5355\n",
      ">>> images count = 5356\n",
      ">>> images count = 5357\n",
      ">>> images count = 5358\n",
      ">>> images count = 5359\n"
     ]
    },
    {
     "name": "stderr",
     "output_type": "stream",
     "text": [
      "Processing Images:  89%|██████████████████████████████████████████████████      | 5360/6000 [01:57<00:14, 44.34image/s]\n",
      "Processing Images:  89%|██████████████████████████████████████████████████      | 5365/6000 [01:58<00:13, 45.50image/s]\u001b[A\n",
      "Processing Images:  90%|██████████████████████████████████████████████████      | 5370/6000 [01:58<00:13, 45.47image/s]\u001b[A"
     ]
    },
    {
     "name": "stdout",
     "output_type": "stream",
     "text": [
      ">>> images count = 5360\n",
      ">>> images count = 5361\n",
      ">>> images count = 5362\n",
      ">>> images count = 5363\n",
      ">>> images count = 5364\n",
      ">>> images count = 5365\n",
      ">>> images count = 5366\n",
      ">>> images count = 5367\n",
      ">>> images count = 5368\n",
      ">>> images count = 5369\n"
     ]
    },
    {
     "name": "stderr",
     "output_type": "stream",
     "text": [
      "\n",
      "Processing Images:  90%|██████████████████████████████████████████████████▏     | 5375/6000 [01:58<00:13, 45.32image/s]\u001b[A\n",
      " 90%|█████████████████████████████████████████████████████████████████████▉        | 5375/6000 [01:58<00:13, 45.32it/s]\u001b[A"
     ]
    },
    {
     "name": "stdout",
     "output_type": "stream",
     "text": [
      ">>> images count = 5370\n",
      ">>> images count = 5371\n",
      ">>> images count = 5372\n",
      ">>> images count = 5373\n",
      ">>> images count = 5374\n",
      ">>> images count = 5375\n",
      ">>> images count = 5376\n",
      ">>> images count = 5377\n",
      ">>> images count = 5378\n"
     ]
    },
    {
     "name": "stderr",
     "output_type": "stream",
     "text": [
      "Processing Images:  90%|██████████████████████████████████████████████████▏     | 5380/6000 [01:58<00:14, 42.52image/s]\n",
      "Processing Images:  90%|██████████████████████████████████████████████████▎     | 5385/6000 [01:58<00:14, 43.18image/s]\u001b[A\n",
      " 90%|██████████████████████████████████████████████████████████████████████        | 5385/6000 [01:58<00:14, 43.18it/s]\u001b[A"
     ]
    },
    {
     "name": "stdout",
     "output_type": "stream",
     "text": [
      ">>> images count = 5379\n",
      ">>> images count = 5380\n",
      ">>> images count = 5381\n",
      ">>> images count = 5382\n",
      ">>> images count = 5383\n",
      ">>> images count = 5384\n",
      ">>> images count = 5385\n",
      ">>> images count = 5386\n",
      ">>> images count = 5387\n",
      ">>> images count = 5388\n"
     ]
    },
    {
     "name": "stderr",
     "output_type": "stream",
     "text": [
      "Processing Images:  90%|██████████████████████████████████████████████████▎     | 5390/6000 [01:58<00:13, 44.00image/s]\n",
      "Processing Images:  90%|██████████████████████████████████████████████████▎     | 5395/6000 [01:58<00:13, 44.28image/s]\u001b[A\n",
      " 90%|██████████████████████████████████████████████████████████████████████▏       | 5395/6000 [01:58<00:13, 44.28it/s]\u001b[A"
     ]
    },
    {
     "name": "stdout",
     "output_type": "stream",
     "text": [
      ">>> images count = 5389\n",
      ">>> images count = 5390\n",
      ">>> images count = 5391\n",
      ">>> images count = 5392\n",
      ">>> images count = 5393\n",
      ">>> images count = 5394\n",
      ">>> images count = 5395\n",
      ">>> images count = 5396\n",
      ">>> images count = 5397\n",
      ">>> images count = 5398\n",
      ">>> images count = 5399\n"
     ]
    },
    {
     "name": "stderr",
     "output_type": "stream",
     "text": [
      "Processing Images:  90%|██████████████████████████████████████████████████▍     | 5400/6000 [01:58<00:13, 45.82image/s]\n",
      "Processing Images:  90%|██████████████████████████████████████████████████▍     | 5405/6000 [01:58<00:13, 44.59image/s]\u001b[A\n",
      " 90%|██████████████████████████████████████████████████████████████████████▎       | 5405/6000 [01:58<00:13, 44.63it/s]\u001b[A"
     ]
    },
    {
     "name": "stdout",
     "output_type": "stream",
     "text": [
      ">>> images count = 5400\n",
      ">>> images count = 5401\n",
      ">>> images count = 5402\n",
      ">>> images count = 5403\n",
      ">>> images count = 5404\n",
      ">>> images count = 5405\n",
      ">>> images count = 5406\n",
      ">>> images count = 5407\n",
      ">>> images count = 5408\n",
      ">>> images count = 5409\n"
     ]
    },
    {
     "name": "stderr",
     "output_type": "stream",
     "text": [
      "Processing Images:  90%|██████████████████████████████████████████████████▍     | 5410/6000 [01:59<00:12, 45.69image/s]\n",
      "Processing Images:  90%|██████████████████████████████████████████████████▌     | 5415/6000 [01:59<00:13, 43.35image/s]\u001b[A\n",
      " 90%|██████████████████████████████████████████████████████████████████████▍       | 5415/6000 [01:59<00:13, 43.37it/s]\u001b[A"
     ]
    },
    {
     "name": "stdout",
     "output_type": "stream",
     "text": [
      ">>> images count = 5410\n",
      ">>> images count = 5411\n",
      ">>> images count = 5412\n",
      ">>> images count = 5413\n",
      ">>> images count = 5414\n",
      ">>> images count = 5415\n",
      ">>> images count = 5416\n",
      ">>> images count = 5417\n",
      ">>> images count = 5418\n"
     ]
    },
    {
     "name": "stderr",
     "output_type": "stream",
     "text": [
      "Processing Images:  90%|██████████████████████████████████████████████████▌     | 5420/6000 [01:59<00:13, 41.48image/s]\n",
      "Processing Images:  90%|██████████████████████████████████████████████████▋     | 5425/6000 [01:59<00:13, 41.79image/s]\u001b[A\n",
      " 90%|██████████████████████████████████████████████████████████████████████▌       | 5425/6000 [01:59<00:13, 41.77it/s]\u001b[A"
     ]
    },
    {
     "name": "stdout",
     "output_type": "stream",
     "text": [
      ">>> images count = 5419\n",
      ">>> images count = 5420\n",
      ">>> images count = 5421\n",
      ">>> images count = 5422\n",
      ">>> images count = 5423\n",
      ">>> images count = 5424\n",
      ">>> images count = 5425\n",
      ">>> images count = 5426\n",
      ">>> images count = 5427\n",
      ">>> images count = 5428\n"
     ]
    },
    {
     "name": "stderr",
     "output_type": "stream",
     "text": [
      "Processing Images:  90%|██████████████████████████████████████████████████▋     | 5430/6000 [01:59<00:13, 42.81image/s]\n",
      "Processing Images:  91%|██████████████████████████████████████████████████▋     | 5435/6000 [01:59<00:12, 44.37image/s]\u001b[A\n",
      " 91%|██████████████████████████████████████████████████████████████████████▋       | 5435/6000 [01:59<00:12, 44.35it/s]\u001b[A"
     ]
    },
    {
     "name": "stdout",
     "output_type": "stream",
     "text": [
      ">>> images count = 5429\n",
      ">>> images count = 5430\n",
      ">>> images count = 5431\n",
      ">>> images count = 5432\n",
      ">>> images count = 5433\n",
      ">>> images count = 5434\n",
      ">>> images count = 5435\n",
      ">>> images count = 5436\n",
      ">>> images count = 5437\n",
      ">>> images count = 5438\n",
      ">>> images count = 5439\n"
     ]
    },
    {
     "name": "stderr",
     "output_type": "stream",
     "text": [
      "Processing Images:  91%|██████████████████████████████████████████████████▊     | 5441/6000 [01:59<00:12, 46.08image/s]\n",
      "Processing Images:  91%|██████████████████████████████████████████████████▊     | 5446/6000 [01:59<00:12, 45.75image/s]\u001b[A\n",
      " 91%|██████████████████████████████████████████████████████████████████████▊       | 5446/6000 [01:59<00:12, 45.75it/s]\u001b[A"
     ]
    },
    {
     "name": "stdout",
     "output_type": "stream",
     "text": [
      ">>> images count = 5440\n",
      ">>> images count = 5441\n",
      ">>> images count = 5442\n",
      ">>> images count = 5443\n",
      ">>> images count = 5444\n",
      ">>> images count = 5445\n",
      ">>> images count = 5446\n",
      ">>> images count = 5447\n",
      ">>> images count = 5448\n",
      ">>> images count = 5449\n"
     ]
    },
    {
     "name": "stderr",
     "output_type": "stream",
     "text": [
      "Processing Images:  91%|██████████████████████████████████████████████████▉     | 5451/6000 [01:59<00:12, 45.71image/s]\n",
      "Processing Images:  91%|██████████████████████████████████████████████████▉     | 5456/6000 [02:00<00:12, 43.56image/s]\u001b[A\n",
      " 91%|██████████████████████████████████████████████████████████████████████▉       | 5456/6000 [02:00<00:12, 43.56it/s]\u001b[A"
     ]
    },
    {
     "name": "stdout",
     "output_type": "stream",
     "text": [
      ">>> images count = 5450\n",
      ">>> images count = 5451\n",
      ">>> images count = 5452\n",
      ">>> images count = 5453\n",
      ">>> images count = 5454\n",
      ">>> images count = 5455\n",
      ">>> images count = 5456\n",
      ">>> images count = 5457\n",
      ">>> images count = 5458\n"
     ]
    },
    {
     "name": "stderr",
     "output_type": "stream",
     "text": [
      "Processing Images:  91%|██████████████████████████████████████████████████▉     | 5461/6000 [02:00<00:12, 43.05image/s]\n",
      "Processing Images:  91%|███████████████████████████████████████████████████     | 5466/6000 [02:00<00:12, 42.53image/s]\u001b[A\n",
      " 91%|███████████████████████████████████████████████████████████████████████       | 5466/6000 [02:00<00:12, 42.53it/s]\u001b[A"
     ]
    },
    {
     "name": "stdout",
     "output_type": "stream",
     "text": [
      ">>> images count = 5459\n",
      ">>> images count = 5460\n",
      ">>> images count = 5461\n",
      ">>> images count = 5462\n",
      ">>> images count = 5463\n",
      ">>> images count = 5464\n",
      ">>> images count = 5465\n",
      ">>> images count = 5466\n",
      ">>> images count = 5467\n"
     ]
    },
    {
     "name": "stderr",
     "output_type": "stream",
     "text": [
      "Processing Images:  91%|███████████████████████████████████████████████████     | 5471/6000 [02:00<00:12, 42.66image/s]\n",
      " 91%|███████████████████████████████████████████████████████████████████████       | 5471/6000 [02:00<00:12, 42.66it/s]\u001b[A"
     ]
    },
    {
     "name": "stdout",
     "output_type": "stream",
     "text": [
      ">>> images count = 5468\n",
      ">>> images count = 5469\n",
      ">>> images count = 5470\n",
      ">>> images count = 5471\n",
      ">>> images count = 5472\n",
      ">>> images count = 5473\n",
      ">>> images count = 5474\n",
      ">>> images count = 5475\n"
     ]
    },
    {
     "name": "stderr",
     "output_type": "stream",
     "text": [
      "Processing Images:  91%|███████████████████████████████████████████████████     | 5476/6000 [02:00<00:12, 43.58image/s]\n",
      "Processing Images:  91%|███████████████████████████████████████████████████▏    | 5481/6000 [02:00<00:11, 43.46image/s]\u001b[A\n",
      " 91%|███████████████████████████████████████████████████████████████████████▎      | 5481/6000 [02:00<00:11, 43.50it/s]\u001b[A"
     ]
    },
    {
     "name": "stdout",
     "output_type": "stream",
     "text": [
      ">>> images count = 5476\n",
      ">>> images count = 5477\n",
      ">>> images count = 5478\n",
      ">>> images count = 5479\n",
      ">>> images count = 5480\n",
      ">>> images count = 5481\n",
      ">>> images count = 5482\n",
      ">>> images count = 5483\n",
      ">>> images count = 5484\n",
      ">>> images count = 5485\n"
     ]
    },
    {
     "name": "stderr",
     "output_type": "stream",
     "text": [
      "Processing Images:  91%|███████████████████████████████████████████████████▏    | 5486/6000 [02:00<00:11, 43.62image/s]\n",
      "Processing Images:  92%|███████████████████████████████████████████████████▏    | 5491/6000 [02:00<00:11, 42.91image/s]\u001b[A\n",
      " 92%|███████████████████████████████████████████████████████████████████████▍      | 5491/6000 [02:00<00:11, 42.92it/s]\u001b[A"
     ]
    },
    {
     "name": "stdout",
     "output_type": "stream",
     "text": [
      ">>> images count = 5486\n",
      ">>> images count = 5487\n",
      ">>> images count = 5488\n",
      ">>> images count = 5489\n",
      ">>> images count = 5490\n",
      ">>> images count = 5491\n",
      ">>> images count = 5492\n",
      ">>> images count = 5493\n",
      ">>> images count = 5494\n"
     ]
    },
    {
     "name": "stderr",
     "output_type": "stream",
     "text": [
      "Processing Images:  92%|███████████████████████████████████████████████████▎    | 5496/6000 [02:01<00:11, 42.52image/s]\n",
      "Processing Images:  92%|███████████████████████████████████████████████████▎    | 5501/6000 [02:01<00:11, 41.72image/s]\u001b[A\n",
      " 92%|███████████████████████████████████████████████████████████████████████▌      | 5501/6000 [02:01<00:11, 41.73it/s]\u001b[A"
     ]
    },
    {
     "name": "stdout",
     "output_type": "stream",
     "text": [
      ">>> images count = 5495\n",
      ">>> images count = 5496\n",
      ">>> images count = 5497\n",
      ">>> images count = 5498\n",
      ">>> images count = 5499\n",
      ">>> images count = 5500\n",
      ">>> images count = 5501\n",
      ">>> images count = 5502\n"
     ]
    },
    {
     "name": "stderr",
     "output_type": "stream",
     "text": [
      "Processing Images:  92%|███████████████████████████████████████████████████▍    | 5506/6000 [02:01<00:11, 42.54image/s]\n",
      "Processing Images:  92%|███████████████████████████████████████████████████▍    | 5511/6000 [02:01<00:11, 44.00image/s]\u001b[A\n",
      " 92%|███████████████████████████████████████████████████████████████████████▋      | 5511/6000 [02:01<00:11, 44.00it/s]\u001b[A"
     ]
    },
    {
     "name": "stdout",
     "output_type": "stream",
     "text": [
      ">>> images count = 5503\n",
      ">>> images count = 5504\n",
      ">>> images count = 5505\n",
      ">>> images count = 5506\n",
      ">>> images count = 5507\n",
      ">>> images count = 5508\n",
      ">>> images count = 5509\n",
      ">>> images count = 5510\n",
      ">>> images count = 5511\n",
      ">>> images count = 5512\n"
     ]
    },
    {
     "name": "stderr",
     "output_type": "stream",
     "text": [
      "Processing Images:  92%|███████████████████████████████████████████████████▍    | 5516/6000 [02:01<00:11, 43.65image/s]\n",
      " 92%|███████████████████████████████████████████████████████████████████████▋      | 5516/6000 [02:01<00:11, 43.77it/s]\u001b[A"
     ]
    },
    {
     "name": "stdout",
     "output_type": "stream",
     "text": [
      ">>> images count = 5513\n",
      ">>> images count = 5514\n",
      ">>> images count = 5515\n",
      ">>> images count = 5516\n",
      ">>> images count = 5517\n",
      ">>> images count = 5518\n",
      ">>> images count = 5519\n",
      ">>> images count = 5520\n"
     ]
    },
    {
     "name": "stderr",
     "output_type": "stream",
     "text": [
      "Processing Images:  92%|███████████████████████████████████████████████████▌    | 5521/6000 [02:01<00:11, 43.02image/s]\n",
      "Processing Images:  92%|███████████████████████████████████████████████████▌    | 5526/6000 [02:01<00:10, 44.52image/s]\u001b[A\n",
      "Processing Images:  92%|███████████████████████████████████████████████████▌    | 5531/6000 [02:01<00:10, 45.38image/s]\u001b[A"
     ]
    },
    {
     "name": "stdout",
     "output_type": "stream",
     "text": [
      ">>> images count = 5521\n",
      ">>> images count = 5522\n",
      ">>> images count = 5523\n",
      ">>> images count = 5524\n",
      ">>> images count = 5525\n",
      ">>> images count = 5526\n",
      ">>> images count = 5527\n",
      ">>> images count = 5528\n",
      ">>> images count = 5529\n",
      ">>> images count = 5530\n"
     ]
    },
    {
     "name": "stderr",
     "output_type": "stream",
     "text": [
      "\n",
      "Processing Images:  92%|███████████████████████████████████████████████████▋    | 5536/6000 [02:01<00:10, 42.72image/s]\u001b[A\n",
      " 92%|███████████████████████████████████████████████████████████████████████▉      | 5536/6000 [02:01<00:10, 42.70it/s]\u001b[A"
     ]
    },
    {
     "name": "stdout",
     "output_type": "stream",
     "text": [
      ">>> images count = 5531\n",
      ">>> images count = 5532\n",
      ">>> images count = 5533\n",
      ">>> images count = 5534\n",
      ">>> images count = 5535\n",
      ">>> images count = 5536\n",
      ">>> images count = 5537\n",
      ">>> images count = 5538\n"
     ]
    },
    {
     "name": "stderr",
     "output_type": "stream",
     "text": [
      "Processing Images:  92%|███████████████████████████████████████████████████▋    | 5541/6000 [02:02<00:10, 42.17image/s]\n",
      "Processing Images:  92%|███████████████████████████████████████████████████▊    | 5546/6000 [02:02<00:10, 43.31image/s]\u001b[A\n",
      " 92%|████████████████████████████████████████████████████████████████████████      | 5546/6000 [02:02<00:10, 43.30it/s]\u001b[A"
     ]
    },
    {
     "name": "stdout",
     "output_type": "stream",
     "text": [
      ">>> images count = 5539\n",
      ">>> images count = 5540\n",
      ">>> images count = 5541\n",
      ">>> images count = 5542\n",
      ">>> images count = 5543\n",
      ">>> images count = 5544\n",
      ">>> images count = 5545\n",
      ">>> images count = 5546\n",
      ">>> images count = 5547\n"
     ]
    },
    {
     "name": "stderr",
     "output_type": "stream",
     "text": [
      "Processing Images:  93%|███████████████████████████████████████████████████▊    | 5551/6000 [02:02<00:10, 43.52image/s]\n",
      "Processing Images:  93%|███████████████████████████████████████████████████▊    | 5556/6000 [02:02<00:10, 43.15image/s]\u001b[A\n",
      " 93%|████████████████████████████████████████████████████████████████████████▏     | 5556/6000 [02:02<00:10, 43.15it/s]\u001b[A"
     ]
    },
    {
     "name": "stdout",
     "output_type": "stream",
     "text": [
      ">>> images count = 5548\n",
      ">>> images count = 5549\n",
      ">>> images count = 5550\n",
      ">>> images count = 5551\n",
      ">>> images count = 5552\n",
      ">>> images count = 5553\n",
      ">>> images count = 5554\n",
      ">>> images count = 5555\n",
      ">>> images count = 5556\n",
      ">>> images count = 5557\n"
     ]
    },
    {
     "name": "stderr",
     "output_type": "stream",
     "text": [
      "Processing Images:  93%|███████████████████████████████████████████████████▉    | 5562/6000 [02:02<00:09, 45.50image/s]\n",
      "Processing Images:  93%|███████████████████████████████████████████████████▉    | 5567/6000 [02:02<00:09, 46.69image/s]\u001b[A\n",
      " 93%|████████████████████████████████████████████████████████████████████████▎     | 5567/6000 [02:02<00:09, 46.68it/s]\u001b[A"
     ]
    },
    {
     "name": "stdout",
     "output_type": "stream",
     "text": [
      ">>> images count = 5558\n",
      ">>> images count = 5559\n",
      ">>> images count = 5560\n",
      ">>> images count = 5561\n",
      ">>> images count = 5562\n",
      ">>> images count = 5563\n",
      ">>> images count = 5564\n",
      ">>> images count = 5565\n",
      ">>> images count = 5566\n",
      ">>> images count = 5567\n",
      ">>> images count = 5568\n"
     ]
    },
    {
     "name": "stderr",
     "output_type": "stream",
     "text": [
      "Processing Images:  93%|████████████████████████████████████████████████████    | 5572/6000 [02:02<00:09, 44.11image/s]\n",
      " 93%|████████████████████████████████████████████████████████████████████████▍     | 5572/6000 [02:02<00:09, 44.10it/s]\u001b[A"
     ]
    },
    {
     "name": "stdout",
     "output_type": "stream",
     "text": [
      ">>> images count = 5569\n",
      ">>> images count = 5570\n",
      ">>> images count = 5571\n",
      ">>> images count = 5572\n",
      ">>> images count = 5573\n",
      ">>> images count = 5574\n",
      ">>> images count = 5575\n",
      ">>> images count = 5576\n"
     ]
    },
    {
     "name": "stderr",
     "output_type": "stream",
     "text": [
      "Processing Images:  93%|████████████████████████████████████████████████████    | 5577/6000 [02:02<00:09, 43.35image/s]\n",
      "Processing Images:  93%|████████████████████████████████████████████████████    | 5582/6000 [02:03<00:09, 42.13image/s]\u001b[A\n",
      " 93%|████████████████████████████████████████████████████████████████████████▌     | 5582/6000 [02:03<00:09, 42.13it/s]\u001b[A"
     ]
    },
    {
     "name": "stdout",
     "output_type": "stream",
     "text": [
      ">>> images count = 5577\n",
      ">>> images count = 5578\n",
      ">>> images count = 5579\n",
      ">>> images count = 5580\n",
      ">>> images count = 5581\n",
      ">>> images count = 5582\n",
      ">>> images count = 5583\n",
      ">>> images count = 5584\n",
      ">>> images count = 5585\n",
      ">>> images count = 5586\n"
     ]
    },
    {
     "name": "stderr",
     "output_type": "stream",
     "text": [
      "Processing Images:  93%|████████████████████████████████████████████████████▏   | 5587/6000 [02:03<00:09, 42.43image/s]\n",
      "Processing Images:  93%|████████████████████████████████████████████████████▏   | 5592/6000 [02:03<00:09, 43.83image/s]\u001b[A\n",
      " 93%|████████████████████████████████████████████████████████████████████████▋     | 5592/6000 [02:03<00:09, 43.83it/s]\u001b[A"
     ]
    },
    {
     "name": "stdout",
     "output_type": "stream",
     "text": [
      ">>> images count = 5587\n",
      ">>> images count = 5588\n",
      ">>> images count = 5589\n",
      ">>> images count = 5590\n",
      ">>> images count = 5591\n",
      ">>> images count = 5592\n",
      ">>> images count = 5593\n",
      ">>> images count = 5594\n",
      ">>> images count = 5595\n",
      ">>> images count = 5596\n"
     ]
    },
    {
     "name": "stderr",
     "output_type": "stream",
     "text": [
      "Processing Images:  93%|████████████████████████████████████████████████████▏   | 5597/6000 [02:03<00:09, 43.94image/s]\n",
      "Processing Images:  93%|████████████████████████████████████████████████████▎   | 5602/6000 [02:03<00:09, 43.22image/s]\u001b[A\n",
      " 93%|████████████████████████████████████████████████████████████████████████▊     | 5602/6000 [02:03<00:09, 43.22it/s]\u001b[A"
     ]
    },
    {
     "name": "stdout",
     "output_type": "stream",
     "text": [
      ">>> images count = 5597\n",
      ">>> images count = 5598\n",
      ">>> images count = 5599\n",
      ">>> images count = 5600\n",
      ">>> images count = 5601\n",
      ">>> images count = 5602\n",
      ">>> images count = 5603\n",
      ">>> images count = 5604\n",
      ">>> images count = 5605\n"
     ]
    },
    {
     "name": "stderr",
     "output_type": "stream",
     "text": [
      "Processing Images:  93%|████████████████████████████████████████████████████▎   | 5607/6000 [02:03<00:09, 42.51image/s]\n",
      "Processing Images:  94%|████████████████████████████████████████████████████▍   | 5612/6000 [02:03<00:09, 41.77image/s]\u001b[A\n",
      " 94%|████████████████████████████████████████████████████████████████████████▉     | 5612/6000 [02:03<00:09, 41.77it/s]\u001b[A"
     ]
    },
    {
     "name": "stdout",
     "output_type": "stream",
     "text": [
      ">>> images count = 5606\n",
      ">>> images count = 5607\n",
      ">>> images count = 5608\n",
      ">>> images count = 5609\n",
      ">>> images count = 5610\n",
      ">>> images count = 5611\n",
      ">>> images count = 5612\n",
      ">>> images count = 5613\n",
      ">>> images count = 5614\n",
      ">>> images count = 5615\n"
     ]
    },
    {
     "name": "stderr",
     "output_type": "stream",
     "text": [
      "Processing Images:  94%|████████████████████████████████████████████████████▍   | 5617/6000 [02:03<00:08, 43.68image/s]\n",
      "Processing Images:  94%|████████████████████████████████████████████████████▍   | 5622/6000 [02:03<00:08, 44.53image/s]\u001b[A\n",
      " 94%|█████████████████████████████████████████████████████████████████████████     | 5622/6000 [02:03<00:08, 44.65it/s]\u001b[A"
     ]
    },
    {
     "name": "stdout",
     "output_type": "stream",
     "text": [
      ">>> images count = 5616\n",
      ">>> images count = 5617\n",
      ">>> images count = 5618\n",
      ">>> images count = 5619\n",
      ">>> images count = 5620\n",
      ">>> images count = 5621\n",
      ">>> images count = 5622\n",
      ">>> images count = 5623\n",
      ">>> images count = 5624\n",
      ">>> images count = 5625\n"
     ]
    },
    {
     "name": "stderr",
     "output_type": "stream",
     "text": [
      "Processing Images:  94%|████████████████████████████████████████████████████▌   | 5627/6000 [02:04<00:08, 44.91image/s]\n",
      "Processing Images:  94%|████████████████████████████████████████████████████▌   | 5632/6000 [02:04<00:08, 42.42image/s]\u001b[A\n",
      " 94%|█████████████████████████████████████████████████████████████████████████▏    | 5632/6000 [02:04<00:08, 42.40it/s]\u001b[A"
     ]
    },
    {
     "name": "stdout",
     "output_type": "stream",
     "text": [
      ">>> images count = 5626\n",
      ">>> images count = 5627\n",
      ">>> images count = 5628\n",
      ">>> images count = 5629\n",
      ">>> images count = 5630\n",
      ">>> images count = 5631\n",
      ">>> images count = 5632\n",
      ">>> images count = 5633\n",
      ">>> images count = 5634\n"
     ]
    },
    {
     "name": "stderr",
     "output_type": "stream",
     "text": [
      "Processing Images:  94%|████████████████████████████████████████████████████▌   | 5637/6000 [02:04<00:08, 42.18image/s]\n",
      "Processing Images:  94%|████████████████████████████████████████████████████▋   | 5642/6000 [02:04<00:08, 42.76image/s]\u001b[A\n",
      " 94%|█████████████████████████████████████████████████████████████████████████▎    | 5642/6000 [02:04<00:08, 42.69it/s]\u001b[A"
     ]
    },
    {
     "name": "stdout",
     "output_type": "stream",
     "text": [
      ">>> images count = 5635\n",
      ">>> images count = 5636\n",
      ">>> images count = 5637\n",
      ">>> images count = 5638\n",
      ">>> images count = 5639\n",
      ">>> images count = 5640\n",
      ">>> images count = 5641\n",
      ">>> images count = 5642\n",
      ">>> images count = 5643\n",
      ">>> images count = 5644\n"
     ]
    },
    {
     "name": "stderr",
     "output_type": "stream",
     "text": [
      "Processing Images:  94%|████████████████████████████████████████████████████▋   | 5647/6000 [02:04<00:08, 42.84image/s]\n",
      "Processing Images:  94%|████████████████████████████████████████████████████▊   | 5652/6000 [02:04<00:07, 43.69image/s]\u001b[A\n",
      " 94%|█████████████████████████████████████████████████████████████████████████▍    | 5652/6000 [02:04<00:07, 43.70it/s]\u001b[A"
     ]
    },
    {
     "name": "stdout",
     "output_type": "stream",
     "text": [
      ">>> images count = 5645\n",
      ">>> images count = 5646\n",
      ">>> images count = 5647\n",
      ">>> images count = 5648\n",
      ">>> images count = 5649\n",
      ">>> images count = 5650\n",
      ">>> images count = 5651\n",
      ">>> images count = 5652\n",
      ">>> images count = 5653\n",
      ">>> images count = 5654\n"
     ]
    },
    {
     "name": "stderr",
     "output_type": "stream",
     "text": [
      "Processing Images:  94%|████████████████████████████████████████████████████▊   | 5658/6000 [02:04<00:07, 46.40image/s]\n",
      "Processing Images:  94%|████████████████████████████████████████████████████▊   | 5663/6000 [02:04<00:07, 46.45image/s]\u001b[A\n",
      " 94%|█████████████████████████████████████████████████████████████████████████▌    | 5663/6000 [02:04<00:07, 46.45it/s]\u001b[A"
     ]
    },
    {
     "name": "stdout",
     "output_type": "stream",
     "text": [
      ">>> images count = 5655\n",
      ">>> images count = 5656\n",
      ">>> images count = 5657\n",
      ">>> images count = 5658\n",
      ">>> images count = 5659\n",
      ">>> images count = 5660\n",
      ">>> images count = 5661\n",
      ">>> images count = 5662\n",
      ">>> images count = 5663\n",
      ">>> images count = 5664\n"
     ]
    },
    {
     "name": "stderr",
     "output_type": "stream",
     "text": [
      "Processing Images:  94%|████████████████████████████████████████████████████▉   | 5668/6000 [02:04<00:07, 43.99image/s]\n",
      " 94%|█████████████████████████████████████████████████████████████████████████▋    | 5668/6000 [02:04<00:07, 43.99it/s]\u001b[A"
     ]
    },
    {
     "name": "stdout",
     "output_type": "stream",
     "text": [
      ">>> images count = 5665\n",
      ">>> images count = 5666\n",
      ">>> images count = 5667\n",
      ">>> images count = 5668\n",
      ">>> images count = 5669\n",
      ">>> images count = 5670\n",
      ">>> images count = 5671\n",
      ">>> images count = 5672\n"
     ]
    },
    {
     "name": "stderr",
     "output_type": "stream",
     "text": [
      "Processing Images:  95%|████████████████████████████████████████████████████▉   | 5673/6000 [02:05<00:07, 42.64image/s]\n",
      "Processing Images:  95%|████████████████████████████████████████████████████▉   | 5678/6000 [02:05<00:07, 41.88image/s]\u001b[A\n",
      " 95%|█████████████████████████████████████████████████████████████████████████▊    | 5678/6000 [02:05<00:07, 41.90it/s]\u001b[A"
     ]
    },
    {
     "name": "stdout",
     "output_type": "stream",
     "text": [
      ">>> images count = 5673\n",
      ">>> images count = 5674\n",
      ">>> images count = 5675\n",
      ">>> images count = 5676\n",
      ">>> images count = 5677\n",
      ">>> images count = 5678\n",
      ">>> images count = 5679\n",
      ">>> images count = 5680\n",
      ">>> images count = 5681\n"
     ]
    },
    {
     "name": "stderr",
     "output_type": "stream",
     "text": [
      "Processing Images:  95%|█████████████████████████████████████████████████████   | 5683/6000 [02:05<00:07, 42.78image/s]\n",
      "Processing Images:  95%|█████████████████████████████████████████████████████   | 5688/6000 [02:05<00:07, 43.94image/s]\u001b[A\n",
      " 95%|█████████████████████████████████████████████████████████████████████████▉    | 5688/6000 [02:05<00:07, 43.94it/s]\u001b[A"
     ]
    },
    {
     "name": "stdout",
     "output_type": "stream",
     "text": [
      ">>> images count = 5682\n",
      ">>> images count = 5683\n",
      ">>> images count = 5684\n",
      ">>> images count = 5685\n",
      ">>> images count = 5686\n",
      ">>> images count = 5687\n",
      ">>> images count = 5688\n",
      ">>> images count = 5689\n",
      ">>> images count = 5690\n",
      ">>> images count = 5691\n",
      ">>> images count = 5692\n"
     ]
    },
    {
     "name": "stderr",
     "output_type": "stream",
     "text": [
      "Processing Images:  95%|█████████████████████████████████████████████████████▏  | 5693/6000 [02:05<00:06, 44.76image/s]\n",
      "Processing Images:  95%|█████████████████████████████████████████████████████▏  | 5698/6000 [02:05<00:06, 45.53image/s]\u001b[A\n",
      "Processing Images:  95%|█████████████████████████████████████████████████████▏  | 5703/6000 [02:05<00:06, 45.74image/s]\u001b[A"
     ]
    },
    {
     "name": "stdout",
     "output_type": "stream",
     "text": [
      ">>> images count = 5693\n",
      ">>> images count = 5694\n",
      ">>> images count = 5695\n",
      ">>> images count = 5696\n",
      ">>> images count = 5697\n",
      ">>> images count = 5698\n",
      ">>> images count = 5699\n",
      ">>> images count = 5700\n",
      ">>> images count = 5701\n",
      ">>> images count = 5702\n"
     ]
    },
    {
     "name": "stderr",
     "output_type": "stream",
     "text": [
      "\n",
      "Processing Images:  95%|█████████████████████████████████████████████████████▎  | 5708/6000 [02:05<00:06, 43.81image/s]\u001b[A\n",
      " 95%|██████████████████████████████████████████████████████████████████████████▏   | 5708/6000 [02:05<00:06, 43.83it/s]\u001b[A"
     ]
    },
    {
     "name": "stdout",
     "output_type": "stream",
     "text": [
      ">>> images count = 5703\n",
      ">>> images count = 5704\n",
      ">>> images count = 5705\n",
      ">>> images count = 5706\n",
      ">>> images count = 5707\n",
      ">>> images count = 5708\n",
      ">>> images count = 5709\n",
      ">>> images count = 5710\n",
      ">>> images count = 5711\n",
      ">>> images count = 5712\n"
     ]
    },
    {
     "name": "stderr",
     "output_type": "stream",
     "text": [
      "Processing Images:  95%|█████████████████████████████████████████████████████▎  | 5713/6000 [02:06<00:06, 44.37image/s]\n",
      "Processing Images:  95%|█████████████████████████████████████████████████████▎  | 5718/6000 [02:06<00:06, 42.45image/s]\u001b[A\n",
      " 95%|██████████████████████████████████████████████████████████████████████████▎   | 5718/6000 [02:06<00:06, 42.46it/s]\u001b[A"
     ]
    },
    {
     "name": "stdout",
     "output_type": "stream",
     "text": [
      ">>> images count = 5713\n",
      ">>> images count = 5714\n",
      ">>> images count = 5715\n",
      ">>> images count = 5716\n",
      ">>> images count = 5717\n",
      ">>> images count = 5718\n",
      ">>> images count = 5719\n",
      ">>> images count = 5720\n"
     ]
    },
    {
     "name": "stderr",
     "output_type": "stream",
     "text": [
      "Processing Images:  95%|█████████████████████████████████████████████████████▍  | 5723/6000 [02:06<00:06, 41.77image/s]\n",
      "Processing Images:  95%|█████████████████████████████████████████████████████▍  | 5728/6000 [02:06<00:06, 41.44image/s]\u001b[A\n",
      " 95%|██████████████████████████████████████████████████████████████████████████▍   | 5728/6000 [02:06<00:06, 41.44it/s]\u001b[A"
     ]
    },
    {
     "name": "stdout",
     "output_type": "stream",
     "text": [
      ">>> images count = 5721\n",
      ">>> images count = 5722\n",
      ">>> images count = 5723\n",
      ">>> images count = 5724\n",
      ">>> images count = 5725\n",
      ">>> images count = 5726\n",
      ">>> images count = 5727\n",
      ">>> images count = 5728\n",
      ">>> images count = 5729\n"
     ]
    },
    {
     "name": "stderr",
     "output_type": "stream",
     "text": [
      "Processing Images:  96%|█████████████████████████████████████████████████████▌  | 5733/6000 [02:06<00:06, 43.20image/s]\n",
      "Processing Images:  96%|█████████████████████████████████████████████████████▌  | 5738/6000 [02:06<00:06, 43.11image/s]\u001b[A\n",
      " 96%|██████████████████████████████████████████████████████████████████████████▌   | 5738/6000 [02:06<00:06, 43.14it/s]\u001b[A"
     ]
    },
    {
     "name": "stdout",
     "output_type": "stream",
     "text": [
      ">>> images count = 5730\n",
      ">>> images count = 5731\n",
      ">>> images count = 5732\n",
      ">>> images count = 5733\n",
      ">>> images count = 5734\n",
      ">>> images count = 5735\n",
      ">>> images count = 5736\n",
      ">>> images count = 5737\n",
      ">>> images count = 5738\n"
     ]
    },
    {
     "name": "stderr",
     "output_type": "stream",
     "text": [
      "Processing Images:  96%|█████████████████████████████████████████████████████▌  | 5743/6000 [02:06<00:05, 44.90image/s]\n",
      "Processing Images:  96%|█████████████████████████████████████████████████████▋  | 5748/6000 [02:06<00:05, 44.49image/s]\u001b[A"
     ]
    },
    {
     "name": "stdout",
     "output_type": "stream",
     "text": [
      ">>> images count = 5739\n",
      ">>> images count = 5740\n",
      ">>> images count = 5741\n",
      ">>> images count = 5742\n",
      ">>> images count = 5743\n",
      ">>> images count = 5744\n",
      ">>> images count = 5745\n",
      ">>> images count = 5746\n",
      ">>> images count = 5747\n"
     ]
    },
    {
     "name": "stderr",
     "output_type": "stream",
     "text": [
      "\n",
      "Processing Images:  96%|█████████████████████████████████████████████████████▋  | 5753/6000 [02:06<00:05, 43.65image/s]\u001b[A\n",
      " 96%|██████████████████████████████████████████████████████████████████████████▊   | 5753/6000 [02:06<00:05, 43.66it/s]\u001b[A"
     ]
    },
    {
     "name": "stdout",
     "output_type": "stream",
     "text": [
      ">>> images count = 5748\n",
      ">>> images count = 5749\n",
      ">>> images count = 5750\n",
      ">>> images count = 5751\n",
      ">>> images count = 5752\n",
      ">>> images count = 5753\n",
      ">>> images count = 5754\n",
      ">>> images count = 5755\n",
      ">>> images count = 5756\n"
     ]
    },
    {
     "name": "stderr",
     "output_type": "stream",
     "text": [
      "Processing Images:  96%|█████████████████████████████████████████████████████▋  | 5758/6000 [02:07<00:05, 42.39image/s]\n",
      "Processing Images:  96%|█████████████████████████████████████████████████████▊  | 5763/6000 [02:07<00:05, 41.43image/s]\u001b[A\n",
      " 96%|██████████████████████████████████████████████████████████████████████████▉   | 5763/6000 [02:07<00:05, 41.44it/s]\u001b[A"
     ]
    },
    {
     "name": "stdout",
     "output_type": "stream",
     "text": [
      ">>> images count = 5757\n",
      ">>> images count = 5758\n",
      ">>> images count = 5759\n",
      ">>> images count = 5760\n",
      ">>> images count = 5761\n",
      ">>> images count = 5762\n",
      ">>> images count = 5763\n",
      ">>> images count = 5764\n"
     ]
    },
    {
     "name": "stderr",
     "output_type": "stream",
     "text": [
      "Processing Images:  96%|█████████████████████████████████████████████████████▊  | 5768/6000 [02:07<00:05, 40.93image/s]\n",
      " 96%|██████████████████████████████████████████████████████████████████████████▉   | 5768/6000 [02:07<00:05, 40.93it/s]\u001b[A"
     ]
    },
    {
     "name": "stdout",
     "output_type": "stream",
     "text": [
      ">>> images count = 5765\n",
      ">>> images count = 5766\n",
      ">>> images count = 5767\n",
      ">>> images count = 5768\n",
      ">>> images count = 5769\n",
      ">>> images count = 5770\n",
      ">>> images count = 5771\n",
      ">>> images count = 5772\n"
     ]
    },
    {
     "name": "stderr",
     "output_type": "stream",
     "text": [
      "Processing Images:  96%|█████████████████████████████████████████████████████▉  | 5773/6000 [02:07<00:05, 41.85image/s]\n",
      "Processing Images:  96%|█████████████████████████████████████████████████████▉  | 5778/6000 [02:07<00:05, 43.18image/s]\u001b[A\n",
      " 96%|███████████████████████████████████████████████████████████████████████████   | 5778/6000 [02:07<00:05, 43.18it/s]\u001b[A"
     ]
    },
    {
     "name": "stdout",
     "output_type": "stream",
     "text": [
      ">>> images count = 5773\n",
      ">>> images count = 5774\n",
      ">>> images count = 5775\n",
      ">>> images count = 5776\n",
      ">>> images count = 5777\n",
      ">>> images count = 5778\n",
      ">>> images count = 5779\n",
      ">>> images count = 5780\n",
      ">>> images count = 5781\n",
      ">>> images count = 5782\n"
     ]
    },
    {
     "name": "stderr",
     "output_type": "stream",
     "text": [
      "Processing Images:  96%|█████████████████████████████████████████████████████▉  | 5783/6000 [02:07<00:04, 44.35image/s]\n",
      "Processing Images:  96%|██████████████████████████████████████████████████████  | 5789/6000 [02:07<00:04, 47.58image/s]\u001b[A\n",
      " 96%|███████████████████████████████████████████████████████████████████████████▎  | 5789/6000 [02:07<00:04, 47.58it/s]\u001b[A"
     ]
    },
    {
     "name": "stdout",
     "output_type": "stream",
     "text": [
      ">>> images count = 5783\n",
      ">>> images count = 5784\n",
      ">>> images count = 5785\n",
      ">>> images count = 5786\n",
      ">>> images count = 5787\n",
      ">>> images count = 5788\n",
      ">>> images count = 5789\n",
      ">>> images count = 5790\n",
      ">>> images count = 5791\n",
      ">>> images count = 5792\n",
      ">>> images count = 5793\n"
     ]
    },
    {
     "name": "stderr",
     "output_type": "stream",
     "text": [
      "Processing Images:  97%|██████████████████████████████████████████████████████  | 5794/6000 [02:07<00:04, 45.46image/s]\n",
      "Processing Images:  97%|██████████████████████████████████████████████████████  | 5799/6000 [02:07<00:04, 45.06image/s]\u001b[A\n",
      " 97%|███████████████████████████████████████████████████████████████████████████▍  | 5799/6000 [02:07<00:04, 45.06it/s]\u001b[A"
     ]
    },
    {
     "name": "stdout",
     "output_type": "stream",
     "text": [
      ">>> images count = 5794\n",
      ">>> images count = 5795\n",
      ">>> images count = 5796\n",
      ">>> images count = 5797\n",
      ">>> images count = 5798\n",
      ">>> images count = 5799\n",
      ">>> images count = 5800\n",
      ">>> images count = 5801\n",
      ">>> images count = 5802\n",
      ">>> images count = 5803\n"
     ]
    },
    {
     "name": "stderr",
     "output_type": "stream",
     "text": [
      "Processing Images:  97%|██████████████████████████████████████████████████████▏ | 5804/6000 [02:08<00:04, 43.44image/s]\n",
      "Processing Images:  97%|██████████████████████████████████████████████████████▏ | 5809/6000 [02:08<00:04, 43.35image/s]\u001b[A\n",
      " 97%|███████████████████████████████████████████████████████████████████████████▌  | 5809/6000 [02:08<00:04, 43.46it/s]\u001b[A"
     ]
    },
    {
     "name": "stdout",
     "output_type": "stream",
     "text": [
      ">>> images count = 5804\n",
      ">>> images count = 5805\n",
      ">>> images count = 5806\n",
      ">>> images count = 5807\n",
      ">>> images count = 5808\n",
      ">>> images count = 5809\n",
      ">>> images count = 5810\n",
      ">>> images count = 5811\n",
      ">>> images count = 5812\n"
     ]
    },
    {
     "name": "stderr",
     "output_type": "stream",
     "text": [
      "Processing Images:  97%|██████████████████████████████████████████████████████▎ | 5814/6000 [02:08<00:04, 41.56image/s]\n",
      "Processing Images:  97%|██████████████████████████████████████████████████████▎ | 5820/6000 [02:08<00:04, 44.38image/s]\u001b[A\n",
      " 97%|███████████████████████████████████████████████████████████████████████████▋  | 5820/6000 [02:08<00:04, 44.36it/s]\u001b[A"
     ]
    },
    {
     "name": "stdout",
     "output_type": "stream",
     "text": [
      ">>> images count = 5813\n",
      ">>> images count = 5814\n",
      ">>> images count = 5815\n",
      ">>> images count = 5816\n",
      ">>> images count = 5817\n",
      ">>> images count = 5818\n",
      ">>> images count = 5819\n",
      ">>> images count = 5820\n",
      ">>> images count = 5821\n",
      ">>> images count = 5822\n",
      ">>> images count = 5823\n"
     ]
    },
    {
     "name": "stderr",
     "output_type": "stream",
     "text": [
      "Processing Images:  97%|██████████████████████████████████████████████████████▍ | 5826/6000 [02:08<00:03, 46.52image/s]\n",
      "Processing Images:  97%|██████████████████████████████████████████████████████▍ | 5831/6000 [02:08<00:03, 45.50image/s]\u001b[A\n",
      " 97%|███████████████████████████████████████████████████████████████████████████▊  | 5831/6000 [02:08<00:03, 45.48it/s]\u001b[A"
     ]
    },
    {
     "name": "stdout",
     "output_type": "stream",
     "text": [
      ">>> images count = 5824\n",
      ">>> images count = 5825\n",
      ">>> images count = 5826\n",
      ">>> images count = 5827\n",
      ">>> images count = 5828\n",
      ">>> images count = 5829\n",
      ">>> images count = 5830\n",
      ">>> images count = 5831\n",
      ">>> images count = 5832\n",
      ">>> images count = 5833\n",
      ">>> images count = 5834\n"
     ]
    },
    {
     "name": "stderr",
     "output_type": "stream",
     "text": [
      "Processing Images:  97%|██████████████████████████████████████████████████████▍ | 5836/6000 [02:08<00:03, 45.06image/s]\n",
      "Processing Images:  97%|██████████████████████████████████████████████████████▌ | 5841/6000 [02:08<00:03, 44.83image/s]\u001b[A\n",
      " 97%|███████████████████████████████████████████████████████████████████████████▉  | 5841/6000 [02:08<00:03, 44.83it/s]\u001b[A"
     ]
    },
    {
     "name": "stdout",
     "output_type": "stream",
     "text": [
      ">>> images count = 5835\n",
      ">>> images count = 5836\n",
      ">>> images count = 5837\n",
      ">>> images count = 5838\n",
      ">>> images count = 5839\n",
      ">>> images count = 5840\n",
      ">>> images count = 5841\n",
      ">>> images count = 5842\n",
      ">>> images count = 5843\n"
     ]
    },
    {
     "name": "stderr",
     "output_type": "stream",
     "text": [
      "Processing Images:  97%|██████████████████████████████████████████████████████▌ | 5846/6000 [02:09<00:03, 44.29image/s]\n",
      "Processing Images:  98%|██████████████████████████████████████████████████████▌ | 5851/6000 [02:09<00:03, 45.44image/s]\u001b[A\n",
      " 98%|████████████████████████████████████████████████████████████████████████████  | 5851/6000 [02:09<00:03, 45.44it/s]\u001b[A"
     ]
    },
    {
     "name": "stdout",
     "output_type": "stream",
     "text": [
      ">>> images count = 5844\n",
      ">>> images count = 5845\n",
      ">>> images count = 5846\n",
      ">>> images count = 5847\n",
      ">>> images count = 5848\n",
      ">>> images count = 5849\n",
      ">>> images count = 5850\n",
      ">>> images count = 5851\n",
      ">>> images count = 5852\n",
      ">>> images count = 5853\n"
     ]
    },
    {
     "name": "stderr",
     "output_type": "stream",
     "text": [
      "Processing Images:  98%|██████████████████████████████████████████████████████▋ | 5856/6000 [02:09<00:03, 44.41image/s]\n",
      "Processing Images:  98%|██████████████████████████████████████████████████████▋ | 5861/6000 [02:09<00:03, 45.03image/s]\u001b[A\n",
      " 98%|████████████████████████████████████████████████████████████████████████████▏ | 5861/6000 [02:09<00:03, 45.03it/s]\u001b[A"
     ]
    },
    {
     "name": "stdout",
     "output_type": "stream",
     "text": [
      ">>> images count = 5854\n",
      ">>> images count = 5855\n",
      ">>> images count = 5856\n",
      ">>> images count = 5857\n",
      ">>> images count = 5858\n",
      ">>> images count = 5859\n",
      ">>> images count = 5860\n",
      ">>> images count = 5861\n",
      ">>> images count = 5862\n",
      ">>> images count = 5863\n",
      ">>> images count = 5864\n"
     ]
    },
    {
     "name": "stderr",
     "output_type": "stream",
     "text": [
      "Processing Images:  98%|██████████████████████████████████████████████████████▋ | 5866/6000 [02:09<00:03, 43.54image/s]\n",
      "Processing Images:  98%|██████████████████████████████████████████████████████▊ | 5871/6000 [02:09<00:02, 44.52image/s]\u001b[A\n",
      " 98%|████████████████████████████████████████████████████████████████████████████▎ | 5871/6000 [02:09<00:02, 44.52it/s]\u001b[A"
     ]
    },
    {
     "name": "stdout",
     "output_type": "stream",
     "text": [
      ">>> images count = 5865\n",
      ">>> images count = 5866\n",
      ">>> images count = 5867\n",
      ">>> images count = 5868\n",
      ">>> images count = 5869\n",
      ">>> images count = 5870\n",
      ">>> images count = 5871\n",
      ">>> images count = 5872\n",
      ">>> images count = 5873\n"
     ]
    },
    {
     "name": "stderr",
     "output_type": "stream",
     "text": [
      "Processing Images:  98%|██████████████████████████████████████████████████████▊ | 5876/6000 [02:09<00:02, 44.19image/s]\n",
      "Processing Images:  98%|██████████████████████████████████████████████████████▉ | 5881/6000 [02:09<00:02, 45.07image/s]\u001b[A\n",
      " 98%|████████████████████████████████████████████████████████████████████████████▍ | 5881/6000 [02:09<00:02, 45.07it/s]\u001b[A"
     ]
    },
    {
     "name": "stdout",
     "output_type": "stream",
     "text": [
      ">>> images count = 5874\n",
      ">>> images count = 5875\n",
      ">>> images count = 5876\n",
      ">>> images count = 5877\n",
      ">>> images count = 5878\n",
      ">>> images count = 5879\n",
      ">>> images count = 5880\n",
      ">>> images count = 5881\n",
      ">>> images count = 5882\n",
      ">>> images count = 5883\n"
     ]
    },
    {
     "name": "stderr",
     "output_type": "stream",
     "text": [
      "Processing Images:  98%|██████████████████████████████████████████████████████▉ | 5886/6000 [02:09<00:02, 43.92image/s]\n",
      "Processing Images:  98%|██████████████████████████████████████████████████████▉ | 5891/6000 [02:10<00:02, 42.66image/s]\u001b[A\n",
      " 98%|████████████████████████████████████████████████████████████████████████████▌ | 5891/6000 [02:10<00:02, 42.66it/s]\u001b[A"
     ]
    },
    {
     "name": "stdout",
     "output_type": "stream",
     "text": [
      ">>> images count = 5884\n",
      ">>> images count = 5885\n",
      ">>> images count = 5886\n",
      ">>> images count = 5887\n",
      ">>> images count = 5888\n",
      ">>> images count = 5889\n",
      ">>> images count = 5890\n",
      ">>> images count = 5891\n",
      ">>> images count = 5892\n"
     ]
    },
    {
     "name": "stderr",
     "output_type": "stream",
     "text": [
      "Processing Images:  98%|███████████████████████████████████████████████████████ | 5896/6000 [02:10<00:02, 43.32image/s]\n",
      "Processing Images:  98%|███████████████████████████████████████████████████████ | 5901/6000 [02:10<00:02, 44.14image/s]\u001b[A\n",
      " 98%|████████████████████████████████████████████████████████████████████████████▋ | 5901/6000 [02:10<00:02, 44.14it/s]\u001b[A"
     ]
    },
    {
     "name": "stdout",
     "output_type": "stream",
     "text": [
      ">>> images count = 5893\n",
      ">>> images count = 5894\n",
      ">>> images count = 5895\n",
      ">>> images count = 5896\n",
      ">>> images count = 5897\n",
      ">>> images count = 5898\n",
      ">>> images count = 5899\n",
      ">>> images count = 5900\n",
      ">>> images count = 5901\n",
      ">>> images count = 5902\n"
     ]
    },
    {
     "name": "stderr",
     "output_type": "stream",
     "text": [
      "Processing Images:  98%|███████████████████████████████████████████████████████ | 5906/6000 [02:10<00:02, 43.76image/s]\n",
      " 98%|████████████████████████████████████████████████████████████████████████████▊ | 5906/6000 [02:10<00:02, 43.76it/s]\u001b[A"
     ]
    },
    {
     "name": "stdout",
     "output_type": "stream",
     "text": [
      ">>> images count = 5903\n",
      ">>> images count = 5904\n",
      ">>> images count = 5905\n",
      ">>> images count = 5906\n",
      ">>> images count = 5907\n",
      ">>> images count = 5908\n",
      ">>> images count = 5909\n",
      ">>> images count = 5910\n"
     ]
    },
    {
     "name": "stderr",
     "output_type": "stream",
     "text": [
      "Processing Images:  99%|███████████████████████████████████████████████████████▏| 5911/6000 [02:10<00:02, 43.45image/s]\n",
      "Processing Images:  99%|███████████████████████████████████████████████████████▏| 5916/6000 [02:10<00:01, 44.42image/s]\u001b[A\n",
      " 99%|████████████████████████████████████████████████████████████████████████████▉ | 5916/6000 [02:10<00:01, 44.42it/s]\u001b[A"
     ]
    },
    {
     "name": "stdout",
     "output_type": "stream",
     "text": [
      ">>> images count = 5911\n",
      ">>> images count = 5912\n",
      ">>> images count = 5913\n",
      ">>> images count = 5914\n",
      ">>> images count = 5915\n",
      ">>> images count = 5916\n",
      ">>> images count = 5917\n",
      ">>> images count = 5918\n",
      ">>> images count = 5919\n",
      ">>> images count = 5920\n"
     ]
    },
    {
     "name": "stderr",
     "output_type": "stream",
     "text": [
      "Processing Images:  99%|███████████████████████████████████████████████████████▎| 5921/6000 [02:10<00:01, 43.71image/s]\n",
      "Processing Images:  99%|███████████████████████████████████████████████████████▎| 5926/6000 [02:10<00:01, 42.43image/s]\u001b[A\n",
      " 99%|█████████████████████████████████████████████████████████████████████████████ | 5926/6000 [02:10<00:01, 42.43it/s]\u001b[A"
     ]
    },
    {
     "name": "stdout",
     "output_type": "stream",
     "text": [
      ">>> images count = 5921\n",
      ">>> images count = 5922\n",
      ">>> images count = 5923\n",
      ">>> images count = 5924\n",
      ">>> images count = 5925\n",
      ">>> images count = 5926\n",
      ">>> images count = 5927\n",
      ">>> images count = 5928\n",
      ">>> images count = 5929\n"
     ]
    },
    {
     "name": "stderr",
     "output_type": "stream",
     "text": [
      "Processing Images:  99%|███████████████████████████████████████████████████████▎| 5931/6000 [02:11<00:01, 41.76image/s]\n",
      "Processing Images:  99%|███████████████████████████████████████████████████████▍| 5936/6000 [02:11<00:01, 42.19image/s]\u001b[A\n",
      " 99%|█████████████████████████████████████████████████████████████████████████████▏| 5936/6000 [02:11<00:01, 42.19it/s]\u001b[A"
     ]
    },
    {
     "name": "stdout",
     "output_type": "stream",
     "text": [
      ">>> images count = 5930\n",
      ">>> images count = 5931\n",
      ">>> images count = 5932\n",
      ">>> images count = 5933\n",
      ">>> images count = 5934\n",
      ">>> images count = 5935\n",
      ">>> images count = 5936\n",
      ">>> images count = 5937\n",
      ">>> images count = 5938\n",
      ">>> images count = 5939\n"
     ]
    },
    {
     "name": "stderr",
     "output_type": "stream",
     "text": [
      "Processing Images:  99%|███████████████████████████████████████████████████████▍| 5941/6000 [02:11<00:01, 43.44image/s]\n",
      "Processing Images:  99%|███████████████████████████████████████████████████████▍| 5946/6000 [02:11<00:01, 44.83image/s]\u001b[A\n",
      " 99%|█████████████████████████████████████████████████████████████████████████████▎| 5946/6000 [02:11<00:01, 44.83it/s]\u001b[A"
     ]
    },
    {
     "name": "stdout",
     "output_type": "stream",
     "text": [
      ">>> images count = 5940\n",
      ">>> images count = 5941\n",
      ">>> images count = 5942\n",
      ">>> images count = 5943\n",
      ">>> images count = 5944\n",
      ">>> images count = 5945\n",
      ">>> images count = 5946\n",
      ">>> images count = 5947\n",
      ">>> images count = 5948\n",
      ">>> images count = 5949\n"
     ]
    },
    {
     "name": "stderr",
     "output_type": "stream",
     "text": [
      "Processing Images:  99%|███████████████████████████████████████████████████████▌| 5951/6000 [02:11<00:01, 44.40image/s]\n",
      "Processing Images:  99%|███████████████████████████████████████████████████████▌| 5956/6000 [02:11<00:01, 43.93image/s]\u001b[A\n",
      " 99%|█████████████████████████████████████████████████████████████████████████████▍| 5956/6000 [02:11<00:00, 44.05it/s]\u001b[A"
     ]
    },
    {
     "name": "stdout",
     "output_type": "stream",
     "text": [
      ">>> images count = 5950\n",
      ">>> images count = 5951\n",
      ">>> images count = 5952\n",
      ">>> images count = 5953\n",
      ">>> images count = 5954\n",
      ">>> images count = 5955\n",
      ">>> images count = 5956\n",
      ">>> images count = 5957\n",
      ">>> images count = 5958\n"
     ]
    },
    {
     "name": "stderr",
     "output_type": "stream",
     "text": [
      "Processing Images:  99%|███████████████████████████████████████████████████████▋| 5961/6000 [02:11<00:00, 44.11image/s]\n",
      "Processing Images:  99%|███████████████████████████████████████████████████████▋| 5966/6000 [02:11<00:00, 43.56image/s]\u001b[A\n",
      " 99%|█████████████████████████████████████████████████████████████████████████████▌| 5966/6000 [02:11<00:00, 43.54it/s]\u001b[A"
     ]
    },
    {
     "name": "stdout",
     "output_type": "stream",
     "text": [
      ">>> images count = 5959\n",
      ">>> images count = 5960\n",
      ">>> images count = 5961\n",
      ">>> images count = 5962\n",
      ">>> images count = 5963\n",
      ">>> images count = 5964\n",
      ">>> images count = 5965\n",
      ">>> images count = 5966\n",
      ">>> images count = 5967\n"
     ]
    },
    {
     "name": "stderr",
     "output_type": "stream",
     "text": [
      "Processing Images: 100%|███████████████████████████████████████████████████████▋| 5971/6000 [02:11<00:00, 42.40image/s]\n",
      "100%|█████████████████████████████████████████████████████████████████████████████▌| 5971/6000 [02:11<00:00, 42.38it/s]\u001b[A"
     ]
    },
    {
     "name": "stdout",
     "output_type": "stream",
     "text": [
      ">>> images count = 5968\n",
      ">>> images count = 5969\n",
      ">>> images count = 5970\n",
      ">>> images count = 5971\n",
      ">>> images count = 5972\n",
      ">>> images count = 5973\n",
      ">>> images count = 5974\n",
      ">>> images count = 5975\n"
     ]
    },
    {
     "name": "stderr",
     "output_type": "stream",
     "text": [
      "Processing Images: 100%|███████████████████████████████████████████████████████▊| 5976/6000 [02:12<00:00, 43.20image/s]\n",
      "Processing Images: 100%|███████████████████████████████████████████████████████▊| 5981/6000 [02:12<00:00, 43.61image/s]\u001b[A\n",
      "100%|█████████████████████████████████████████████████████████████████████████████▊| 5981/6000 [02:12<00:00, 43.75it/s]\u001b[A"
     ]
    },
    {
     "name": "stdout",
     "output_type": "stream",
     "text": [
      ">>> images count = 5976\n",
      ">>> images count = 5977\n",
      ">>> images count = 5978\n",
      ">>> images count = 5979\n",
      ">>> images count = 5980\n",
      ">>> images count = 5981\n",
      ">>> images count = 5982\n",
      ">>> images count = 5983\n",
      ">>> images count = 5984\n",
      ">>> images count = 5985\n"
     ]
    },
    {
     "name": "stderr",
     "output_type": "stream",
     "text": [
      "Processing Images: 100%|███████████████████████████████████████████████████████▊| 5986/6000 [02:12<00:00, 44.57image/s]\n",
      "Processing Images: 100%|███████████████████████████████████████████████████████▉| 5991/6000 [02:12<00:00, 44.85image/s]\u001b[A\n",
      "100%|█████████████████████████████████████████████████████████████████████████████▉| 5991/6000 [02:12<00:00, 44.84it/s]\u001b[A"
     ]
    },
    {
     "name": "stdout",
     "output_type": "stream",
     "text": [
      ">>> images count = 5986\n",
      ">>> images count = 5987\n",
      ">>> images count = 5988\n",
      ">>> images count = 5989\n",
      ">>> images count = 5990\n",
      ">>> images count = 5991\n",
      ">>> images count = 5992\n",
      ">>> images count = 5993\n",
      ">>> images count = 5994\n",
      ">>> images count = 5995\n"
     ]
    },
    {
     "name": "stderr",
     "output_type": "stream",
     "text": [
      "Processing Images: 100%|███████████████████████████████████████████████████████▉| 5996/6000 [02:12<00:00, 43.81image/s]\n",
      "100%|██████████████████████████████████████████████████████████████████████████████| 6000/6000 [02:12<00:00, 45.26it/s]\u001b[A\n",
      "Processing Images: 100%|████████████████████████████████████████████████████████| 6000/6000 [02:12<00:00, 45.26image/s]"
     ]
    },
    {
     "name": "stdout",
     "output_type": "stream",
     "text": [
      ">>> images count = 5996\n",
      ">>> images count = 5997\n",
      ">>> images count = 5998\n",
      ">>> images count = 5999\n",
      ">>> images count = 6000\n"
     ]
    },
    {
     "name": "stderr",
     "output_type": "stream",
     "text": [
      "\n"
     ]
    }
   ],
   "source": [
    "import os \n",
    "import cv2\n",
    "from tqdm import tqdm \n",
    "\n",
    "image_dim = (224,224,3)\n",
    "\n",
    "images = []\n",
    "labels = []\n",
    "with tqdm(total=len(image_paths), desc=\"Processing Images\", unit=\"image\") as pbar:\n",
    "    for image_path in tqdm(image_paths):\n",
    "        image = cv2.imread(image_path)\n",
    "\n",
    "        image = cv2.resize(\n",
    "        image, (image_dim[1], image_dim[0])\n",
    "        )\n",
    "        images.append(image)\n",
    "\n",
    "        label = image_path.split(os.path.sep)[-2]\n",
    "        labels.append([label])\n",
    "        \n",
    "        pbar.update(1)\n",
    "\n",
    "        print(\">>> images count =\", len(images))\n",
    "    "
   ]
  },
  {
   "cell_type": "code",
   "execution_count": 3,
   "id": "7a4b2506",
   "metadata": {},
   "outputs": [
    {
     "name": "stdout",
     "output_type": "stream",
     "text": [
      ">>> classes name = ['A1' 'A2' 'A3' 'A4' 'A5' 'A6']\n"
     ]
    }
   ],
   "source": [
    "import numpy as np\n",
    "from sklearn.preprocessing import MultiLabelBinarizer\n",
    "\n",
    "images = np.array(images, dtype='float32') / 255.0\n",
    "labels = np.array(labels)\n",
    "\n",
    "mlb = MultiLabelBinarizer()\n",
    "enc_labels = mlb.fit_transform(labels)\n",
    "\n",
    "print(\">>> classes name =\", mlb.classes_)"
   ]
  },
  {
   "cell_type": "code",
   "execution_count": 4,
   "id": "87d55d04",
   "metadata": {},
   "outputs": [
    {
     "name": "stdout",
     "output_type": "stream",
     "text": [
      ">> train test shape = (4800, 224, 224, 3) (4800, 6)\n"
     ]
    }
   ],
   "source": [
    "from sklearn.model_selection import train_test_split\n",
    "\n",
    "seed = 47\n",
    "\n",
    "(x_train, x_test, y_train, y_test) = train_test_split(\n",
    "    images, enc_labels, test_size=0.2, random_state=seed\n",
    ")\n",
    "print(\">> train test shape = {} {}\".format(\n",
    "    x_train.shape, y_train.shape)\n",
    ")"
   ]
  },
  {
   "cell_type": "code",
   "execution_count": 5,
   "id": "7c9e3522",
   "metadata": {},
   "outputs": [],
   "source": [
    "import tensorflow.keras.backend as K\n",
    "from tensorflow.keras import Sequential\n",
    "from tensorflow.keras.layers import Conv2D, MaxPooling2D, BatchNormalization\n",
    "from tensorflow.keras.layers import Activation, Flatten, Dropout, Dense, Lambda, GlobalAveragePooling2D, GlobalMaxPooling2D, Reshape, multiply, Permute, Concatenate, Add\n",
    "\n",
    "def channel_attention(input_feature, ratio=8):\n",
    "    channel_axis = 1 if K.image_data_format() == \"channels_first\" else -1\n",
    "    channel = input_feature.shape[channel_axis]\n",
    "    \n",
    "    shared_layer_one = Dense(channel//ratio,\n",
    "                             activation='relu',\n",
    "                             kernel_initializer='he_normal',\n",
    "                             use_bias=True,\n",
    "                             bias_initializer='zeros')\n",
    "    \n",
    "    shared_layer_two = Dense(channel,\n",
    "                             kernel_initializer='he_normal',\n",
    "                             use_bias=True,\n",
    "                             bias_initializer='zeros')\n",
    "    \n",
    "    avg_pool = GlobalAveragePooling2D()(input_feature)    \n",
    "    avg_pool = Reshape((1,1,channel))(avg_pool)\n",
    "    assert avg_pool.shape[1:] == (1,1,channel)\n",
    "    avg_pool = shared_layer_one(avg_pool)\n",
    "    assert avg_pool.shape[1:] == (1,1,channel//ratio)\n",
    "    avg_pool = shared_layer_two(avg_pool)\n",
    "    assert avg_pool.shape[1:] == (1,1,channel)\n",
    "\n",
    "    max_pool = GlobalMaxPooling2D()(input_feature)\n",
    "    max_pool = Reshape((1,1,channel))(max_pool)\n",
    "    assert max_pool.shape[1:] == (1,1,channel)\n",
    "    max_pool = shared_layer_one(max_pool)\n",
    "    assert max_pool.shape[1:] == (1,1,channel//ratio)\n",
    "    max_pool = shared_layer_two(max_pool)\n",
    "    assert max_pool.shape[1:] == (1,1,channel)\n",
    "    \n",
    "    cbam_feature = Add()([avg_pool,max_pool])\n",
    "    cbam_feature = Activation('sigmoid')(cbam_feature)\n",
    "\n",
    "    if K.image_data_format() == \"channels_first\":\n",
    "        cbam_feature = Permute((3, 1, 2))(cbam_feature)\n",
    "        \n",
    "    return multiply([input_feature, cbam_feature])"
   ]
  },
  {
   "cell_type": "code",
   "execution_count": 6,
   "id": "af45c05c",
   "metadata": {},
   "outputs": [],
   "source": [
    "def spatial_attention(input_feature):\n",
    "    kernel_size = 7\n",
    "    \n",
    "    if K.image_data_format() == \"channels_first\":\n",
    "        channel = input_feature.shape[1]\n",
    "        cbam_feature = Permute((2,3,1))(input_feature)\n",
    "    else:\n",
    "        channel = input_feature.shape[-1]\n",
    "        cbam_feature = input_feature\n",
    "    \n",
    "    avg_pool = Lambda(lambda x: K.mean(x, axis=3, keepdims=True))(cbam_feature)\n",
    "    assert avg_pool.shape[-1] == 1\n",
    "    max_pool = Lambda(lambda x: K.max(x, axis=3, keepdims=True))(cbam_feature)\n",
    "    assert max_pool.shape[-1] == 1\n",
    "    concat = Concatenate(axis=3)([avg_pool, max_pool])\n",
    "    assert concat.shape[-1] == 2\n",
    "    cbam_feature = Conv2D(filters = 1,\n",
    "                  kernel_size=kernel_size,\n",
    "                  strides=1,\n",
    "                  padding='same',\n",
    "                  activation='sigmoid',\n",
    "                  kernel_initializer='he_normal',\n",
    "                  use_bias=False)(concat)\t\n",
    "    assert cbam_feature.shape[-1] == 1\n",
    "\n",
    "    if K.image_data_format() == \"channels_first\":\n",
    "        cbam_feature = Permute((3, 1, 2))(cbam_feature)\n",
    "\n",
    "    return multiply([input_feature, cbam_feature])"
   ]
  },
  {
   "cell_type": "code",
   "execution_count": 7,
   "id": "394a15a3",
   "metadata": {},
   "outputs": [],
   "source": [
    "from tensorflow.keras import Model, Input\n",
    "\n",
    "class Classifier:\n",
    "    @staticmethod\n",
    "    def build(width, height, depth, classes):\n",
    "        inputs = Input(shape=(height, width, depth))\n",
    "\n",
    "        x = Conv2D(32, (3, 3), padding='same')(inputs)\n",
    "        x = Activation('relu')(x)\n",
    "        x = BatchNormalization(axis=-1)(x)\n",
    "        x = channel_attention(x)\n",
    "        x = spatial_attention(x)\n",
    "        x = MaxPooling2D(pool_size=(3, 3))(x)\n",
    "        x = Dropout(0.25)(x)\n",
    "\n",
    "        x = Conv2D(64, (3, 3), padding='same')(x)\n",
    "        x = Activation('relu')(x)\n",
    "        x = BatchNormalization(axis=-1)(x)\n",
    "        x = Conv2D(64, (3, 3), padding='same')(x)\n",
    "        x = Activation('relu')(x)\n",
    "        x = BatchNormalization(axis=-1)(x)\n",
    "        x = channel_attention(x)\n",
    "        x = spatial_attention(x)\n",
    "        x = MaxPooling2D(pool_size=(2, 2))(x)\n",
    "        x = Dropout(0.25)(x)\n",
    "\n",
    "        x = Conv2D(128, (3, 3), padding='same')(x)\n",
    "        x = Activation('relu')(x)\n",
    "        x = BatchNormalization(axis=-1)(x)\n",
    "        x = Conv2D(128, (3, 3), padding='same')(x)\n",
    "        x = Activation('relu')(x)\n",
    "        x = BatchNormalization(axis=-1)(x)\n",
    "        x = channel_attention(x)\n",
    "        x = spatial_attention(x)\n",
    "        x = MaxPooling2D(pool_size=(2, 2))(x)\n",
    "        x = Dropout(0.25)(x)\n",
    "\n",
    "        x = Conv2D(256, (3, 3), padding='same')(x)\n",
    "        x = Activation('relu')(x)\n",
    "        x = BatchNormalization(axis=-1)(x)\n",
    "        x = Conv2D(256, (3, 3), padding='same')(x)\n",
    "        x = Activation('relu')(x)\n",
    "        x = BatchNormalization(axis=-1)(x)\n",
    "        x = channel_attention(x)\n",
    "        x = spatial_attention(x)\n",
    "        x = MaxPooling2D(pool_size=(2, 2))(x)\n",
    "        x = Dropout(0.25)(x)\n",
    "\n",
    "        x = Flatten()(x)\n",
    "        x = Dense(2048)(x)\n",
    "        x = Activation('relu')(x)\n",
    "        x = BatchNormalization()(x)\n",
    "        x = Dropout(0.5)(x)\n",
    "\n",
    "        outputs = Dense(classes, activation='softmax')(x)\n",
    "\n",
    "        model = Model(inputs=inputs, outputs=outputs)\n",
    "        return model"
   ]
  },
  {
   "cell_type": "code",
   "execution_count": 8,
   "id": "14128adc",
   "metadata": {},
   "outputs": [],
   "source": [
    "from tensorflow.keras.optimizers import Adam\n",
    "from tensorflow.keras.losses import CategoricalCrossentropy\n",
    "from tensorflow.keras.metrics import CategoricalAccuracy\n",
    "\n",
    "# 모델 인스턴스 생성\n",
    "classifier = Classifier()\n",
    "model = Classifier.build(width=224, height=224, depth=3, classes=len(mlb.classes_))"
   ]
  },
  {
   "cell_type": "code",
   "execution_count": 9,
   "id": "62c3d1a1",
   "metadata": {},
   "outputs": [],
   "source": [
    "# 모델 컴파일\n",
    "opt = Adam(learning_rate=1e-6)\n",
    "model.compile(loss=CategoricalCrossentropy(), optimizer=opt, metrics=[CategoricalAccuracy()])"
   ]
  },
  {
   "cell_type": "code",
   "execution_count": null,
   "id": "8391f531",
   "metadata": {},
   "outputs": [
    {
     "name": "stdout",
     "output_type": "stream",
     "text": [
      "Epoch 1/100\n",
      "150/150 [==============================] - 21s 89ms/step - loss: 3.0424 - categorical_accuracy: 0.1587 - val_loss: 2.1803 - val_categorical_accuracy: 0.1700\n",
      "Epoch 2/100\n",
      "150/150 [==============================] - 12s 83ms/step - loss: 2.9216 - categorical_accuracy: 0.1775 - val_loss: 2.4519 - val_categorical_accuracy: 0.1700\n",
      "Epoch 3/100\n",
      "150/150 [==============================] - 12s 83ms/step - loss: 2.9352 - categorical_accuracy: 0.1713 - val_loss: 2.2473 - val_categorical_accuracy: 0.1650\n",
      "Epoch 4/100\n",
      "150/150 [==============================] - 12s 83ms/step - loss: 2.8862 - categorical_accuracy: 0.1785 - val_loss: 2.1553 - val_categorical_accuracy: 0.1758\n",
      "Epoch 5/100\n",
      "150/150 [==============================] - 12s 83ms/step - loss: 2.8313 - categorical_accuracy: 0.1912 - val_loss: 2.0978 - val_categorical_accuracy: 0.1792\n",
      "Epoch 6/100\n",
      "150/150 [==============================] - 13s 83ms/step - loss: 2.8584 - categorical_accuracy: 0.1865 - val_loss: 2.0750 - val_categorical_accuracy: 0.1883\n",
      "Epoch 7/100\n",
      "150/150 [==============================] - 12s 83ms/step - loss: 2.8451 - categorical_accuracy: 0.1815 - val_loss: 2.0730 - val_categorical_accuracy: 0.1933\n",
      "Epoch 8/100\n",
      "150/150 [==============================] - 12s 83ms/step - loss: 2.8397 - categorical_accuracy: 0.1887 - val_loss: 2.0689 - val_categorical_accuracy: 0.1933\n",
      "Epoch 9/100\n",
      "150/150 [==============================] - 12s 83ms/step - loss: 2.7830 - categorical_accuracy: 0.1894 - val_loss: 2.0610 - val_categorical_accuracy: 0.1908\n",
      "Epoch 10/100\n",
      "150/150 [==============================] - 12s 83ms/step - loss: 2.8006 - categorical_accuracy: 0.1867 - val_loss: 2.0719 - val_categorical_accuracy: 0.1900\n",
      "Epoch 11/100\n",
      "150/150 [==============================] - 12s 82ms/step - loss: 2.7846 - categorical_accuracy: 0.1867 - val_loss: 2.0647 - val_categorical_accuracy: 0.1925\n",
      "Epoch 12/100\n",
      "150/150 [==============================] - 12s 83ms/step - loss: 2.7766 - categorical_accuracy: 0.1908 - val_loss: 2.0490 - val_categorical_accuracy: 0.1950\n",
      "Epoch 13/100\n",
      "150/150 [==============================] - 12s 83ms/step - loss: 2.7804 - categorical_accuracy: 0.1892 - val_loss: 2.0429 - val_categorical_accuracy: 0.1933\n",
      "Epoch 14/100\n",
      "150/150 [==============================] - 12s 83ms/step - loss: 2.7131 - categorical_accuracy: 0.2048 - val_loss: 2.0433 - val_categorical_accuracy: 0.1950\n",
      "Epoch 15/100\n",
      "150/150 [==============================] - 12s 83ms/step - loss: 2.7102 - categorical_accuracy: 0.2062 - val_loss: 2.0408 - val_categorical_accuracy: 0.2000\n",
      "Epoch 16/100\n",
      "150/150 [==============================] - 12s 83ms/step - loss: 2.7419 - categorical_accuracy: 0.2056 - val_loss: 2.0334 - val_categorical_accuracy: 0.2000\n",
      "Epoch 17/100\n",
      "150/150 [==============================] - 12s 82ms/step - loss: 2.7150 - categorical_accuracy: 0.1977 - val_loss: 2.0338 - val_categorical_accuracy: 0.2017\n",
      "Epoch 18/100\n",
      "150/150 [==============================] - 12s 83ms/step - loss: 2.6803 - categorical_accuracy: 0.2123 - val_loss: 2.0268 - val_categorical_accuracy: 0.2000\n",
      "Epoch 19/100\n",
      "150/150 [==============================] - 12s 83ms/step - loss: 2.6447 - categorical_accuracy: 0.2077 - val_loss: 2.0127 - val_categorical_accuracy: 0.2050\n",
      "Epoch 20/100\n",
      "150/150 [==============================] - 12s 83ms/step - loss: 2.7141 - categorical_accuracy: 0.2035 - val_loss: 2.0079 - val_categorical_accuracy: 0.2058\n",
      "Epoch 21/100\n",
      "150/150 [==============================] - 12s 83ms/step - loss: 2.7043 - categorical_accuracy: 0.2056 - val_loss: 2.0011 - val_categorical_accuracy: 0.2042\n",
      "Epoch 22/100\n",
      "150/150 [==============================] - 12s 83ms/step - loss: 2.6306 - categorical_accuracy: 0.2073 - val_loss: 2.0008 - val_categorical_accuracy: 0.2075\n",
      "Epoch 23/100\n",
      "150/150 [==============================] - 12s 83ms/step - loss: 2.6950 - categorical_accuracy: 0.2104 - val_loss: 2.0081 - val_categorical_accuracy: 0.2075\n",
      "Epoch 24/100\n",
      "150/150 [==============================] - 12s 82ms/step - loss: 2.6981 - categorical_accuracy: 0.2165 - val_loss: 2.0060 - val_categorical_accuracy: 0.2008\n",
      "Epoch 25/100\n",
      "150/150 [==============================] - 12s 83ms/step - loss: 2.6442 - categorical_accuracy: 0.2094 - val_loss: 1.9971 - val_categorical_accuracy: 0.2117\n",
      "Epoch 26/100\n",
      "150/150 [==============================] - 13s 83ms/step - loss: 2.6107 - categorical_accuracy: 0.2140 - val_loss: 1.9982 - val_categorical_accuracy: 0.2117\n",
      "Epoch 27/100\n",
      "150/150 [==============================] - 13s 85ms/step - loss: 2.6203 - categorical_accuracy: 0.2140 - val_loss: 1.9878 - val_categorical_accuracy: 0.2067\n",
      "Epoch 28/100\n",
      "150/150 [==============================] - 12s 83ms/step - loss: 2.6086 - categorical_accuracy: 0.2198 - val_loss: 1.9819 - val_categorical_accuracy: 0.2083\n",
      "Epoch 29/100\n",
      "150/150 [==============================] - 12s 83ms/step - loss: 2.6195 - categorical_accuracy: 0.2190 - val_loss: 1.9855 - val_categorical_accuracy: 0.2100\n",
      "Epoch 30/100\n",
      "150/150 [==============================] - 12s 83ms/step - loss: 2.6380 - categorical_accuracy: 0.2167 - val_loss: 1.9838 - val_categorical_accuracy: 0.2058\n",
      "Epoch 31/100\n",
      "150/150 [==============================] - 12s 82ms/step - loss: 2.6756 - categorical_accuracy: 0.2000 - val_loss: 1.9796 - val_categorical_accuracy: 0.2100\n",
      "Epoch 32/100\n",
      "150/150 [==============================] - 12s 83ms/step - loss: 2.5645 - categorical_accuracy: 0.2302 - val_loss: 1.9781 - val_categorical_accuracy: 0.2083\n",
      "Epoch 33/100\n",
      "150/150 [==============================] - 12s 83ms/step - loss: 2.6222 - categorical_accuracy: 0.2165 - val_loss: 1.9815 - val_categorical_accuracy: 0.2050\n",
      "Epoch 34/100\n",
      "150/150 [==============================] - 13s 84ms/step - loss: 2.6137 - categorical_accuracy: 0.2183 - val_loss: 1.9713 - val_categorical_accuracy: 0.2008\n",
      "Epoch 35/100\n",
      "150/150 [==============================] - 12s 83ms/step - loss: 2.5672 - categorical_accuracy: 0.2273 - val_loss: 1.9706 - val_categorical_accuracy: 0.2008\n",
      "Epoch 36/100\n",
      "150/150 [==============================] - 12s 83ms/step - loss: 2.5889 - categorical_accuracy: 0.2171 - val_loss: 1.9686 - val_categorical_accuracy: 0.2058\n",
      "Epoch 37/100\n",
      "150/150 [==============================] - 13s 83ms/step - loss: 2.5494 - categorical_accuracy: 0.2292 - val_loss: 1.9712 - val_categorical_accuracy: 0.2075\n",
      "Epoch 38/100\n",
      "150/150 [==============================] - 12s 82ms/step - loss: 2.5743 - categorical_accuracy: 0.2225 - val_loss: 1.9547 - val_categorical_accuracy: 0.2100\n",
      "Epoch 39/100\n",
      "150/150 [==============================] - 12s 83ms/step - loss: 2.5763 - categorical_accuracy: 0.2240 - val_loss: 1.9558 - val_categorical_accuracy: 0.2067\n",
      "Epoch 40/100\n",
      "150/150 [==============================] - 12s 83ms/step - loss: 2.5978 - categorical_accuracy: 0.2254 - val_loss: 1.9666 - val_categorical_accuracy: 0.2108\n",
      "Epoch 41/100\n",
      "150/150 [==============================] - 12s 83ms/step - loss: 2.5687 - categorical_accuracy: 0.2300 - val_loss: 1.9644 - val_categorical_accuracy: 0.2067\n",
      "Epoch 42/100\n",
      "150/150 [==============================] - 12s 82ms/step - loss: 2.5872 - categorical_accuracy: 0.2267 - val_loss: 1.9635 - val_categorical_accuracy: 0.2050\n",
      "Epoch 43/100\n",
      "150/150 [==============================] - 12s 83ms/step - loss: 2.5333 - categorical_accuracy: 0.2258 - val_loss: 1.9551 - val_categorical_accuracy: 0.2025\n",
      "Epoch 44/100\n",
      "150/150 [==============================] - 12s 83ms/step - loss: 2.5272 - categorical_accuracy: 0.2352 - val_loss: 1.9494 - val_categorical_accuracy: 0.2017\n",
      "Epoch 45/100\n",
      "150/150 [==============================] - 12s 82ms/step - loss: 2.5232 - categorical_accuracy: 0.2315 - val_loss: 1.9587 - val_categorical_accuracy: 0.2033\n",
      "Epoch 46/100\n",
      "150/150 [==============================] - 12s 82ms/step - loss: 2.5369 - categorical_accuracy: 0.2279 - val_loss: 1.9633 - val_categorical_accuracy: 0.2042\n",
      "Epoch 47/100\n",
      "150/150 [==============================] - 12s 83ms/step - loss: 2.5414 - categorical_accuracy: 0.2283 - val_loss: 1.9649 - val_categorical_accuracy: 0.2008\n",
      "Epoch 48/100\n",
      "150/150 [==============================] - 12s 82ms/step - loss: 2.5685 - categorical_accuracy: 0.2246 - val_loss: 1.9639 - val_categorical_accuracy: 0.2000\n",
      "Epoch 49/100\n"
     ]
    },
    {
     "name": "stdout",
     "output_type": "stream",
     "text": [
      "150/150 [==============================] - 12s 83ms/step - loss: 2.5183 - categorical_accuracy: 0.2294 - val_loss: 1.9769 - val_categorical_accuracy: 0.1992\n",
      "Epoch 50/100\n",
      "150/150 [==============================] - 13s 84ms/step - loss: 2.4993 - categorical_accuracy: 0.2294 - val_loss: 1.9640 - val_categorical_accuracy: 0.2025\n",
      "Epoch 51/100\n",
      "150/150 [==============================] - 12s 83ms/step - loss: 2.5377 - categorical_accuracy: 0.2327 - val_loss: 1.9712 - val_categorical_accuracy: 0.2000\n",
      "Epoch 52/100\n",
      "150/150 [==============================] - 12s 83ms/step - loss: 2.5621 - categorical_accuracy: 0.2237 - val_loss: 1.9730 - val_categorical_accuracy: 0.2050\n",
      "Epoch 53/100\n",
      "150/150 [==============================] - 12s 83ms/step - loss: 2.5296 - categorical_accuracy: 0.2402 - val_loss: 1.9851 - val_categorical_accuracy: 0.2000\n",
      "Epoch 54/100\n",
      "150/150 [==============================] - 12s 81ms/step - loss: 2.4641 - categorical_accuracy: 0.2369 - val_loss: 1.9817 - val_categorical_accuracy: 0.2067\n",
      "Epoch 55/100\n",
      " 70/150 [=============>................] - ETA: 6s - loss: 2.5168 - categorical_accuracy: 0.2326"
     ]
    }
   ],
   "source": [
    "# 모델 학습\n",
    "epochs = 100\n",
    "batch_size = 32\n",
    "\n",
    "history = model.fit(\n",
    "    x_train, y_train,\n",
    "    validation_data=(x_test, y_test),\n",
    "    epochs=epochs,\n",
    "    batch_size=batch_size,\n",
    "    verbose=1\n",
    ")"
   ]
  },
  {
   "cell_type": "code",
   "execution_count": null,
   "id": "3f3669f8",
   "metadata": {},
   "outputs": [],
   "source": [
    "import matplotlib.pyplot as plt\n",
    "\n",
    "def plot_training_history(history):\n",
    "    fig, (ax1, ax2) = plt.subplots(2, 1, figsize=(8, 8))\n",
    "\n",
    "    # 손실 그래프\n",
    "    ax1.plot(history.history['loss'], label='Train Loss')\n",
    "    ax1.plot(history.history['val_loss'], label='Validation Loss')\n",
    "    ax1.set_title('Loss evolution')\n",
    "    ax1.set_xlabel('Epochs')\n",
    "    ax1.set_ylabel('Loss')\n",
    "    ax1.legend()\n",
    "\n",
    "    # 정확도 그래프\n",
    "    ax2.plot(history.history['categorical_accuracy'], label='Train Accuracy')\n",
    "    ax2.plot(history.history['val_categorical_accuracy'], label='Validation Accuracy')\n",
    "    ax2.set_title('Accuracy evolution')\n",
    "    ax2.set_xlabel('Epochs')\n",
    "    ax2.set_ylabel('Accuracy')\n",
    "    ax2.legend()\n",
    "\n",
    "    plt.show()\n",
    "\n",
    "# model.fit()으로부터 반환된 history 객체 사용\n",
    "plot_training_history(history)"
   ]
  },
  {
   "cell_type": "code",
   "execution_count": null,
   "id": "b94d45e9",
   "metadata": {},
   "outputs": [],
   "source": [
    "from tensorflow.keras.preprocessing.image import load_img, img_to_array\n",
    "\n",
    "# 이미지 파일의 경로\n",
    "image_path = \"C:/Users/oceanlightai/Desktop/data/test/IMG_D_A1_011831.jpg\"\n",
    "\n",
    "# 이미지 불러오기\n",
    "image = load_img(image_path, target_size=(224, 224))\n",
    "image = img_to_array(image)\n",
    "\n",
    "# 정규화 (만약 위에서 0-1 사이로 정규화 했다면)\n",
    "image = image / 255.0\n",
    "\n",
    "# 모델의 예측\n",
    "predictions = model.predict(np.expand_dims(image, axis=0))\n",
    "class_index = np.argmax(predictions[0])"
   ]
  },
  {
   "cell_type": "code",
   "execution_count": null,
   "id": "da7afd73",
   "metadata": {},
   "outputs": [],
   "source": [
    "print(class_index)"
   ]
  },
  {
   "cell_type": "code",
   "execution_count": null,
   "id": "b19cfb0b",
   "metadata": {},
   "outputs": [],
   "source": [
    "import tensorflow as tf\n",
    "from tensorflow.keras.models import Model\n",
    "import numpy as np\n",
    "import cv2\n",
    "from tensorflow.keras.preprocessing.image import load_img, img_to_array\n",
    "import matplotlib.pyplot as plt\n",
    "\n",
    "import os\n",
    "\n",
    "def process_and_predict_image(image_path, model):\n",
    "    # 이미지 불러오기\n",
    "    image = load_img(image_path, target_size=(224, 224))\n",
    "    image = img_to_array(image)\n",
    "    # 정규화\n",
    "    image_normalized = image / 255.0\n",
    "    # 모델의 예측\n",
    "    predictions = model.predict(np.expand_dims(image_normalized, axis=0))\n",
    "    class_index = np.argmax(predictions[0])\n",
    "    \n",
    "    return image_normalized, class_index\n",
    "\n",
    "# 이미지 파일들이 있는 폴더 경로\n",
    "folder_path = \"C:/Users/oceanlightai/Desktop/data/test/\"\n",
    "\n",
    "# 폴더 내의 모든 이미지 경로 가져오기\n",
    "image_paths = [os.path.join(folder_path, fname) for fname in os.listdir(folder_path) if fname.endswith('.jpg')]\n",
    "\n",
    "\n",
    "\n",
    "def grad_cam(model, image, class_index, layer_name):\n",
    "    grad_model = Model([model.inputs], [model.get_layer(layer_name).output, model.output])\n",
    "    \n",
    "    with tf.GradientTape() as tape:\n",
    "        conv_outputs, predictions = grad_model(np.array([image]))\n",
    "        loss = predictions[:, class_index]\n",
    "\n",
    "    output = conv_outputs[0]\n",
    "    grads = tape.gradient(loss, conv_outputs)[0]\n",
    "\n",
    "    guided_grads = tf.cast(output > 0, 'float32') * tf.cast(grads > 0, 'float32') * grads\n",
    "\n",
    "    weights = tf.reduce_mean(guided_grads, axis=(0, 1))\n",
    "\n",
    "    cam = np.ones(output.shape[0:2], dtype=np.float32)\n",
    "\n",
    "    for i, w in enumerate(weights):\n",
    "        cam += w * output[:, :, i]\n",
    "\n",
    "    cam = cv2.resize(cam.numpy(), (224, 224))\n",
    "    cam = np.maximum(cam, 0)\n",
    "    heatmap = (cam - cam.min()) / (cam.max() - cam.min())\n",
    "\n",
    "    cam = cv2.applyColorMap(np.uint8(255*heatmap), cv2.COLORMAP_JET)\n",
    "\n",
    "    output_image = cv2.addWeighted(cv2.cvtColor(image.astype('uint8'), cv2.COLOR_RGB2BGR), 0.5, cam, 1, 0)\n",
    "    \n",
    "    return output_image\n",
    "\n",
    "# output_image = grad_cam(model, image_normalized, class_index, \"conv2d_4\")  # 마지막 Conv2D 계층의 이름\n",
    "# plt.imshow(cv2.cvtColor(output_image, cv2.COLOR_BGR2RGB))\n",
    "# plt.show()\n",
    "\n",
    "for img_path in image_paths:\n",
    "    img, class_idx = process_and_predict_image(img_path, model)\n",
    "    output_image = grad_cam(model, img, class_idx, \"conv2d_4\")\n",
    "    plt.imshow(cv2.cvtColor(output_image, cv2.COLOR_BGR2RGB))\n",
    "    plt.title(f\"Grad-CAM for {os.path.basename(img_path)}\")\n",
    "    plt.show()\n"
   ]
  }
 ],
 "metadata": {
  "kernelspec": {
   "display_name": "tensorflow-gpu",
   "language": "python",
   "name": "gpu"
  },
  "language_info": {
   "codemirror_mode": {
    "name": "ipython",
    "version": 3
   },
   "file_extension": ".py",
   "mimetype": "text/x-python",
   "name": "python",
   "nbconvert_exporter": "python",
   "pygments_lexer": "ipython3",
   "version": "3.7.1"
  }
 },
 "nbformat": 4,
 "nbformat_minor": 5
}
