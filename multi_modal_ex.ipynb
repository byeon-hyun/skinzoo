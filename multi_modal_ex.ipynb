{
 "cells": [
  {
   "cell_type": "code",
   "execution_count": 5,
   "id": "e9621ebe",
   "metadata": {},
   "outputs": [],
   "source": [
    "import os \n",
    "import tensorflow as tf \n",
    "import pandas as pd\n",
    "import numpy as np\n",
    "from PIL import Image\n",
    "from PIL import Image, ImageFile\n",
    "from sklearn.model_selection import train_test_split\n",
    "from tensorflow.keras.preprocessing.text import Tokenizer\n",
    "from tensorflow.keras.preprocessing.sequence import pad_sequences\n",
    "from tensorflow.keras.models import Model\n",
    "from tensorflow.keras.layers import Input, Embedding, LSTM, Dense, Conv2D, MaxPooling2D, Flatten, concatenate\n",
    "\n",
    "ImageFile.LOAD_TRUNCATED_IMAGES = True"
   ]
  },
  {
   "cell_type": "code",
   "execution_count": 2,
   "id": "1773ba80",
   "metadata": {},
   "outputs": [],
   "source": [
    "def load_image_data(image_filenames, image_size=(128, 128)):\n",
    "    # Create an empty list to store the image data\n",
    "    image_data = []\n",
    "    \n",
    "    # Iterate over each image\n",
    "    for image_filename in image_filenames:\n",
    "        # Open the image using Pillow\n",
    "        with Image.open(image_filename) as img:\n",
    "            # Resize the image\n",
    "            img = img.resize(image_size)\n",
    "            # Convert the image data to a NumPy array and normalize to range [0, 1]\n",
    "            img_array = np.array(img) / 255.0\n",
    "            # Add the image data to the list\n",
    "            image_data.append(img_array)\n",
    "    \n",
    "    # Convert the list of image data to a NumPy array\n",
    "    image_data = np.array(image_data)\n",
    "    \n",
    "    return image_data"
   ]
  },
  {
   "cell_type": "code",
   "execution_count": 3,
   "id": "1f3417ad",
   "metadata": {},
   "outputs": [],
   "source": [
    "data = pd.read_csv('C:/Users/oceanlightai/Desktop/datasets/pet_skin/train/train_skin.csv')\n",
    "\n",
    "# 텍스트 토큰화 및 패딩\n",
    "tokenizer = Tokenizer()\n",
    "tokenizer.fit_on_texts(data[['breed', 'gender', 'region', 'lesions']].apply(lambda row: ' '.join(row.values.astype(str)), axis=1))\n",
    "sequences = tokenizer.texts_to_sequences(data[['breed', 'gender', 'region', 'lesions']].apply(lambda row: ' '.join(row.values.astype(str)), axis=1))\n",
    "max_len = max(len(s) for s in sequences)\n",
    "sequences = pad_sequences(sequences, maxlen=max_len, padding='post')"
   ]
  },
  {
   "cell_type": "code",
   "execution_count": null,
   "id": "14dc681e",
   "metadata": {},
   "outputs": [],
   "source": [
    "load_image_data(data['Raw data ID'].apply(lambda x: 'C:/Users/oceanlightai/Desktop/datasets/pet_skin/train/train_image/' + x))"
   ]
  },
  {
   "cell_type": "code",
   "execution_count": null,
   "id": "06b1311c",
   "metadata": {},
   "outputs": [],
   "source": [
    "# CNN Model for image input\n",
    "image_input = Input(shape=(128, 128, 3))  # assuming 64x64 RGB images\n",
    "cnn = Conv2D(64, (3, 3), activation='relu')(image_input)\n",
    "cnn = MaxPooling2D(pool_size=(2, 2))(cnn)\n",
    "cnn = Conv2D(128, (3, 3), activation='relu')(cnn)\n",
    "cnn = MaxPooling2D(pool_size=(2, 2))(cnn)\n",
    "cnn = Flatten()(cnn)\n",
    "cnn = Dense(128, activation='relu')(cnn)"
   ]
  },
  {
   "cell_type": "code",
   "execution_count": null,
   "id": "9d02f8fb",
   "metadata": {},
   "outputs": [],
   "source": [
    "# RNN Model for text input\n",
    "text_input = Input(shape=(max_len,))\n",
    "embedding = Embedding(input_dim=len(tokenizer.word_index)+1, output_dim=100, input_length=max_len)(text_input)\n",
    "lstm = LSTM(128)(embedding)"
   ]
  },
  {
   "cell_type": "code",
   "execution_count": null,
   "id": "9f3e1196",
   "metadata": {},
   "outputs": [],
   "source": [
    "concatenated = concatenate([cnn, lstm])"
   ]
  },
  {
   "cell_type": "code",
   "execution_count": null,
   "id": "a742e4f9",
   "metadata": {},
   "outputs": [],
   "source": [
    "output = Dense(10, activation='softmax')(concatenated)"
   ]
  },
  {
   "cell_type": "code",
   "execution_count": null,
   "id": "9e55bfd5",
   "metadata": {},
   "outputs": [],
   "source": [
    "model = Model(inputs=[image_input, text_input], outputs=output)"
   ]
  },
  {
   "cell_type": "code",
   "execution_count": null,
   "id": "97c4e481",
   "metadata": {},
   "outputs": [],
   "source": [
    "model.compile(optimizer='adam', loss='categorical_crossentropy', metrics=['accuracy'])"
   ]
  },
  {
   "cell_type": "code",
   "execution_count": null,
   "id": "3ae9579f",
   "metadata": {},
   "outputs": [],
   "source": [
    "train_sequences, test_sequences, train_images, test_images = train_test_split(sequences, image_data, test_size=0.2)"
   ]
  },
  {
   "cell_type": "code",
   "execution_count": null,
   "id": "b16532a5",
   "metadata": {},
   "outputs": [],
   "source": [
    "model.fit([train_images, train_sequences], epochs=10, validation_data=([test_images, test_sequences]))"
   ]
  }
 ],
 "metadata": {
  "kernelspec": {
   "display_name": "tensorflow-gpu",
   "language": "python",
   "name": "gpu"
  },
  "language_info": {
   "codemirror_mode": {
    "name": "ipython",
    "version": 3
   },
   "file_extension": ".py",
   "mimetype": "text/x-python",
   "name": "python",
   "nbconvert_exporter": "python",
   "pygments_lexer": "ipython3",
   "version": "3.7.1"
  }
 },
 "nbformat": 4,
 "nbformat_minor": 5
}
